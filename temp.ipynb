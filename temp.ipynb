{
 "cells": [
  {
   "cell_type": "code",
   "execution_count": 13,
   "metadata": {},
   "outputs": [],
   "source": [
    "import os\n",
    "import json\n",
    "\n",
    "def read_json(fn):\n",
    "    with open(fn, 'r') as f:\n",
    "        return json.load(f)\n",
    "    \n",
    "ROOT_DATASET_DIR = '/datasets/COCO'\n",
    "IMAGES_DIR = os.path.join(ROOT_DATASET_DIR, 'images')\n",
    "ANNOTATIONS_JSON_PATH = os.path.join(ROOT_DATASET_DIR, 'annotations/instances_val2017.json')\n",
    "COUNT = 100\n",
    "\n",
    "annotations = read_json(ANNOTATIONS_JSON_PATH)"
   ]
  },
  {
   "cell_type": "code",
   "execution_count": 14,
   "metadata": {},
   "outputs": [
    {
     "data": {
      "text/plain": [
       "100"
      ]
     },
     "execution_count": 14,
     "metadata": {},
     "output_type": "execute_result"
    }
   ],
   "source": [
    "import random\n",
    "ids = random.sample([x['id'] for x in annotations['images']], COUNT)\n",
    "\n",
    "annotations['images'] = [x for x in annotations['images'] if x['id'] in ids]   \n",
    "annotations['annotations'] = [x for x in annotations['annotations'] if x['image_id'] in ids]\n",
    "\n",
    "len(annotations['images'])"
   ]
  },
  {
   "cell_type": "code",
   "execution_count": 17,
   "metadata": {},
   "outputs": [],
   "source": [
    "with open(f\"temp_{COUNT}.json\", 'w') as f:\n",
    "    json.dump(annotations, f, indent=4)"
   ]
  },
  {
   "cell_type": "markdown",
   "metadata": {},
   "source": [
    "### Arch checker"
   ]
  },
  {
   "cell_type": "code",
   "execution_count": 1,
   "metadata": {},
   "outputs": [
    {
     "name": "stdout",
     "output_type": "stream",
     "text": [
      "2024-08-02 17:00:47,852 - root - INFO - AIMET\n",
      "Loads checkpoint by local backend from path: rtmdet_tiny_8xb32-300e_coco_20220902_112414-78e30dcc.pth\n",
      "The model and loaded state dict do not match exactly\n",
      "\n",
      "unexpected key in source state_dict: data_preprocessor.mean, data_preprocessor.std\n",
      "\n",
      "08/02 17:00:52 - mmengine - \u001b[5m\u001b[4m\u001b[33mWARNING\u001b[0m - Failed to search registry with scope \"mmdet\" in the \"function\" registry tree. As a workaround, the current \"function\" registry in \"mmengine\" is used to build instance. This may cause unexpected failure when running the built modules. Please check whether \"mmdet\" is a correct scope, or whether the registry is initialized.\n"
     ]
    },
    {
     "name": "stderr",
     "output_type": "stream",
     "text": [
      "/home/shayaan/miniconda3/envs/aimet2/lib/python3.10/site-packages/mmengine/visualization/visualizer.py:196: UserWarning: Failed to add <class 'mmengine.visualization.vis_backend.LocalVisBackend'>, please provide the `save_dir` argument.\n",
      "  warnings.warn(f'Failed to add {vis_backend.__class__}, '\n"
     ]
    },
    {
     "data": {
      "text/plain": [
       "mmdet.models.detectors.rtmdet.RTMDet"
      ]
     },
     "execution_count": 1,
     "metadata": {},
     "output_type": "execute_result"
    }
   ],
   "source": [
    "import torch\n",
    "from aimet_torch.arch_checker.arch_checker import ArchChecker\n",
    "from mmdet.apis import DetInferencer\n",
    "\n",
    "CONFIG_PATH = 'rtmdet_tiny_8xb32-300e_coco.py'\n",
    "WEIGHTS_PATH = 'rtmdet_tiny_8xb32-300e_coco_20220902_112414-78e30dcc.pth'\n",
    "\n",
    "dummy_input = torch.rand(1, 3, 640, 640)\n",
    "model = DetInferencer(model=CONFIG_PATH, weights=WEIGHTS_PATH)\n",
    "\n",
    "type(model.model)"
   ]
  },
  {
   "cell_type": "code",
   "execution_count": 2,
   "metadata": {},
   "outputs": [],
   "source": [
    "from aimet_torch.quantsim import QuantizationSimModel, QuantScheme\n",
    "from aimet_torch.model_preparer import prepare_model\n",
    "\n",
    "sim_model = prepare_model(model.model)\n",
    "sim2 = prepare_model(sim_model)\n",
    "sim3 = prepare_model(sim2)\n",
    "type(sim_model), type(sim2)"
   ]
  },
  {
   "cell_type": "code",
   "execution_count": 4,
   "metadata": {},
   "outputs": [
    {
     "name": "stdout",
     "output_type": "stream",
     "text": [
      "(((((((((((CONSTRUCT GRAPH)))))))))))\n",
      "<class 'torch.jit._trace.TopLevelTracedModule'>\n",
      "<class 'mmdet.models.detectors.rtmdet.RTMDet'>\n"
     ]
    },
    {
     "ename": "KeyError",
     "evalue": "'1'",
     "output_type": "error",
     "traceback": [
      "\u001b[0;31m---------------------------------------------------------------------------\u001b[0m",
      "\u001b[0;31mKeyError\u001b[0m                                  Traceback (most recent call last)",
      "Cell \u001b[0;32mIn[4], line 1\u001b[0m\n\u001b[0;32m----> 1\u001b[0m \u001b[43mArchChecker\u001b[49m\u001b[38;5;241;43m.\u001b[39;49m\u001b[43mcheck_model_arch\u001b[49m\u001b[43m(\u001b[49m\u001b[43mmodel\u001b[49m\u001b[38;5;241;43m.\u001b[39;49m\u001b[43mmodel\u001b[49m\u001b[43m,\u001b[49m\u001b[43m \u001b[49m\u001b[43mdummy_input\u001b[49m\u001b[43m,\u001b[49m\u001b[43m \u001b[49m\u001b[38;5;124;43m\"\u001b[39;49m\u001b[38;5;124;43m./\u001b[39;49m\u001b[38;5;124;43m\"\u001b[39;49m\u001b[43m)\u001b[49m\n",
      "File \u001b[0;32m~/miniconda3/envs/aimet2/lib/python3.10/site-packages/aimet_torch/arch_checker/arch_checker.py:143\u001b[0m, in \u001b[0;36mArchChecker.check_model_arch\u001b[0;34m(model, dummy_input, result_dir)\u001b[0m\n\u001b[1;32m    140\u001b[0m             \u001b[38;5;28;01mfor\u001b[39;00m op \u001b[38;5;129;01min\u001b[39;00m failed_check_ops:\n\u001b[1;32m    141\u001b[0m                 logger\u001b[38;5;241m.\u001b[39minfo(\u001b[38;5;124m\"\u001b[39m\u001b[38;5;124mGraph/Node: \u001b[39m\u001b[38;5;132;01m%s\u001b[39;00m\u001b[38;5;124m: \u001b[39m\u001b[38;5;132;01m%s\u001b[39;00m\u001b[38;5;124m fails check: \u001b[39m\u001b[38;5;132;01m%s\u001b[39;00m\u001b[38;5;124m\"\u001b[39m, op\u001b[38;5;241m.\u001b[39mdotted_name, op\u001b[38;5;241m.\u001b[39mget_module(), {_check\u001b[38;5;241m.\u001b[39m\u001b[38;5;18m__name__\u001b[39m})\n\u001b[0;32m--> 143\u001b[0m connected_graph \u001b[38;5;241m=\u001b[39m \u001b[43mConnectedGraph\u001b[49m\u001b[43m(\u001b[49m\u001b[43mmodel\u001b[49m\u001b[43m,\u001b[49m\u001b[43m \u001b[49m\u001b[43mdummy_input\u001b[49m\u001b[43m)\u001b[49m\n\u001b[1;32m    144\u001b[0m \u001b[38;5;66;03m# Run all node checkes\u001b[39;00m\n\u001b[1;32m    145\u001b[0m logger\u001b[38;5;241m.\u001b[39minfo(\u001b[38;5;124m\"\u001b[39m\u001b[38;5;124mRunning node checkes.\u001b[39m\u001b[38;5;124m\"\u001b[39m)\n",
      "File \u001b[0;32m~/miniconda3/envs/aimet2/lib/python3.10/site-packages/aimet_torch/meta/connectedgraph.py:159\u001b[0m, in \u001b[0;36mConnectedGraph.__init__\u001b[0;34m(self, model, model_input)\u001b[0m\n\u001b[1;32m    157\u001b[0m \u001b[38;5;28mself\u001b[39m\u001b[38;5;241m.\u001b[39m_generate_module_lookup_table(model)\n\u001b[1;32m    158\u001b[0m \u001b[38;5;28;01mwith\u001b[39;00m in_eval_mode(model), torch\u001b[38;5;241m.\u001b[39mno_grad():\n\u001b[0;32m--> 159\u001b[0m     \u001b[38;5;28;43mself\u001b[39;49m\u001b[38;5;241;43m.\u001b[39;49m\u001b[43m_construct_graph\u001b[49m\u001b[43m(\u001b[49m\u001b[43mmodel\u001b[49m\u001b[43m,\u001b[49m\u001b[43m \u001b[49m\u001b[43mmodel_input\u001b[49m\u001b[43m)\u001b[49m\n\u001b[1;32m    161\u001b[0m \u001b[38;5;66;03m# List of ops in the order they are traversed using the forward function\u001b[39;00m\n\u001b[1;32m    162\u001b[0m \u001b[38;5;28mself\u001b[39m\u001b[38;5;241m.\u001b[39mordered_ops \u001b[38;5;241m=\u001b[39m \u001b[38;5;28mself\u001b[39m\u001b[38;5;241m.\u001b[39m_get_ordered_ops()\n",
      "File \u001b[0;32m~/miniconda3/envs/aimet2/lib/python3.10/site-packages/aimet_torch/meta/connectedgraph.py:306\u001b[0m, in \u001b[0;36mConnectedGraph._construct_graph\u001b[0;34m(self, model, model_input)\u001b[0m\n\u001b[1;32m    304\u001b[0m \u001b[38;5;28mprint\u001b[39m(\u001b[38;5;28mtype\u001b[39m(trace))\n\u001b[1;32m    305\u001b[0m \u001b[38;5;28mprint\u001b[39m(\u001b[38;5;28mtype\u001b[39m(model))\n\u001b[0;32m--> 306\u001b[0m \u001b[38;5;28;43mself\u001b[39;49m\u001b[38;5;241;43m.\u001b[39;49m\u001b[43m_parse_top_level_trace\u001b[49m\u001b[43m(\u001b[49m\u001b[43mtrace\u001b[49m\u001b[43m,\u001b[49m\u001b[43m \u001b[49m\u001b[43mmodel\u001b[49m\u001b[43m)\u001b[49m\n\u001b[1;32m    307\u001b[0m \u001b[38;5;28mself\u001b[39m\u001b[38;5;241m.\u001b[39m_optimize_connected_graph()\n\u001b[1;32m    308\u001b[0m \u001b[38;5;28mself\u001b[39m\u001b[38;5;241m.\u001b[39m_transform_ops_and_products_to_connected_graph_convention()\n",
      "File \u001b[0;32m~/miniconda3/envs/aimet2/lib/python3.10/site-packages/aimet_torch/meta/connectedgraph.py:347\u001b[0m, in \u001b[0;36mConnectedGraph._parse_top_level_trace\u001b[0;34m(self, trace, model)\u001b[0m\n\u001b[1;32m    344\u001b[0m     product\u001b[38;5;241m.\u001b[39mis_model_input \u001b[38;5;241m=\u001b[39m \u001b[38;5;28;01mTrue\u001b[39;00m\n\u001b[1;32m    345\u001b[0m     output_map[inp] \u001b[38;5;241m=\u001b[39m product\n\u001b[0;32m--> 347\u001b[0m _ \u001b[38;5;241m=\u001b[39m \u001b[38;5;28;43mself\u001b[39;49m\u001b[38;5;241;43m.\u001b[39;49m\u001b[43m_parse_trace_graph\u001b[49m\u001b[43m(\u001b[49m\u001b[43mtrace\u001b[49m\u001b[43m,\u001b[49m\u001b[43m \u001b[49m\u001b[43mmodel\u001b[49m\u001b[43m,\u001b[49m\u001b[43m \u001b[49m\u001b[43moutput_map\u001b[49m\u001b[43m,\u001b[49m\u001b[43m \u001b[49m\u001b[43mtop_level_inputs\u001b[49m\u001b[43m,\u001b[49m\u001b[43m \u001b[49m\u001b[43mmodule_to_jit_trace\u001b[49m\u001b[38;5;241;43m=\u001b[39;49m\u001b[43mmodule_to_jit_trace\u001b[49m\u001b[43m)\u001b[49m\n",
      "File \u001b[0;32m~/miniconda3/envs/aimet2/lib/python3.10/site-packages/aimet_torch/meta/connectedgraph.py:405\u001b[0m, in \u001b[0;36mConnectedGraph._parse_trace_graph\u001b[0;34m(self, trace, model, output_map, higher_level_inputs, module_to_jit_trace, elementwise_info)\u001b[0m\n\u001b[1;32m    402\u001b[0m \u001b[38;5;28;01melif\u001b[39;00m \u001b[38;5;124m'\u001b[39m\u001b[38;5;124mCallMethod\u001b[39m\u001b[38;5;124m'\u001b[39m \u001b[38;5;129;01min\u001b[39;00m node\u001b[38;5;241m.\u001b[39mkind():\n\u001b[1;32m    403\u001b[0m     \u001b[38;5;66;03m# In the case of parsing the interior of an elementwise op, we never expect to see any CallMethod nodes\u001b[39;00m\n\u001b[1;32m    404\u001b[0m     \u001b[38;5;28;01massert\u001b[39;00m \u001b[38;5;129;01mnot\u001b[39;00m elementwise_info\n\u001b[0;32m--> 405\u001b[0m     submodule_outputs \u001b[38;5;241m=\u001b[39m \u001b[38;5;28;43mself\u001b[39;49m\u001b[38;5;241;43m.\u001b[39;49m\u001b[43m_parse_callmethod_node\u001b[49m\u001b[43m(\u001b[49m\u001b[43mnode\u001b[49m\u001b[43m,\u001b[49m\u001b[43m \u001b[49m\u001b[43mtrace\u001b[49m\u001b[43m,\u001b[49m\u001b[43m \u001b[49m\u001b[43mnode_name_to_module\u001b[49m\u001b[43m,\u001b[49m\n\u001b[1;32m    406\u001b[0m \u001b[43m                                                    \u001b[49m\u001b[43mnode_name_to_subgraph_model\u001b[49m\u001b[43m,\u001b[49m\u001b[43m \u001b[49m\u001b[43moutput_map\u001b[49m\u001b[43m,\u001b[49m\u001b[43m \u001b[49m\u001b[43mmodel\u001b[49m\u001b[43m,\u001b[49m\n\u001b[1;32m    407\u001b[0m \u001b[43m                                                    \u001b[49m\u001b[43mmodule_to_jit_trace\u001b[49m\u001b[43m)\u001b[49m\n\u001b[1;32m    408\u001b[0m     \u001b[38;5;28;01massert\u001b[39;00m \u001b[38;5;28mlen\u001b[39m(submodule_outputs) \u001b[38;5;241m==\u001b[39m \u001b[38;5;28mlen\u001b[39m(outputs)\n\u001b[1;32m    410\u001b[0m     \u001b[38;5;66;03m# Output map contains outputs from the parsed callmethod node, which can be different than the outputs\u001b[39;00m\n\u001b[1;32m    411\u001b[0m     \u001b[38;5;66;03m# listed in the current trace level, if the callmethod node is not a leaf module. Replace the entries\u001b[39;00m\n\u001b[1;32m    412\u001b[0m     \u001b[38;5;66;03m# for the callmethod's internal outputs with the outputs for the callmethod shown at the current trace\u001b[39;00m\n\u001b[1;32m    413\u001b[0m     \u001b[38;5;66;03m# level.\u001b[39;00m\n",
      "File \u001b[0;32m~/miniconda3/envs/aimet2/lib/python3.10/site-packages/aimet_torch/meta/connectedgraph.py:591\u001b[0m, in \u001b[0;36mConnectedGraph._parse_callmethod_node\u001b[0;34m(self, node, trace, node_name_to_module, node_name_to_subgraph_model, output_map, residing_module, module_to_jit_trace)\u001b[0m\n\u001b[1;32m    588\u001b[0m             \u001b[38;5;28mself\u001b[39m\u001b[38;5;241m.\u001b[39m_add_products_for_op(op, inputs[\u001b[38;5;241m1\u001b[39m:], outputs, output_map)\n\u001b[1;32m    589\u001b[0m             \u001b[38;5;28;01mreturn\u001b[39;00m outputs\n\u001b[0;32m--> 591\u001b[0m     submodule_outputs \u001b[38;5;241m=\u001b[39m \u001b[38;5;28;43mself\u001b[39;49m\u001b[38;5;241;43m.\u001b[39;49m\u001b[43m_parse_trace_graph\u001b[49m\u001b[43m(\u001b[49m\u001b[43msubgraph_trace\u001b[49m\u001b[43m,\u001b[49m\u001b[43m \u001b[49m\u001b[43msubgraph_model\u001b[49m\u001b[43m,\u001b[49m\u001b[43m \u001b[49m\u001b[43moutput_map\u001b[49m\u001b[43m,\u001b[49m\u001b[43m \u001b[49m\u001b[43minputs\u001b[49m\u001b[43m[\u001b[49m\u001b[38;5;241;43m1\u001b[39;49m\u001b[43m:\u001b[49m\u001b[43m]\u001b[49m\u001b[43m,\u001b[49m\n\u001b[1;32m    592\u001b[0m \u001b[43m                                                \u001b[49m\u001b[43mmodule_to_jit_trace\u001b[49m\u001b[38;5;241;43m=\u001b[39;49m\u001b[43mmodule_to_jit_trace\u001b[49m\u001b[43m,\u001b[49m\n\u001b[1;32m    593\u001b[0m \u001b[43m                                                \u001b[49m\u001b[43melementwise_info\u001b[49m\u001b[38;5;241;43m=\u001b[39;49m\u001b[43melementwise_info\u001b[49m\u001b[43m)\u001b[49m\n\u001b[1;32m    594\u001b[0m     \u001b[38;5;28;01mreturn\u001b[39;00m submodule_outputs\n\u001b[1;32m    596\u001b[0m \u001b[38;5;66;03m# Op is a leaf level module\u001b[39;00m\n",
      "File \u001b[0;32m~/miniconda3/envs/aimet2/lib/python3.10/site-packages/aimet_torch/meta/connectedgraph.py:405\u001b[0m, in \u001b[0;36mConnectedGraph._parse_trace_graph\u001b[0;34m(self, trace, model, output_map, higher_level_inputs, module_to_jit_trace, elementwise_info)\u001b[0m\n\u001b[1;32m    402\u001b[0m \u001b[38;5;28;01melif\u001b[39;00m \u001b[38;5;124m'\u001b[39m\u001b[38;5;124mCallMethod\u001b[39m\u001b[38;5;124m'\u001b[39m \u001b[38;5;129;01min\u001b[39;00m node\u001b[38;5;241m.\u001b[39mkind():\n\u001b[1;32m    403\u001b[0m     \u001b[38;5;66;03m# In the case of parsing the interior of an elementwise op, we never expect to see any CallMethod nodes\u001b[39;00m\n\u001b[1;32m    404\u001b[0m     \u001b[38;5;28;01massert\u001b[39;00m \u001b[38;5;129;01mnot\u001b[39;00m elementwise_info\n\u001b[0;32m--> 405\u001b[0m     submodule_outputs \u001b[38;5;241m=\u001b[39m \u001b[38;5;28;43mself\u001b[39;49m\u001b[38;5;241;43m.\u001b[39;49m\u001b[43m_parse_callmethod_node\u001b[49m\u001b[43m(\u001b[49m\u001b[43mnode\u001b[49m\u001b[43m,\u001b[49m\u001b[43m \u001b[49m\u001b[43mtrace\u001b[49m\u001b[43m,\u001b[49m\u001b[43m \u001b[49m\u001b[43mnode_name_to_module\u001b[49m\u001b[43m,\u001b[49m\n\u001b[1;32m    406\u001b[0m \u001b[43m                                                    \u001b[49m\u001b[43mnode_name_to_subgraph_model\u001b[49m\u001b[43m,\u001b[49m\u001b[43m \u001b[49m\u001b[43moutput_map\u001b[49m\u001b[43m,\u001b[49m\u001b[43m \u001b[49m\u001b[43mmodel\u001b[49m\u001b[43m,\u001b[49m\n\u001b[1;32m    407\u001b[0m \u001b[43m                                                    \u001b[49m\u001b[43mmodule_to_jit_trace\u001b[49m\u001b[43m)\u001b[49m\n\u001b[1;32m    408\u001b[0m     \u001b[38;5;28;01massert\u001b[39;00m \u001b[38;5;28mlen\u001b[39m(submodule_outputs) \u001b[38;5;241m==\u001b[39m \u001b[38;5;28mlen\u001b[39m(outputs)\n\u001b[1;32m    410\u001b[0m     \u001b[38;5;66;03m# Output map contains outputs from the parsed callmethod node, which can be different than the outputs\u001b[39;00m\n\u001b[1;32m    411\u001b[0m     \u001b[38;5;66;03m# listed in the current trace level, if the callmethod node is not a leaf module. Replace the entries\u001b[39;00m\n\u001b[1;32m    412\u001b[0m     \u001b[38;5;66;03m# for the callmethod's internal outputs with the outputs for the callmethod shown at the current trace\u001b[39;00m\n\u001b[1;32m    413\u001b[0m     \u001b[38;5;66;03m# level.\u001b[39;00m\n",
      "File \u001b[0;32m~/miniconda3/envs/aimet2/lib/python3.10/site-packages/aimet_torch/meta/connectedgraph.py:591\u001b[0m, in \u001b[0;36mConnectedGraph._parse_callmethod_node\u001b[0;34m(self, node, trace, node_name_to_module, node_name_to_subgraph_model, output_map, residing_module, module_to_jit_trace)\u001b[0m\n\u001b[1;32m    588\u001b[0m             \u001b[38;5;28mself\u001b[39m\u001b[38;5;241m.\u001b[39m_add_products_for_op(op, inputs[\u001b[38;5;241m1\u001b[39m:], outputs, output_map)\n\u001b[1;32m    589\u001b[0m             \u001b[38;5;28;01mreturn\u001b[39;00m outputs\n\u001b[0;32m--> 591\u001b[0m     submodule_outputs \u001b[38;5;241m=\u001b[39m \u001b[38;5;28;43mself\u001b[39;49m\u001b[38;5;241;43m.\u001b[39;49m\u001b[43m_parse_trace_graph\u001b[49m\u001b[43m(\u001b[49m\u001b[43msubgraph_trace\u001b[49m\u001b[43m,\u001b[49m\u001b[43m \u001b[49m\u001b[43msubgraph_model\u001b[49m\u001b[43m,\u001b[49m\u001b[43m \u001b[49m\u001b[43moutput_map\u001b[49m\u001b[43m,\u001b[49m\u001b[43m \u001b[49m\u001b[43minputs\u001b[49m\u001b[43m[\u001b[49m\u001b[38;5;241;43m1\u001b[39;49m\u001b[43m:\u001b[49m\u001b[43m]\u001b[49m\u001b[43m,\u001b[49m\n\u001b[1;32m    592\u001b[0m \u001b[43m                                                \u001b[49m\u001b[43mmodule_to_jit_trace\u001b[49m\u001b[38;5;241;43m=\u001b[39;49m\u001b[43mmodule_to_jit_trace\u001b[49m\u001b[43m,\u001b[49m\n\u001b[1;32m    593\u001b[0m \u001b[43m                                                \u001b[49m\u001b[43melementwise_info\u001b[49m\u001b[38;5;241;43m=\u001b[39;49m\u001b[43melementwise_info\u001b[49m\u001b[43m)\u001b[49m\n\u001b[1;32m    594\u001b[0m     \u001b[38;5;28;01mreturn\u001b[39;00m submodule_outputs\n\u001b[1;32m    596\u001b[0m \u001b[38;5;66;03m# Op is a leaf level module\u001b[39;00m\n",
      "File \u001b[0;32m~/miniconda3/envs/aimet2/lib/python3.10/site-packages/aimet_torch/meta/connectedgraph.py:405\u001b[0m, in \u001b[0;36mConnectedGraph._parse_trace_graph\u001b[0;34m(self, trace, model, output_map, higher_level_inputs, module_to_jit_trace, elementwise_info)\u001b[0m\n\u001b[1;32m    402\u001b[0m \u001b[38;5;28;01melif\u001b[39;00m \u001b[38;5;124m'\u001b[39m\u001b[38;5;124mCallMethod\u001b[39m\u001b[38;5;124m'\u001b[39m \u001b[38;5;129;01min\u001b[39;00m node\u001b[38;5;241m.\u001b[39mkind():\n\u001b[1;32m    403\u001b[0m     \u001b[38;5;66;03m# In the case of parsing the interior of an elementwise op, we never expect to see any CallMethod nodes\u001b[39;00m\n\u001b[1;32m    404\u001b[0m     \u001b[38;5;28;01massert\u001b[39;00m \u001b[38;5;129;01mnot\u001b[39;00m elementwise_info\n\u001b[0;32m--> 405\u001b[0m     submodule_outputs \u001b[38;5;241m=\u001b[39m \u001b[38;5;28;43mself\u001b[39;49m\u001b[38;5;241;43m.\u001b[39;49m\u001b[43m_parse_callmethod_node\u001b[49m\u001b[43m(\u001b[49m\u001b[43mnode\u001b[49m\u001b[43m,\u001b[49m\u001b[43m \u001b[49m\u001b[43mtrace\u001b[49m\u001b[43m,\u001b[49m\u001b[43m \u001b[49m\u001b[43mnode_name_to_module\u001b[49m\u001b[43m,\u001b[49m\n\u001b[1;32m    406\u001b[0m \u001b[43m                                                    \u001b[49m\u001b[43mnode_name_to_subgraph_model\u001b[49m\u001b[43m,\u001b[49m\u001b[43m \u001b[49m\u001b[43moutput_map\u001b[49m\u001b[43m,\u001b[49m\u001b[43m \u001b[49m\u001b[43mmodel\u001b[49m\u001b[43m,\u001b[49m\n\u001b[1;32m    407\u001b[0m \u001b[43m                                                    \u001b[49m\u001b[43mmodule_to_jit_trace\u001b[49m\u001b[43m)\u001b[49m\n\u001b[1;32m    408\u001b[0m     \u001b[38;5;28;01massert\u001b[39;00m \u001b[38;5;28mlen\u001b[39m(submodule_outputs) \u001b[38;5;241m==\u001b[39m \u001b[38;5;28mlen\u001b[39m(outputs)\n\u001b[1;32m    410\u001b[0m     \u001b[38;5;66;03m# Output map contains outputs from the parsed callmethod node, which can be different than the outputs\u001b[39;00m\n\u001b[1;32m    411\u001b[0m     \u001b[38;5;66;03m# listed in the current trace level, if the callmethod node is not a leaf module. Replace the entries\u001b[39;00m\n\u001b[1;32m    412\u001b[0m     \u001b[38;5;66;03m# for the callmethod's internal outputs with the outputs for the callmethod shown at the current trace\u001b[39;00m\n\u001b[1;32m    413\u001b[0m     \u001b[38;5;66;03m# level.\u001b[39;00m\n",
      "File \u001b[0;32m~/miniconda3/envs/aimet2/lib/python3.10/site-packages/aimet_torch/meta/connectedgraph.py:597\u001b[0m, in \u001b[0;36mConnectedGraph._parse_callmethod_node\u001b[0;34m(self, node, trace, node_name_to_module, node_name_to_subgraph_model, output_map, residing_module, module_to_jit_trace)\u001b[0m\n\u001b[1;32m    594\u001b[0m     \u001b[38;5;28;01mreturn\u001b[39;00m submodule_outputs\n\u001b[1;32m    596\u001b[0m \u001b[38;5;66;03m# Op is a leaf level module\u001b[39;00m\n\u001b[0;32m--> 597\u001b[0m op_type \u001b[38;5;241m=\u001b[39m \u001b[38;5;28mself\u001b[39m\u001b[38;5;241m.\u001b[39mget_op_type(\u001b[38;5;28mtype\u001b[39m(\u001b[43mnode_name_to_module\u001b[49m\u001b[43m[\u001b[49m\u001b[43minput_name\u001b[49m\u001b[43m]\u001b[49m))\n\u001b[1;32m    598\u001b[0m op \u001b[38;5;241m=\u001b[39m \u001b[38;5;28mself\u001b[39m\u001b[38;5;241m.\u001b[39m_create_new_multi_output_op(op_type, residing_module, node_name_to_module[input_name])\n\u001b[1;32m    599\u001b[0m \u001b[38;5;28mself\u001b[39m\u001b[38;5;241m.\u001b[39m_add_products_for_op(op, inputs[\u001b[38;5;241m1\u001b[39m:], outputs, output_map)\n",
      "\u001b[0;31mKeyError\u001b[0m: '1'"
     ]
    }
   ],
   "source": [
    "ArchChecker.check_model_arch(model.model, dummy_input, \"./\")"
   ]
  }
 ],
 "metadata": {
  "kernelspec": {
   "display_name": "aimet2",
   "language": "python",
   "name": "python3"
  },
  "language_info": {
   "codemirror_mode": {
    "name": "ipython",
    "version": 3
   },
   "file_extension": ".py",
   "mimetype": "text/x-python",
   "name": "python",
   "nbconvert_exporter": "python",
   "pygments_lexer": "ipython3",
   "version": "3.10.14"
  }
 },
 "nbformat": 4,
 "nbformat_minor": 2
}
