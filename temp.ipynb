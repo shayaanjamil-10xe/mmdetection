{
 "cells": [
  {
   "cell_type": "code",
   "execution_count": 1,
   "metadata": {},
   "outputs": [
    {
     "data": {
      "text/plain": [
       "['179487']"
      ]
     },
     "execution_count": 1,
     "metadata": {},
     "output_type": "execute_result"
    }
   ],
   "source": [
    "from glob import glob\n",
    "import numpy as np\n",
    "\n",
    "list(set([x.split(\"/\")[-1].split(\"_\")[0] for x in glob(\"/home/shayaan/Desktop/aimet/my_mmdet/pred_results/det_infer_raw_results/*.npy\")]))"
   ]
  },
  {
   "cell_type": "code",
   "execution_count": 7,
   "metadata": {},
   "outputs": [
    {
     "data": {
      "text/plain": [
       "(6, 6)"
      ]
     },
     "execution_count": 7,
     "metadata": {},
     "output_type": "execute_result"
    }
   ],
   "source": [
    "img_id = 179487\n",
    "corr_raw = {x.split(\"/\")[-1].split(\".\")[0]: np.load(x) for x in glob(f\"/home/shayaan/Desktop/aimet/temp/mmdetection/corr_waale/{img_id}*.npy\")}\n",
    "my_raw = {x.split(\"/\")[-1].split(\".\")[0]: np.load(x) for x in glob(f\"/home/shayaan/Desktop/aimet/my_mmdet/pred_results/det_infer_raw_results/{img_id}*.npy\")}\n",
    "\n",
    "len(corr_raw), len(my_raw)"
   ]
  },
  {
   "cell_type": "code",
   "execution_count": 8,
   "metadata": {},
   "outputs": [
    {
     "name": "stdout",
     "output_type": "stream",
     "text": [
      "179487\n",
      "0.0 <---- (1, 4, 20, 20)\n",
      "\n",
      "0.0 <---- (1, 4, 40, 40)\n",
      "\n",
      "0.0 <---- (1, 4, 80, 80)\n",
      "\n",
      "0.0 <---- (1, 80, 20, 20)\n",
      "\n",
      "0.0 <---- (1, 80, 40, 40)\n",
      "\n",
      "0.0 <---- (1, 80, 80, 80)\n",
      "\n"
     ]
    }
   ],
   "source": [
    "# function to calculate avg mse of 2 numpy arrays of same sizes\n",
    "def mse(arr1, arr2):\n",
    "    return np.mean((arr1 - arr2)**2)\n",
    "\n",
    "corr_raw = sorted(corr_raw.items(), key=lambda x: x[0])\n",
    "print(img_id)\n",
    "for k, v in corr_raw:\n",
    "    other_v = my_raw[k]\n",
    "    print(mse(v, other_v), \"<----\", v.shape)\n",
    "    print()"
   ]
  },
  {
   "cell_type": "code",
   "execution_count": null,
   "metadata": {},
   "outputs": [],
   "source": []
  }
 ],
 "metadata": {
  "kernelspec": {
   "display_name": "aimet2",
   "language": "python",
   "name": "python3"
  },
  "language_info": {
   "codemirror_mode": {
    "name": "ipython",
    "version": 3
   },
   "file_extension": ".py",
   "mimetype": "text/x-python",
   "name": "python",
   "nbconvert_exporter": "python",
   "pygments_lexer": "ipython3",
   "version": "3.10.14"
  }
 },
 "nbformat": 4,
 "nbformat_minor": 2
}
