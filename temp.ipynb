{
 "cells": [
  {
   "cell_type": "code",
   "execution_count": 2,
   "metadata": {},
   "outputs": [
    {
     "data": {
      "text/plain": [
       "['499313', '179487', '325031']"
      ]
     },
     "execution_count": 2,
     "metadata": {},
     "output_type": "execute_result"
    }
   ],
   "source": [
    "from glob import glob\n",
    "import numpy as np\n",
    "\n",
    "list(set([x.split(\"/\")[-1].split(\"_\")[0] for x in glob(\"pred_results/raw_results/*.npy\")]))"
   ]
  },
  {
   "cell_type": "code",
   "execution_count": 5,
   "metadata": {},
   "outputs": [
    {
     "data": {
      "text/plain": [
       "(6, 6)"
      ]
     },
     "execution_count": 5,
     "metadata": {},
     "output_type": "execute_result"
    }
   ],
   "source": [
    "img_id = 499313\n",
    "corr_raw = {x.split(\"/\")[-1].split(\".\")[0]: np.load(x) for x in glob(f\"corr_raw_results/{img_id}*.npy\")}\n",
    "my_raw = {x.split(\"/\")[-1].split(\".\")[0]: np.load(x) for x in glob(f\"pred_results/raw_results/{img_id}*.npy\")}\n",
    "\n",
    "len(corr_raw), len(my_raw)"
   ]
  },
  {
   "cell_type": "code",
   "execution_count": 6,
   "metadata": {},
   "outputs": [
    {
     "name": "stdout",
     "output_type": "stream",
     "text": [
      "499313\n",
      "5405.91 <---- (1, 4, 20, 20)\n",
      "\n",
      "6800.911 <---- (1, 4, 40, 40)\n",
      "\n",
      "3464.0625 <---- (1, 4, 80, 80)\n",
      "\n",
      "30.95098 <---- (1, 80, 20, 20)\n",
      "\n",
      "28.716959 <---- (1, 80, 40, 40)\n",
      "\n",
      "4.034548 <---- (1, 80, 80, 80)\n",
      "\n"
     ]
    }
   ],
   "source": [
    "# function to calculate avg mse of 2 numpy arrays of same sizes\n",
    "def mse(arr1, arr2):\n",
    "    return np.mean((arr1 - arr2)**2)\n",
    "\n",
    "corr_raw = sorted(corr_raw.items(), key=lambda x: x[0])\n",
    "print(img_id)\n",
    "for k, v in corr_raw:\n",
    "    other_v = my_raw[k]\n",
    "    print(mse(v, other_v), \"<----\", v.shape)\n",
    "    print()"
   ]
  },
  {
   "cell_type": "code",
   "execution_count": null,
   "metadata": {},
   "outputs": [],
   "source": []
  }
 ],
 "metadata": {
  "kernelspec": {
   "display_name": "aimet2",
   "language": "python",
   "name": "python3"
  },
  "language_info": {
   "codemirror_mode": {
    "name": "ipython",
    "version": 3
   },
   "file_extension": ".py",
   "mimetype": "text/x-python",
   "name": "python",
   "nbconvert_exporter": "python",
   "pygments_lexer": "ipython3",
   "version": "3.10.14"
  }
 },
 "nbformat": 4,
 "nbformat_minor": 2
}
