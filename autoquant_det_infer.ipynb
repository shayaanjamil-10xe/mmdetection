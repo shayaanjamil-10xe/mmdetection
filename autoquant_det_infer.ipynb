{
 "cells": [
  {
   "cell_type": "markdown",
   "metadata": {
    "id": "AUzKJME8Wb9A",
    "pycharm": {
     "name": "#%% md\n"
    }
   },
   "source": [
    "# AutoQuant\n",
    "\n",
    "This notebook shows a working code example of how to use AIMET AutoQuant feature.\n",
    "\n",
    "AIMET offers a suite of neural network post-training quantization (PTQ) techniques that can be applied in succession. However, the process of finding the right combination and sequence of techniques to apply is time-consuming and requires careful analysis, which can be challenging especially for non-expert users. We instead recommend AutoQuant to save time and effort.\n",
    "\n",
    "AutoQuant is an API that applies various PTQ techniques in AIMET automatically based on analyzing the model and best-known heuristics. In AutoQuant, users specify the amount of tolerable accuracy drop, and AutoQuant will apply PTQ techniques cumulatively until the target accuracy is satisfied.\n",
    "\n",
    "\n",
    "#### Overall flow\n",
    "This notebook covers the following\n",
    "1. Define constants and helper functions\n",
    "2. Load a pretrained FP32 model\n",
    "3. Run AutoQuant\n",
    "\n",
    "#### What this notebook is not\n",
    "This notebook is not designed to show state-of-the-art AutoQuant results. For example, it uses a relatively quantization-friendly model like Resnet18. Also, some optimization parameters are deliberately chosen to have the notebook execute more quickly.\n"
   ]
  },
  {
   "cell_type": "markdown",
   "metadata": {
    "id": "eISU9c7JWb9C"
   },
   "source": [
    "---\n",
    "## Dataset\n",
    "\n",
    "This notebook relies on the ImageNet dataset for the task of image classification. If you already have a version of the dataset readily available, please use that. Else, please download the dataset from appropriate location (e.g. https://image-net.org/challenges/LSVRC/2012/index.php#).\n",
    "\n",
    "**Note1**: The ImageNet dataset typically has the following characteristics and the dataloader provided in this example notebook rely on these\n",
    "- Subfolders 'train' for the training samples and 'val' for the validation samples. Please see the [pytorch dataset description](https://pytorch.org/vision/0.8/_modules/torchvision/datasets/imagenet.html) for more details.\n",
    "- A subdirectory per class, and a file per each image sample\n",
    "\n",
    "**Note2**: To speed up the execution of this notebook, you may use a reduced subset of the ImageNet dataset. E.g. the entire ILSVRC2012 dataset has 1000 classes, 1000 training samples per class and 50 validation samples per class. But for the purpose of running this notebook, you could perhaps reduce the dataset to say 2 samples per class. This exercise is left upto the reader and is not necessary.\n",
    "\n",
    "Edit the cell below and specify the directory where the downloaded ImageNet dataset is saved."
   ]
  },
  {
   "cell_type": "code",
   "execution_count": 1,
   "metadata": {
    "id": "UHkf809bZa5v"
   },
   "outputs": [],
   "source": [
    "import cv2\n",
    "import os\n",
    "from torchvision import datasets, transforms\n",
    "from torch.utils.data import DataLoader\n",
    "import torch\n",
    "import json\n",
    "from mmcv.transforms import Compose\n",
    "import numpy as np\n",
    "from mmdet.utils import get_test_pipeline_cfg\n",
    "\n",
    "def read_json(json_path):\n",
    "    with open(json_path) as f:\n",
    "        data = json.load(f)\n",
    "    return data\n",
    "\n",
    "def preprocess(test_pipeline, image):\n",
    "    if isinstance(image, np.ndarray):\n",
    "        # Calling this method across libraries will result\n",
    "        # in module unregistered error if not prefixed with mmdet.\n",
    "        test_pipeline[0].type = 'mmdet.LoadImageFromNDArray'\n",
    "    test_pipeline = Compose(test_pipeline)\n",
    "    return test_pipeline(dict(img=image))\n",
    "\n",
    "class CustomImageDataset(torch.utils.data.Dataset):\n",
    "    def __init__(self, images_dir, annotations_json_path, transform=None):\n",
    "        self.transform = transform\n",
    "        self.images_dir = images_dir\n",
    "        self.annotations_json = read_json(annotations_json_path)\n",
    "\n",
    "\n",
    "    def __len__(self):\n",
    "        return len(self.annotations_json['images'])\n",
    "\n",
    "    def __getitem__(self, idx):\n",
    "        image_dict = self.annotations_json['images'][idx]\n",
    "        image_path = os.path.join(self.images_dir, image_dict['file_name'])\n",
    "        image_id = image_dict['id']\n",
    "\n",
    "        image = cv2.imread(image_path)\n",
    "        image = cv2.cvtColor(image, cv2.COLOR_BGR2RGB)\n",
    "        if self.transform:\n",
    "            transformed_images = self.transform(image)\n",
    "        else:\n",
    "            transformed_images = image\n",
    "\n",
    "        return image_id, image_path, transformed_images\n",
    "\n",
    "\n",
    "# calibrationDataloader = DataLoader(calibrationDataset, batch_size=32, shuffle=True)"
   ]
  },
  {
   "cell_type": "markdown",
   "metadata": {
    "id": "rraR_9L4Wb9D"
   },
   "source": [
    "## 1. Define Constants and Helper functions\n",
    "\n",
    "In this section the constants and helper functions needed to run this eaxmple are defined.\n",
    "\n",
    "- **EVAL_DATASET_SIZE** A typical value is 5000. In this notebook, this value has been set to 500 for faster execution.\n",
    "- **CALIBRATION_DATASET_SIZE** A typical value is 2000. In this notebook, this value has been set to 200 for faster execution.\n",
    "\n",
    "\n",
    "The helper function **_create_sampled_data_loader()** returns a DataLoader based on the dataset and the number of samples provided."
   ]
  },
  {
   "cell_type": "markdown",
   "metadata": {
    "id": "uYLkqAC8Wb9E"
   },
   "source": [
    "## 2. Load a pretrained FP32 model\n",
    "For this example, we are going to load a pretrained resnet18 model from torchvision. Similarly, you can load any pretrained PyTorch model instead."
   ]
  },
  {
   "cell_type": "code",
   "execution_count": 2,
   "metadata": {
    "colab": {
     "base_uri": "https://localhost:8080/"
    },
    "id": "jlBeln_8tUAL",
    "outputId": "e33b1854-b0b8-44fd-8faa-ad950bab7867"
   },
   "outputs": [
    {
     "name": "stdout",
     "output_type": "stream",
     "text": [
      "2024-08-02 16:04:40,428 - root - INFO - AIMET\n",
      "Loads checkpoint by local backend from path: rtmdet_tiny_8xb32-300e_coco_20220902_112414-78e30dcc.pth\n",
      "The model and loaded state dict do not match exactly\n",
      "\n",
      "unexpected key in source state_dict: data_preprocessor.mean, data_preprocessor.std\n",
      "\n",
      "08/02 16:04:44 - mmengine - \u001b[5m\u001b[4m\u001b[33mWARNING\u001b[0m - Failed to search registry with scope \"mmdet\" in the \"function\" registry tree. As a workaround, the current \"function\" registry in \"mmengine\" is used to build instance. This may cause unexpected failure when running the built modules. Please check whether \"mmdet\" is a correct scope, or whether the registry is initialized.\n"
     ]
    },
    {
     "name": "stderr",
     "output_type": "stream",
     "text": [
      "/home/shayaan/miniconda3/envs/aimet2/lib/python3.10/site-packages/mmengine/visualization/visualizer.py:196: UserWarning: Failed to add <class 'mmengine.visualization.vis_backend.LocalVisBackend'>, please provide the `save_dir` argument.\n",
      "  warnings.warn(f'Failed to add {vis_backend.__class__}, '\n"
     ]
    }
   ],
   "source": [
    "# %cd /content/drive/MyDrive/Aimet-torch/mmdetection-3.3.0/\n",
    "import torch\n",
    "from mmdet.apis import DetInferencer\n",
    "\n",
    "transform = transforms.Compose([\n",
    "    transforms.ToTensor(),\n",
    "    transforms.Resize([640, 640]),  # Resize\n",
    "])\n",
    "\n",
    "DEVICE = torch.device('cuda:0' if torch.cuda.is_available() else 'cpu')\n",
    "CONFIG_PATH = 'rtmdet_tiny_8xb32-300e_coco.py'\n",
    "WEIGHTS_PATH = 'rtmdet_tiny_8xb32-300e_coco_20220902_112414-78e30dcc.pth'\n",
    "\n",
    "ROOT_DATASET_DIR = '/datasets/COCO'\n",
    "IMAGES_DIR = os.path.join(ROOT_DATASET_DIR, 'images')\n",
    "ANNOTATIONS_JSON_PATH = os.path.join(ROOT_DATASET_DIR, 'annotations/instances_val2017.json')\n",
    "# ANNOTATIONS_JSON_PATH = \"/home/shayaan/Desktop/aimet/my_mmdet/temp.json\"\n",
    "\n",
    "model = DetInferencer(model=CONFIG_PATH, weights=WEIGHTS_PATH)\n",
    "evalDataset = CustomImageDataset(images_dir=IMAGES_DIR, annotations_json_path=ANNOTATIONS_JSON_PATH, transform=transform)\n"
   ]
  },
  {
   "cell_type": "code",
   "execution_count": 3,
   "metadata": {},
   "outputs": [
    {
     "name": "stdout",
     "output_type": "stream",
     "text": [
      "loading annotations into memory...\n",
      "Done (t=0.00s)\n",
      "creating index...\n",
      "index created!\n"
     ]
    }
   ],
   "source": [
    "from mmcv.transforms import Compose\n",
    "test_evaluator = model.cfg.test_evaluator\n",
    "test_evaluator.type = 'mmdet.evaluation.CocoMetric' \n",
    "test_evaluator.dataset_meta = model.model.dataset_meta\n",
    "test_evaluator.ann_file = ANNOTATIONS_JSON_PATH\n",
    "test_evaluator = Compose(test_evaluator)"
   ]
  },
  {
   "cell_type": "code",
   "execution_count": 4,
   "metadata": {},
   "outputs": [],
   "source": [
    "import random\n",
    "from typing import Optional\n",
    "from tqdm.notebook import tqdm\n",
    "import torch\n",
    "from torch.utils.data import Dataset, DataLoader, Subset\n",
    "from mmengine.structures import InstanceData\n",
    "\n",
    "EVAL_DATASET_SIZE = 5000\n",
    "CALIBRATION_DATASET_SIZE = 2000\n",
    "BATCH_SIZE = 64\n",
    "# _datasets = {}\n",
    "\n",
    "# def _create_sampled_data_loader(dataset, num_samples):\n",
    "#     if num_samples not in _datasets:\n",
    "#         indices = random.sample(range(len(dataset)), num_samples)\n",
    "#         _datasets[num_samples] = Subset(dataset, indices)\n",
    "#     return DataLoader(_datasets[num_samples], batch_size=BATCH_SIZE)\n",
    "\n",
    "\n",
    "def eval_callback(model: torch.nn.Module, num_samples: Optional[int] = None) -> float:    \n",
    "    data_loader = DataLoader(evalDataset, batch_size=BATCH_SIZE)\n",
    "\n",
    "    new_preds = []\n",
    "    for image_id, image_path, _ in tqdm(data_loader):\n",
    "        preds = model(image_path, out_dir='./output')\n",
    "        \n",
    "        for img_id, pred in zip(image_id, preds['predictions']):\n",
    "            new_pred = InstanceData(metainfo={\"img_id\": int(img_id)})\n",
    "            new_pred.bboxes = [np.array(p) for p in pred['bboxes']]\n",
    "            new_pred.labels = pred['labels']\n",
    "            new_pred.scores = pred['scores']\n",
    "            new_preds.append(new_pred)\n",
    "\n",
    "    eval_results = test_evaluator(new_preds)\n",
    "    with open(\"/home/shayaan/Desktop/aimet/my_mmdet/ptq_stats/eval_acc_fp32.json\", \"w\") as f:\n",
    "        json.dump(eval_results, f, indent=4)\n",
    "    bbox_map = eval_results['bbox_mAP']\n",
    "    return bbox_map"
   ]
  },
  {
   "cell_type": "code",
   "execution_count": 5,
   "metadata": {},
   "outputs": [
    {
     "name": "stdout",
     "output_type": "stream",
     "text": [
      "2024-08-02 16:04:44,558 - ModelPreparer - INFO - Functional         : Adding new module for node: {backbone.stem.0.bn.module_batch_norm} \n",
      "2024-08-02 16:04:44,559 - ModelPreparer - INFO - Functional         : Adding new module for node: {backbone.stem.1.bn.module_batch_norm_1} \n",
      "2024-08-02 16:04:44,559 - ModelPreparer - INFO - Functional         : Adding new module for node: {backbone.stem.2.bn.module_batch_norm_2} \n",
      "2024-08-02 16:04:44,560 - ModelPreparer - INFO - Functional         : Adding new module for node: {backbone.stage1.0.bn.module_batch_norm_3} \n",
      "2024-08-02 16:04:44,560 - ModelPreparer - INFO - Functional         : Adding new module for node: {backbone.stage1.1.short_conv.bn.module_batch_norm_4} \n",
      "2024-08-02 16:04:44,560 - ModelPreparer - INFO - Functional         : Adding new module for node: {backbone.stage1.1.main_conv.bn.module_batch_norm_5} \n",
      "2024-08-02 16:04:44,561 - ModelPreparer - INFO - Functional         : Adding new module for node: {backbone.stage1.1.blocks.0.conv1.bn.module_batch_norm_6} \n",
      "2024-08-02 16:04:44,561 - ModelPreparer - INFO - Functional         : Adding new module for node: {backbone.stage1.1.blocks.0.conv2.depthwise_conv.bn.module_batch_norm_7} \n",
      "2024-08-02 16:04:44,562 - ModelPreparer - INFO - Functional         : Adding new module for node: {backbone.stage1.1.blocks.0.conv2.pointwise_conv.bn.module_batch_norm_8} \n",
      "2024-08-02 16:04:44,562 - ModelPreparer - INFO - Functional         : Adding new module for node: {backbone.stage1.1.blocks.0.module_add} \n",
      "2024-08-02 16:04:44,562 - ModelPreparer - INFO - Functional         : Adding new module for node: {backbone.stage1.1.module_cat} \n",
      "2024-08-02 16:04:44,563 - ModelPreparer - INFO - Functional         : Adding new module for node: {backbone.stage1.1.attention.module_mul} \n",
      "2024-08-02 16:04:44,563 - ModelPreparer - INFO - Functional         : Adding new module for node: {backbone.stage1.1.final_conv.bn.module_batch_norm_9} \n",
      "2024-08-02 16:04:44,563 - ModelPreparer - INFO - Functional         : Adding new module for node: {backbone.stage2.0.bn.module_batch_norm_10} \n",
      "2024-08-02 16:04:44,564 - ModelPreparer - INFO - Functional         : Adding new module for node: {backbone.stage2.1.short_conv.bn.module_batch_norm_11} \n",
      "2024-08-02 16:04:44,564 - ModelPreparer - INFO - Functional         : Adding new module for node: {backbone.stage2.1.main_conv.bn.module_batch_norm_12} \n",
      "2024-08-02 16:04:44,564 - ModelPreparer - INFO - Functional         : Adding new module for node: {backbone.stage2.1.blocks.0.conv1.bn.module_batch_norm_13} \n",
      "2024-08-02 16:04:44,565 - ModelPreparer - INFO - Functional         : Adding new module for node: {backbone.stage2.1.blocks.0.conv2.depthwise_conv.bn.module_batch_norm_14} \n",
      "2024-08-02 16:04:44,565 - ModelPreparer - INFO - Functional         : Adding new module for node: {backbone.stage2.1.blocks.0.conv2.pointwise_conv.bn.module_batch_norm_15} \n",
      "2024-08-02 16:04:44,565 - ModelPreparer - INFO - Functional         : Adding new module for node: {backbone.stage2.1.blocks.0.module_add_1} \n",
      "2024-08-02 16:04:44,566 - ModelPreparer - INFO - Functional         : Adding new module for node: {backbone.stage2.1.module_cat_1} \n",
      "2024-08-02 16:04:44,566 - ModelPreparer - INFO - Functional         : Adding new module for node: {backbone.stage2.1.attention.module_mul_1} \n",
      "2024-08-02 16:04:44,566 - ModelPreparer - INFO - Functional         : Adding new module for node: {backbone.stage2.1.final_conv.bn.module_batch_norm_16} \n",
      "2024-08-02 16:04:44,566 - ModelPreparer - INFO - Functional         : Adding new module for node: {backbone.stage3.0.bn.module_batch_norm_17} \n",
      "2024-08-02 16:04:44,567 - ModelPreparer - INFO - Functional         : Adding new module for node: {backbone.stage3.1.short_conv.bn.module_batch_norm_18} \n",
      "2024-08-02 16:04:44,568 - ModelPreparer - INFO - Functional         : Adding new module for node: {backbone.stage3.1.main_conv.bn.module_batch_norm_19} \n",
      "2024-08-02 16:04:44,568 - ModelPreparer - INFO - Functional         : Adding new module for node: {backbone.stage3.1.blocks.0.conv1.bn.module_batch_norm_20} \n",
      "2024-08-02 16:04:44,568 - ModelPreparer - INFO - Functional         : Adding new module for node: {backbone.stage3.1.blocks.0.conv2.depthwise_conv.bn.module_batch_norm_21} \n",
      "2024-08-02 16:04:44,569 - ModelPreparer - INFO - Functional         : Adding new module for node: {backbone.stage3.1.blocks.0.conv2.pointwise_conv.bn.module_batch_norm_22} \n",
      "2024-08-02 16:04:44,569 - ModelPreparer - INFO - Functional         : Adding new module for node: {backbone.stage3.1.blocks.0.module_add_2} \n",
      "2024-08-02 16:04:44,570 - ModelPreparer - INFO - Functional         : Adding new module for node: {backbone.stage3.1.module_cat_2} \n",
      "2024-08-02 16:04:44,570 - ModelPreparer - INFO - Functional         : Adding new module for node: {backbone.stage3.1.attention.module_mul_2} \n",
      "2024-08-02 16:04:44,570 - ModelPreparer - INFO - Functional         : Adding new module for node: {backbone.stage3.1.final_conv.bn.module_batch_norm_23} \n",
      "2024-08-02 16:04:44,571 - ModelPreparer - INFO - Functional         : Adding new module for node: {backbone.stage4.0.bn.module_batch_norm_24} \n",
      "2024-08-02 16:04:44,571 - ModelPreparer - INFO - Functional         : Adding new module for node: {backbone.stage4.1.conv1.bn.module_batch_norm_25} \n",
      "2024-08-02 16:04:44,571 - ModelPreparer - INFO - Functional         : Adding new module for node: {backbone.stage4.1.module_cat_3} \n",
      "2024-08-02 16:04:44,572 - ModelPreparer - INFO - Functional         : Adding new module for node: {backbone.stage4.1.conv2.bn.module_batch_norm_26} \n",
      "2024-08-02 16:04:44,572 - ModelPreparer - INFO - Functional         : Adding new module for node: {backbone.stage4.2.short_conv.bn.module_batch_norm_27} \n",
      "2024-08-02 16:04:44,573 - ModelPreparer - INFO - Functional         : Adding new module for node: {backbone.stage4.2.main_conv.bn.module_batch_norm_28} \n",
      "2024-08-02 16:04:44,574 - ModelPreparer - INFO - Functional         : Adding new module for node: {backbone.stage4.2.blocks.0.conv1.bn.module_batch_norm_29} \n",
      "2024-08-02 16:04:44,575 - ModelPreparer - INFO - Functional         : Adding new module for node: {backbone.stage4.2.blocks.0.conv2.depthwise_conv.bn.module_batch_norm_30} \n",
      "2024-08-02 16:04:44,575 - ModelPreparer - INFO - Functional         : Adding new module for node: {backbone.stage4.2.blocks.0.conv2.pointwise_conv.bn.module_batch_norm_31} \n",
      "2024-08-02 16:04:44,575 - ModelPreparer - INFO - Functional         : Adding new module for node: {backbone.stage4.2.module_cat_4} \n",
      "2024-08-02 16:04:44,576 - ModelPreparer - INFO - Functional         : Adding new module for node: {backbone.stage4.2.attention.module_mul_3} \n",
      "2024-08-02 16:04:44,576 - ModelPreparer - INFO - Functional         : Adding new module for node: {backbone.stage4.2.final_conv.bn.module_batch_norm_32} \n",
      "2024-08-02 16:04:44,577 - ModelPreparer - INFO - Functional         : Adding new module for node: {neck.reduce_layers.0.bn.module_batch_norm_33} \n",
      "2024-08-02 16:04:44,577 - ModelPreparer - INFO - Functional         : Adding new module for node: {neck.module_cat_5} \n",
      "2024-08-02 16:04:44,577 - ModelPreparer - INFO - Functional         : Adding new module for node: {neck.top_down_blocks.0.short_conv.bn.module_batch_norm_34} \n",
      "2024-08-02 16:04:44,578 - ModelPreparer - INFO - Functional         : Adding new module for node: {neck.top_down_blocks.0.main_conv.bn.module_batch_norm_35} \n",
      "2024-08-02 16:04:44,578 - ModelPreparer - INFO - Functional         : Adding new module for node: {neck.top_down_blocks.0.blocks.0.conv1.bn.module_batch_norm_36} \n",
      "2024-08-02 16:04:44,578 - ModelPreparer - INFO - Functional         : Adding new module for node: {neck.top_down_blocks.0.blocks.0.conv2.depthwise_conv.bn.module_batch_norm_37} \n",
      "2024-08-02 16:04:44,579 - ModelPreparer - INFO - Functional         : Adding new module for node: {neck.top_down_blocks.0.blocks.0.conv2.pointwise_conv.bn.module_batch_norm_38} \n",
      "2024-08-02 16:04:44,579 - ModelPreparer - INFO - Functional         : Adding new module for node: {neck.top_down_blocks.0.module_cat_6} \n",
      "2024-08-02 16:04:44,580 - ModelPreparer - INFO - Functional         : Adding new module for node: {neck.top_down_blocks.0.final_conv.bn.module_batch_norm_39} \n",
      "2024-08-02 16:04:44,580 - ModelPreparer - INFO - Functional         : Adding new module for node: {neck.reduce_layers.1.bn.module_batch_norm_40} \n",
      "2024-08-02 16:04:44,580 - ModelPreparer - INFO - Reused/Duplicate   : Adding new module for node: {neck.module_upsample_1} \n",
      "2024-08-02 16:04:44,581 - ModelPreparer - INFO - Functional         : Adding new module for node: {neck.module_cat_7} \n",
      "2024-08-02 16:04:44,581 - ModelPreparer - INFO - Functional         : Adding new module for node: {neck.top_down_blocks.1.short_conv.bn.module_batch_norm_41} \n",
      "2024-08-02 16:04:44,582 - ModelPreparer - INFO - Functional         : Adding new module for node: {neck.top_down_blocks.1.main_conv.bn.module_batch_norm_42} \n",
      "2024-08-02 16:04:44,582 - ModelPreparer - INFO - Functional         : Adding new module for node: {neck.top_down_blocks.1.blocks.0.conv1.bn.module_batch_norm_43} \n",
      "2024-08-02 16:04:44,582 - ModelPreparer - INFO - Functional         : Adding new module for node: {neck.top_down_blocks.1.blocks.0.conv2.depthwise_conv.bn.module_batch_norm_44} \n",
      "2024-08-02 16:04:44,583 - ModelPreparer - INFO - Functional         : Adding new module for node: {neck.top_down_blocks.1.blocks.0.conv2.pointwise_conv.bn.module_batch_norm_45} \n",
      "2024-08-02 16:04:44,583 - ModelPreparer - INFO - Functional         : Adding new module for node: {neck.top_down_blocks.1.module_cat_8} \n",
      "2024-08-02 16:04:44,583 - ModelPreparer - INFO - Functional         : Adding new module for node: {neck.top_down_blocks.1.final_conv.bn.module_batch_norm_46} \n",
      "2024-08-02 16:04:44,583 - ModelPreparer - INFO - Functional         : Adding new module for node: {neck.downsamples.0.bn.module_batch_norm_47} \n",
      "2024-08-02 16:04:44,584 - ModelPreparer - INFO - Functional         : Adding new module for node: {neck.module_cat_9} \n",
      "2024-08-02 16:04:44,584 - ModelPreparer - INFO - Functional         : Adding new module for node: {neck.bottom_up_blocks.0.short_conv.bn.module_batch_norm_48} \n",
      "2024-08-02 16:04:44,584 - ModelPreparer - INFO - Functional         : Adding new module for node: {neck.bottom_up_blocks.0.main_conv.bn.module_batch_norm_49} \n",
      "2024-08-02 16:04:44,584 - ModelPreparer - INFO - Functional         : Adding new module for node: {neck.bottom_up_blocks.0.blocks.0.conv1.bn.module_batch_norm_50} \n",
      "2024-08-02 16:04:44,585 - ModelPreparer - INFO - Functional         : Adding new module for node: {neck.bottom_up_blocks.0.blocks.0.conv2.depthwise_conv.bn.module_batch_norm_51} \n",
      "2024-08-02 16:04:44,585 - ModelPreparer - INFO - Functional         : Adding new module for node: {neck.bottom_up_blocks.0.blocks.0.conv2.pointwise_conv.bn.module_batch_norm_52} \n",
      "2024-08-02 16:04:44,585 - ModelPreparer - INFO - Functional         : Adding new module for node: {neck.bottom_up_blocks.0.module_cat_10} \n",
      "2024-08-02 16:04:44,585 - ModelPreparer - INFO - Functional         : Adding new module for node: {neck.bottom_up_blocks.0.final_conv.bn.module_batch_norm_53} \n",
      "2024-08-02 16:04:44,586 - ModelPreparer - INFO - Functional         : Adding new module for node: {neck.downsamples.1.bn.module_batch_norm_54} \n",
      "2024-08-02 16:04:44,586 - ModelPreparer - INFO - Functional         : Adding new module for node: {neck.module_cat_11} \n",
      "2024-08-02 16:04:44,586 - ModelPreparer - INFO - Functional         : Adding new module for node: {neck.bottom_up_blocks.1.short_conv.bn.module_batch_norm_55} \n",
      "2024-08-02 16:04:44,586 - ModelPreparer - INFO - Functional         : Adding new module for node: {neck.bottom_up_blocks.1.main_conv.bn.module_batch_norm_56} \n",
      "2024-08-02 16:04:44,587 - ModelPreparer - INFO - Functional         : Adding new module for node: {neck.bottom_up_blocks.1.blocks.0.conv1.bn.module_batch_norm_57} \n",
      "2024-08-02 16:04:44,587 - ModelPreparer - INFO - Functional         : Adding new module for node: {neck.bottom_up_blocks.1.blocks.0.conv2.depthwise_conv.bn.module_batch_norm_58} \n",
      "2024-08-02 16:04:44,587 - ModelPreparer - INFO - Functional         : Adding new module for node: {neck.bottom_up_blocks.1.blocks.0.conv2.pointwise_conv.bn.module_batch_norm_59} \n",
      "2024-08-02 16:04:44,588 - ModelPreparer - INFO - Functional         : Adding new module for node: {neck.bottom_up_blocks.1.module_cat_12} \n",
      "2024-08-02 16:04:44,588 - ModelPreparer - INFO - Functional         : Adding new module for node: {neck.bottom_up_blocks.1.final_conv.bn.module_batch_norm_60} \n",
      "2024-08-02 16:04:44,588 - ModelPreparer - INFO - Functional         : Adding new module for node: {neck.out_convs.0.bn.module_batch_norm_61} \n",
      "2024-08-02 16:04:44,588 - ModelPreparer - INFO - Functional         : Adding new module for node: {neck.out_convs.1.bn.module_batch_norm_62} \n",
      "2024-08-02 16:04:44,589 - ModelPreparer - INFO - Functional         : Adding new module for node: {neck.out_convs.2.bn.module_batch_norm_63} \n",
      "2024-08-02 16:04:44,589 - ModelPreparer - INFO - Functional         : Adding new module for node: {bbox_head.cls_convs.0.0.bn.module_batch_norm_64} \n",
      "2024-08-02 16:04:44,589 - ModelPreparer - INFO - Functional         : Adding new module for node: {bbox_head.cls_convs.0.1.bn.module_batch_norm_65} \n",
      "2024-08-02 16:04:44,589 - ModelPreparer - INFO - Functional         : Adding new module for node: {bbox_head.reg_convs.0.0.bn.module_batch_norm_66} \n",
      "2024-08-02 16:04:44,590 - ModelPreparer - INFO - Functional         : Adding new module for node: {bbox_head.reg_convs.0.1.bn.module_batch_norm_67} \n",
      "2024-08-02 16:04:44,590 - ModelPreparer - INFO - Functional         : Adding new module for node: {bbox_head.module_mul_4} \n",
      "2024-08-02 16:04:44,592 - ModelPreparer - INFO - Reused/Duplicate   : Adding new module for node: {bbox_head.cls_convs.0.0.module_conv_1} \n",
      "2024-08-02 16:04:44,592 - ModelPreparer - INFO - Functional         : Adding new module for node: {bbox_head.cls_convs.1.0.bn.module_batch_norm_68} \n",
      "2024-08-02 16:04:44,592 - ModelPreparer - INFO - Reused/Duplicate   : Adding new module for node: {bbox_head.cls_convs.0.1.module_conv_1} \n",
      "2024-08-02 16:04:44,593 - ModelPreparer - INFO - Functional         : Adding new module for node: {bbox_head.cls_convs.1.1.bn.module_batch_norm_69} \n",
      "2024-08-02 16:04:44,593 - ModelPreparer - INFO - Reused/Duplicate   : Adding new module for node: {bbox_head.reg_convs.0.0.module_conv_1} \n",
      "2024-08-02 16:04:44,593 - ModelPreparer - INFO - Functional         : Adding new module for node: {bbox_head.reg_convs.1.0.bn.module_batch_norm_70} \n",
      "2024-08-02 16:04:44,594 - ModelPreparer - INFO - Reused/Duplicate   : Adding new module for node: {bbox_head.reg_convs.0.1.module_conv_1} \n",
      "2024-08-02 16:04:44,594 - ModelPreparer - INFO - Functional         : Adding new module for node: {bbox_head.reg_convs.1.1.bn.module_batch_norm_71} \n",
      "2024-08-02 16:04:44,595 - ModelPreparer - INFO - Functional         : Adding new module for node: {bbox_head.module_mul_5} \n",
      "2024-08-02 16:04:44,595 - ModelPreparer - INFO - Reused/Duplicate   : Adding new module for node: {bbox_head.cls_convs.0.0.module_conv_2} \n",
      "2024-08-02 16:04:44,595 - ModelPreparer - INFO - Functional         : Adding new module for node: {bbox_head.cls_convs.2.0.bn.module_batch_norm_72} \n",
      "2024-08-02 16:04:44,596 - ModelPreparer - INFO - Reused/Duplicate   : Adding new module for node: {bbox_head.cls_convs.0.1.module_conv_2} \n",
      "2024-08-02 16:04:44,596 - ModelPreparer - INFO - Functional         : Adding new module for node: {bbox_head.cls_convs.2.1.bn.module_batch_norm_73} \n",
      "2024-08-02 16:04:44,597 - ModelPreparer - INFO - Reused/Duplicate   : Adding new module for node: {bbox_head.reg_convs.0.0.module_conv_2} \n",
      "2024-08-02 16:04:44,597 - ModelPreparer - INFO - Functional         : Adding new module for node: {bbox_head.reg_convs.2.0.bn.module_batch_norm_74} \n",
      "2024-08-02 16:04:44,598 - ModelPreparer - INFO - Reused/Duplicate   : Adding new module for node: {bbox_head.reg_convs.0.1.module_conv_2} \n",
      "2024-08-02 16:04:44,598 - ModelPreparer - INFO - Functional         : Adding new module for node: {bbox_head.reg_convs.2.1.bn.module_batch_norm_75} \n",
      "2024-08-02 16:04:44,598 - ModelPreparer - INFO - Functional         : Adding new module for node: {bbox_head.module_mul_6} \n",
      "2024-08-02 16:04:47,968 - Quant - INFO - No config file provided, defaulting to config file at /home/shayaan/miniconda3/envs/aimet2/lib/python3.10/site-packages/aimet_common/quantsim_config/default_config.json\n",
      "2024-08-02 16:04:47,985 - Quant - INFO - Unsupported op type Squeeze\n",
      "2024-08-02 16:04:47,985 - Quant - INFO - Unsupported op type Mean\n",
      "2024-08-02 16:04:47,992 - Quant - INFO - Selecting DefaultOpInstanceConfigGenerator to compute the specialized config. hw_version:default\n"
     ]
    }
   ],
   "source": [
    "from aimet_torch.quantsim import QuantizationSimModel, QuantScheme\n",
    "from aimet_torch.model_preparer import prepare_model\n",
    "\n",
    "dummy_input = torch.rand(1, 3, 640, 640)\n",
    "\n",
    "\n",
    "sim_model = prepare_model(model.model)\n",
    "\n",
    "sim = QuantizationSimModel(model=sim_model,\n",
    "                        quant_scheme=QuantScheme.post_training_tf_enhanced,\n",
    "                        dummy_input=dummy_input,\n",
    "                        default_output_bw=8,\n",
    "                        default_param_bw=8,)"
   ]
  },
  {
   "cell_type": "code",
   "execution_count": 6,
   "metadata": {
    "colab": {
     "base_uri": "https://localhost:8080/"
    },
    "id": "ir4IFswfFeb9",
    "outputId": "6123101f-000c-4b93-a2d6-81ffa064b745"
   },
   "outputs": [],
   "source": [
    "# accuracy = eval_callback(model)"
   ]
  },
  {
   "cell_type": "code",
   "execution_count": 7,
   "metadata": {},
   "outputs": [],
   "source": [
    "# print(f'- FP32 accuracy: {accuracy}')"
   ]
  },
  {
   "cell_type": "markdown",
   "metadata": {
    "id": "OUI0S_bRWb9E"
   },
   "source": [
    "## 3. Run AutoQuant\n",
    "### Create AutoQuant Object\n",
    "\n",
    "The AutoQuant feature utilizes an unlabeled dataset to achieve quantization. The class **UnlabeledDatasetWrapper** creates an unlabeled Dataset object from a labeled Dataset."
   ]
  },
  {
   "cell_type": "code",
   "execution_count": 8,
   "metadata": {},
   "outputs": [],
   "source": [
    "class UnlabeledDatasetWrapper(Dataset):\n",
    "    def __init__(self, dataset, num_samples):\n",
    "        self._dataset = dataset\n",
    "        self.num_samples = num_samples if num_samples < len(self._dataset) else len(self._dataset)\n",
    "        self.transform = transform\n",
    "\n",
    "    def __len__(self):\n",
    "        return self.num_samples \n",
    "\n",
    "    def __getitem__(self, index):\n",
    "        _, _, transformed_images = self._dataset[index]\n",
    "        return transformed_images\n",
    "    "
   ]
  },
  {
   "cell_type": "code",
   "execution_count": 9,
   "metadata": {},
   "outputs": [],
   "source": [
    "preprocessor = model.preprocess\n",
    "predict_by_feat = model.model.bbox_head.predict_by_feat\n",
    "rescale = True\n",
    "from mmdet.models.utils import samplelist_boxtype2tensor\n",
    "def add_pred_to_datasample(data_samples, results_list):\n",
    "    for data_sample, pred_instances in zip(data_samples, results_list):\n",
    "        data_sample.pred_instances = pred_instances\n",
    "    samplelist_boxtype2tensor(data_samples)\n",
    "    return data_samples"
   ]
  },
  {
   "cell_type": "code",
   "execution_count": 10,
   "metadata": {
    "id": "5NtMfprwWb9E",
    "pycharm": {
     "name": "#%%\n"
    }
   },
   "outputs": [],
   "source": [
    "from aimet_torch.auto_quant import AutoQuant\n",
    "\n",
    "def new_eval_callback(model: torch.nn.Module, num_samples: Optional[int] = None) -> float:\n",
    "    data_loader = DataLoader(evalDataset, batch_size=BATCH_SIZE)\n",
    "    new_preds = []\n",
    "    for image_id, image_path, _ in tqdm(data_loader):\n",
    "        pre_processed = preprocessor(inputs=image_path, batch_size=BATCH_SIZE)\n",
    "        _, data = list(pre_processed)[0]\n",
    "        inp_image = np.ndarray(shape=(BATCH_SIZE, 3, 640, 640))\n",
    "        for idx, img in enumerate(data['inputs']):\n",
    "            inp_image[idx] = img\n",
    "        inp_image = torch.from_numpy(inp_image).float()\n",
    "        preds = model(inp_image)\n",
    "        batch_img_metas = [\n",
    "        data_samples.metainfo for data_samples in data['data_samples']\n",
    "        ]\n",
    "        preds = predict_by_feat(*preds, batch_img_metas=batch_img_metas, rescale=True)\n",
    "        preds = add_pred_to_datasample(data['data_samples'], preds)\n",
    "        \n",
    "        for img_id, pred in zip(image_id, preds):\n",
    "            pred = pred.pred_instances\n",
    "            new_pred = InstanceData(metainfo={\"img_id\": int(img_id)})\n",
    "            new_pred.bboxes = [np.array(p) for p in pred['bboxes']]\n",
    "            new_pred.labels = pred['labels']\n",
    "            new_pred.scores = pred['scores']\n",
    "            new_preds.append(new_pred)\n",
    "\n",
    "        # new_pred = InstanceData(metainfo={\"img_id\": int(image_id)})\n",
    "        # new_pred.bboxes = [np.array(p) for p in preds['bboxes']]\n",
    "        # new_pred.labels = preds['labels']\n",
    "        # new_pred.scores = preds['scores']\n",
    "        # new_preds.append(new_pred)\n",
    "\n",
    "    eval_results = test_evaluator(new_preds)\n",
    "    from glob import glob\n",
    "    num_file = len(glob(\"/home/shayaan/Desktop/aimet/my_mmdet/ptq_stats/eval_acc_quant_*\"))\n",
    "    with open(f\"/home/shayaan/Desktop/aimet/my_mmdet/ptq_stats/eval_acc_quant_{num_file}.json\", \"w\") as f:\n",
    "        json.dump(eval_results, f, indent=4)\n",
    "    bbox_map = eval_results['bbox_mAP']\n",
    "    return bbox_map\n",
    "\n",
    "\n",
    "calibration_data_loader = DataLoader(UnlabeledDatasetWrapper(evalDataset, num_samples=CALIBRATION_DATASET_SIZE))\n",
    "auto_quant = AutoQuant(sim_model,\n",
    "                       dummy_input=dummy_input,\n",
    "                       data_loader=calibration_data_loader,\n",
    "                       eval_callback=new_eval_callback)"
   ]
  },
  {
   "cell_type": "markdown",
   "metadata": {
    "id": "9zufGu-VWb9F"
   },
   "source": [
    "### Run AutoQuant Inference\n",
    "This step runs AutoQuant inference. AutoQuant inference will run evaluation using the **eval_callback** with the vanilla quantized model without applying PTQ techniques. This will be useful for measuring the baseline evaluation score before running AutoQuant optimization."
   ]
  },
  {
   "cell_type": "code",
   "execution_count": 11,
   "metadata": {
    "colab": {
     "base_uri": "https://localhost:8080/",
     "height": 1000
    },
    "id": "aXf7J3FBWb9F",
    "outputId": "a260133a-93dd-4656-9efc-7c56e284e555"
   },
   "outputs": [
    {
     "name": "stderr",
     "output_type": "stream",
     "text": [
      "               \r"
     ]
    },
    {
     "name": "stdout",
     "output_type": "stream",
     "text": [
      "2024-08-02 16:04:49,609 - ModelPreparer - INFO - Functional         : Adding new module for node: {module_batch_norm} \n"
     ]
    },
    {
     "name": "stderr",
     "output_type": "stream",
     "text": [
      "               \r"
     ]
    },
    {
     "name": "stdout",
     "output_type": "stream",
     "text": [
      "2024-08-02 16:04:49,611 - ModelPreparer - INFO - Functional         : Adding new module for node: {module_mul} \n"
     ]
    },
    {
     "name": "stderr",
     "output_type": "stream",
     "text": [
      "               \r"
     ]
    },
    {
     "name": "stdout",
     "output_type": "stream",
     "text": [
      "2024-08-02 16:04:49,612 - ModelPreparer - INFO - Functional         : Adding new module for node: {module_batch_norm_1} \n"
     ]
    },
    {
     "name": "stderr",
     "output_type": "stream",
     "text": [
      "               \r"
     ]
    },
    {
     "name": "stdout",
     "output_type": "stream",
     "text": [
      "2024-08-02 16:04:49,613 - ModelPreparer - INFO - Functional         : Adding new module for node: {module_mul_1} \n"
     ]
    },
    {
     "name": "stderr",
     "output_type": "stream",
     "text": [
      "               \r"
     ]
    },
    {
     "name": "stdout",
     "output_type": "stream",
     "text": [
      "2024-08-02 16:04:49,614 - ModelPreparer - INFO - Functional         : Adding new module for node: {module_batch_norm_2} \n"
     ]
    },
    {
     "name": "stderr",
     "output_type": "stream",
     "text": [
      "               \r"
     ]
    },
    {
     "name": "stdout",
     "output_type": "stream",
     "text": [
      "2024-08-02 16:04:49,614 - ModelPreparer - INFO - Functional         : Adding new module for node: {module_mul_2} \n"
     ]
    },
    {
     "name": "stderr",
     "output_type": "stream",
     "text": [
      "               \r"
     ]
    },
    {
     "name": "stdout",
     "output_type": "stream",
     "text": [
      "2024-08-02 16:04:49,615 - ModelPreparer - INFO - Functional         : Adding new module for node: {module_batch_norm_3} \n"
     ]
    },
    {
     "name": "stderr",
     "output_type": "stream",
     "text": [
      "               \r"
     ]
    },
    {
     "name": "stdout",
     "output_type": "stream",
     "text": [
      "2024-08-02 16:04:49,616 - ModelPreparer - INFO - Functional         : Adding new module for node: {module_mul_3} \n"
     ]
    },
    {
     "name": "stderr",
     "output_type": "stream",
     "text": [
      "               \r"
     ]
    },
    {
     "name": "stdout",
     "output_type": "stream",
     "text": [
      "2024-08-02 16:04:49,617 - ModelPreparer - INFO - Functional         : Adding new module for node: {module_batch_norm_4} \n"
     ]
    },
    {
     "name": "stderr",
     "output_type": "stream",
     "text": [
      "               \r"
     ]
    },
    {
     "name": "stdout",
     "output_type": "stream",
     "text": [
      "2024-08-02 16:04:49,618 - ModelPreparer - INFO - Functional         : Adding new module for node: {module_mul_4} \n"
     ]
    },
    {
     "name": "stderr",
     "output_type": "stream",
     "text": [
      "               \r"
     ]
    },
    {
     "name": "stdout",
     "output_type": "stream",
     "text": [
      "2024-08-02 16:04:49,619 - ModelPreparer - INFO - Functional         : Adding new module for node: {module_batch_norm_5} \n"
     ]
    },
    {
     "name": "stderr",
     "output_type": "stream",
     "text": [
      "               \r"
     ]
    },
    {
     "name": "stdout",
     "output_type": "stream",
     "text": [
      "2024-08-02 16:04:49,620 - ModelPreparer - INFO - Functional         : Adding new module for node: {module_mul_5} \n"
     ]
    },
    {
     "name": "stderr",
     "output_type": "stream",
     "text": [
      "               \r"
     ]
    },
    {
     "name": "stdout",
     "output_type": "stream",
     "text": [
      "2024-08-02 16:04:49,621 - ModelPreparer - INFO - Functional         : Adding new module for node: {module_batch_norm_6} \n"
     ]
    },
    {
     "name": "stderr",
     "output_type": "stream",
     "text": [
      "               \r"
     ]
    },
    {
     "name": "stdout",
     "output_type": "stream",
     "text": [
      "2024-08-02 16:04:49,622 - ModelPreparer - INFO - Functional         : Adding new module for node: {module_mul_6} \n"
     ]
    },
    {
     "name": "stderr",
     "output_type": "stream",
     "text": [
      "               \r"
     ]
    },
    {
     "name": "stdout",
     "output_type": "stream",
     "text": [
      "2024-08-02 16:04:49,623 - ModelPreparer - INFO - Functional         : Adding new module for node: {module_batch_norm_7} \n"
     ]
    },
    {
     "name": "stderr",
     "output_type": "stream",
     "text": [
      "               \r"
     ]
    },
    {
     "name": "stdout",
     "output_type": "stream",
     "text": [
      "2024-08-02 16:04:49,624 - ModelPreparer - INFO - Functional         : Adding new module for node: {module_mul_7} \n"
     ]
    },
    {
     "name": "stderr",
     "output_type": "stream",
     "text": [
      "               \r"
     ]
    },
    {
     "name": "stdout",
     "output_type": "stream",
     "text": [
      "2024-08-02 16:04:49,625 - ModelPreparer - INFO - Functional         : Adding new module for node: {module_batch_norm_8} \n"
     ]
    },
    {
     "name": "stderr",
     "output_type": "stream",
     "text": [
      "               \r"
     ]
    },
    {
     "name": "stdout",
     "output_type": "stream",
     "text": [
      "2024-08-02 16:04:49,626 - ModelPreparer - INFO - Functional         : Adding new module for node: {module_mul_8} \n"
     ]
    },
    {
     "name": "stderr",
     "output_type": "stream",
     "text": [
      "               \r"
     ]
    },
    {
     "name": "stdout",
     "output_type": "stream",
     "text": [
      "2024-08-02 16:04:49,627 - ModelPreparer - INFO - Functional         : Adding new module for node: {module_add} \n"
     ]
    },
    {
     "name": "stderr",
     "output_type": "stream",
     "text": [
      "               \r"
     ]
    },
    {
     "name": "stdout",
     "output_type": "stream",
     "text": [
      "2024-08-02 16:04:49,628 - ModelPreparer - INFO - Functional         : Adding new module for node: {module_cat} \n"
     ]
    },
    {
     "name": "stderr",
     "output_type": "stream",
     "text": [
      "               \r"
     ]
    },
    {
     "name": "stdout",
     "output_type": "stream",
     "text": [
      "2024-08-02 16:04:49,628 - ModelPreparer - INFO - Functional         : Adding new module for node: {module_mul_9} \n"
     ]
    },
    {
     "name": "stderr",
     "output_type": "stream",
     "text": [
      "               \r"
     ]
    },
    {
     "name": "stdout",
     "output_type": "stream",
     "text": [
      "2024-08-02 16:04:49,629 - ModelPreparer - INFO - Functional         : Adding new module for node: {module_batch_norm_9} \n"
     ]
    },
    {
     "name": "stderr",
     "output_type": "stream",
     "text": [
      "               \r"
     ]
    },
    {
     "name": "stdout",
     "output_type": "stream",
     "text": [
      "2024-08-02 16:04:49,630 - ModelPreparer - INFO - Functional         : Adding new module for node: {module_mul_10} \n"
     ]
    },
    {
     "name": "stderr",
     "output_type": "stream",
     "text": [
      "               \r"
     ]
    },
    {
     "name": "stdout",
     "output_type": "stream",
     "text": [
      "2024-08-02 16:04:49,631 - ModelPreparer - INFO - Functional         : Adding new module for node: {module_batch_norm_10} \n"
     ]
    },
    {
     "name": "stderr",
     "output_type": "stream",
     "text": [
      "               \r"
     ]
    },
    {
     "name": "stdout",
     "output_type": "stream",
     "text": [
      "2024-08-02 16:04:49,632 - ModelPreparer - INFO - Functional         : Adding new module for node: {module_mul_11} \n"
     ]
    },
    {
     "name": "stderr",
     "output_type": "stream",
     "text": [
      "               \r"
     ]
    },
    {
     "name": "stdout",
     "output_type": "stream",
     "text": [
      "2024-08-02 16:04:49,633 - ModelPreparer - INFO - Functional         : Adding new module for node: {module_batch_norm_11} \n"
     ]
    },
    {
     "name": "stderr",
     "output_type": "stream",
     "text": [
      "               \r"
     ]
    },
    {
     "name": "stdout",
     "output_type": "stream",
     "text": [
      "2024-08-02 16:04:49,634 - ModelPreparer - INFO - Functional         : Adding new module for node: {module_mul_12} \n"
     ]
    },
    {
     "name": "stderr",
     "output_type": "stream",
     "text": [
      "               \r"
     ]
    },
    {
     "name": "stdout",
     "output_type": "stream",
     "text": [
      "2024-08-02 16:04:49,635 - ModelPreparer - INFO - Functional         : Adding new module for node: {module_batch_norm_12} \n"
     ]
    },
    {
     "name": "stderr",
     "output_type": "stream",
     "text": [
      "               \r"
     ]
    },
    {
     "name": "stdout",
     "output_type": "stream",
     "text": [
      "2024-08-02 16:04:49,636 - ModelPreparer - INFO - Functional         : Adding new module for node: {module_mul_13} \n"
     ]
    },
    {
     "name": "stderr",
     "output_type": "stream",
     "text": [
      "               \r"
     ]
    },
    {
     "name": "stdout",
     "output_type": "stream",
     "text": [
      "2024-08-02 16:04:49,637 - ModelPreparer - INFO - Functional         : Adding new module for node: {module_batch_norm_13} \n"
     ]
    },
    {
     "name": "stderr",
     "output_type": "stream",
     "text": [
      "               \r"
     ]
    },
    {
     "name": "stdout",
     "output_type": "stream",
     "text": [
      "2024-08-02 16:04:49,637 - ModelPreparer - INFO - Functional         : Adding new module for node: {module_mul_14} \n"
     ]
    },
    {
     "name": "stderr",
     "output_type": "stream",
     "text": [
      "               \r"
     ]
    },
    {
     "name": "stdout",
     "output_type": "stream",
     "text": [
      "2024-08-02 16:04:49,638 - ModelPreparer - INFO - Functional         : Adding new module for node: {module_batch_norm_14} \n"
     ]
    },
    {
     "name": "stderr",
     "output_type": "stream",
     "text": [
      "               \r"
     ]
    },
    {
     "name": "stdout",
     "output_type": "stream",
     "text": [
      "2024-08-02 16:04:49,639 - ModelPreparer - INFO - Functional         : Adding new module for node: {module_mul_15} \n"
     ]
    },
    {
     "name": "stderr",
     "output_type": "stream",
     "text": [
      "               \r"
     ]
    },
    {
     "name": "stdout",
     "output_type": "stream",
     "text": [
      "2024-08-02 16:04:49,640 - ModelPreparer - INFO - Functional         : Adding new module for node: {module_batch_norm_15} \n"
     ]
    },
    {
     "name": "stderr",
     "output_type": "stream",
     "text": [
      "               \r"
     ]
    },
    {
     "name": "stdout",
     "output_type": "stream",
     "text": [
      "2024-08-02 16:04:49,641 - ModelPreparer - INFO - Functional         : Adding new module for node: {module_mul_16} \n"
     ]
    },
    {
     "name": "stderr",
     "output_type": "stream",
     "text": [
      "               \r"
     ]
    },
    {
     "name": "stdout",
     "output_type": "stream",
     "text": [
      "2024-08-02 16:04:49,642 - ModelPreparer - INFO - Functional         : Adding new module for node: {module_add_1} \n"
     ]
    },
    {
     "name": "stderr",
     "output_type": "stream",
     "text": [
      "               \r"
     ]
    },
    {
     "name": "stdout",
     "output_type": "stream",
     "text": [
      "2024-08-02 16:04:49,643 - ModelPreparer - INFO - Functional         : Adding new module for node: {module_cat_1} \n"
     ]
    },
    {
     "name": "stderr",
     "output_type": "stream",
     "text": [
      "               \r"
     ]
    },
    {
     "name": "stdout",
     "output_type": "stream",
     "text": [
      "2024-08-02 16:04:49,644 - ModelPreparer - INFO - Functional         : Adding new module for node: {module_mul_17} \n"
     ]
    },
    {
     "name": "stderr",
     "output_type": "stream",
     "text": [
      "               \r"
     ]
    },
    {
     "name": "stdout",
     "output_type": "stream",
     "text": [
      "2024-08-02 16:04:49,645 - ModelPreparer - INFO - Functional         : Adding new module for node: {module_batch_norm_16} \n"
     ]
    },
    {
     "name": "stderr",
     "output_type": "stream",
     "text": [
      "               \r"
     ]
    },
    {
     "name": "stdout",
     "output_type": "stream",
     "text": [
      "2024-08-02 16:04:49,646 - ModelPreparer - INFO - Functional         : Adding new module for node: {module_mul_18} \n"
     ]
    },
    {
     "name": "stderr",
     "output_type": "stream",
     "text": [
      "               \r"
     ]
    },
    {
     "name": "stdout",
     "output_type": "stream",
     "text": [
      "2024-08-02 16:04:49,647 - ModelPreparer - INFO - Functional         : Adding new module for node: {module_batch_norm_17} \n"
     ]
    },
    {
     "name": "stderr",
     "output_type": "stream",
     "text": [
      "               \r"
     ]
    },
    {
     "name": "stdout",
     "output_type": "stream",
     "text": [
      "2024-08-02 16:04:49,647 - ModelPreparer - INFO - Functional         : Adding new module for node: {module_mul_19} \n"
     ]
    },
    {
     "name": "stderr",
     "output_type": "stream",
     "text": [
      "               \r"
     ]
    },
    {
     "name": "stdout",
     "output_type": "stream",
     "text": [
      "2024-08-02 16:04:49,648 - ModelPreparer - INFO - Functional         : Adding new module for node: {module_batch_norm_18} \n"
     ]
    },
    {
     "name": "stderr",
     "output_type": "stream",
     "text": [
      "               \r"
     ]
    },
    {
     "name": "stdout",
     "output_type": "stream",
     "text": [
      "2024-08-02 16:04:49,649 - ModelPreparer - INFO - Functional         : Adding new module for node: {module_mul_20} \n"
     ]
    },
    {
     "name": "stderr",
     "output_type": "stream",
     "text": [
      "               \r"
     ]
    },
    {
     "name": "stdout",
     "output_type": "stream",
     "text": [
      "2024-08-02 16:04:49,650 - ModelPreparer - INFO - Functional         : Adding new module for node: {module_batch_norm_19} \n"
     ]
    },
    {
     "name": "stderr",
     "output_type": "stream",
     "text": [
      "               \r"
     ]
    },
    {
     "name": "stdout",
     "output_type": "stream",
     "text": [
      "2024-08-02 16:04:49,651 - ModelPreparer - INFO - Functional         : Adding new module for node: {module_mul_21} \n"
     ]
    },
    {
     "name": "stderr",
     "output_type": "stream",
     "text": [
      "               \r"
     ]
    },
    {
     "name": "stdout",
     "output_type": "stream",
     "text": [
      "2024-08-02 16:04:49,652 - ModelPreparer - INFO - Functional         : Adding new module for node: {module_batch_norm_20} \n"
     ]
    },
    {
     "name": "stderr",
     "output_type": "stream",
     "text": [
      "               \r"
     ]
    },
    {
     "name": "stdout",
     "output_type": "stream",
     "text": [
      "2024-08-02 16:04:49,653 - ModelPreparer - INFO - Functional         : Adding new module for node: {module_mul_22} \n"
     ]
    },
    {
     "name": "stderr",
     "output_type": "stream",
     "text": [
      "               \r"
     ]
    },
    {
     "name": "stdout",
     "output_type": "stream",
     "text": [
      "2024-08-02 16:04:49,654 - ModelPreparer - INFO - Functional         : Adding new module for node: {module_batch_norm_21} \n"
     ]
    },
    {
     "name": "stderr",
     "output_type": "stream",
     "text": [
      "               \r"
     ]
    },
    {
     "name": "stdout",
     "output_type": "stream",
     "text": [
      "2024-08-02 16:04:49,655 - ModelPreparer - INFO - Functional         : Adding new module for node: {module_mul_23} \n"
     ]
    },
    {
     "name": "stderr",
     "output_type": "stream",
     "text": [
      "               \r"
     ]
    },
    {
     "name": "stdout",
     "output_type": "stream",
     "text": [
      "2024-08-02 16:04:49,656 - ModelPreparer - INFO - Functional         : Adding new module for node: {module_batch_norm_22} \n"
     ]
    },
    {
     "name": "stderr",
     "output_type": "stream",
     "text": [
      "               \r"
     ]
    },
    {
     "name": "stdout",
     "output_type": "stream",
     "text": [
      "2024-08-02 16:04:49,657 - ModelPreparer - INFO - Functional         : Adding new module for node: {module_mul_24} \n"
     ]
    },
    {
     "name": "stderr",
     "output_type": "stream",
     "text": [
      "               \r"
     ]
    },
    {
     "name": "stdout",
     "output_type": "stream",
     "text": [
      "2024-08-02 16:04:49,658 - ModelPreparer - INFO - Functional         : Adding new module for node: {module_add_2} \n"
     ]
    },
    {
     "name": "stderr",
     "output_type": "stream",
     "text": [
      "               \r"
     ]
    },
    {
     "name": "stdout",
     "output_type": "stream",
     "text": [
      "2024-08-02 16:04:49,659 - ModelPreparer - INFO - Functional         : Adding new module for node: {module_cat_2} \n"
     ]
    },
    {
     "name": "stderr",
     "output_type": "stream",
     "text": [
      "               \r"
     ]
    },
    {
     "name": "stdout",
     "output_type": "stream",
     "text": [
      "2024-08-02 16:04:49,660 - ModelPreparer - INFO - Functional         : Adding new module for node: {module_mul_25} \n"
     ]
    },
    {
     "name": "stderr",
     "output_type": "stream",
     "text": [
      "               \r"
     ]
    },
    {
     "name": "stdout",
     "output_type": "stream",
     "text": [
      "2024-08-02 16:04:49,661 - ModelPreparer - INFO - Functional         : Adding new module for node: {module_batch_norm_23} \n"
     ]
    },
    {
     "name": "stderr",
     "output_type": "stream",
     "text": [
      "               \r"
     ]
    },
    {
     "name": "stdout",
     "output_type": "stream",
     "text": [
      "2024-08-02 16:04:49,662 - ModelPreparer - INFO - Functional         : Adding new module for node: {module_mul_26} \n"
     ]
    },
    {
     "name": "stderr",
     "output_type": "stream",
     "text": [
      "               \r"
     ]
    },
    {
     "name": "stdout",
     "output_type": "stream",
     "text": [
      "2024-08-02 16:04:49,663 - ModelPreparer - INFO - Functional         : Adding new module for node: {module_batch_norm_24} \n"
     ]
    },
    {
     "name": "stderr",
     "output_type": "stream",
     "text": [
      "               \r"
     ]
    },
    {
     "name": "stdout",
     "output_type": "stream",
     "text": [
      "2024-08-02 16:04:49,664 - ModelPreparer - INFO - Functional         : Adding new module for node: {module_mul_27} \n"
     ]
    },
    {
     "name": "stderr",
     "output_type": "stream",
     "text": [
      "               \r"
     ]
    },
    {
     "name": "stdout",
     "output_type": "stream",
     "text": [
      "2024-08-02 16:04:49,665 - ModelPreparer - INFO - Functional         : Adding new module for node: {module_batch_norm_25} \n"
     ]
    },
    {
     "name": "stderr",
     "output_type": "stream",
     "text": [
      "               \r"
     ]
    },
    {
     "name": "stdout",
     "output_type": "stream",
     "text": [
      "2024-08-02 16:04:49,667 - ModelPreparer - INFO - Functional         : Adding new module for node: {module_mul_28} \n"
     ]
    },
    {
     "name": "stderr",
     "output_type": "stream",
     "text": [
      "               \r"
     ]
    },
    {
     "name": "stdout",
     "output_type": "stream",
     "text": [
      "2024-08-02 16:04:49,668 - ModelPreparer - INFO - Functional         : Adding new module for node: {module_cat_3} \n"
     ]
    },
    {
     "name": "stderr",
     "output_type": "stream",
     "text": [
      "               \r"
     ]
    },
    {
     "name": "stdout",
     "output_type": "stream",
     "text": [
      "2024-08-02 16:04:49,670 - ModelPreparer - INFO - Functional         : Adding new module for node: {module_batch_norm_26} \n"
     ]
    },
    {
     "name": "stderr",
     "output_type": "stream",
     "text": [
      "               \r"
     ]
    },
    {
     "name": "stdout",
     "output_type": "stream",
     "text": [
      "2024-08-02 16:04:49,671 - ModelPreparer - INFO - Functional         : Adding new module for node: {module_mul_29} \n"
     ]
    },
    {
     "name": "stderr",
     "output_type": "stream",
     "text": [
      "               \r"
     ]
    },
    {
     "name": "stdout",
     "output_type": "stream",
     "text": [
      "2024-08-02 16:04:49,673 - ModelPreparer - INFO - Functional         : Adding new module for node: {module_batch_norm_27} \n"
     ]
    },
    {
     "name": "stderr",
     "output_type": "stream",
     "text": [
      "               \r"
     ]
    },
    {
     "name": "stdout",
     "output_type": "stream",
     "text": [
      "2024-08-02 16:04:49,675 - ModelPreparer - INFO - Functional         : Adding new module for node: {module_mul_30} \n"
     ]
    },
    {
     "name": "stderr",
     "output_type": "stream",
     "text": [
      "               \r"
     ]
    },
    {
     "name": "stdout",
     "output_type": "stream",
     "text": [
      "2024-08-02 16:04:49,677 - ModelPreparer - INFO - Functional         : Adding new module for node: {module_batch_norm_28} \n"
     ]
    },
    {
     "name": "stderr",
     "output_type": "stream",
     "text": [
      "               \r"
     ]
    },
    {
     "name": "stdout",
     "output_type": "stream",
     "text": [
      "2024-08-02 16:04:49,678 - ModelPreparer - INFO - Functional         : Adding new module for node: {module_mul_31} \n"
     ]
    },
    {
     "name": "stderr",
     "output_type": "stream",
     "text": [
      "               \r"
     ]
    },
    {
     "name": "stdout",
     "output_type": "stream",
     "text": [
      "2024-08-02 16:04:49,680 - ModelPreparer - INFO - Functional         : Adding new module for node: {module_batch_norm_29} \n"
     ]
    },
    {
     "name": "stderr",
     "output_type": "stream",
     "text": [
      "               \r"
     ]
    },
    {
     "name": "stdout",
     "output_type": "stream",
     "text": [
      "2024-08-02 16:04:49,681 - ModelPreparer - INFO - Functional         : Adding new module for node: {module_mul_32} \n"
     ]
    },
    {
     "name": "stderr",
     "output_type": "stream",
     "text": [
      "               \r"
     ]
    },
    {
     "name": "stdout",
     "output_type": "stream",
     "text": [
      "2024-08-02 16:04:49,683 - ModelPreparer - INFO - Functional         : Adding new module for node: {module_batch_norm_30} \n"
     ]
    },
    {
     "name": "stderr",
     "output_type": "stream",
     "text": [
      "               \r"
     ]
    },
    {
     "name": "stdout",
     "output_type": "stream",
     "text": [
      "2024-08-02 16:04:49,684 - ModelPreparer - INFO - Functional         : Adding new module for node: {module_mul_33} \n"
     ]
    },
    {
     "name": "stderr",
     "output_type": "stream",
     "text": [
      "               \r"
     ]
    },
    {
     "name": "stdout",
     "output_type": "stream",
     "text": [
      "2024-08-02 16:04:49,686 - ModelPreparer - INFO - Functional         : Adding new module for node: {module_batch_norm_31} \n"
     ]
    },
    {
     "name": "stderr",
     "output_type": "stream",
     "text": [
      "               \r"
     ]
    },
    {
     "name": "stdout",
     "output_type": "stream",
     "text": [
      "2024-08-02 16:04:49,688 - ModelPreparer - INFO - Functional         : Adding new module for node: {module_mul_34} \n"
     ]
    },
    {
     "name": "stderr",
     "output_type": "stream",
     "text": [
      "               \r"
     ]
    },
    {
     "name": "stdout",
     "output_type": "stream",
     "text": [
      "2024-08-02 16:04:49,689 - ModelPreparer - INFO - Functional         : Adding new module for node: {module_cat_4} \n"
     ]
    },
    {
     "name": "stderr",
     "output_type": "stream",
     "text": [
      "               \r"
     ]
    },
    {
     "name": "stdout",
     "output_type": "stream",
     "text": [
      "2024-08-02 16:04:49,691 - ModelPreparer - INFO - Functional         : Adding new module for node: {module_mul_35} \n"
     ]
    },
    {
     "name": "stderr",
     "output_type": "stream",
     "text": [
      "               \r"
     ]
    },
    {
     "name": "stdout",
     "output_type": "stream",
     "text": [
      "2024-08-02 16:04:49,692 - ModelPreparer - INFO - Functional         : Adding new module for node: {module_batch_norm_32} \n"
     ]
    },
    {
     "name": "stderr",
     "output_type": "stream",
     "text": [
      "               \r"
     ]
    },
    {
     "name": "stdout",
     "output_type": "stream",
     "text": [
      "2024-08-02 16:04:49,693 - ModelPreparer - INFO - Functional         : Adding new module for node: {module_mul_36} \n"
     ]
    },
    {
     "name": "stderr",
     "output_type": "stream",
     "text": [
      "               \r"
     ]
    },
    {
     "name": "stdout",
     "output_type": "stream",
     "text": [
      "2024-08-02 16:04:49,693 - ModelPreparer - INFO - Functional         : Adding new module for node: {module_batch_norm_33} \n"
     ]
    },
    {
     "name": "stderr",
     "output_type": "stream",
     "text": [
      "               \r"
     ]
    },
    {
     "name": "stdout",
     "output_type": "stream",
     "text": [
      "2024-08-02 16:04:49,694 - ModelPreparer - INFO - Functional         : Adding new module for node: {module_mul_37} \n"
     ]
    },
    {
     "name": "stderr",
     "output_type": "stream",
     "text": [
      "               \r"
     ]
    },
    {
     "name": "stdout",
     "output_type": "stream",
     "text": [
      "2024-08-02 16:04:49,696 - ModelPreparer - INFO - Functional         : Adding new module for node: {module_cat_5} \n"
     ]
    },
    {
     "name": "stderr",
     "output_type": "stream",
     "text": [
      "               \r"
     ]
    },
    {
     "name": "stdout",
     "output_type": "stream",
     "text": [
      "2024-08-02 16:04:49,697 - ModelPreparer - INFO - Functional         : Adding new module for node: {module_batch_norm_34} \n"
     ]
    },
    {
     "name": "stderr",
     "output_type": "stream",
     "text": [
      "               \r"
     ]
    },
    {
     "name": "stdout",
     "output_type": "stream",
     "text": [
      "2024-08-02 16:04:49,699 - ModelPreparer - INFO - Functional         : Adding new module for node: {module_mul_38} \n"
     ]
    },
    {
     "name": "stderr",
     "output_type": "stream",
     "text": [
      "               \r"
     ]
    },
    {
     "name": "stdout",
     "output_type": "stream",
     "text": [
      "2024-08-02 16:04:49,701 - ModelPreparer - INFO - Functional         : Adding new module for node: {module_batch_norm_35} \n"
     ]
    },
    {
     "name": "stderr",
     "output_type": "stream",
     "text": [
      "               \r"
     ]
    },
    {
     "name": "stdout",
     "output_type": "stream",
     "text": [
      "2024-08-02 16:04:49,702 - ModelPreparer - INFO - Functional         : Adding new module for node: {module_mul_39} \n"
     ]
    },
    {
     "name": "stderr",
     "output_type": "stream",
     "text": [
      "               \r"
     ]
    },
    {
     "name": "stdout",
     "output_type": "stream",
     "text": [
      "2024-08-02 16:04:49,704 - ModelPreparer - INFO - Functional         : Adding new module for node: {module_batch_norm_36} \n"
     ]
    },
    {
     "name": "stderr",
     "output_type": "stream",
     "text": [
      "               \r"
     ]
    },
    {
     "name": "stdout",
     "output_type": "stream",
     "text": [
      "2024-08-02 16:04:49,706 - ModelPreparer - INFO - Functional         : Adding new module for node: {module_mul_40} \n"
     ]
    },
    {
     "name": "stderr",
     "output_type": "stream",
     "text": [
      "               \r"
     ]
    },
    {
     "name": "stdout",
     "output_type": "stream",
     "text": [
      "2024-08-02 16:04:49,707 - ModelPreparer - INFO - Functional         : Adding new module for node: {module_batch_norm_37} \n"
     ]
    },
    {
     "name": "stderr",
     "output_type": "stream",
     "text": [
      "               \r"
     ]
    },
    {
     "name": "stdout",
     "output_type": "stream",
     "text": [
      "2024-08-02 16:04:49,708 - ModelPreparer - INFO - Functional         : Adding new module for node: {module_mul_41} \n"
     ]
    },
    {
     "name": "stderr",
     "output_type": "stream",
     "text": [
      "               \r"
     ]
    },
    {
     "name": "stdout",
     "output_type": "stream",
     "text": [
      "2024-08-02 16:04:49,709 - ModelPreparer - INFO - Functional         : Adding new module for node: {module_batch_norm_38} \n"
     ]
    },
    {
     "name": "stderr",
     "output_type": "stream",
     "text": [
      "               \r"
     ]
    },
    {
     "name": "stdout",
     "output_type": "stream",
     "text": [
      "2024-08-02 16:04:49,709 - ModelPreparer - INFO - Functional         : Adding new module for node: {module_mul_42} \n"
     ]
    },
    {
     "name": "stderr",
     "output_type": "stream",
     "text": [
      "               \r"
     ]
    },
    {
     "name": "stdout",
     "output_type": "stream",
     "text": [
      "2024-08-02 16:04:49,710 - ModelPreparer - INFO - Functional         : Adding new module for node: {module_cat_6} \n"
     ]
    },
    {
     "name": "stderr",
     "output_type": "stream",
     "text": [
      "               \r"
     ]
    },
    {
     "name": "stdout",
     "output_type": "stream",
     "text": [
      "2024-08-02 16:04:49,711 - ModelPreparer - INFO - Functional         : Adding new module for node: {module_batch_norm_39} \n"
     ]
    },
    {
     "name": "stderr",
     "output_type": "stream",
     "text": [
      "               \r"
     ]
    },
    {
     "name": "stdout",
     "output_type": "stream",
     "text": [
      "2024-08-02 16:04:49,712 - ModelPreparer - INFO - Functional         : Adding new module for node: {module_mul_43} \n"
     ]
    },
    {
     "name": "stderr",
     "output_type": "stream",
     "text": [
      "               \r"
     ]
    },
    {
     "name": "stdout",
     "output_type": "stream",
     "text": [
      "2024-08-02 16:04:49,713 - ModelPreparer - INFO - Functional         : Adding new module for node: {module_batch_norm_40} \n"
     ]
    },
    {
     "name": "stderr",
     "output_type": "stream",
     "text": [
      "               \r"
     ]
    },
    {
     "name": "stdout",
     "output_type": "stream",
     "text": [
      "2024-08-02 16:04:49,714 - ModelPreparer - INFO - Functional         : Adding new module for node: {module_mul_44} \n"
     ]
    },
    {
     "name": "stderr",
     "output_type": "stream",
     "text": [
      "               \r"
     ]
    },
    {
     "name": "stdout",
     "output_type": "stream",
     "text": [
      "2024-08-02 16:04:49,715 - ModelPreparer - INFO - Functional         : Adding new module for node: {module_cat_7} \n"
     ]
    },
    {
     "name": "stderr",
     "output_type": "stream",
     "text": [
      "               \r"
     ]
    },
    {
     "name": "stdout",
     "output_type": "stream",
     "text": [
      "2024-08-02 16:04:49,716 - ModelPreparer - INFO - Functional         : Adding new module for node: {module_batch_norm_41} \n"
     ]
    },
    {
     "name": "stderr",
     "output_type": "stream",
     "text": [
      "               \r"
     ]
    },
    {
     "name": "stdout",
     "output_type": "stream",
     "text": [
      "2024-08-02 16:04:49,717 - ModelPreparer - INFO - Functional         : Adding new module for node: {module_mul_45} \n"
     ]
    },
    {
     "name": "stderr",
     "output_type": "stream",
     "text": [
      "               \r"
     ]
    },
    {
     "name": "stdout",
     "output_type": "stream",
     "text": [
      "2024-08-02 16:04:49,718 - ModelPreparer - INFO - Functional         : Adding new module for node: {module_batch_norm_42} \n"
     ]
    },
    {
     "name": "stderr",
     "output_type": "stream",
     "text": [
      "               \r"
     ]
    },
    {
     "name": "stdout",
     "output_type": "stream",
     "text": [
      "2024-08-02 16:04:49,718 - ModelPreparer - INFO - Functional         : Adding new module for node: {module_mul_46} \n"
     ]
    },
    {
     "name": "stderr",
     "output_type": "stream",
     "text": [
      "               \r"
     ]
    },
    {
     "name": "stdout",
     "output_type": "stream",
     "text": [
      "2024-08-02 16:04:49,719 - ModelPreparer - INFO - Functional         : Adding new module for node: {module_batch_norm_43} \n"
     ]
    },
    {
     "name": "stderr",
     "output_type": "stream",
     "text": [
      "               \r"
     ]
    },
    {
     "name": "stdout",
     "output_type": "stream",
     "text": [
      "2024-08-02 16:04:49,720 - ModelPreparer - INFO - Functional         : Adding new module for node: {module_mul_47} \n"
     ]
    },
    {
     "name": "stderr",
     "output_type": "stream",
     "text": [
      "               \r"
     ]
    },
    {
     "name": "stdout",
     "output_type": "stream",
     "text": [
      "2024-08-02 16:04:49,721 - ModelPreparer - INFO - Functional         : Adding new module for node: {module_batch_norm_44} \n"
     ]
    },
    {
     "name": "stderr",
     "output_type": "stream",
     "text": [
      "               \r"
     ]
    },
    {
     "name": "stdout",
     "output_type": "stream",
     "text": [
      "2024-08-02 16:04:49,722 - ModelPreparer - INFO - Functional         : Adding new module for node: {module_mul_48} \n"
     ]
    },
    {
     "name": "stderr",
     "output_type": "stream",
     "text": [
      "               \r"
     ]
    },
    {
     "name": "stdout",
     "output_type": "stream",
     "text": [
      "2024-08-02 16:04:49,723 - ModelPreparer - INFO - Functional         : Adding new module for node: {module_batch_norm_45} \n"
     ]
    },
    {
     "name": "stderr",
     "output_type": "stream",
     "text": [
      "               \r"
     ]
    },
    {
     "name": "stdout",
     "output_type": "stream",
     "text": [
      "2024-08-02 16:04:49,724 - ModelPreparer - INFO - Functional         : Adding new module for node: {module_mul_49} \n"
     ]
    },
    {
     "name": "stderr",
     "output_type": "stream",
     "text": [
      "               \r"
     ]
    },
    {
     "name": "stdout",
     "output_type": "stream",
     "text": [
      "2024-08-02 16:04:49,725 - ModelPreparer - INFO - Functional         : Adding new module for node: {module_cat_8} \n"
     ]
    },
    {
     "name": "stderr",
     "output_type": "stream",
     "text": [
      "               \r"
     ]
    },
    {
     "name": "stdout",
     "output_type": "stream",
     "text": [
      "2024-08-02 16:04:49,726 - ModelPreparer - INFO - Functional         : Adding new module for node: {module_batch_norm_46} \n"
     ]
    },
    {
     "name": "stderr",
     "output_type": "stream",
     "text": [
      "               \r"
     ]
    },
    {
     "name": "stdout",
     "output_type": "stream",
     "text": [
      "2024-08-02 16:04:49,727 - ModelPreparer - INFO - Functional         : Adding new module for node: {module_mul_50} \n"
     ]
    },
    {
     "name": "stderr",
     "output_type": "stream",
     "text": [
      "               \r"
     ]
    },
    {
     "name": "stdout",
     "output_type": "stream",
     "text": [
      "2024-08-02 16:04:49,728 - ModelPreparer - INFO - Functional         : Adding new module for node: {module_batch_norm_47} \n"
     ]
    },
    {
     "name": "stderr",
     "output_type": "stream",
     "text": [
      "               \r"
     ]
    },
    {
     "name": "stdout",
     "output_type": "stream",
     "text": [
      "2024-08-02 16:04:49,729 - ModelPreparer - INFO - Functional         : Adding new module for node: {module_mul_51} \n"
     ]
    },
    {
     "name": "stderr",
     "output_type": "stream",
     "text": [
      "               \r"
     ]
    },
    {
     "name": "stdout",
     "output_type": "stream",
     "text": [
      "2024-08-02 16:04:49,730 - ModelPreparer - INFO - Functional         : Adding new module for node: {module_cat_9} \n"
     ]
    },
    {
     "name": "stderr",
     "output_type": "stream",
     "text": [
      "               \r"
     ]
    },
    {
     "name": "stdout",
     "output_type": "stream",
     "text": [
      "2024-08-02 16:04:49,731 - ModelPreparer - INFO - Functional         : Adding new module for node: {module_batch_norm_48} \n"
     ]
    },
    {
     "name": "stderr",
     "output_type": "stream",
     "text": [
      "               \r"
     ]
    },
    {
     "name": "stdout",
     "output_type": "stream",
     "text": [
      "2024-08-02 16:04:49,732 - ModelPreparer - INFO - Functional         : Adding new module for node: {module_mul_52} \n"
     ]
    },
    {
     "name": "stderr",
     "output_type": "stream",
     "text": [
      "               \r"
     ]
    },
    {
     "name": "stdout",
     "output_type": "stream",
     "text": [
      "2024-08-02 16:04:49,733 - ModelPreparer - INFO - Functional         : Adding new module for node: {module_batch_norm_49} \n"
     ]
    },
    {
     "name": "stderr",
     "output_type": "stream",
     "text": [
      "               \r"
     ]
    },
    {
     "name": "stdout",
     "output_type": "stream",
     "text": [
      "2024-08-02 16:04:49,733 - ModelPreparer - INFO - Functional         : Adding new module for node: {module_mul_53} \n"
     ]
    },
    {
     "name": "stderr",
     "output_type": "stream",
     "text": [
      "               \r"
     ]
    },
    {
     "name": "stdout",
     "output_type": "stream",
     "text": [
      "2024-08-02 16:04:49,734 - ModelPreparer - INFO - Functional         : Adding new module for node: {module_batch_norm_50} \n"
     ]
    },
    {
     "name": "stderr",
     "output_type": "stream",
     "text": [
      "               \r"
     ]
    },
    {
     "name": "stdout",
     "output_type": "stream",
     "text": [
      "2024-08-02 16:04:49,735 - ModelPreparer - INFO - Functional         : Adding new module for node: {module_mul_54} \n"
     ]
    },
    {
     "name": "stderr",
     "output_type": "stream",
     "text": [
      "               \r"
     ]
    },
    {
     "name": "stdout",
     "output_type": "stream",
     "text": [
      "2024-08-02 16:04:49,737 - ModelPreparer - INFO - Functional         : Adding new module for node: {module_batch_norm_51} \n"
     ]
    },
    {
     "name": "stderr",
     "output_type": "stream",
     "text": [
      "               \r"
     ]
    },
    {
     "name": "stdout",
     "output_type": "stream",
     "text": [
      "2024-08-02 16:04:49,738 - ModelPreparer - INFO - Functional         : Adding new module for node: {module_mul_55} \n"
     ]
    },
    {
     "name": "stderr",
     "output_type": "stream",
     "text": [
      "               \r"
     ]
    },
    {
     "name": "stdout",
     "output_type": "stream",
     "text": [
      "2024-08-02 16:04:49,740 - ModelPreparer - INFO - Functional         : Adding new module for node: {module_batch_norm_52} \n"
     ]
    },
    {
     "name": "stderr",
     "output_type": "stream",
     "text": [
      "               \r"
     ]
    },
    {
     "name": "stdout",
     "output_type": "stream",
     "text": [
      "2024-08-02 16:04:49,741 - ModelPreparer - INFO - Functional         : Adding new module for node: {module_mul_56} \n"
     ]
    },
    {
     "name": "stderr",
     "output_type": "stream",
     "text": [
      "               \r"
     ]
    },
    {
     "name": "stdout",
     "output_type": "stream",
     "text": [
      "2024-08-02 16:04:49,742 - ModelPreparer - INFO - Functional         : Adding new module for node: {module_cat_10} \n"
     ]
    },
    {
     "name": "stderr",
     "output_type": "stream",
     "text": [
      "               \r"
     ]
    },
    {
     "name": "stdout",
     "output_type": "stream",
     "text": [
      "2024-08-02 16:04:49,743 - ModelPreparer - INFO - Functional         : Adding new module for node: {module_batch_norm_53} \n"
     ]
    },
    {
     "name": "stderr",
     "output_type": "stream",
     "text": [
      "               \r"
     ]
    },
    {
     "name": "stdout",
     "output_type": "stream",
     "text": [
      "2024-08-02 16:04:49,745 - ModelPreparer - INFO - Functional         : Adding new module for node: {module_mul_57} \n"
     ]
    },
    {
     "name": "stderr",
     "output_type": "stream",
     "text": [
      "               \r"
     ]
    },
    {
     "name": "stdout",
     "output_type": "stream",
     "text": [
      "2024-08-02 16:04:49,746 - ModelPreparer - INFO - Functional         : Adding new module for node: {module_batch_norm_54} \n"
     ]
    },
    {
     "name": "stderr",
     "output_type": "stream",
     "text": [
      "               \r"
     ]
    },
    {
     "name": "stdout",
     "output_type": "stream",
     "text": [
      "2024-08-02 16:04:49,748 - ModelPreparer - INFO - Functional         : Adding new module for node: {module_mul_58} \n"
     ]
    },
    {
     "name": "stderr",
     "output_type": "stream",
     "text": [
      "               \r"
     ]
    },
    {
     "name": "stdout",
     "output_type": "stream",
     "text": [
      "2024-08-02 16:04:49,749 - ModelPreparer - INFO - Functional         : Adding new module for node: {module_cat_11} \n"
     ]
    },
    {
     "name": "stderr",
     "output_type": "stream",
     "text": [
      "               \r"
     ]
    },
    {
     "name": "stdout",
     "output_type": "stream",
     "text": [
      "2024-08-02 16:04:49,750 - ModelPreparer - INFO - Functional         : Adding new module for node: {module_batch_norm_55} \n"
     ]
    },
    {
     "name": "stderr",
     "output_type": "stream",
     "text": [
      "               \r"
     ]
    },
    {
     "name": "stdout",
     "output_type": "stream",
     "text": [
      "2024-08-02 16:04:49,751 - ModelPreparer - INFO - Functional         : Adding new module for node: {module_mul_59} \n"
     ]
    },
    {
     "name": "stderr",
     "output_type": "stream",
     "text": [
      "               \r"
     ]
    },
    {
     "name": "stdout",
     "output_type": "stream",
     "text": [
      "2024-08-02 16:04:49,753 - ModelPreparer - INFO - Functional         : Adding new module for node: {module_batch_norm_56} \n"
     ]
    },
    {
     "name": "stderr",
     "output_type": "stream",
     "text": [
      "               \r"
     ]
    },
    {
     "name": "stdout",
     "output_type": "stream",
     "text": [
      "2024-08-02 16:04:49,754 - ModelPreparer - INFO - Functional         : Adding new module for node: {module_mul_60} \n"
     ]
    },
    {
     "name": "stderr",
     "output_type": "stream",
     "text": [
      "               \r"
     ]
    },
    {
     "name": "stdout",
     "output_type": "stream",
     "text": [
      "2024-08-02 16:04:49,755 - ModelPreparer - INFO - Functional         : Adding new module for node: {module_batch_norm_57} \n"
     ]
    },
    {
     "name": "stderr",
     "output_type": "stream",
     "text": [
      "               \r"
     ]
    },
    {
     "name": "stdout",
     "output_type": "stream",
     "text": [
      "2024-08-02 16:04:49,757 - ModelPreparer - INFO - Functional         : Adding new module for node: {module_mul_61} \n"
     ]
    },
    {
     "name": "stderr",
     "output_type": "stream",
     "text": [
      "               \r"
     ]
    },
    {
     "name": "stdout",
     "output_type": "stream",
     "text": [
      "2024-08-02 16:04:49,758 - ModelPreparer - INFO - Functional         : Adding new module for node: {module_batch_norm_58} \n"
     ]
    },
    {
     "name": "stderr",
     "output_type": "stream",
     "text": [
      "               \r"
     ]
    },
    {
     "name": "stdout",
     "output_type": "stream",
     "text": [
      "2024-08-02 16:04:49,760 - ModelPreparer - INFO - Functional         : Adding new module for node: {module_mul_62} \n"
     ]
    },
    {
     "name": "stderr",
     "output_type": "stream",
     "text": [
      "               \r"
     ]
    },
    {
     "name": "stdout",
     "output_type": "stream",
     "text": [
      "2024-08-02 16:04:49,761 - ModelPreparer - INFO - Functional         : Adding new module for node: {module_batch_norm_59} \n"
     ]
    },
    {
     "name": "stderr",
     "output_type": "stream",
     "text": [
      "               \r"
     ]
    },
    {
     "name": "stdout",
     "output_type": "stream",
     "text": [
      "2024-08-02 16:04:49,762 - ModelPreparer - INFO - Functional         : Adding new module for node: {module_mul_63} \n"
     ]
    },
    {
     "name": "stderr",
     "output_type": "stream",
     "text": [
      "               \r"
     ]
    },
    {
     "name": "stdout",
     "output_type": "stream",
     "text": [
      "2024-08-02 16:04:49,764 - ModelPreparer - INFO - Functional         : Adding new module for node: {module_cat_12} \n"
     ]
    },
    {
     "name": "stderr",
     "output_type": "stream",
     "text": [
      "               \r"
     ]
    },
    {
     "name": "stdout",
     "output_type": "stream",
     "text": [
      "2024-08-02 16:04:49,765 - ModelPreparer - INFO - Functional         : Adding new module for node: {module_batch_norm_60} \n"
     ]
    },
    {
     "name": "stderr",
     "output_type": "stream",
     "text": [
      "               \r"
     ]
    },
    {
     "name": "stdout",
     "output_type": "stream",
     "text": [
      "2024-08-02 16:04:49,766 - ModelPreparer - INFO - Functional         : Adding new module for node: {module_mul_64} \n"
     ]
    },
    {
     "name": "stderr",
     "output_type": "stream",
     "text": [
      "               \r"
     ]
    },
    {
     "name": "stdout",
     "output_type": "stream",
     "text": [
      "2024-08-02 16:04:49,768 - ModelPreparer - INFO - Functional         : Adding new module for node: {module_batch_norm_61} \n"
     ]
    },
    {
     "name": "stderr",
     "output_type": "stream",
     "text": [
      "               \r"
     ]
    },
    {
     "name": "stdout",
     "output_type": "stream",
     "text": [
      "2024-08-02 16:04:49,769 - ModelPreparer - INFO - Functional         : Adding new module for node: {module_mul_65} \n"
     ]
    },
    {
     "name": "stderr",
     "output_type": "stream",
     "text": [
      "               \r"
     ]
    },
    {
     "name": "stdout",
     "output_type": "stream",
     "text": [
      "2024-08-02 16:04:49,770 - ModelPreparer - INFO - Functional         : Adding new module for node: {module_batch_norm_62} \n"
     ]
    },
    {
     "name": "stderr",
     "output_type": "stream",
     "text": [
      "               \r"
     ]
    },
    {
     "name": "stdout",
     "output_type": "stream",
     "text": [
      "2024-08-02 16:04:49,772 - ModelPreparer - INFO - Functional         : Adding new module for node: {module_mul_66} \n"
     ]
    },
    {
     "name": "stderr",
     "output_type": "stream",
     "text": [
      "               \r"
     ]
    },
    {
     "name": "stdout",
     "output_type": "stream",
     "text": [
      "2024-08-02 16:04:49,773 - ModelPreparer - INFO - Functional         : Adding new module for node: {module_batch_norm_63} \n"
     ]
    },
    {
     "name": "stderr",
     "output_type": "stream",
     "text": [
      "               \r"
     ]
    },
    {
     "name": "stdout",
     "output_type": "stream",
     "text": [
      "2024-08-02 16:04:49,774 - ModelPreparer - INFO - Functional         : Adding new module for node: {module_mul_67} \n"
     ]
    },
    {
     "name": "stderr",
     "output_type": "stream",
     "text": [
      "               \r"
     ]
    },
    {
     "name": "stdout",
     "output_type": "stream",
     "text": [
      "2024-08-02 16:04:49,776 - ModelPreparer - INFO - Functional         : Adding new module for node: {module_batch_norm_64} \n"
     ]
    },
    {
     "name": "stderr",
     "output_type": "stream",
     "text": [
      "               \r"
     ]
    },
    {
     "name": "stdout",
     "output_type": "stream",
     "text": [
      "2024-08-02 16:04:49,777 - ModelPreparer - INFO - Functional         : Adding new module for node: {module_mul_68} \n"
     ]
    },
    {
     "name": "stderr",
     "output_type": "stream",
     "text": [
      "               \r"
     ]
    },
    {
     "name": "stdout",
     "output_type": "stream",
     "text": [
      "2024-08-02 16:04:49,778 - ModelPreparer - INFO - Functional         : Adding new module for node: {module_batch_norm_65} \n"
     ]
    },
    {
     "name": "stderr",
     "output_type": "stream",
     "text": [
      "               \r"
     ]
    },
    {
     "name": "stdout",
     "output_type": "stream",
     "text": [
      "2024-08-02 16:04:49,779 - ModelPreparer - INFO - Functional         : Adding new module for node: {module_mul_69} \n"
     ]
    },
    {
     "name": "stderr",
     "output_type": "stream",
     "text": [
      "               \r"
     ]
    },
    {
     "name": "stdout",
     "output_type": "stream",
     "text": [
      "2024-08-02 16:04:49,781 - ModelPreparer - INFO - Functional         : Adding new module for node: {module_batch_norm_66} \n"
     ]
    },
    {
     "name": "stderr",
     "output_type": "stream",
     "text": [
      "               \r"
     ]
    },
    {
     "name": "stdout",
     "output_type": "stream",
     "text": [
      "2024-08-02 16:04:49,782 - ModelPreparer - INFO - Functional         : Adding new module for node: {module_mul_70} \n"
     ]
    },
    {
     "name": "stderr",
     "output_type": "stream",
     "text": [
      "               \r"
     ]
    },
    {
     "name": "stdout",
     "output_type": "stream",
     "text": [
      "2024-08-02 16:04:49,783 - ModelPreparer - INFO - Functional         : Adding new module for node: {module_batch_norm_67} \n"
     ]
    },
    {
     "name": "stderr",
     "output_type": "stream",
     "text": [
      "               \r"
     ]
    },
    {
     "name": "stdout",
     "output_type": "stream",
     "text": [
      "2024-08-02 16:04:49,785 - ModelPreparer - INFO - Functional         : Adding new module for node: {module_mul_71} \n"
     ]
    },
    {
     "name": "stderr",
     "output_type": "stream",
     "text": [
      "               \r"
     ]
    },
    {
     "name": "stdout",
     "output_type": "stream",
     "text": [
      "2024-08-02 16:04:49,786 - ModelPreparer - INFO - Functional         : Adding new module for node: {module_mul_72} \n"
     ]
    },
    {
     "name": "stderr",
     "output_type": "stream",
     "text": [
      "               \r"
     ]
    },
    {
     "name": "stdout",
     "output_type": "stream",
     "text": [
      "2024-08-02 16:04:49,788 - ModelPreparer - INFO - Functional         : Adding new module for node: {module_batch_norm_68} \n"
     ]
    },
    {
     "name": "stderr",
     "output_type": "stream",
     "text": [
      "               \r"
     ]
    },
    {
     "name": "stdout",
     "output_type": "stream",
     "text": [
      "2024-08-02 16:04:49,789 - ModelPreparer - INFO - Functional         : Adding new module for node: {module_mul_73} \n"
     ]
    },
    {
     "name": "stderr",
     "output_type": "stream",
     "text": [
      "               \r"
     ]
    },
    {
     "name": "stdout",
     "output_type": "stream",
     "text": [
      "2024-08-02 16:04:49,790 - ModelPreparer - INFO - Functional         : Adding new module for node: {module_batch_norm_69} \n"
     ]
    },
    {
     "name": "stderr",
     "output_type": "stream",
     "text": [
      "               \r"
     ]
    },
    {
     "name": "stdout",
     "output_type": "stream",
     "text": [
      "2024-08-02 16:04:49,792 - ModelPreparer - INFO - Functional         : Adding new module for node: {module_mul_74} \n"
     ]
    },
    {
     "name": "stderr",
     "output_type": "stream",
     "text": [
      "               \r"
     ]
    },
    {
     "name": "stdout",
     "output_type": "stream",
     "text": [
      "2024-08-02 16:04:49,793 - ModelPreparer - INFO - Functional         : Adding new module for node: {module_batch_norm_70} \n"
     ]
    },
    {
     "name": "stderr",
     "output_type": "stream",
     "text": [
      "               \r"
     ]
    },
    {
     "name": "stdout",
     "output_type": "stream",
     "text": [
      "2024-08-02 16:04:49,794 - ModelPreparer - INFO - Functional         : Adding new module for node: {module_mul_75} \n"
     ]
    },
    {
     "name": "stderr",
     "output_type": "stream",
     "text": [
      "               \r"
     ]
    },
    {
     "name": "stdout",
     "output_type": "stream",
     "text": [
      "2024-08-02 16:04:49,795 - ModelPreparer - INFO - Functional         : Adding new module for node: {module_batch_norm_71} \n"
     ]
    },
    {
     "name": "stderr",
     "output_type": "stream",
     "text": [
      "               \r"
     ]
    },
    {
     "name": "stdout",
     "output_type": "stream",
     "text": [
      "2024-08-02 16:04:49,796 - ModelPreparer - INFO - Functional         : Adding new module for node: {module_mul_76} \n"
     ]
    },
    {
     "name": "stderr",
     "output_type": "stream",
     "text": [
      "               \r"
     ]
    },
    {
     "name": "stdout",
     "output_type": "stream",
     "text": [
      "2024-08-02 16:04:49,797 - ModelPreparer - INFO - Functional         : Adding new module for node: {module_mul_77} \n"
     ]
    },
    {
     "name": "stderr",
     "output_type": "stream",
     "text": [
      "               \r"
     ]
    },
    {
     "name": "stdout",
     "output_type": "stream",
     "text": [
      "2024-08-02 16:04:49,799 - ModelPreparer - INFO - Functional         : Adding new module for node: {module_batch_norm_72} \n"
     ]
    },
    {
     "name": "stderr",
     "output_type": "stream",
     "text": [
      "               \r"
     ]
    },
    {
     "name": "stdout",
     "output_type": "stream",
     "text": [
      "2024-08-02 16:04:49,800 - ModelPreparer - INFO - Functional         : Adding new module for node: {module_mul_78} \n"
     ]
    },
    {
     "name": "stderr",
     "output_type": "stream",
     "text": [
      "               \r"
     ]
    },
    {
     "name": "stdout",
     "output_type": "stream",
     "text": [
      "2024-08-02 16:04:49,802 - ModelPreparer - INFO - Functional         : Adding new module for node: {module_batch_norm_73} \n"
     ]
    },
    {
     "name": "stderr",
     "output_type": "stream",
     "text": [
      "               \r"
     ]
    },
    {
     "name": "stdout",
     "output_type": "stream",
     "text": [
      "2024-08-02 16:04:49,803 - ModelPreparer - INFO - Functional         : Adding new module for node: {module_mul_79} \n"
     ]
    },
    {
     "name": "stderr",
     "output_type": "stream",
     "text": [
      "               \r"
     ]
    },
    {
     "name": "stdout",
     "output_type": "stream",
     "text": [
      "2024-08-02 16:04:49,804 - ModelPreparer - INFO - Functional         : Adding new module for node: {module_batch_norm_74} \n"
     ]
    },
    {
     "name": "stderr",
     "output_type": "stream",
     "text": [
      "               \r"
     ]
    },
    {
     "name": "stdout",
     "output_type": "stream",
     "text": [
      "2024-08-02 16:04:49,805 - ModelPreparer - INFO - Functional         : Adding new module for node: {module_mul_80} \n"
     ]
    },
    {
     "name": "stderr",
     "output_type": "stream",
     "text": [
      "               \r"
     ]
    },
    {
     "name": "stdout",
     "output_type": "stream",
     "text": [
      "2024-08-02 16:04:49,806 - ModelPreparer - INFO - Functional         : Adding new module for node: {module_batch_norm_75} \n"
     ]
    },
    {
     "name": "stderr",
     "output_type": "stream",
     "text": [
      "               \r"
     ]
    },
    {
     "name": "stdout",
     "output_type": "stream",
     "text": [
      "2024-08-02 16:04:49,807 - ModelPreparer - INFO - Functional         : Adding new module for node: {module_mul_81} \n"
     ]
    },
    {
     "name": "stderr",
     "output_type": "stream",
     "text": [
      "               \r"
     ]
    },
    {
     "name": "stdout",
     "output_type": "stream",
     "text": [
      "2024-08-02 16:04:49,808 - ModelPreparer - INFO - Functional         : Adding new module for node: {module_mul_82} \n"
     ]
    },
    {
     "name": "stderr",
     "output_type": "stream",
     "text": [
      "               \r"
     ]
    },
    {
     "name": "stdout",
     "output_type": "stream",
     "text": [
      "2024-08-02 16:04:49,828 - Utils - INFO - Running validator check <function validate_for_reused_modules at 0x73a813863490>\n"
     ]
    },
    {
     "name": "stderr",
     "output_type": "stream",
     "text": [
      "               \r"
     ]
    },
    {
     "name": "stdout",
     "output_type": "stream",
     "text": [
      "2024-08-02 16:04:49,942 - Utils - INFO - Running validator check <function validate_for_missing_modules at 0x73a813863520>\n"
     ]
    },
    {
     "name": "stderr",
     "output_type": "stream",
     "text": [
      "               \r"
     ]
    },
    {
     "name": "stdout",
     "output_type": "stream",
     "text": [
      "2024-08-02 16:04:52,272 - Utils - INFO - All validation checks passed.\n"
     ]
    },
    {
     "name": "stderr",
     "output_type": "stream",
     "text": [
      "               \r"
     ]
    },
    {
     "name": "stdout",
     "output_type": "stream",
     "text": [
      "2024-08-02 16:04:52,274 - AutoQuant - INFO - Model validation has succeeded. Proceeding to AutoQuant algorithm.\n"
     ]
    },
    {
     "name": "stderr",
     "output_type": "stream",
     "text": [
      "\\ Prepare Model\n",
      "                   \r"
     ]
    },
    {
     "name": "stdout",
     "output_type": "stream",
     "text": [
      "2024-08-02 16:04:55,135 - BatchNormFolding - INFO - 0 BatchNorms' weights got converted\n"
     ]
    },
    {
     "name": "stderr",
     "output_type": "stream",
     "text": [
      "                   \r"
     ]
    },
    {
     "name": "stdout",
     "output_type": "stream",
     "text": [
      "2024-08-02 16:04:58,108 - Quant - INFO - No config file provided, defaulting to config file at /home/shayaan/miniconda3/envs/aimet2/lib/python3.10/site-packages/aimet_common/quantsim_config/default_config.json\n"
     ]
    },
    {
     "name": "stderr",
     "output_type": "stream",
     "text": [
      "                   \r"
     ]
    },
    {
     "name": "stdout",
     "output_type": "stream",
     "text": [
      "2024-08-02 16:04:58,135 - Quant - INFO - Unsupported op type Squeeze\n"
     ]
    },
    {
     "name": "stderr",
     "output_type": "stream",
     "text": [
      "                   \r"
     ]
    },
    {
     "name": "stdout",
     "output_type": "stream",
     "text": [
      "2024-08-02 16:04:58,137 - Quant - INFO - Unsupported op type Mean\n"
     ]
    },
    {
     "name": "stderr",
     "output_type": "stream",
     "text": [
      "                   \r"
     ]
    },
    {
     "name": "stdout",
     "output_type": "stream",
     "text": [
      "2024-08-02 16:04:58,152 - Quant - INFO - Selecting DefaultOpInstanceConfigGenerator to compute the specialized config. hw_version:default\n"
     ]
    },
    {
     "name": "stderr",
     "output_type": "stream",
     "text": [
      "100%|██████████| 10/10 [00:11<00:00,  1.18s/it]\n",
      "                   \r"
     ]
    },
    {
     "name": "stdout",
     "output_type": "stream",
     "text": [
      "2024-08-02 16:05:12,179 - Quant - WARNING - Exporting encodings to yaml will be deprecated in a future release. Ensure that your code can work with the exported files ending in \".encodings\" which are saved using json format. For the time being, if yaml export is needed, set aimet_common.utils.SAVE_TO_YAML to True.\n"
     ]
    },
    {
     "name": "stderr",
     "output_type": "stream",
     "text": [
      "| Batchnorm Folding"
     ]
    },
    {
     "name": "stdout",
     "output_type": "stream",
     "text": [
      "((((EXPORT MDOEL == TRUE))))\n",
      "{'opset_version': None, 'input_names': None, 'output_names': None}\n",
      "/tmp/.trace/batchnorm_folding.onnx\n"
     ]
    },
    {
     "name": "stderr",
     "output_type": "stream",
     "text": [
      "                   \r"
     ]
    },
    {
     "name": "stdout",
     "output_type": "stream",
     "text": [
      "2024-08-02 16:05:13,280 - Quant - WARNING - The following layers were not found in the exported onnx model. Encodings for these layers will not appear in the exported encodings file:\n",
      "['backbone.stem.0.conv', 'backbone.stem.0.activate.sigmoid', 'backbone.stem.1.conv', 'backbone.stem.1.activate.sigmoid', 'backbone.stem.2.conv', 'backbone.stem.2.activate.sigmoid', 'backbone.stage1.0.conv', 'backbone.stage1.0.activate.sigmoid', 'backbone.stage1.1.short_conv.conv', 'backbone.stage1.1.short_conv.activate.sigmoid', 'backbone.stage1.1.main_conv.conv', 'backbone.stage1.1.main_conv.activate.sigmoid', 'backbone.stage1.1.blocks.0.conv1.conv', 'backbone.stage1.1.blocks.0.conv1.activate.sigmoid', 'backbone.stage1.1.blocks.0.conv2.depthwise_conv.conv', 'backbone.stage1.1.blocks.0.conv2.depthwise_conv.activate.sigmoid', 'backbone.stage1.1.blocks.0.conv2.pointwise_conv.conv', 'backbone.stage1.1.blocks.0.conv2.pointwise_conv.activate.sigmoid', 'backbone.stage1.1.attention.global_avgpool', 'backbone.stage1.1.attention.fc', 'backbone.stage1.1.attention.act', 'backbone.stage1.1.final_conv.conv', 'backbone.stage1.1.final_conv.activate.sigmoid', 'backbone.stage2.0.conv', 'backbone.stage2.0.activate.sigmoid', 'backbone.stage2.1.short_conv.conv', 'backbone.stage2.1.short_conv.activate.sigmoid', 'backbone.stage2.1.main_conv.conv', 'backbone.stage2.1.main_conv.activate.sigmoid', 'backbone.stage2.1.blocks.0.conv1.conv', 'backbone.stage2.1.blocks.0.conv1.activate.sigmoid', 'backbone.stage2.1.blocks.0.conv2.depthwise_conv.conv', 'backbone.stage2.1.blocks.0.conv2.depthwise_conv.activate.sigmoid', 'backbone.stage2.1.blocks.0.conv2.pointwise_conv.conv', 'backbone.stage2.1.blocks.0.conv2.pointwise_conv.activate.sigmoid', 'backbone.stage2.1.attention.global_avgpool', 'backbone.stage2.1.attention.fc', 'backbone.stage2.1.attention.act', 'backbone.stage2.1.final_conv.conv', 'backbone.stage2.1.final_conv.activate.sigmoid', 'backbone.stage3.0.conv', 'backbone.stage3.0.activate.sigmoid', 'backbone.stage3.1.short_conv.conv', 'backbone.stage3.1.short_conv.activate.sigmoid', 'backbone.stage3.1.main_conv.conv', 'backbone.stage3.1.main_conv.activate.sigmoid', 'backbone.stage3.1.blocks.0.conv1.conv', 'backbone.stage3.1.blocks.0.conv1.activate.sigmoid', 'backbone.stage3.1.blocks.0.conv2.depthwise_conv.conv', 'backbone.stage3.1.blocks.0.conv2.depthwise_conv.activate.sigmoid', 'backbone.stage3.1.blocks.0.conv2.pointwise_conv.conv', 'backbone.stage3.1.blocks.0.conv2.pointwise_conv.activate.sigmoid', 'backbone.stage3.1.attention.global_avgpool', 'backbone.stage3.1.attention.fc', 'backbone.stage3.1.attention.act', 'backbone.stage3.1.final_conv.conv', 'backbone.stage3.1.final_conv.activate.sigmoid', 'backbone.stage4.0.conv', 'backbone.stage4.0.activate.sigmoid', 'backbone.stage4.1.conv1.conv', 'backbone.stage4.1.conv1.activate.sigmoid', 'backbone.stage4.1.poolings.0', 'backbone.stage4.1.poolings.1', 'backbone.stage4.1.poolings.2', 'backbone.stage4.1.conv2.conv', 'backbone.stage4.1.conv2.activate.sigmoid', 'backbone.stage4.2.short_conv.conv', 'backbone.stage4.2.short_conv.activate.sigmoid', 'backbone.stage4.2.main_conv.conv', 'backbone.stage4.2.main_conv.activate.sigmoid', 'backbone.stage4.2.blocks.0.conv1.conv', 'backbone.stage4.2.blocks.0.conv1.activate.sigmoid', 'backbone.stage4.2.blocks.0.conv2.depthwise_conv.conv', 'backbone.stage4.2.blocks.0.conv2.depthwise_conv.activate.sigmoid', 'backbone.stage4.2.blocks.0.conv2.pointwise_conv.conv', 'backbone.stage4.2.blocks.0.conv2.pointwise_conv.activate.sigmoid', 'backbone.stage4.2.attention.global_avgpool', 'backbone.stage4.2.attention.fc', 'backbone.stage4.2.attention.act', 'backbone.stage4.2.final_conv.conv', 'backbone.stage4.2.final_conv.activate.sigmoid', 'neck.reduce_layers.0.conv', 'neck.reduce_layers.0.activate.sigmoid', 'neck.reduce_layers.1.conv', 'neck.reduce_layers.1.activate.sigmoid', 'neck.upsample', 'neck.top_down_blocks.0.short_conv.conv', 'neck.top_down_blocks.0.short_conv.activate.sigmoid', 'neck.top_down_blocks.0.main_conv.conv', 'neck.top_down_blocks.0.main_conv.activate.sigmoid', 'neck.top_down_blocks.0.blocks.0.conv1.conv', 'neck.top_down_blocks.0.blocks.0.conv1.activate.sigmoid', 'neck.top_down_blocks.0.blocks.0.conv2.depthwise_conv.conv', 'neck.top_down_blocks.0.blocks.0.conv2.depthwise_conv.activate.sigmoid', 'neck.top_down_blocks.0.blocks.0.conv2.pointwise_conv.conv', 'neck.top_down_blocks.0.blocks.0.conv2.pointwise_conv.activate.sigmoid', 'neck.top_down_blocks.0.final_conv.conv', 'neck.top_down_blocks.0.final_conv.activate.sigmoid', 'neck.top_down_blocks.1.short_conv.conv', 'neck.top_down_blocks.1.short_conv.activate.sigmoid', 'neck.top_down_blocks.1.main_conv.conv', 'neck.top_down_blocks.1.main_conv.activate.sigmoid', 'neck.top_down_blocks.1.blocks.0.conv1.conv', 'neck.top_down_blocks.1.blocks.0.conv1.activate.sigmoid', 'neck.top_down_blocks.1.blocks.0.conv2.depthwise_conv.conv', 'neck.top_down_blocks.1.blocks.0.conv2.depthwise_conv.activate.sigmoid', 'neck.top_down_blocks.1.blocks.0.conv2.pointwise_conv.conv', 'neck.top_down_blocks.1.blocks.0.conv2.pointwise_conv.activate.sigmoid', 'neck.top_down_blocks.1.final_conv.conv', 'neck.top_down_blocks.1.final_conv.activate.sigmoid', 'neck.module_upsample_1', 'neck.downsamples.0.conv', 'neck.downsamples.0.activate.sigmoid', 'neck.downsamples.1.conv', 'neck.downsamples.1.activate.sigmoid', 'neck.bottom_up_blocks.0.short_conv.conv', 'neck.bottom_up_blocks.0.short_conv.activate.sigmoid', 'neck.bottom_up_blocks.0.main_conv.conv', 'neck.bottom_up_blocks.0.main_conv.activate.sigmoid', 'neck.bottom_up_blocks.0.blocks.0.conv1.conv', 'neck.bottom_up_blocks.0.blocks.0.conv1.activate.sigmoid', 'neck.bottom_up_blocks.0.blocks.0.conv2.depthwise_conv.conv', 'neck.bottom_up_blocks.0.blocks.0.conv2.depthwise_conv.activate.sigmoid', 'neck.bottom_up_blocks.0.blocks.0.conv2.pointwise_conv.conv', 'neck.bottom_up_blocks.0.blocks.0.conv2.pointwise_conv.activate.sigmoid', 'neck.bottom_up_blocks.0.final_conv.conv', 'neck.bottom_up_blocks.0.final_conv.activate.sigmoid', 'neck.bottom_up_blocks.1.short_conv.conv', 'neck.bottom_up_blocks.1.short_conv.activate.sigmoid', 'neck.bottom_up_blocks.1.main_conv.conv', 'neck.bottom_up_blocks.1.main_conv.activate.sigmoid', 'neck.bottom_up_blocks.1.blocks.0.conv1.conv', 'neck.bottom_up_blocks.1.blocks.0.conv1.activate.sigmoid', 'neck.bottom_up_blocks.1.blocks.0.conv2.depthwise_conv.conv', 'neck.bottom_up_blocks.1.blocks.0.conv2.depthwise_conv.activate.sigmoid', 'neck.bottom_up_blocks.1.blocks.0.conv2.pointwise_conv.conv', 'neck.bottom_up_blocks.1.blocks.0.conv2.pointwise_conv.activate.sigmoid', 'neck.bottom_up_blocks.1.final_conv.conv', 'neck.bottom_up_blocks.1.final_conv.activate.sigmoid', 'neck.out_convs.0.conv', 'neck.out_convs.0.activate.sigmoid', 'neck.out_convs.1.conv', 'neck.out_convs.1.activate.sigmoid', 'neck.out_convs.2.conv', 'neck.out_convs.2.activate.sigmoid', 'bbox_head.cls_convs.0.0.conv', 'bbox_head.cls_convs.0.0.activate.sigmoid', 'bbox_head.cls_convs.0.0.module_conv_1', 'bbox_head.cls_convs.0.0.module_conv_2', 'bbox_head.cls_convs.0.1.conv', 'bbox_head.cls_convs.0.1.activate.sigmoid', 'bbox_head.cls_convs.0.1.module_conv_1', 'bbox_head.cls_convs.0.1.module_conv_2', 'bbox_head.cls_convs.1.0.activate.sigmoid', 'bbox_head.cls_convs.1.1.activate.sigmoid', 'bbox_head.cls_convs.2.0.activate.sigmoid', 'bbox_head.cls_convs.2.1.activate.sigmoid', 'bbox_head.rtm_cls.0', 'bbox_head.rtm_cls.1', 'bbox_head.rtm_cls.2', 'bbox_head.reg_convs.0.0.conv', 'bbox_head.reg_convs.0.0.activate.sigmoid', 'bbox_head.reg_convs.0.0.module_conv_1', 'bbox_head.reg_convs.0.0.module_conv_2', 'bbox_head.reg_convs.0.1.conv', 'bbox_head.reg_convs.0.1.activate.sigmoid', 'bbox_head.reg_convs.0.1.module_conv_1', 'bbox_head.reg_convs.0.1.module_conv_2', 'bbox_head.reg_convs.1.0.activate.sigmoid', 'bbox_head.reg_convs.1.1.activate.sigmoid', 'bbox_head.reg_convs.2.0.activate.sigmoid', 'bbox_head.reg_convs.2.1.activate.sigmoid', 'bbox_head.rtm_reg.0', 'bbox_head.rtm_reg.1', 'bbox_head.rtm_reg.2', 'module_batch_norm', 'module_batch_norm_1', 'module_batch_norm_2', 'module_batch_norm_3', 'module_batch_norm_4', 'module_batch_norm_5', 'module_batch_norm_6', 'module_batch_norm_7', 'module_batch_norm_8', 'module_batch_norm_9', 'module_batch_norm_10', 'module_batch_norm_11', 'module_batch_norm_12', 'module_batch_norm_13', 'module_batch_norm_14', 'module_batch_norm_15', 'module_batch_norm_16', 'module_batch_norm_17', 'module_batch_norm_18', 'module_batch_norm_19', 'module_batch_norm_20', 'module_batch_norm_21', 'module_batch_norm_22', 'module_batch_norm_23', 'module_batch_norm_24', 'module_batch_norm_25', 'module_batch_norm_26', 'module_batch_norm_27', 'module_batch_norm_28', 'module_batch_norm_29', 'module_batch_norm_30', 'module_batch_norm_31', 'module_batch_norm_32', 'module_batch_norm_33', 'module_batch_norm_34', 'module_batch_norm_35', 'module_batch_norm_36', 'module_batch_norm_37', 'module_batch_norm_38', 'module_batch_norm_39', 'module_batch_norm_40', 'module_batch_norm_41', 'module_batch_norm_42', 'module_batch_norm_43', 'module_batch_norm_44', 'module_batch_norm_45', 'module_batch_norm_46', 'module_batch_norm_47', 'module_batch_norm_48', 'module_batch_norm_49', 'module_batch_norm_50', 'module_batch_norm_51', 'module_batch_norm_52', 'module_batch_norm_53', 'module_batch_norm_54', 'module_batch_norm_55', 'module_batch_norm_56', 'module_batch_norm_57', 'module_batch_norm_58', 'module_batch_norm_59', 'module_batch_norm_60', 'module_batch_norm_61', 'module_batch_norm_62', 'module_batch_norm_63', 'module_batch_norm_64', 'module_batch_norm_65', 'module_batch_norm_66', 'module_batch_norm_67', 'module_batch_norm_68', 'module_batch_norm_69', 'module_batch_norm_70', 'module_batch_norm_71', 'module_batch_norm_72', 'module_batch_norm_73', 'module_batch_norm_74', 'module_batch_norm_75']\n",
      "This can be due to several reasons:\n",
      "\t- The layer is set to quantize with float datatype, but was not exercised in compute encodings. Not an issue if the layer is not meant to be run.\n",
      "\t- The layer has valid encodings but was not seen while exporting to onnx using the dummy input provided in sim.export(). Ensure that the dummy input covers all layers.\n"
     ]
    },
    {
     "name": "stderr",
     "output_type": "stream",
     "text": [
      "                   \r"
     ]
    },
    {
     "name": "stdout",
     "output_type": "stream",
     "text": [
      "2024-08-02 16:05:13,281 - Quant - INFO - Layers excluded from quantization: []\n"
     ]
    },
    {
     "name": "stderr",
     "output_type": "stream",
     "text": [
      "                   \r"
     ]
    },
    {
     "name": "stdout",
     "output_type": "stream",
     "text": [
      "2024-08-02 16:05:13,286 - AutoQuant - INFO - The results of Batchnorm Folding is saved in /tmp/.trace/batchnorm_folding.pth and /tmp/.trace/batchnorm_folding.encodings.\n"
     ]
    },
    {
     "name": "stderr",
     "output_type": "stream",
     "text": [
      "                   \r"
     ]
    },
    {
     "name": "stdout",
     "output_type": "stream",
     "text": [
      "2024-08-02 16:05:13,287 - AutoQuant - INFO - Session finished: Batchnorm Folding. (eval score: 0.000000)\n"
     ]
    },
    {
     "name": "stderr",
     "output_type": "stream",
     "text": [
      "- Batchnorm Folding\n"
     ]
    }
   ],
   "source": [
    "sim, initial_accuracy = auto_quant.run_inference()\n"
   ]
  },
  {
   "cell_type": "code",
   "execution_count": null,
   "metadata": {},
   "outputs": [],
   "source": [
    "print(f\"- Quantized A ccuracy (before optimization): {initial_accuracy}\")"
   ]
  },
  {
   "cell_type": "markdown",
   "metadata": {
    "id": "fw7QB3A7Wb9F"
   },
   "source": [
    "### Set AdaRound Parameters (optional)\n",
    "AutoQuant uses a set of predefined default parameters for AdaRound.\n",
    "These values were determined empirically and work well with the common models.\n",
    "However, if necessary, you can also use your custom parameters for Adaround.\n",
    "In this notebook, we will use very small AdaRound parameters for faster execution."
   ]
  },
  {
   "cell_type": "code",
   "execution_count": null,
   "metadata": {
    "id": "7Ei_tpUIWb9F",
    "pycharm": {
     "name": "#%%\n"
    }
   },
   "outputs": [],
   "source": [
    "from aimet_torch.adaround.adaround_weight import AdaroundParameters\n",
    "\n",
    "adaround_params = AdaroundParameters(calibration_data_loader, num_batches=len(calibration_data_loader), default_num_iterations=2000)\n",
    "auto_quant.set_adaround_params(adaround_params)"
   ]
  },
  {
   "cell_type": "markdown",
   "metadata": {
    "id": "G-a5n9AMWb9F"
   },
   "source": [
    "### Run AutoQuant Optimization\n",
    "This step runs AutoQuant optimization, which returns the best possible quantized model, corresponding evaluation score and the path to the encoding file.\n",
    "The **allowed_accuracy_drop** parameter indicates the tolerable amount of accuracy drop. AutoQuant applies a series of quantization features until the target accuracy (FP32 accuracy - allowed accuracy drop) is satisfied. When the target accuracy is reached, AutoQuant will return immediately without applying furhter PTQ techniques. Please refer AutoQuant User Guide and API documentation for complete details."
   ]
  },
  {
   "cell_type": "code",
   "execution_count": null,
   "metadata": {
    "colab": {
     "base_uri": "https://localhost:8080/",
     "height": 1000
    },
    "id": "7ete8ao5Wb9F",
    "outputId": "81b21793-3f19-4ef6-8ea6-76ad08006368"
   },
   "outputs": [],
   "source": [
    "model, optimized_accuracy, encoding_path = auto_quant.optimize(allowed_accuracy_drop=0.01)\n",
    "print(f\"- Quantized Accuracy (after optimization):  {optimized_accuracy}\")"
   ]
  },
  {
   "cell_type": "code",
   "execution_count": null,
   "metadata": {
    "id": "3Btg0rNwCrp5"
   },
   "outputs": [],
   "source": [
    "auto_quant.dummy_input.shape\n",
    "\n",
    "from aimet_torch.quantsim import QuantizationSimModel\n",
    "\n",
    "model = QuantizationSimModel(model, auto_quant.dummy_input)"
   ]
  },
  {
   "cell_type": "markdown",
   "metadata": {
    "id": "5k-p5H0WWb9F",
    "pycharm": {
     "name": "#%% md\n"
    }
   },
   "source": [
    "---\n",
    "## Summary\n",
    "\n",
    "Hope this notebook was useful for you to understand how to use AIMET AutoQuant feature.\n",
    "\n",
    "Few additional resources\n",
    "- Refer to the AIMET API docs to know more details of the APIs and parameters\n",
    "- Refer to the other example notebooks to understand how to use AIMET CLE and AdaRound features in a standalone fashion."
   ]
  }
 ],
 "metadata": {
  "colab": {
   "provenance": []
  },
  "kernelspec": {
   "display_name": "Python 3 (ipykernel)",
   "language": "python",
   "name": "python3"
  },
  "language_info": {
   "codemirror_mode": {
    "name": "ipython",
    "version": 3
   },
   "file_extension": ".py",
   "mimetype": "text/x-python",
   "name": "python",
   "nbconvert_exporter": "python",
   "pygments_lexer": "ipython3",
   "version": "3.10.14"
  }
 },
 "nbformat": 4,
 "nbformat_minor": 4
}
