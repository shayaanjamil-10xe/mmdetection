{
 "cells": [
  {
   "cell_type": "markdown",
   "metadata": {
    "id": "AUzKJME8Wb9A",
    "pycharm": {
     "name": "#%% md\n"
    }
   },
   "source": [
    "# AutoQuant\n",
    "\n",
    "This notebook shows a working code example of how to use AIMET AutoQuant feature.\n",
    "\n",
    "AIMET offers a suite of neural network post-training quantization (PTQ) techniques that can be applied in succession. However, the process of finding the right combination and sequence of techniques to apply is time-consuming and requires careful analysis, which can be challenging especially for non-expert users. We instead recommend AutoQuant to save time and effort.\n",
    "\n",
    "AutoQuant is an API that applies various PTQ techniques in AIMET automatically based on analyzing the model and best-known heuristics. In AutoQuant, users specify the amount of tolerable accuracy drop, and AutoQuant will apply PTQ techniques cumulatively until the target accuracy is satisfied.\n",
    "\n",
    "\n",
    "#### Overall flow\n",
    "This notebook covers the following\n",
    "1. Define constants and helper functions\n",
    "2. Load a pretrained FP32 model\n",
    "3. Run AutoQuant\n",
    "\n",
    "#### What this notebook is not\n",
    "This notebook is not designed to show state-of-the-art AutoQuant results. For example, it uses a relatively quantization-friendly model like Resnet18. Also, some optimization parameters are deliberately chosen to have the notebook execute more quickly.\n"
   ]
  },
  {
   "cell_type": "markdown",
   "metadata": {
    "id": "eISU9c7JWb9C"
   },
   "source": [
    "---\n",
    "## Dataset\n",
    "\n",
    "This notebook relies on the ImageNet dataset for the task of image classification. If you already have a version of the dataset readily available, please use that. Else, please download the dataset from appropriate location (e.g. https://image-net.org/challenges/LSVRC/2012/index.php#).\n",
    "\n",
    "**Note1**: The ImageNet dataset typically has the following characteristics and the dataloader provided in this example notebook rely on these\n",
    "- Subfolders 'train' for the training samples and 'val' for the validation samples. Please see the [pytorch dataset description](https://pytorch.org/vision/0.8/_modules/torchvision/datasets/imagenet.html) for more details.\n",
    "- A subdirectory per class, and a file per each image sample\n",
    "\n",
    "**Note2**: To speed up the execution of this notebook, you may use a reduced subset of the ImageNet dataset. E.g. the entire ILSVRC2012 dataset has 1000 classes, 1000 training samples per class and 50 validation samples per class. But for the purpose of running this notebook, you could perhaps reduce the dataset to say 2 samples per class. This exercise is left upto the reader and is not necessary.\n",
    "\n",
    "Edit the cell below and specify the directory where the downloaded ImageNet dataset is saved."
   ]
  },
  {
   "cell_type": "code",
   "execution_count": null,
   "metadata": {
    "id": "UHkf809bZa5v"
   },
   "outputs": [],
   "source": [
    "import cv2\n",
    "import os\n",
    "from torchvision import datasets, transforms\n",
    "from torch.utils.data import DataLoader\n",
    "import torch\n",
    "import json\n",
    "from mmcv.transforms import Compose\n",
    "import numpy as np\n",
    "from mmdet.utils import get_test_pipeline_cfg\n",
    "\n",
    "def read_json(json_path):\n",
    "    with open(json_path) as f:\n",
    "        data = json.load(f)\n",
    "    return data\n",
    "\n",
    "def preprocess(test_pipeline, image):\n",
    "    if isinstance(image, np.ndarray):\n",
    "        # Calling this method across libraries will result\n",
    "        # in module unregistered error if not prefixed with mmdet.\n",
    "        test_pipeline[0].type = 'mmdet.LoadImageFromNDArray'\n",
    "    test_pipeline = Compose(test_pipeline)\n",
    "    return test_pipeline(dict(img=image))\n",
    "\n",
    "class CustomImageDataset(torch.utils.data.Dataset):\n",
    "    def __init__(self, images_dir, annotations_json_path, transform=None):\n",
    "        self.transform = transform\n",
    "        self.images_dir = images_dir\n",
    "        self.annotations_json = read_json(annotations_json_path)\n",
    "\n",
    "\n",
    "    def __len__(self):\n",
    "        return len(self.annotations_json['images'])\n",
    "\n",
    "    def __getitem__(self, idx):\n",
    "        image_dict = self.annotations_json['images'][idx]\n",
    "        image_path = os.path.join(self.images_dir, image_dict['file_name'])\n",
    "        image_id = image_dict['id']\n",
    "\n",
    "        image = cv2.imread(image_path)\n",
    "        image = cv2.cvtColor(image, cv2.COLOR_BGR2RGB)\n",
    "        if self.transform:\n",
    "            transformed_images = self.transform(image)\n",
    "        else:\n",
    "            transformed_images = image\n",
    "\n",
    "        return image_id, image_path, transformed_images\n",
    "\n",
    "\n",
    "# calibrationDataloader = DataLoader(calibrationDataset, batch_size=32, shuffle=True)"
   ]
  },
  {
   "cell_type": "markdown",
   "metadata": {
    "id": "rraR_9L4Wb9D"
   },
   "source": [
    "## 1. Define Constants and Helper functions\n",
    "\n",
    "In this section the constants and helper functions needed to run this eaxmple are defined.\n",
    "\n",
    "- **EVAL_DATASET_SIZE** A typical value is 5000. In this notebook, this value has been set to 500 for faster execution.\n",
    "- **CALIBRATION_DATASET_SIZE** A typical value is 2000. In this notebook, this value has been set to 200 for faster execution.\n",
    "\n",
    "\n",
    "The helper function **_create_sampled_data_loader()** returns a DataLoader based on the dataset and the number of samples provided."
   ]
  },
  {
   "cell_type": "markdown",
   "metadata": {
    "id": "uYLkqAC8Wb9E"
   },
   "source": [
    "## 2. Load a pretrained FP32 model\n",
    "For this example, we are going to load a pretrained resnet18 model from torchvision. Similarly, you can load any pretrained PyTorch model instead."
   ]
  },
  {
   "cell_type": "code",
   "execution_count": null,
   "metadata": {
    "colab": {
     "base_uri": "https://localhost:8080/"
    },
    "id": "jlBeln_8tUAL",
    "outputId": "e33b1854-b0b8-44fd-8faa-ad950bab7867"
   },
   "outputs": [],
   "source": [
    "# %cd /content/drive/MyDrive/Aimet-torch/mmdetection-3.3.0/\n",
    "import torch\n",
    "from mmdet.apis import DetInferencer\n",
    "\n",
    "transform = transforms.Compose([\n",
    "    transforms.ToTensor(),\n",
    "    transforms.Resize([640, 640]),  # Resize\n",
    "])\n",
    "\n",
    "DEVICE = torch.device('cuda:0' if torch.cuda.is_available() else 'cpu')\n",
    "CONFIG_PATH = 'rtmdet_tiny_8xb32-300e_coco.py'\n",
    "WEIGHTS_PATH = 'rtmdet_tiny_8xb32-300e_coco_20220902_112414-78e30dcc.pth'\n",
    "\n",
    "ROOT_DATASET_DIR = '/teamspace/studios/this_studio/COCO'\n",
    "IMAGES_DIR = os.path.join(ROOT_DATASET_DIR, 'images')\n",
    "ANNOTATIONS_JSON_PATH = os.path.join(ROOT_DATASET_DIR, 'annotations/instances_val2017.json')\n",
    "# ANNOTATIONS_JSON_PATH = \"/home/shayaan/Desktop/aimet/my_mmdet/temp.json\"\n",
    "\n",
    "model = DetInferencer(model=CONFIG_PATH, weights=WEIGHTS_PATH, device=DEVICE)\n",
    "evalDataset = CustomImageDataset(images_dir=IMAGES_DIR, annotations_json_path=ANNOTATIONS_JSON_PATH, transform=transform)\n"
   ]
  },
  {
   "cell_type": "code",
   "execution_count": null,
   "metadata": {},
   "outputs": [],
   "source": [
    "from mmcv.transforms import Compose\n",
    "test_evaluator = model.cfg.test_evaluator\n",
    "test_evaluator.type = 'mmdet.evaluation.CocoMetric' \n",
    "test_evaluator.dataset_meta = model.model.dataset_meta\n",
    "test_evaluator.ann_file = ANNOTATIONS_JSON_PATH\n",
    "test_evaluator = Compose(test_evaluator)"
   ]
  },
  {
   "cell_type": "code",
   "execution_count": null,
   "metadata": {},
   "outputs": [],
   "source": [
    "import random\n",
    "from typing import Optional\n",
    "from tqdm import tqdm\n",
    "import torch\n",
    "from torch.utils.data import Dataset, DataLoader, Subset\n",
    "from mmengine.structures import InstanceData\n",
    "\n",
    "EVAL_DATASET_SIZE = 5000\n",
    "CALIBRATION_DATASET_SIZE = 2000\n",
    "BATCH_SIZE = 40\n",
    "# _datasets = {}\n",
    "\n",
    "# def _create_sampled_data_loader(dataset, num_samples):\n",
    "#     if num_samples not in _datasets:\n",
    "#         indices = random.sample(range(len(dataset)), num_samples)\n",
    "#         _datasets[num_samples] = Subset(dataset, indices)\n",
    "#     return DataLoader(_datasets[num_samples], batch_size=BATCH_SIZE)\n",
    "\n",
    "\n",
    "# def eval_callback(model: torch.nn.Module, num_samples: Optional[int] = None) -> float:    \n",
    "#     data_loader = DataLoader(evalDataset, batch_size=BATCH_SIZE)\n",
    "\n",
    "#     new_preds = []\n",
    "#     for image_id, image_path, _ in tqdm(data_loader):\n",
    "#         preds = model(image_path, out_dir='./output', batch_size=BATCH_SIZE)\n",
    "        \n",
    "#         for img_id, pred in zip(image_id, preds['predictions']):\n",
    "#             new_pred = InstanceData(metainfo={\"img_id\": int(img_id)})\n",
    "#             new_pred.bboxes = [np.array(p) for p in pred['bboxes']]\n",
    "#             new_pred.labels = pred['labels']\n",
    "#             new_pred.scores = pred['scores']\n",
    "#             new_preds.append(new_pred)\n",
    "\n",
    "#     eval_results = test_evaluator(new_preds)\n",
    "#     with open(\"/home/shayaan/Desktop/aimet/my_mmdet/ptq_stats/eval_acc_fp32.json\", \"w\") as f:\n",
    "#         json.dump(eval_results, f, indent=4)\n",
    "#     bbox_map = eval_results['bbox_mAP']\n",
    "#     return bbox_map"
   ]
  },
  {
   "cell_type": "code",
   "execution_count": null,
   "metadata": {},
   "outputs": [],
   "source": [
    "from mmdet.models.utils import samplelist_boxtype2tensor\n",
    "from mmengine.registry import MODELS\n",
    "\n",
    "collate_preprocessor = model.preprocess\n",
    "predict_by_feat = model.model.bbox_head.predict_by_feat\n",
    "rescale = True\n",
    "\n",
    "preprocessor = MODELS.build(model.cfg.model.data_preprocessor)\n",
    "def add_pred_to_datasample(data_samples, results_list):\n",
    "    for data_sample, pred_instances in zip(data_samples, results_list):\n",
    "        data_sample.pred_instances = pred_instances\n",
    "    samplelist_boxtype2tensor(data_samples)\n",
    "    return data_samples"
   ]
  },
  {
   "cell_type": "code",
   "execution_count": null,
   "metadata": {},
   "outputs": [],
   "source": [
    "def eval_callback(model: torch.nn.Module, num_samples: Optional[int] = None) -> float:    \n",
    "    data_loader = DataLoader(evalDataset, batch_size=BATCH_SIZE)\n",
    "\n",
    "    new_preds = []\n",
    "    for image_id, image_path, _ in tqdm(data_loader):\n",
    "        pre_processed = collate_preprocessor(inputs=image_path, batch_size=BATCH_SIZE)\n",
    "        _, data = list(pre_processed)[0]\n",
    "        data = preprocessor(data, False)\n",
    "\n",
    "        preds = model.model._forward(data['inputs'].cuda())\n",
    "        batch_img_metas = [\n",
    "        data_samples.metainfo for data_samples in data['data_samples']\n",
    "        ]\n",
    "        preds = predict_by_feat(*preds, batch_img_metas=batch_img_metas, rescale=True)\n",
    "        preds = add_pred_to_datasample(data['data_samples'], preds)\n",
    "        \n",
    "        for img_id, pred in zip(image_id, preds):\n",
    "            pred = pred.pred_instances\n",
    "            new_pred = InstanceData(metainfo={\"img_id\": int(img_id)})\n",
    "            new_pred.bboxes = [np.array(p) for p in pred['bboxes'].cpu()]\n",
    "            new_pred.labels = pred['labels'].cpu()\n",
    "            new_pred.scores = pred['scores'].cpu()\n",
    "            new_preds.append(new_pred)\n",
    "    \n",
    "    eval_results = test_evaluator(new_preds)\n",
    "    bbox_map = eval_results['bbox_mAP']\n",
    "    with open(\"/teamspace/studios/this_studio/mmdetection/ptq_stats/eval_acc_fp32.json\", \"w\") as f:\n",
    "        json.dump(eval_results, f, indent=4)\n",
    "    return bbox_map"
   ]
  },
  {
   "cell_type": "code",
   "execution_count": null,
   "metadata": {},
   "outputs": [],
   "source": [
    "from aimet_torch.quantsim import QuantizationSimModel, QuantScheme\n",
    "from aimet_torch.model_preparer import prepare_model\n",
    "\n",
    "dummy_input = torch.rand(1, 3, 640, 640).cuda()\n",
    "\n",
    "\n",
    "sim_model = prepare_model(model.model)\n",
    "\n",
    "sim = QuantizationSimModel(model=sim_model,\n",
    "                        quant_scheme=QuantScheme.post_training_tf_enhanced,\n",
    "                        dummy_input=dummy_input,\n",
    "                        default_output_bw=8,\n",
    "                        default_param_bw=8,)\n"
   ]
  },
  {
   "cell_type": "code",
   "execution_count": null,
   "metadata": {},
   "outputs": [],
   "source": [
    "# print(str(sim))"
   ]
  },
  {
   "cell_type": "code",
   "execution_count": null,
   "metadata": {
    "colab": {
     "base_uri": "https://localhost:8080/"
    },
    "id": "ir4IFswfFeb9",
    "outputId": "6123101f-000c-4b93-a2d6-81ffa064b745"
   },
   "outputs": [],
   "source": [
    "# print(\"CALCULATING FP32 ACCURACY NOW\")\n",
    "# accuracy = eval_callback(model)"
   ]
  },
  {
   "cell_type": "code",
   "execution_count": null,
   "metadata": {},
   "outputs": [],
   "source": [
    "# print(f'- FP32 accuracy: {accuracy}')"
   ]
  },
  {
   "cell_type": "markdown",
   "metadata": {
    "id": "OUI0S_bRWb9E"
   },
   "source": [
    "## 3. Run AutoQuant\n",
    "### Create AutoQuant Object\n",
    "\n",
    "The AutoQuant feature utilizes an unlabeled dataset to achieve quantization. The class **UnlabeledDatasetWrapper** creates an unlabeled Dataset object from a labeled Dataset."
   ]
  },
  {
   "cell_type": "code",
   "execution_count": null,
   "metadata": {},
   "outputs": [],
   "source": [
    "class UnlabeledDatasetWrapper(Dataset):\n",
    "    def __init__(self, dataset, num_samples):\n",
    "        self._dataset = dataset\n",
    "        self.num_samples = num_samples if num_samples < len(self._dataset) else len(self._dataset)\n",
    "        self.transform = transform\n",
    "\n",
    "    def __len__(self):\n",
    "        return self.num_samples \n",
    "\n",
    "    def __getitem__(self, index):\n",
    "        _, _, transformed_images = self._dataset[index]\n",
    "        return transformed_images\n",
    "    "
   ]
  },
  {
   "cell_type": "code",
   "execution_count": null,
   "metadata": {
    "id": "5NtMfprwWb9E",
    "pycharm": {
     "name": "#%%\n"
    }
   },
   "outputs": [],
   "source": [
    "from aimet_torch.auto_quant import AutoQuant\n",
    "from glob import glob\n",
    "\n",
    "def new_eval_callback(model: torch.nn.Module, num_samples: Optional[int] = None) -> float:\n",
    "    data_loader = DataLoader(evalDataset, batch_size=BATCH_SIZE)\n",
    "    new_preds = []\n",
    "    for image_id, image_path, _ in tqdm(data_loader):\n",
    "        pre_processed = collate_preprocessor(inputs=image_path, batch_size=BATCH_SIZE)\n",
    "        _, data = list(pre_processed)[0]\n",
    "        data = preprocessor(data, False)\n",
    "        preds = model(data['inputs'].cuda())\n",
    "        batch_img_metas = [\n",
    "        data_samples.metainfo for data_samples in data['data_samples']\n",
    "        ]\n",
    "        preds = predict_by_feat(*preds, batch_img_metas=batch_img_metas, rescale=True)\n",
    "        preds = add_pred_to_datasample(data['data_samples'], preds)\n",
    "        \n",
    "        for img_id, pred in zip(image_id, preds):\n",
    "            pred = pred.pred_instances\n",
    "            new_pred = InstanceData(metainfo={\"img_id\": int(img_id)})\n",
    "            new_pred.bboxes = [np.array(p) for p in pred['bboxes'].cpu()]\n",
    "            new_pred.labels = pred['labels'].cpu()\n",
    "            new_pred.scores = pred['scores'].cpu()\n",
    "            new_preds.append(new_pred)\n",
    "\n",
    "    eval_results = test_evaluator(new_preds)\n",
    "    num_file = len(glob(\"/teamspace/studios/this_studio/mmdetection/ptq_stats/eval_acc_quant_*\"))\n",
    "    with open(f\"/teamspace/studios/this_studio/mmdetection/ptq_stats/eval_acc_quant_{num_file}.json\", \"w\") as f:\n",
    "        json.dump(eval_results, f, indent=4)\n",
    "    bbox_map = eval_results['bbox_mAP']\n",
    "    return bbox_map\n",
    "\n",
    "\n",
    "calibration_data_loader = DataLoader(UnlabeledDatasetWrapper(evalDataset, num_samples=CALIBRATION_DATASET_SIZE))\n",
    "auto_quant = AutoQuant(sim_model,\n",
    "                       dummy_input=dummy_input,\n",
    "                       data_loader=calibration_data_loader,\n",
    "                       eval_callback=new_eval_callback)"
   ]
  },
  {
   "cell_type": "markdown",
   "metadata": {
    "id": "9zufGu-VWb9F"
   },
   "source": [
    "### Run AutoQuant Inference\n",
    "This step runs AutoQuant inference. AutoQuant inference will run evaluation using the **eval_callback** with the vanilla quantized model without applying PTQ techniques. This will be useful for measuring the baseline evaluation score before running AutoQuant optimization."
   ]
  },
  {
   "cell_type": "code",
   "execution_count": null,
   "metadata": {
    "colab": {
     "base_uri": "https://localhost:8080/",
     "height": 1000
    },
    "id": "aXf7J3FBWb9F",
    "outputId": "a260133a-93dd-4656-9efc-7c56e284e555"
   },
   "outputs": [],
   "source": [
    "# sim, initial_accuracy = auto_quant.run_inference()\n"
   ]
  },
  {
   "cell_type": "code",
   "execution_count": null,
   "metadata": {},
   "outputs": [],
   "source": [
    "# print(f\"- Quantized Accuracy (before optimization): {initial_accuracy}\")"
   ]
  },
  {
   "cell_type": "markdown",
   "metadata": {
    "id": "fw7QB3A7Wb9F"
   },
   "source": [
    "### Set AdaRound Parameters (optional)\n",
    "AutoQuant uses a set of predefined default parameters for AdaRound.\n",
    "These values were determined empirically and work well with the common models.\n",
    "However, if necessary, you can also use your custom parameters for Adaround.\n",
    "In this notebook, we will use very small AdaRound parameters for faster execution."
   ]
  },
  {
   "cell_type": "code",
   "execution_count": null,
   "metadata": {
    "id": "7Ei_tpUIWb9F",
    "pycharm": {
     "name": "#%%\n"
    }
   },
   "outputs": [],
   "source": [
    "from aimet_torch.adaround.adaround_weight import AdaroundParameters\n",
    "\n",
    "adaround_params = AdaroundParameters(calibration_data_loader, num_batches=len(calibration_data_loader), default_num_iterations=2000)\n",
    "auto_quant.set_adaround_params(adaround_params)"
   ]
  },
  {
   "cell_type": "markdown",
   "metadata": {
    "id": "G-a5n9AMWb9F"
   },
   "source": [
    "### Run AutoQuant Optimization\n",
    "This step runs AutoQuant optimization, which returns the best possible quantized model, corresponding evaluation score and the path to the encoding file.\n",
    "The **allowed_accuracy_drop** parameter indicates the tolerable amount of accuracy drop. AutoQuant applies a series of quantization features until the target accuracy (FP32 accuracy - allowed accuracy drop) is satisfied. When the target accuracy is reached, AutoQuant will return immediately without applying furhter PTQ techniques. Please refer AutoQuant User Guide and API documentation for complete details."
   ]
  },
  {
   "cell_type": "code",
   "execution_count": null,
   "metadata": {
    "colab": {
     "base_uri": "https://localhost:8080/",
     "height": 1000
    },
    "id": "7ete8ao5Wb9F",
    "outputId": "81b21793-3f19-4ef6-8ea6-76ad08006368"
   },
   "outputs": [],
   "source": [
    "model, optimized_accuracy, encoding_path = auto_quant.optimize(allowed_accuracy_drop=0.01)\n",
    "print(f\"- Quantized Accuracy (after optimization):  {optimized_accuracy}\")"
   ]
  },
  {
   "cell_type": "code",
   "execution_count": null,
   "metadata": {
    "id": "3Btg0rNwCrp5"
   },
   "outputs": [],
   "source": [
    "# model, optimized_accuracy, encoding_path\n"
   ]
  },
  {
   "cell_type": "markdown",
   "metadata": {
    "id": "5k-p5H0WWb9F",
    "pycharm": {
     "name": "#%% md\n"
    }
   },
   "source": [
    "---\n",
    "## Summary\n",
    "\n",
    "Hope this notebook was useful for you to understand how to use AIMET AutoQuant feature.\n",
    "\n",
    "Few additional resources\n",
    "- Refer to the AIMET API docs to know more details of the APIs and parameters\n",
    "- Refer to the other example notebooks to understand how to use AIMET CLE and AdaRound features in a standalone fashion."
   ]
  }
 ],
 "metadata": {
  "colab": {
   "provenance": []
  },
  "kernelspec": {
   "display_name": "Python 3 (ipykernel)",
   "language": "python",
   "name": "python3"
  },
  "language_info": {
   "codemirror_mode": {
    "name": "ipython",
    "version": 3
   },
   "file_extension": ".py",
   "mimetype": "text/x-python",
   "name": "python",
   "nbconvert_exporter": "python",
   "pygments_lexer": "ipython3",
   "version": "3.10.14"
  }
 },
 "nbformat": 4,
 "nbformat_minor": 4
}
