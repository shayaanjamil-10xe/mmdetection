{
  "cells": [
    {
      "cell_type": "markdown",
      "metadata": {
        "id": "AUzKJME8Wb9A",
        "pycharm": {
          "name": "#%% md\n"
        }
      },
      "source": [
        "# AutoQuant\n",
        "\n",
        "This notebook shows a working code example of how to use AIMET AutoQuant feature.\n",
        "\n",
        "AIMET offers a suite of neural network post-training quantization (PTQ) techniques that can be applied in succession. However, the process of finding the right combination and sequence of techniques to apply is time-consuming and requires careful analysis, which can be challenging especially for non-expert users. We instead recommend AutoQuant to save time and effort.\n",
        "\n",
        "AutoQuant is an API that applies various PTQ techniques in AIMET automatically based on analyzing the model and best-known heuristics. In AutoQuant, users specify the amount of tolerable accuracy drop, and AutoQuant will apply PTQ techniques cumulatively until the target accuracy is satisfied.\n",
        "\n",
        "\n",
        "#### Overall flow\n",
        "This notebook covers the following\n",
        "1. Define constants and helper functions\n",
        "2. Load a pretrained FP32 model\n",
        "3. Run AutoQuant\n",
        "\n",
        "#### What this notebook is not\n",
        "This notebook is not designed to show state-of-the-art AutoQuant results. For example, it uses a relatively quantization-friendly model like Resnet18. Also, some optimization parameters are deliberately chosen to have the notebook execute more quickly.\n"
      ]
    },
    {
      "cell_type": "markdown",
      "metadata": {
        "id": "eISU9c7JWb9C"
      },
      "source": [
        "---\n",
        "## Dataset\n",
        "\n",
        "This notebook relies on the ImageNet dataset for the task of image classification. If you already have a version of the dataset readily available, please use that. Else, please download the dataset from appropriate location (e.g. https://image-net.org/challenges/LSVRC/2012/index.php#).\n",
        "\n",
        "**Note1**: The ImageNet dataset typically has the following characteristics and the dataloader provided in this example notebook rely on these\n",
        "- Subfolders 'train' for the training samples and 'val' for the validation samples. Please see the [pytorch dataset description](https://pytorch.org/vision/0.8/_modules/torchvision/datasets/imagenet.html) for more details.\n",
        "- A subdirectory per class, and a file per each image sample\n",
        "\n",
        "**Note2**: To speed up the execution of this notebook, you may use a reduced subset of the ImageNet dataset. E.g. the entire ILSVRC2012 dataset has 1000 classes, 1000 training samples per class and 50 validation samples per class. But for the purpose of running this notebook, you could perhaps reduce the dataset to say 2 samples per class. This exercise is left upto the reader and is not necessary.\n",
        "\n",
        "Edit the cell below and specify the directory where the downloaded ImageNet dataset is saved."
      ]
    },
    {
      "cell_type": "code",
      "execution_count": 1,
      "metadata": {
        "id": "UHkf809bZa5v"
      },
      "outputs": [],
      "source": [
        "import cv2\n",
        "import os\n",
        "from torchvision import datasets, transforms\n",
        "from torch.utils.data import DataLoader\n",
        "import torch\n",
        "import json\n",
        "from mmcv.transforms import Compose\n",
        "import numpy as np\n",
        "from mmdet.utils import get_test_pipeline_cfg\n",
        "\n",
        "id_to_keep = 179487\n",
        "\n",
        "def read_json(json_path):\n",
        "    with open(json_path) as f:\n",
        "        data = json.load(f)\n",
        "    return data\n",
        "\n",
        "def preprocess(test_pipeline, image):\n",
        "    if isinstance(image, np.ndarray):\n",
        "        # Calling this method across libraries will result\n",
        "        # in module unregistered error if not prefixed with mmdet.\n",
        "        test_pipeline[0].type = 'mmdet.LoadImageFromNDArray'\n",
        "    test_pipeline = Compose(test_pipeline)\n",
        "    return test_pipeline(dict(img=image))\n",
        "\n",
        "class CustomImageDataset(torch.utils.data.Dataset):\n",
        "    def __init__(self, images_dir, annotations_json_path, transform=None):\n",
        "        self.transform = transform\n",
        "        self.images_dir = images_dir\n",
        "        self.annotations_json = read_json(annotations_json_path)\n",
        "        self.annotations_json['images'] = [x for x in self.annotations_json['images'] if int(x['id']) == int(id_to_keep)] + self.annotations_json['images'][:9]\n",
        "\n",
        "\n",
        "    def __len__(self):\n",
        "        return len(self.annotations_json['images'])\n",
        "\n",
        "    def __getitem__(self, idx):\n",
        "        image_dict = self.annotations_json['images'][idx]\n",
        "        image_path = os.path.join(self.images_dir, image_dict['file_name'])\n",
        "        image = cv2.imread(image_path)\n",
        "        image = cv2.cvtColor(image, cv2.COLOR_BGR2RGB)\n",
        "        if self.transform:\n",
        "            image = self.transform(image)\n",
        "\n",
        "        image_id = image_dict['id']\n",
        "        \n",
        "        return image_id, image\n",
        "\n",
        "# calibrationDataloader = DataLoader(calibrationDataset, batch_size=32, shuffle=True)"
      ]
    },
    {
      "cell_type": "markdown",
      "metadata": {
        "id": "rraR_9L4Wb9D"
      },
      "source": [
        "## 1. Define Constants and Helper functions\n",
        "\n",
        "In this section the constants and helper functions needed to run this eaxmple are defined.\n",
        "\n",
        "- **EVAL_DATASET_SIZE** A typical value is 5000. In this notebook, this value has been set to 500 for faster execution.\n",
        "- **CALIBRATION_DATASET_SIZE** A typical value is 2000. In this notebook, this value has been set to 200 for faster execution.\n",
        "\n",
        "\n",
        "The helper function **_create_sampled_data_loader()** returns a DataLoader based on the dataset and the number of samples provided."
      ]
    },
    {
      "cell_type": "markdown",
      "metadata": {
        "id": "uYLkqAC8Wb9E"
      },
      "source": [
        "## 2. Load a pretrained FP32 model\n",
        "For this example, we are going to load a pretrained resnet18 model from torchvision. Similarly, you can load any pretrained PyTorch model instead."
      ]
    },
    {
      "cell_type": "code",
      "execution_count": 2,
      "metadata": {
        "colab": {
          "base_uri": "https://localhost:8080/"
        },
        "id": "jlBeln_8tUAL",
        "outputId": "e33b1854-b0b8-44fd-8faa-ad950bab7867"
      },
      "outputs": [
        {
          "name": "stdout",
          "output_type": "stream",
          "text": [
            "2024-07-30 16:28:05,044 - root - INFO - AIMET\n",
            "Loads checkpoint by local backend from path: rtmdet_tiny_8xb32-300e_coco_20220902_112414-78e30dcc.pth\n",
            "The model and loaded state dict do not match exactly\n",
            "\n",
            "unexpected key in source state_dict: data_preprocessor.mean, data_preprocessor.std\n",
            "\n"
          ]
        }
      ],
      "source": [
        "# %cd /content/drive/MyDrive/Aimet-torch/mmdetection-3.3.0/\n",
        "import torch\n",
        "from mmdet.apis import init_detector\n",
        "\n",
        "transform = transforms.Compose([\n",
        "            transforms.Resize([640, 640]),  # Resize\n",
        "        ])\n",
        "\n",
        "DEVICE = torch.device('cuda:0' if torch.cuda.is_available() else 'cpu')\n",
        "CONFIG_PATH = 'rtmdet_tiny_8xb32-300e_coco.py'\n",
        "WEIGHTS_PATH = 'rtmdet_tiny_8xb32-300e_coco_20220902_112414-78e30dcc.pth'\n",
        "\n",
        "ROOT_DATASET_DIR = '/datasets/COCO'\n",
        "IMAGES_DIR = os.path.join(ROOT_DATASET_DIR, 'images')\n",
        "ANNOTATIONS_JSON_PATH = os.path.join(ROOT_DATASET_DIR, 'annotations/instances_val2017.json')\n",
        "\n",
        "model = init_detector(CONFIG_PATH, WEIGHTS_PATH, device=DEVICE)\n",
        "predict_by_feat = model.bbox_head.predict_by_feat\n",
        "calibrationDataset = CustomImageDataset(images_dir=IMAGES_DIR, annotations_json_path=ANNOTATIONS_JSON_PATH)\n",
        "test_pipeline = get_test_pipeline_cfg(model.cfg)"
      ]
    },
    {
      "cell_type": "code",
      "execution_count": 3,
      "metadata": {},
      "outputs": [
        {
          "name": "stdout",
          "output_type": "stream",
          "text": [
            "loading annotations into memory...\n",
            "Done (t=0.34s)\n",
            "creating index...\n",
            "index created!\n"
          ]
        }
      ],
      "source": [
        "from mmcv.transforms import Compose\n",
        "test_evaluator = model.cfg.test_evaluator\n",
        "test_evaluator.type = 'mmdet.evaluation.CocoMetric' \n",
        "test_evaluator = Compose(test_evaluator)"
      ]
    },
    {
      "cell_type": "code",
      "execution_count": 4,
      "metadata": {},
      "outputs": [
        {
          "name": "stderr",
          "output_type": "stream",
          "text": [
            "/home/shayaan/miniconda3/envs/aimet2/lib/python3.10/site-packages/mmengine/visualization/visualizer.py:196: UserWarning: Failed to add <class 'mmengine.visualization.vis_backend.LocalVisBackend'>, please provide the `save_dir` argument.\n",
            "  warnings.warn(f'Failed to add {vis_backend.__class__}, '\n"
          ]
        }
      ],
      "source": [
        "import mmcv\n",
        "import mmengine\n",
        "import os.path as osp\n",
        "\n",
        "from mmengine.registry import FUNCTIONS, MODELS, VISUALIZERS, DefaultScope\n",
        "from mmengine.visualization import Visualizer\n",
        "from datetime import datetime\n",
        "\n",
        "\n",
        "def init_visualizer(cfg):\n",
        "    \"\"\"Initialize visualizers.\n",
        "\n",
        "    Args:\n",
        "        cfg (ConfigType): Config containing the visualizer information.\n",
        "\n",
        "    Returns:\n",
        "        Visualizer or None: Visualizer initialized with config.\n",
        "    \"\"\"\n",
        "    if 'visualizer' not in cfg:\n",
        "        return None\n",
        "    timestamp = str(datetime.timestamp(datetime.now()))\n",
        "    name = cfg.visualizer.get('name', timestamp)\n",
        "    if Visualizer.check_instance_created(name):\n",
        "        name = f'{name}-{timestamp}'\n",
        "    cfg.visualizer.name = name\n",
        "    return VISUALIZERS.build(cfg.visualizer)\n",
        "\n",
        "visualizer = init_visualizer(model.cfg)\n",
        "visualizer.dataset_meta = model.dataset_meta\n",
        "\n",
        "def visualize(inputs,\n",
        "                  preds,\n",
        "                  return_vis = False,\n",
        "                  show = False,\n",
        "                  wait_time = 0,\n",
        "                  draw_pred = True,\n",
        "                  pred_score_thr = 0.3,\n",
        "                  no_save_vis = False,\n",
        "                  img_out_dir = '/home/shayaan/Desktop/aimet/my_mmdet/pred_results',\n",
        "                  img_id = None,\n",
        "                  **kwargs):\n",
        "        \"\"\"Visualize predictions.\n",
        "\n",
        "        Args:\n",
        "            inputs (List[Union[str, np.ndarray]]): Inputs for the inferencer.\n",
        "            preds (List[:obj:`DetDataSample`]): Predictions of the model.\n",
        "            return_vis (bool): Whether to return the visualization result.\n",
        "                Defaults to False.\n",
        "            show (bool): Whether to display the image in a popup window.\n",
        "                Defaults to False.\n",
        "            wait_time (float): The interval of show (s). Defaults to 0.\n",
        "            draw_pred (bool): Whether to draw predicted bounding boxes.\n",
        "                Defaults to True.\n",
        "            pred_score_thr (float): Minimum score of bboxes to draw.\n",
        "                Defaults to 0.3.\n",
        "            no_save_vis (bool): Whether to force not to save prediction\n",
        "                vis results. Defaults to False.\n",
        "            img_out_dir (str): Output directory of visualization results.\n",
        "                If left as empty, no file will be saved. Defaults to ''.\n",
        "\n",
        "        Returns:\n",
        "            List[np.ndarray] or None: Returns visualization results only if\n",
        "            applicable.\n",
        "        \"\"\"\n",
        "        if no_save_vis is True:\n",
        "            img_out_dir = ''\n",
        "\n",
        "        if not show and img_out_dir == '' and not return_vis:\n",
        "            return None\n",
        "\n",
        "\n",
        "        results = []\n",
        "        num_visualized_imgs = 0\n",
        "\n",
        "        for single_input, pred in zip(inputs, preds):\n",
        "            if isinstance(single_input, str):\n",
        "                img_bytes = mmengine.fileio.get(single_input)\n",
        "                img = mmcv.imfrombytes(img_bytes)\n",
        "                img = img[:, :, ::-1]\n",
        "                img_name = osp.basename(single_input)\n",
        "            elif isinstance(single_input, np.ndarray):\n",
        "                img = single_input.copy()\n",
        "                img_num = str(num_visualized_imgs).zfill(8)\n",
        "                img_name = f'{img_num}.jpg'\n",
        "            else:\n",
        "                raise ValueError('Unsupported input type: '\n",
        "                                 f'{type(single_input)}')\n",
        "            if img_id:\n",
        "                img_name = f'{img_id}.jpg'\n",
        "            out_file = osp.join(img_out_dir, 'vis',\n",
        "                                img_name) if img_out_dir != '' else None\n",
        "\n",
        "            visualizer.add_datasample(\n",
        "                img_name,\n",
        "                img,\n",
        "                pred,\n",
        "                show=show,\n",
        "                wait_time=wait_time,\n",
        "                draw_gt=False,\n",
        "                draw_pred=draw_pred,\n",
        "                pred_score_thr=pred_score_thr,\n",
        "                out_file=out_file,\n",
        "            )\n",
        "            results.append(visualizer.get_image())\n",
        "            num_visualized_imgs += 1\n",
        "\n",
        "        return results\n"
      ]
    },
    {
      "cell_type": "code",
      "execution_count": 5,
      "metadata": {},
      "outputs": [],
      "source": [
        "import random\n",
        "from typing import Optional\n",
        "from tqdm import tqdm\n",
        "import torch\n",
        "from torch.utils.data import Dataset, DataLoader, SubsetRandomSampler, Subset\n",
        "from aimet_torch.utils import in_eval_mode, get_device\n",
        "from mmdet.apis import inference_detector\n",
        "from mmengine.structures import InstanceData\n",
        "from torchsummary import summary\n",
        "\n",
        "EVAL_DATASET_SIZE = 500\n",
        "CALIBRATION_DATASET_SIZE = 200\n",
        "BATCH_SIZE = 1\n",
        "\n",
        "_datasets = {}\n",
        "\n",
        "def _create_sampled_data_loader(dataset, num_samples):\n",
        "    if num_samples not in _datasets:\n",
        "        indices = random.sample(range(len(dataset)), num_samples)\n",
        "        _datasets[num_samples] = Subset(dataset, indices)\n",
        "    return DataLoader(_datasets[num_samples], batch_size=BATCH_SIZE)\n",
        "\n",
        "\n",
        "def eval_callback(model: torch.nn.Module, num_samples: Optional[int] = None) -> float:\n",
        "    if num_samples is None:\n",
        "        num_samples = EVAL_DATASET_SIZE\n",
        "\n",
        "    data_loader = _create_sampled_data_loader(calibrationDataset, 10)\n",
        "    device = get_device(model)\n",
        "\n",
        "    correct = 0\n",
        "    eval_metrics = []\n",
        "    for image_id, image in tqdm(data_loader):\n",
        "        if int(image_id) != id_to_keep:\n",
        "            continue\n",
        "        numpy_image = image.numpy()[0]\n",
        "        image_dict = preprocess(test_pipeline, numpy_image)\n",
        "        data_samples = image_dict['data_samples']\n",
        "        print(type(image_dict['inputs']))\n",
        "        image = image_dict['inputs'].reshape(1, 3, 640, 640)\n",
        "        \n",
        "        print(image.dtype)\n",
        "        preds = model(image)\n",
        "\n",
        "        for x in preds:\n",
        "            for t in x:\n",
        "                t = t.detach().numpy()\n",
        "                name = \"_\".join([str(x) for x in t.shape])\n",
        "                path = \"/home/shayaan/Desktop/aimet/my_mmdet/pred_results/new_raw_results/\" + str(int(image_id)) + \"_\" + name\n",
        "                np.save(path, t)\n",
        "        \n",
        "        batch_img_metas = [data_samples.metainfo]\n",
        "        predictions = predict_by_feat(\n",
        "            *preds, batch_img_metas=batch_img_metas)\n",
        "        \n",
        "        print(\"Predictions for image_id ----->>\", int(image_id))\n",
        "\n",
        "        res = visualize([numpy_image], predictions, img_id=int(image_id))\n",
        "            \n",
        "\n",
        "        new_pred = InstanceData(metainfo={\"img_id\": int(image_id)})\n",
        "        new_pred.bboxes = predictions[0].bboxes\n",
        "        new_pred.labels = predictions[0].labels\n",
        "        new_pred.scores = predictions[0].scores\n",
        "        new_pred = [new_pred]\n",
        "        eval_results = test_evaluator(new_pred)\n",
        "        eval_metrics.append(eval_results)\n",
        "        break\n",
        "    \n",
        "    bbox_map = sum([metric['bbox_mAP'] for metric in eval_metrics]) / len(eval_metrics)\n",
        "    return bbox_map"
      ]
    },
    {
      "cell_type": "code",
      "execution_count": 6,
      "metadata": {},
      "outputs": [],
      "source": [
        "# from aimet_torch.quantsim import QuantizationSimModel, QuantScheme\n",
        "# from aimet_torch.model_preparer import prepare_model\n",
        "\n",
        "# # quant_model = QuantizationSimModel(model, torch.rand((1, 3, 224, 224)))\n",
        "\n",
        "# dummy_input = torch.rand(1, 3, 640, 640)  # Shape for each ImageNet sample is (3 channels) x (224 height) x (224 width)\n",
        "# # # if use_cuda:\n",
        "# # #     dummy_input = dummy_input.cuda()\n",
        "\n",
        "# print(\"constructor called for Quant Sim Model\")\n",
        "\n",
        "# sim_model = prepare_model(model.model)\n",
        "\n",
        "# sim = QuantizationSimModel(model=sim_model,\n",
        "#                         quant_scheme=QuantScheme.post_training_tf_enhanced,\n",
        "#                         dummy_input=dummy_input,\n",
        "#                         default_output_bw=8,\n",
        "#                         default_param_bw=8,)"
      ]
    },
    {
      "cell_type": "code",
      "execution_count": 8,
      "metadata": {
        "colab": {
          "base_uri": "https://localhost:8080/"
        },
        "id": "ir4IFswfFeb9",
        "outputId": "6123101f-000c-4b93-a2d6-81ffa064b745"
      },
      "outputs": [
        {
          "name": "stderr",
          "output_type": "stream",
          "text": [
            " 10%|█         | 1/10 [00:00<00:00, 48.81it/s]"
          ]
        },
        {
          "name": "stdout",
          "output_type": "stream",
          "text": [
            "<class 'torch.Tensor'>\n",
            "torch.uint8\n"
          ]
        },
        {
          "name": "stderr",
          "output_type": "stream",
          "text": [
            "\n"
          ]
        },
        {
          "ename": "RuntimeError",
          "evalue": "expected scalar type Byte but found Float",
          "output_type": "error",
          "traceback": [
            "\u001b[0;31m---------------------------------------------------------------------------\u001b[0m",
            "\u001b[0;31mRuntimeError\u001b[0m                              Traceback (most recent call last)",
            "Cell \u001b[0;32mIn[8], line 1\u001b[0m\n\u001b[0;32m----> 1\u001b[0m accuracy \u001b[38;5;241m=\u001b[39m \u001b[43meval_callback\u001b[49m\u001b[43m(\u001b[49m\u001b[43mmodel\u001b[49m\u001b[43m)\u001b[49m\n\u001b[1;32m      3\u001b[0m \u001b[38;5;28mprint\u001b[39m(\u001b[38;5;124mf\u001b[39m\u001b[38;5;124m'\u001b[39m\u001b[38;5;124m- FP32 accuracy: \u001b[39m\u001b[38;5;132;01m{\u001b[39;00maccuracy\u001b[38;5;132;01m}\u001b[39;00m\u001b[38;5;124m'\u001b[39m)\n",
            "Cell \u001b[0;32mIn[5], line 43\u001b[0m, in \u001b[0;36meval_callback\u001b[0;34m(model, num_samples)\u001b[0m\n\u001b[1;32m     40\u001b[0m image \u001b[38;5;241m=\u001b[39m image_dict[\u001b[38;5;124m'\u001b[39m\u001b[38;5;124minputs\u001b[39m\u001b[38;5;124m'\u001b[39m]\u001b[38;5;241m.\u001b[39mreshape(\u001b[38;5;241m1\u001b[39m, \u001b[38;5;241m3\u001b[39m, \u001b[38;5;241m640\u001b[39m, \u001b[38;5;241m640\u001b[39m)\n\u001b[1;32m     42\u001b[0m \u001b[38;5;28mprint\u001b[39m(image\u001b[38;5;241m.\u001b[39mdtype)\n\u001b[0;32m---> 43\u001b[0m preds \u001b[38;5;241m=\u001b[39m \u001b[43mmodel\u001b[49m\u001b[43m(\u001b[49m\u001b[43mimage\u001b[49m\u001b[43m)\u001b[49m\n\u001b[1;32m     45\u001b[0m \u001b[38;5;28;01mfor\u001b[39;00m x \u001b[38;5;129;01min\u001b[39;00m preds:\n\u001b[1;32m     46\u001b[0m     \u001b[38;5;28;01mfor\u001b[39;00m t \u001b[38;5;129;01min\u001b[39;00m x:\n",
            "File \u001b[0;32m~/miniconda3/envs/aimet2/lib/python3.10/site-packages/torch/nn/modules/module.py:1511\u001b[0m, in \u001b[0;36mModule._wrapped_call_impl\u001b[0;34m(self, *args, **kwargs)\u001b[0m\n\u001b[1;32m   1509\u001b[0m     \u001b[38;5;28;01mreturn\u001b[39;00m \u001b[38;5;28mself\u001b[39m\u001b[38;5;241m.\u001b[39m_compiled_call_impl(\u001b[38;5;241m*\u001b[39margs, \u001b[38;5;241m*\u001b[39m\u001b[38;5;241m*\u001b[39mkwargs)  \u001b[38;5;66;03m# type: ignore[misc]\u001b[39;00m\n\u001b[1;32m   1510\u001b[0m \u001b[38;5;28;01melse\u001b[39;00m:\n\u001b[0;32m-> 1511\u001b[0m     \u001b[38;5;28;01mreturn\u001b[39;00m \u001b[38;5;28;43mself\u001b[39;49m\u001b[38;5;241;43m.\u001b[39;49m\u001b[43m_call_impl\u001b[49m\u001b[43m(\u001b[49m\u001b[38;5;241;43m*\u001b[39;49m\u001b[43margs\u001b[49m\u001b[43m,\u001b[49m\u001b[43m \u001b[49m\u001b[38;5;241;43m*\u001b[39;49m\u001b[38;5;241;43m*\u001b[39;49m\u001b[43mkwargs\u001b[49m\u001b[43m)\u001b[49m\n",
            "File \u001b[0;32m~/miniconda3/envs/aimet2/lib/python3.10/site-packages/torch/nn/modules/module.py:1520\u001b[0m, in \u001b[0;36mModule._call_impl\u001b[0;34m(self, *args, **kwargs)\u001b[0m\n\u001b[1;32m   1515\u001b[0m \u001b[38;5;66;03m# If we don't have any hooks, we want to skip the rest of the logic in\u001b[39;00m\n\u001b[1;32m   1516\u001b[0m \u001b[38;5;66;03m# this function, and just call forward.\u001b[39;00m\n\u001b[1;32m   1517\u001b[0m \u001b[38;5;28;01mif\u001b[39;00m \u001b[38;5;129;01mnot\u001b[39;00m (\u001b[38;5;28mself\u001b[39m\u001b[38;5;241m.\u001b[39m_backward_hooks \u001b[38;5;129;01mor\u001b[39;00m \u001b[38;5;28mself\u001b[39m\u001b[38;5;241m.\u001b[39m_backward_pre_hooks \u001b[38;5;129;01mor\u001b[39;00m \u001b[38;5;28mself\u001b[39m\u001b[38;5;241m.\u001b[39m_forward_hooks \u001b[38;5;129;01mor\u001b[39;00m \u001b[38;5;28mself\u001b[39m\u001b[38;5;241m.\u001b[39m_forward_pre_hooks\n\u001b[1;32m   1518\u001b[0m         \u001b[38;5;129;01mor\u001b[39;00m _global_backward_pre_hooks \u001b[38;5;129;01mor\u001b[39;00m _global_backward_hooks\n\u001b[1;32m   1519\u001b[0m         \u001b[38;5;129;01mor\u001b[39;00m _global_forward_hooks \u001b[38;5;129;01mor\u001b[39;00m _global_forward_pre_hooks):\n\u001b[0;32m-> 1520\u001b[0m     \u001b[38;5;28;01mreturn\u001b[39;00m \u001b[43mforward_call\u001b[49m\u001b[43m(\u001b[49m\u001b[38;5;241;43m*\u001b[39;49m\u001b[43margs\u001b[49m\u001b[43m,\u001b[49m\u001b[43m \u001b[49m\u001b[38;5;241;43m*\u001b[39;49m\u001b[38;5;241;43m*\u001b[39;49m\u001b[43mkwargs\u001b[49m\u001b[43m)\u001b[49m\n\u001b[1;32m   1522\u001b[0m \u001b[38;5;28;01mtry\u001b[39;00m:\n\u001b[1;32m   1523\u001b[0m     result \u001b[38;5;241m=\u001b[39m \u001b[38;5;28;01mNone\u001b[39;00m\n",
            "File \u001b[0;32m~/Desktop/aimet/my_mmdet/mmdet/models/detectors/base.py:104\u001b[0m, in \u001b[0;36mBaseDetector.forward\u001b[0;34m(self, inputs, data_samples, mode)\u001b[0m\n\u001b[1;32m     65\u001b[0m \u001b[38;5;250m\u001b[39m\u001b[38;5;124;03m\"\"\"The unified entry for a forward process in both training and test.\u001b[39;00m\n\u001b[1;32m     66\u001b[0m \n\u001b[1;32m     67\u001b[0m \u001b[38;5;124;03mThe method should accept three modes: \"tensor\", \"predict\" and \"loss\":\u001b[39;00m\n\u001b[0;32m   (...)\u001b[0m\n\u001b[1;32m     92\u001b[0m \u001b[38;5;124;03m    - If ``mode=\"loss\"``, return a dict of tensor.\u001b[39;00m\n\u001b[1;32m     93\u001b[0m \u001b[38;5;124;03m\"\"\"\u001b[39;00m\n\u001b[1;32m     94\u001b[0m \u001b[38;5;66;03m# # print(mode)\u001b[39;00m\n\u001b[1;32m     95\u001b[0m \u001b[38;5;66;03m# if mode == 'loss':\u001b[39;00m\n\u001b[1;32m     96\u001b[0m \u001b[38;5;66;03m#     return self.loss(inputs, data_samples)\u001b[39;00m\n\u001b[0;32m   (...)\u001b[0m\n\u001b[1;32m    102\u001b[0m \u001b[38;5;66;03m#     raise RuntimeError(f'Invalid mode \"{mode}\". '\u001b[39;00m\n\u001b[1;32m    103\u001b[0m \u001b[38;5;66;03m#                        'Only supports loss, predict and tensor mode')\u001b[39;00m\n\u001b[0;32m--> 104\u001b[0m \u001b[38;5;28;01mreturn\u001b[39;00m \u001b[38;5;28;43mself\u001b[39;49m\u001b[38;5;241;43m.\u001b[39;49m\u001b[43m_forward\u001b[49m\u001b[43m(\u001b[49m\u001b[43minputs\u001b[49m\u001b[43m,\u001b[49m\u001b[43m \u001b[49m\u001b[43mdata_samples\u001b[49m\u001b[43m)\u001b[49m\n",
            "File \u001b[0;32m~/Desktop/aimet/my_mmdet/mmdet/models/detectors/single_stage.py:132\u001b[0m, in \u001b[0;36mSingleStageDetector._forward\u001b[0;34m(self, batch_inputs, batch_data_samples)\u001b[0m\n\u001b[1;32m    116\u001b[0m \u001b[38;5;28;01mdef\u001b[39;00m \u001b[38;5;21m_forward\u001b[39m(\n\u001b[1;32m    117\u001b[0m         \u001b[38;5;28mself\u001b[39m,\n\u001b[1;32m    118\u001b[0m         batch_inputs: Tensor,\n\u001b[1;32m    119\u001b[0m         batch_data_samples: OptSampleList \u001b[38;5;241m=\u001b[39m \u001b[38;5;28;01mNone\u001b[39;00m) \u001b[38;5;241m-\u001b[39m\u001b[38;5;241m>\u001b[39m Tuple[List[Tensor]]:\n\u001b[1;32m    120\u001b[0m \u001b[38;5;250m    \u001b[39m\u001b[38;5;124;03m\"\"\"Network forward process. Usually includes backbone, neck and head\u001b[39;00m\n\u001b[1;32m    121\u001b[0m \u001b[38;5;124;03m    forward without any post-processing.\u001b[39;00m\n\u001b[1;32m    122\u001b[0m \n\u001b[0;32m   (...)\u001b[0m\n\u001b[1;32m    130\u001b[0m \u001b[38;5;124;03m        tuple[list]: A tuple of features from ``bbox_head`` forward.\u001b[39;00m\n\u001b[1;32m    131\u001b[0m \u001b[38;5;124;03m    \"\"\"\u001b[39;00m\n\u001b[0;32m--> 132\u001b[0m     x \u001b[38;5;241m=\u001b[39m \u001b[38;5;28;43mself\u001b[39;49m\u001b[38;5;241;43m.\u001b[39;49m\u001b[43mextract_feat\u001b[49m\u001b[43m(\u001b[49m\u001b[43mbatch_inputs\u001b[49m\u001b[43m)\u001b[49m\n\u001b[1;32m    133\u001b[0m     results \u001b[38;5;241m=\u001b[39m \u001b[38;5;28mself\u001b[39m\u001b[38;5;241m.\u001b[39mbbox_head\u001b[38;5;241m.\u001b[39mpredict(x, [], \u001b[38;5;28;01mTrue\u001b[39;00m)\n\u001b[1;32m    134\u001b[0m     \u001b[38;5;28;01mreturn\u001b[39;00m results\n",
            "File \u001b[0;32m~/Desktop/aimet/my_mmdet/mmdet/models/detectors/single_stage.py:146\u001b[0m, in \u001b[0;36mSingleStageDetector.extract_feat\u001b[0;34m(self, batch_inputs)\u001b[0m\n\u001b[1;32m    136\u001b[0m \u001b[38;5;28;01mdef\u001b[39;00m \u001b[38;5;21mextract_feat\u001b[39m(\u001b[38;5;28mself\u001b[39m, batch_inputs: Tensor) \u001b[38;5;241m-\u001b[39m\u001b[38;5;241m>\u001b[39m Tuple[Tensor]:\n\u001b[1;32m    137\u001b[0m \u001b[38;5;250m    \u001b[39m\u001b[38;5;124;03m\"\"\"Extract features.\u001b[39;00m\n\u001b[1;32m    138\u001b[0m \n\u001b[1;32m    139\u001b[0m \u001b[38;5;124;03m    Args:\u001b[39;00m\n\u001b[0;32m   (...)\u001b[0m\n\u001b[1;32m    144\u001b[0m \u001b[38;5;124;03m        different resolutions.\u001b[39;00m\n\u001b[1;32m    145\u001b[0m \u001b[38;5;124;03m    \"\"\"\u001b[39;00m\n\u001b[0;32m--> 146\u001b[0m     x \u001b[38;5;241m=\u001b[39m \u001b[38;5;28;43mself\u001b[39;49m\u001b[38;5;241;43m.\u001b[39;49m\u001b[43mbackbone\u001b[49m\u001b[43m(\u001b[49m\u001b[43mbatch_inputs\u001b[49m\u001b[43m)\u001b[49m\n\u001b[1;32m    147\u001b[0m     \u001b[38;5;28;01mif\u001b[39;00m \u001b[38;5;28mself\u001b[39m\u001b[38;5;241m.\u001b[39mwith_neck:\n\u001b[1;32m    148\u001b[0m         x \u001b[38;5;241m=\u001b[39m \u001b[38;5;28mself\u001b[39m\u001b[38;5;241m.\u001b[39mneck(x)\n",
            "File \u001b[0;32m~/miniconda3/envs/aimet2/lib/python3.10/site-packages/torch/nn/modules/module.py:1511\u001b[0m, in \u001b[0;36mModule._wrapped_call_impl\u001b[0;34m(self, *args, **kwargs)\u001b[0m\n\u001b[1;32m   1509\u001b[0m     \u001b[38;5;28;01mreturn\u001b[39;00m \u001b[38;5;28mself\u001b[39m\u001b[38;5;241m.\u001b[39m_compiled_call_impl(\u001b[38;5;241m*\u001b[39margs, \u001b[38;5;241m*\u001b[39m\u001b[38;5;241m*\u001b[39mkwargs)  \u001b[38;5;66;03m# type: ignore[misc]\u001b[39;00m\n\u001b[1;32m   1510\u001b[0m \u001b[38;5;28;01melse\u001b[39;00m:\n\u001b[0;32m-> 1511\u001b[0m     \u001b[38;5;28;01mreturn\u001b[39;00m \u001b[38;5;28;43mself\u001b[39;49m\u001b[38;5;241;43m.\u001b[39;49m\u001b[43m_call_impl\u001b[49m\u001b[43m(\u001b[49m\u001b[38;5;241;43m*\u001b[39;49m\u001b[43margs\u001b[49m\u001b[43m,\u001b[49m\u001b[43m \u001b[49m\u001b[38;5;241;43m*\u001b[39;49m\u001b[38;5;241;43m*\u001b[39;49m\u001b[43mkwargs\u001b[49m\u001b[43m)\u001b[49m\n",
            "File \u001b[0;32m~/miniconda3/envs/aimet2/lib/python3.10/site-packages/torch/nn/modules/module.py:1520\u001b[0m, in \u001b[0;36mModule._call_impl\u001b[0;34m(self, *args, **kwargs)\u001b[0m\n\u001b[1;32m   1515\u001b[0m \u001b[38;5;66;03m# If we don't have any hooks, we want to skip the rest of the logic in\u001b[39;00m\n\u001b[1;32m   1516\u001b[0m \u001b[38;5;66;03m# this function, and just call forward.\u001b[39;00m\n\u001b[1;32m   1517\u001b[0m \u001b[38;5;28;01mif\u001b[39;00m \u001b[38;5;129;01mnot\u001b[39;00m (\u001b[38;5;28mself\u001b[39m\u001b[38;5;241m.\u001b[39m_backward_hooks \u001b[38;5;129;01mor\u001b[39;00m \u001b[38;5;28mself\u001b[39m\u001b[38;5;241m.\u001b[39m_backward_pre_hooks \u001b[38;5;129;01mor\u001b[39;00m \u001b[38;5;28mself\u001b[39m\u001b[38;5;241m.\u001b[39m_forward_hooks \u001b[38;5;129;01mor\u001b[39;00m \u001b[38;5;28mself\u001b[39m\u001b[38;5;241m.\u001b[39m_forward_pre_hooks\n\u001b[1;32m   1518\u001b[0m         \u001b[38;5;129;01mor\u001b[39;00m _global_backward_pre_hooks \u001b[38;5;129;01mor\u001b[39;00m _global_backward_hooks\n\u001b[1;32m   1519\u001b[0m         \u001b[38;5;129;01mor\u001b[39;00m _global_forward_hooks \u001b[38;5;129;01mor\u001b[39;00m _global_forward_pre_hooks):\n\u001b[0;32m-> 1520\u001b[0m     \u001b[38;5;28;01mreturn\u001b[39;00m \u001b[43mforward_call\u001b[49m\u001b[43m(\u001b[49m\u001b[38;5;241;43m*\u001b[39;49m\u001b[43margs\u001b[49m\u001b[43m,\u001b[49m\u001b[43m \u001b[49m\u001b[38;5;241;43m*\u001b[39;49m\u001b[38;5;241;43m*\u001b[39;49m\u001b[43mkwargs\u001b[49m\u001b[43m)\u001b[49m\n\u001b[1;32m   1522\u001b[0m \u001b[38;5;28;01mtry\u001b[39;00m:\n\u001b[1;32m   1523\u001b[0m     result \u001b[38;5;241m=\u001b[39m \u001b[38;5;28;01mNone\u001b[39;00m\n",
            "File \u001b[0;32m~/Desktop/aimet/my_mmdet/mmdet/models/backbones/cspnext.py:192\u001b[0m, in \u001b[0;36mCSPNeXt.forward\u001b[0;34m(self, x)\u001b[0m\n\u001b[1;32m    190\u001b[0m \u001b[38;5;28;01mfor\u001b[39;00m i, layer_name \u001b[38;5;129;01min\u001b[39;00m \u001b[38;5;28menumerate\u001b[39m(\u001b[38;5;28mself\u001b[39m\u001b[38;5;241m.\u001b[39mlayers):\n\u001b[1;32m    191\u001b[0m     layer \u001b[38;5;241m=\u001b[39m \u001b[38;5;28mgetattr\u001b[39m(\u001b[38;5;28mself\u001b[39m, layer_name)\n\u001b[0;32m--> 192\u001b[0m     x \u001b[38;5;241m=\u001b[39m \u001b[43mlayer\u001b[49m\u001b[43m(\u001b[49m\u001b[43mx\u001b[49m\u001b[43m)\u001b[49m\n\u001b[1;32m    193\u001b[0m     \u001b[38;5;28;01mif\u001b[39;00m i \u001b[38;5;129;01min\u001b[39;00m \u001b[38;5;28mself\u001b[39m\u001b[38;5;241m.\u001b[39mout_indices:\n\u001b[1;32m    194\u001b[0m         outs\u001b[38;5;241m.\u001b[39mappend(x)\n",
            "File \u001b[0;32m~/miniconda3/envs/aimet2/lib/python3.10/site-packages/torch/nn/modules/module.py:1511\u001b[0m, in \u001b[0;36mModule._wrapped_call_impl\u001b[0;34m(self, *args, **kwargs)\u001b[0m\n\u001b[1;32m   1509\u001b[0m     \u001b[38;5;28;01mreturn\u001b[39;00m \u001b[38;5;28mself\u001b[39m\u001b[38;5;241m.\u001b[39m_compiled_call_impl(\u001b[38;5;241m*\u001b[39margs, \u001b[38;5;241m*\u001b[39m\u001b[38;5;241m*\u001b[39mkwargs)  \u001b[38;5;66;03m# type: ignore[misc]\u001b[39;00m\n\u001b[1;32m   1510\u001b[0m \u001b[38;5;28;01melse\u001b[39;00m:\n\u001b[0;32m-> 1511\u001b[0m     \u001b[38;5;28;01mreturn\u001b[39;00m \u001b[38;5;28;43mself\u001b[39;49m\u001b[38;5;241;43m.\u001b[39;49m\u001b[43m_call_impl\u001b[49m\u001b[43m(\u001b[49m\u001b[38;5;241;43m*\u001b[39;49m\u001b[43margs\u001b[49m\u001b[43m,\u001b[49m\u001b[43m \u001b[49m\u001b[38;5;241;43m*\u001b[39;49m\u001b[38;5;241;43m*\u001b[39;49m\u001b[43mkwargs\u001b[49m\u001b[43m)\u001b[49m\n",
            "File \u001b[0;32m~/miniconda3/envs/aimet2/lib/python3.10/site-packages/torch/nn/modules/module.py:1520\u001b[0m, in \u001b[0;36mModule._call_impl\u001b[0;34m(self, *args, **kwargs)\u001b[0m\n\u001b[1;32m   1515\u001b[0m \u001b[38;5;66;03m# If we don't have any hooks, we want to skip the rest of the logic in\u001b[39;00m\n\u001b[1;32m   1516\u001b[0m \u001b[38;5;66;03m# this function, and just call forward.\u001b[39;00m\n\u001b[1;32m   1517\u001b[0m \u001b[38;5;28;01mif\u001b[39;00m \u001b[38;5;129;01mnot\u001b[39;00m (\u001b[38;5;28mself\u001b[39m\u001b[38;5;241m.\u001b[39m_backward_hooks \u001b[38;5;129;01mor\u001b[39;00m \u001b[38;5;28mself\u001b[39m\u001b[38;5;241m.\u001b[39m_backward_pre_hooks \u001b[38;5;129;01mor\u001b[39;00m \u001b[38;5;28mself\u001b[39m\u001b[38;5;241m.\u001b[39m_forward_hooks \u001b[38;5;129;01mor\u001b[39;00m \u001b[38;5;28mself\u001b[39m\u001b[38;5;241m.\u001b[39m_forward_pre_hooks\n\u001b[1;32m   1518\u001b[0m         \u001b[38;5;129;01mor\u001b[39;00m _global_backward_pre_hooks \u001b[38;5;129;01mor\u001b[39;00m _global_backward_hooks\n\u001b[1;32m   1519\u001b[0m         \u001b[38;5;129;01mor\u001b[39;00m _global_forward_hooks \u001b[38;5;129;01mor\u001b[39;00m _global_forward_pre_hooks):\n\u001b[0;32m-> 1520\u001b[0m     \u001b[38;5;28;01mreturn\u001b[39;00m \u001b[43mforward_call\u001b[49m\u001b[43m(\u001b[49m\u001b[38;5;241;43m*\u001b[39;49m\u001b[43margs\u001b[49m\u001b[43m,\u001b[49m\u001b[43m \u001b[49m\u001b[38;5;241;43m*\u001b[39;49m\u001b[38;5;241;43m*\u001b[39;49m\u001b[43mkwargs\u001b[49m\u001b[43m)\u001b[49m\n\u001b[1;32m   1522\u001b[0m \u001b[38;5;28;01mtry\u001b[39;00m:\n\u001b[1;32m   1523\u001b[0m     result \u001b[38;5;241m=\u001b[39m \u001b[38;5;28;01mNone\u001b[39;00m\n",
            "File \u001b[0;32m~/miniconda3/envs/aimet2/lib/python3.10/site-packages/torch/nn/modules/container.py:217\u001b[0m, in \u001b[0;36mSequential.forward\u001b[0;34m(self, input)\u001b[0m\n\u001b[1;32m    215\u001b[0m \u001b[38;5;28;01mdef\u001b[39;00m \u001b[38;5;21mforward\u001b[39m(\u001b[38;5;28mself\u001b[39m, \u001b[38;5;28minput\u001b[39m):\n\u001b[1;32m    216\u001b[0m     \u001b[38;5;28;01mfor\u001b[39;00m module \u001b[38;5;129;01min\u001b[39;00m \u001b[38;5;28mself\u001b[39m:\n\u001b[0;32m--> 217\u001b[0m         \u001b[38;5;28minput\u001b[39m \u001b[38;5;241m=\u001b[39m \u001b[43mmodule\u001b[49m\u001b[43m(\u001b[49m\u001b[38;5;28;43minput\u001b[39;49m\u001b[43m)\u001b[49m\n\u001b[1;32m    218\u001b[0m     \u001b[38;5;28;01mreturn\u001b[39;00m \u001b[38;5;28minput\u001b[39m\n",
            "File \u001b[0;32m~/miniconda3/envs/aimet2/lib/python3.10/site-packages/torch/nn/modules/module.py:1511\u001b[0m, in \u001b[0;36mModule._wrapped_call_impl\u001b[0;34m(self, *args, **kwargs)\u001b[0m\n\u001b[1;32m   1509\u001b[0m     \u001b[38;5;28;01mreturn\u001b[39;00m \u001b[38;5;28mself\u001b[39m\u001b[38;5;241m.\u001b[39m_compiled_call_impl(\u001b[38;5;241m*\u001b[39margs, \u001b[38;5;241m*\u001b[39m\u001b[38;5;241m*\u001b[39mkwargs)  \u001b[38;5;66;03m# type: ignore[misc]\u001b[39;00m\n\u001b[1;32m   1510\u001b[0m \u001b[38;5;28;01melse\u001b[39;00m:\n\u001b[0;32m-> 1511\u001b[0m     \u001b[38;5;28;01mreturn\u001b[39;00m \u001b[38;5;28;43mself\u001b[39;49m\u001b[38;5;241;43m.\u001b[39;49m\u001b[43m_call_impl\u001b[49m\u001b[43m(\u001b[49m\u001b[38;5;241;43m*\u001b[39;49m\u001b[43margs\u001b[49m\u001b[43m,\u001b[49m\u001b[43m \u001b[49m\u001b[38;5;241;43m*\u001b[39;49m\u001b[38;5;241;43m*\u001b[39;49m\u001b[43mkwargs\u001b[49m\u001b[43m)\u001b[49m\n",
            "File \u001b[0;32m~/miniconda3/envs/aimet2/lib/python3.10/site-packages/torch/nn/modules/module.py:1520\u001b[0m, in \u001b[0;36mModule._call_impl\u001b[0;34m(self, *args, **kwargs)\u001b[0m\n\u001b[1;32m   1515\u001b[0m \u001b[38;5;66;03m# If we don't have any hooks, we want to skip the rest of the logic in\u001b[39;00m\n\u001b[1;32m   1516\u001b[0m \u001b[38;5;66;03m# this function, and just call forward.\u001b[39;00m\n\u001b[1;32m   1517\u001b[0m \u001b[38;5;28;01mif\u001b[39;00m \u001b[38;5;129;01mnot\u001b[39;00m (\u001b[38;5;28mself\u001b[39m\u001b[38;5;241m.\u001b[39m_backward_hooks \u001b[38;5;129;01mor\u001b[39;00m \u001b[38;5;28mself\u001b[39m\u001b[38;5;241m.\u001b[39m_backward_pre_hooks \u001b[38;5;129;01mor\u001b[39;00m \u001b[38;5;28mself\u001b[39m\u001b[38;5;241m.\u001b[39m_forward_hooks \u001b[38;5;129;01mor\u001b[39;00m \u001b[38;5;28mself\u001b[39m\u001b[38;5;241m.\u001b[39m_forward_pre_hooks\n\u001b[1;32m   1518\u001b[0m         \u001b[38;5;129;01mor\u001b[39;00m _global_backward_pre_hooks \u001b[38;5;129;01mor\u001b[39;00m _global_backward_hooks\n\u001b[1;32m   1519\u001b[0m         \u001b[38;5;129;01mor\u001b[39;00m _global_forward_hooks \u001b[38;5;129;01mor\u001b[39;00m _global_forward_pre_hooks):\n\u001b[0;32m-> 1520\u001b[0m     \u001b[38;5;28;01mreturn\u001b[39;00m \u001b[43mforward_call\u001b[49m\u001b[43m(\u001b[49m\u001b[38;5;241;43m*\u001b[39;49m\u001b[43margs\u001b[49m\u001b[43m,\u001b[49m\u001b[43m \u001b[49m\u001b[38;5;241;43m*\u001b[39;49m\u001b[38;5;241;43m*\u001b[39;49m\u001b[43mkwargs\u001b[49m\u001b[43m)\u001b[49m\n\u001b[1;32m   1522\u001b[0m \u001b[38;5;28;01mtry\u001b[39;00m:\n\u001b[1;32m   1523\u001b[0m     result \u001b[38;5;241m=\u001b[39m \u001b[38;5;28;01mNone\u001b[39;00m\n",
            "File \u001b[0;32m~/miniconda3/envs/aimet2/lib/python3.10/site-packages/mmcv/cnn/bricks/conv_module.py:281\u001b[0m, in \u001b[0;36mConvModule.forward\u001b[0;34m(self, x, activate, norm)\u001b[0m\n\u001b[1;32m    279\u001b[0m         \u001b[38;5;28;01mdel\u001b[39;00m \u001b[38;5;28mself\u001b[39m\u001b[38;5;241m.\u001b[39mconv\u001b[38;5;241m.\u001b[39mforward\n\u001b[1;32m    280\u001b[0m     \u001b[38;5;28;01melse\u001b[39;00m:\n\u001b[0;32m--> 281\u001b[0m         x \u001b[38;5;241m=\u001b[39m \u001b[38;5;28;43mself\u001b[39;49m\u001b[38;5;241;43m.\u001b[39;49m\u001b[43mconv\u001b[49m\u001b[43m(\u001b[49m\u001b[43mx\u001b[49m\u001b[43m)\u001b[49m\n\u001b[1;32m    282\u001b[0m \u001b[38;5;28;01melif\u001b[39;00m layer \u001b[38;5;241m==\u001b[39m \u001b[38;5;124m'\u001b[39m\u001b[38;5;124mnorm\u001b[39m\u001b[38;5;124m'\u001b[39m \u001b[38;5;129;01mand\u001b[39;00m norm \u001b[38;5;129;01mand\u001b[39;00m \u001b[38;5;28mself\u001b[39m\u001b[38;5;241m.\u001b[39mwith_norm:\n\u001b[1;32m    283\u001b[0m     x \u001b[38;5;241m=\u001b[39m \u001b[38;5;28mself\u001b[39m\u001b[38;5;241m.\u001b[39mnorm(x)\n",
            "File \u001b[0;32m~/miniconda3/envs/aimet2/lib/python3.10/site-packages/torch/nn/modules/module.py:1511\u001b[0m, in \u001b[0;36mModule._wrapped_call_impl\u001b[0;34m(self, *args, **kwargs)\u001b[0m\n\u001b[1;32m   1509\u001b[0m     \u001b[38;5;28;01mreturn\u001b[39;00m \u001b[38;5;28mself\u001b[39m\u001b[38;5;241m.\u001b[39m_compiled_call_impl(\u001b[38;5;241m*\u001b[39margs, \u001b[38;5;241m*\u001b[39m\u001b[38;5;241m*\u001b[39mkwargs)  \u001b[38;5;66;03m# type: ignore[misc]\u001b[39;00m\n\u001b[1;32m   1510\u001b[0m \u001b[38;5;28;01melse\u001b[39;00m:\n\u001b[0;32m-> 1511\u001b[0m     \u001b[38;5;28;01mreturn\u001b[39;00m \u001b[38;5;28;43mself\u001b[39;49m\u001b[38;5;241;43m.\u001b[39;49m\u001b[43m_call_impl\u001b[49m\u001b[43m(\u001b[49m\u001b[38;5;241;43m*\u001b[39;49m\u001b[43margs\u001b[49m\u001b[43m,\u001b[49m\u001b[43m \u001b[49m\u001b[38;5;241;43m*\u001b[39;49m\u001b[38;5;241;43m*\u001b[39;49m\u001b[43mkwargs\u001b[49m\u001b[43m)\u001b[49m\n",
            "File \u001b[0;32m~/miniconda3/envs/aimet2/lib/python3.10/site-packages/torch/nn/modules/module.py:1520\u001b[0m, in \u001b[0;36mModule._call_impl\u001b[0;34m(self, *args, **kwargs)\u001b[0m\n\u001b[1;32m   1515\u001b[0m \u001b[38;5;66;03m# If we don't have any hooks, we want to skip the rest of the logic in\u001b[39;00m\n\u001b[1;32m   1516\u001b[0m \u001b[38;5;66;03m# this function, and just call forward.\u001b[39;00m\n\u001b[1;32m   1517\u001b[0m \u001b[38;5;28;01mif\u001b[39;00m \u001b[38;5;129;01mnot\u001b[39;00m (\u001b[38;5;28mself\u001b[39m\u001b[38;5;241m.\u001b[39m_backward_hooks \u001b[38;5;129;01mor\u001b[39;00m \u001b[38;5;28mself\u001b[39m\u001b[38;5;241m.\u001b[39m_backward_pre_hooks \u001b[38;5;129;01mor\u001b[39;00m \u001b[38;5;28mself\u001b[39m\u001b[38;5;241m.\u001b[39m_forward_hooks \u001b[38;5;129;01mor\u001b[39;00m \u001b[38;5;28mself\u001b[39m\u001b[38;5;241m.\u001b[39m_forward_pre_hooks\n\u001b[1;32m   1518\u001b[0m         \u001b[38;5;129;01mor\u001b[39;00m _global_backward_pre_hooks \u001b[38;5;129;01mor\u001b[39;00m _global_backward_hooks\n\u001b[1;32m   1519\u001b[0m         \u001b[38;5;129;01mor\u001b[39;00m _global_forward_hooks \u001b[38;5;129;01mor\u001b[39;00m _global_forward_pre_hooks):\n\u001b[0;32m-> 1520\u001b[0m     \u001b[38;5;28;01mreturn\u001b[39;00m \u001b[43mforward_call\u001b[49m\u001b[43m(\u001b[49m\u001b[38;5;241;43m*\u001b[39;49m\u001b[43margs\u001b[49m\u001b[43m,\u001b[49m\u001b[43m \u001b[49m\u001b[38;5;241;43m*\u001b[39;49m\u001b[38;5;241;43m*\u001b[39;49m\u001b[43mkwargs\u001b[49m\u001b[43m)\u001b[49m\n\u001b[1;32m   1522\u001b[0m \u001b[38;5;28;01mtry\u001b[39;00m:\n\u001b[1;32m   1523\u001b[0m     result \u001b[38;5;241m=\u001b[39m \u001b[38;5;28;01mNone\u001b[39;00m\n",
            "File \u001b[0;32m~/miniconda3/envs/aimet2/lib/python3.10/site-packages/torch/nn/modules/conv.py:462\u001b[0m, in \u001b[0;36mConv2d.forward\u001b[0;34m(self, input)\u001b[0m\n\u001b[1;32m    461\u001b[0m \u001b[38;5;28;01mdef\u001b[39;00m \u001b[38;5;21mforward\u001b[39m(\u001b[38;5;28mself\u001b[39m, \u001b[38;5;28minput\u001b[39m: Tensor) \u001b[38;5;241m-\u001b[39m\u001b[38;5;241m>\u001b[39m Tensor:\n\u001b[0;32m--> 462\u001b[0m     \u001b[38;5;28;01mreturn\u001b[39;00m \u001b[38;5;28;43mself\u001b[39;49m\u001b[38;5;241;43m.\u001b[39;49m\u001b[43m_conv_forward\u001b[49m\u001b[43m(\u001b[49m\u001b[38;5;28;43minput\u001b[39;49m\u001b[43m,\u001b[49m\u001b[43m \u001b[49m\u001b[38;5;28;43mself\u001b[39;49m\u001b[38;5;241;43m.\u001b[39;49m\u001b[43mweight\u001b[49m\u001b[43m,\u001b[49m\u001b[43m \u001b[49m\u001b[38;5;28;43mself\u001b[39;49m\u001b[38;5;241;43m.\u001b[39;49m\u001b[43mbias\u001b[49m\u001b[43m)\u001b[49m\n",
            "File \u001b[0;32m~/miniconda3/envs/aimet2/lib/python3.10/site-packages/torch/nn/modules/conv.py:458\u001b[0m, in \u001b[0;36mConv2d._conv_forward\u001b[0;34m(self, input, weight, bias)\u001b[0m\n\u001b[1;32m    453\u001b[0m     \u001b[38;5;28;01mreturn\u001b[39;00m F\u001b[38;5;241m.\u001b[39mconv2d(F\u001b[38;5;241m.\u001b[39mpad(\u001b[38;5;28minput\u001b[39m, \u001b[38;5;28mself\u001b[39m\u001b[38;5;241m.\u001b[39m_reversed_padding_repeated_twice, mode\u001b[38;5;241m=\u001b[39m\u001b[38;5;28mself\u001b[39m\u001b[38;5;241m.\u001b[39mpadding_mode),\n\u001b[1;32m    454\u001b[0m                     weight, bias, \u001b[38;5;28mself\u001b[39m\u001b[38;5;241m.\u001b[39mstride,\n\u001b[1;32m    455\u001b[0m                     _pair(\u001b[38;5;241m0\u001b[39m), \u001b[38;5;28mself\u001b[39m\u001b[38;5;241m.\u001b[39mdilation, \u001b[38;5;28mself\u001b[39m\u001b[38;5;241m.\u001b[39mgroups)\n\u001b[1;32m    456\u001b[0m \u001b[38;5;66;03m# print(input.dtype, weight.dtype)\u001b[39;00m\n\u001b[1;32m    457\u001b[0m \u001b[38;5;66;03m# print(\"________________-------------_________________-\")\u001b[39;00m\n\u001b[0;32m--> 458\u001b[0m \u001b[38;5;28;01mreturn\u001b[39;00m \u001b[43mF\u001b[49m\u001b[38;5;241;43m.\u001b[39;49m\u001b[43mconv2d\u001b[49m\u001b[43m(\u001b[49m\u001b[38;5;28;43minput\u001b[39;49m\u001b[43m,\u001b[49m\u001b[43m \u001b[49m\u001b[43mweight\u001b[49m\u001b[43m,\u001b[49m\u001b[43m \u001b[49m\u001b[43mbias\u001b[49m\u001b[43m,\u001b[49m\u001b[43m \u001b[49m\u001b[38;5;28;43mself\u001b[39;49m\u001b[38;5;241;43m.\u001b[39;49m\u001b[43mstride\u001b[49m\u001b[43m,\u001b[49m\n\u001b[1;32m    459\u001b[0m \u001b[43m                \u001b[49m\u001b[38;5;28;43mself\u001b[39;49m\u001b[38;5;241;43m.\u001b[39;49m\u001b[43mpadding\u001b[49m\u001b[43m,\u001b[49m\u001b[43m \u001b[49m\u001b[38;5;28;43mself\u001b[39;49m\u001b[38;5;241;43m.\u001b[39;49m\u001b[43mdilation\u001b[49m\u001b[43m,\u001b[49m\u001b[43m \u001b[49m\u001b[38;5;28;43mself\u001b[39;49m\u001b[38;5;241;43m.\u001b[39;49m\u001b[43mgroups\u001b[49m\u001b[43m)\u001b[49m\n",
            "\u001b[0;31mRuntimeError\u001b[0m: expected scalar type Byte but found Float"
          ]
        }
      ],
      "source": [
        "accuracy = eval_callback(model)\n",
        "\n",
        "print(f'- FP32 accuracy: {accuracy}')"
      ]
    },
    {
      "cell_type": "code",
      "execution_count": 111,
      "metadata": {},
      "outputs": [],
      "source": [
        "# from torchvision.models import resnet18\n",
        "\n",
        "# model = resnet18(pretrained=True).eval()\n"
      ]
    },
    {
      "cell_type": "markdown",
      "metadata": {
        "id": "OUI0S_bRWb9E"
      },
      "source": [
        "## 3. Run AutoQuant\n",
        "### Create AutoQuant Object\n",
        "\n",
        "The AutoQuant feature utilizes an unlabeled dataset to achieve quantization. The class **UnlabeledDatasetWrapper** creates an unlabeled Dataset object from a labeled Dataset."
      ]
    },
    {
      "cell_type": "code",
      "execution_count": 1,
      "metadata": {},
      "outputs": [
        {
          "ename": "NameError",
          "evalue": "name 'Compose' is not defined",
          "output_type": "error",
          "traceback": [
            "\u001b[0;31m---------------------------------------------------------------------------\u001b[0m",
            "\u001b[0;31mNameError\u001b[0m                                 Traceback (most recent call last)",
            "Cell \u001b[0;32mIn[1], line 1\u001b[0m\n\u001b[0;32m----> 1\u001b[0m transform \u001b[38;5;241m=\u001b[39m \u001b[43mCompose\u001b[49m([\n\u001b[1;32m      2\u001b[0m     transforms\u001b[38;5;241m.\u001b[39mToTensor(),\n\u001b[1;32m      3\u001b[0m     transforms\u001b[38;5;241m.\u001b[39mResize((\u001b[38;5;241m640\u001b[39m, \u001b[38;5;241m640\u001b[39m)),\n\u001b[1;32m      4\u001b[0m ])\n\u001b[1;32m      6\u001b[0m \u001b[38;5;28;01mclass\u001b[39;00m \u001b[38;5;21;01mUnlabeledDatasetWrapper\u001b[39;00m(Dataset):\n\u001b[1;32m      7\u001b[0m     \u001b[38;5;28;01mdef\u001b[39;00m \u001b[38;5;21m__init__\u001b[39m(\u001b[38;5;28mself\u001b[39m, dataset, transform\u001b[38;5;241m=\u001b[39m\u001b[38;5;28;01mNone\u001b[39;00m):\n",
            "\u001b[0;31mNameError\u001b[0m: name 'Compose' is not defined"
          ]
        }
      ],
      "source": [
        "transform = Compose([\n",
        "    transforms.ToTensor(),\n",
        "    transforms.Resize((640, 640)),\n",
        "])\n",
        "\n",
        "class UnlabeledDatasetWrapper(Dataset):\n",
        "    def __init__(self, dataset, transform=None):\n",
        "        self._dataset = list(dataset)[:10]\n",
        "\n",
        "    def __len__(self):\n",
        "        return len(self._dataset)\n",
        "\n",
        "    def __getitem__(self, index):\n",
        "        image_id, image_path = self._dataset[index]\n",
        "        image = cv2.imread(image_path)\n",
        "        image = cv2.cvtColor(image, cv2.COLOR_BGR2RGB)\n",
        "        if self.transform:\n",
        "            image = self.transform(image)\n",
        "\n",
        "        transformed_images = transform(image)\n",
        "        return image_id, image_path, transformed_images\n",
        "    \n",
        "# next(iter(DataLoader(UnlabeledDatasetWrapper(calibrationDataset), 10)))\n",
        "# next(iter(UnlabeledDatasetWrapper(calibrationDataset)))"
      ]
    },
    {
      "cell_type": "code",
      "execution_count": 156,
      "metadata": {
        "id": "5NtMfprwWb9E",
        "pycharm": {
          "name": "#%%\n"
        }
      },
      "outputs": [],
      "source": [
        "from aimet_torch.auto_quant import AutoQuant\n",
        "\n",
        "\n",
        "\n",
        "data_loader = DataLoader(UnlabeledDatasetWrapper(calibrationDataset))\n",
        "def new_eval_callback(model: torch.nn.Module, num_samples: Optional[int] = None) -> float:\n",
        "    if num_samples is None:\n",
        "        num_samples = EVAL_DATASET_SIZE\n",
        "\n",
        "    device = get_device(model)\n",
        "\n",
        "    correct = 0\n",
        "    eval_metrics = []\n",
        "    for image_id, _, image in tqdm(data_loader):\n",
        "        image = image.numpy()[0]\n",
        "        image_dict = preprocess(test_pipeline, image)\n",
        "        data_samples = image_dict['data_samples']\n",
        "        image = image_dict['inputs'].reshape(1, 3, 640, 640).float()\n",
        "        preds = model(image)\n",
        "        batch_img_metas = [data_samples.metainfo]\n",
        "        predictions = predict_by_feat(\n",
        "            *preds, batch_img_metas=batch_img_metas)\n",
        "\n",
        "        new_pred = InstanceData(metainfo={\"img_id\": int(image_id)})\n",
        "        new_pred.bboxes = predictions[0].bboxes\n",
        "        new_pred.labels = predictions[0].labels\n",
        "        new_pred.scores = predictions[0].scores\n",
        "        new_pred = [new_pred]\n",
        "        eval_results = test_evaluator(new_pred)\n",
        "        eval_metrics.append(eval_results)\n",
        "\n",
        "    return correct / num_samples\n",
        "\n",
        "\n",
        "auto_quant = AutoQuant(sim_model,\n",
        "                       dummy_input=dummy_input,\n",
        "                       data_loader=data_loader,\n",
        "                       eval_callback=new_eval_callback)"
      ]
    },
    {
      "cell_type": "markdown",
      "metadata": {
        "id": "9zufGu-VWb9F"
      },
      "source": [
        "### Run AutoQuant Inference\n",
        "This step runs AutoQuant inference. AutoQuant inference will run evaluation using the **eval_callback** with the vanilla quantized model without applying PTQ techniques. This will be useful for measuring the baseline evaluation score before running AutoQuant optimization."
      ]
    },
    {
      "cell_type": "code",
      "execution_count": 157,
      "metadata": {
        "colab": {
          "base_uri": "https://localhost:8080/",
          "height": 1000
        },
        "id": "aXf7J3FBWb9F",
        "outputId": "a260133a-93dd-4656-9efc-7c56e284e555"
      },
      "outputs": [
        {
          "name": "stderr",
          "output_type": "stream",
          "text": [
            "               \r"
          ]
        },
        {
          "name": "stdout",
          "output_type": "stream",
          "text": [
            "2024-07-29 13:51:42,374 - ModelPreparer - INFO - Functional         : Adding new module for node: {module_batch_norm} \n"
          ]
        },
        {
          "name": "stderr",
          "output_type": "stream",
          "text": [
            "               \r"
          ]
        },
        {
          "name": "stdout",
          "output_type": "stream",
          "text": [
            "2024-07-29 13:51:42,376 - ModelPreparer - INFO - Functional         : Adding new module for node: {module_mul} \n"
          ]
        },
        {
          "name": "stderr",
          "output_type": "stream",
          "text": [
            "               \r"
          ]
        },
        {
          "name": "stdout",
          "output_type": "stream",
          "text": [
            "2024-07-29 13:51:42,377 - ModelPreparer - INFO - Functional         : Adding new module for node: {module_batch_norm_1} \n"
          ]
        },
        {
          "name": "stderr",
          "output_type": "stream",
          "text": [
            "               \r"
          ]
        },
        {
          "name": "stdout",
          "output_type": "stream",
          "text": [
            "2024-07-29 13:51:42,378 - ModelPreparer - INFO - Functional         : Adding new module for node: {module_mul_1} \n"
          ]
        },
        {
          "name": "stderr",
          "output_type": "stream",
          "text": [
            "               \r"
          ]
        },
        {
          "name": "stdout",
          "output_type": "stream",
          "text": [
            "2024-07-29 13:51:42,379 - ModelPreparer - INFO - Functional         : Adding new module for node: {module_batch_norm_2} \n"
          ]
        },
        {
          "name": "stderr",
          "output_type": "stream",
          "text": [
            "               \r"
          ]
        },
        {
          "name": "stdout",
          "output_type": "stream",
          "text": [
            "2024-07-29 13:51:42,380 - ModelPreparer - INFO - Functional         : Adding new module for node: {module_mul_2} \n"
          ]
        },
        {
          "name": "stderr",
          "output_type": "stream",
          "text": [
            "               \r"
          ]
        },
        {
          "name": "stdout",
          "output_type": "stream",
          "text": [
            "2024-07-29 13:51:42,381 - ModelPreparer - INFO - Functional         : Adding new module for node: {module_batch_norm_3} \n"
          ]
        },
        {
          "name": "stderr",
          "output_type": "stream",
          "text": [
            "               \r"
          ]
        },
        {
          "name": "stdout",
          "output_type": "stream",
          "text": [
            "2024-07-29 13:51:42,382 - ModelPreparer - INFO - Functional         : Adding new module for node: {module_mul_3} \n"
          ]
        },
        {
          "name": "stderr",
          "output_type": "stream",
          "text": [
            "               \r"
          ]
        },
        {
          "name": "stdout",
          "output_type": "stream",
          "text": [
            "2024-07-29 13:51:42,383 - ModelPreparer - INFO - Functional         : Adding new module for node: {module_batch_norm_4} \n"
          ]
        },
        {
          "name": "stderr",
          "output_type": "stream",
          "text": [
            "               \r"
          ]
        },
        {
          "name": "stdout",
          "output_type": "stream",
          "text": [
            "2024-07-29 13:51:42,384 - ModelPreparer - INFO - Functional         : Adding new module for node: {module_mul_4} \n"
          ]
        },
        {
          "name": "stderr",
          "output_type": "stream",
          "text": [
            "               \r"
          ]
        },
        {
          "name": "stdout",
          "output_type": "stream",
          "text": [
            "2024-07-29 13:51:42,385 - ModelPreparer - INFO - Functional         : Adding new module for node: {module_batch_norm_5} \n"
          ]
        },
        {
          "name": "stderr",
          "output_type": "stream",
          "text": [
            "               \r"
          ]
        },
        {
          "name": "stdout",
          "output_type": "stream",
          "text": [
            "2024-07-29 13:51:42,386 - ModelPreparer - INFO - Functional         : Adding new module for node: {module_mul_5} \n"
          ]
        },
        {
          "name": "stderr",
          "output_type": "stream",
          "text": [
            "               \r"
          ]
        },
        {
          "name": "stdout",
          "output_type": "stream",
          "text": [
            "2024-07-29 13:51:42,388 - ModelPreparer - INFO - Functional         : Adding new module for node: {module_batch_norm_6} \n"
          ]
        },
        {
          "name": "stderr",
          "output_type": "stream",
          "text": [
            "               \r"
          ]
        },
        {
          "name": "stdout",
          "output_type": "stream",
          "text": [
            "2024-07-29 13:51:42,389 - ModelPreparer - INFO - Functional         : Adding new module for node: {module_mul_6} \n"
          ]
        },
        {
          "name": "stderr",
          "output_type": "stream",
          "text": [
            "               \r"
          ]
        },
        {
          "name": "stdout",
          "output_type": "stream",
          "text": [
            "2024-07-29 13:51:42,390 - ModelPreparer - INFO - Functional         : Adding new module for node: {module_batch_norm_7} \n"
          ]
        },
        {
          "name": "stderr",
          "output_type": "stream",
          "text": [
            "               \r"
          ]
        },
        {
          "name": "stdout",
          "output_type": "stream",
          "text": [
            "2024-07-29 13:51:42,391 - ModelPreparer - INFO - Functional         : Adding new module for node: {module_mul_7} \n"
          ]
        },
        {
          "name": "stderr",
          "output_type": "stream",
          "text": [
            "               \r"
          ]
        },
        {
          "name": "stdout",
          "output_type": "stream",
          "text": [
            "2024-07-29 13:51:42,392 - ModelPreparer - INFO - Functional         : Adding new module for node: {module_batch_norm_8} \n"
          ]
        },
        {
          "name": "stderr",
          "output_type": "stream",
          "text": [
            "               \r"
          ]
        },
        {
          "name": "stdout",
          "output_type": "stream",
          "text": [
            "2024-07-29 13:51:42,393 - ModelPreparer - INFO - Functional         : Adding new module for node: {module_mul_8} \n"
          ]
        },
        {
          "name": "stderr",
          "output_type": "stream",
          "text": [
            "               \r"
          ]
        },
        {
          "name": "stdout",
          "output_type": "stream",
          "text": [
            "2024-07-29 13:51:42,394 - ModelPreparer - INFO - Functional         : Adding new module for node: {module_add} \n"
          ]
        },
        {
          "name": "stderr",
          "output_type": "stream",
          "text": [
            "               \r"
          ]
        },
        {
          "name": "stdout",
          "output_type": "stream",
          "text": [
            "2024-07-29 13:51:42,395 - ModelPreparer - INFO - Functional         : Adding new module for node: {module_cat} \n"
          ]
        },
        {
          "name": "stderr",
          "output_type": "stream",
          "text": [
            "               \r"
          ]
        },
        {
          "name": "stdout",
          "output_type": "stream",
          "text": [
            "2024-07-29 13:51:42,396 - ModelPreparer - INFO - Functional         : Adding new module for node: {module_mul_9} \n"
          ]
        },
        {
          "name": "stderr",
          "output_type": "stream",
          "text": [
            "               \r"
          ]
        },
        {
          "name": "stdout",
          "output_type": "stream",
          "text": [
            "2024-07-29 13:51:42,397 - ModelPreparer - INFO - Functional         : Adding new module for node: {module_batch_norm_9} \n"
          ]
        },
        {
          "name": "stderr",
          "output_type": "stream",
          "text": [
            "               \r"
          ]
        },
        {
          "name": "stdout",
          "output_type": "stream",
          "text": [
            "2024-07-29 13:51:42,398 - ModelPreparer - INFO - Functional         : Adding new module for node: {module_mul_10} \n"
          ]
        },
        {
          "name": "stderr",
          "output_type": "stream",
          "text": [
            "               \r"
          ]
        },
        {
          "name": "stdout",
          "output_type": "stream",
          "text": [
            "2024-07-29 13:51:42,399 - ModelPreparer - INFO - Functional         : Adding new module for node: {module_batch_norm_10} \n"
          ]
        },
        {
          "name": "stderr",
          "output_type": "stream",
          "text": [
            "               \r"
          ]
        },
        {
          "name": "stdout",
          "output_type": "stream",
          "text": [
            "2024-07-29 13:51:42,401 - ModelPreparer - INFO - Functional         : Adding new module for node: {module_mul_11} \n"
          ]
        },
        {
          "name": "stderr",
          "output_type": "stream",
          "text": [
            "               \r"
          ]
        },
        {
          "name": "stdout",
          "output_type": "stream",
          "text": [
            "2024-07-29 13:51:42,402 - ModelPreparer - INFO - Functional         : Adding new module for node: {module_batch_norm_11} \n"
          ]
        },
        {
          "name": "stderr",
          "output_type": "stream",
          "text": [
            "               \r"
          ]
        },
        {
          "name": "stdout",
          "output_type": "stream",
          "text": [
            "2024-07-29 13:51:42,403 - ModelPreparer - INFO - Functional         : Adding new module for node: {module_mul_12} \n"
          ]
        },
        {
          "name": "stderr",
          "output_type": "stream",
          "text": [
            "               \r"
          ]
        },
        {
          "name": "stdout",
          "output_type": "stream",
          "text": [
            "2024-07-29 13:51:42,404 - ModelPreparer - INFO - Functional         : Adding new module for node: {module_batch_norm_12} \n"
          ]
        },
        {
          "name": "stderr",
          "output_type": "stream",
          "text": [
            "               \r"
          ]
        },
        {
          "name": "stdout",
          "output_type": "stream",
          "text": [
            "2024-07-29 13:51:42,405 - ModelPreparer - INFO - Functional         : Adding new module for node: {module_mul_13} \n"
          ]
        },
        {
          "name": "stderr",
          "output_type": "stream",
          "text": [
            "               \r"
          ]
        },
        {
          "name": "stdout",
          "output_type": "stream",
          "text": [
            "2024-07-29 13:51:42,406 - ModelPreparer - INFO - Functional         : Adding new module for node: {module_batch_norm_13} \n"
          ]
        },
        {
          "name": "stderr",
          "output_type": "stream",
          "text": [
            "               \r"
          ]
        },
        {
          "name": "stdout",
          "output_type": "stream",
          "text": [
            "2024-07-29 13:51:42,407 - ModelPreparer - INFO - Functional         : Adding new module for node: {module_mul_14} \n"
          ]
        },
        {
          "name": "stderr",
          "output_type": "stream",
          "text": [
            "               \r"
          ]
        },
        {
          "name": "stdout",
          "output_type": "stream",
          "text": [
            "2024-07-29 13:51:42,408 - ModelPreparer - INFO - Functional         : Adding new module for node: {module_batch_norm_14} \n"
          ]
        },
        {
          "name": "stderr",
          "output_type": "stream",
          "text": [
            "               \r"
          ]
        },
        {
          "name": "stdout",
          "output_type": "stream",
          "text": [
            "2024-07-29 13:51:42,409 - ModelPreparer - INFO - Functional         : Adding new module for node: {module_mul_15} \n"
          ]
        },
        {
          "name": "stderr",
          "output_type": "stream",
          "text": [
            "               \r"
          ]
        },
        {
          "name": "stdout",
          "output_type": "stream",
          "text": [
            "2024-07-29 13:51:42,410 - ModelPreparer - INFO - Functional         : Adding new module for node: {module_batch_norm_15} \n"
          ]
        },
        {
          "name": "stderr",
          "output_type": "stream",
          "text": [
            "               \r"
          ]
        },
        {
          "name": "stdout",
          "output_type": "stream",
          "text": [
            "2024-07-29 13:51:42,411 - ModelPreparer - INFO - Functional         : Adding new module for node: {module_mul_16} \n"
          ]
        },
        {
          "name": "stderr",
          "output_type": "stream",
          "text": [
            "               \r"
          ]
        },
        {
          "name": "stdout",
          "output_type": "stream",
          "text": [
            "2024-07-29 13:51:42,412 - ModelPreparer - INFO - Functional         : Adding new module for node: {module_add_1} \n"
          ]
        },
        {
          "name": "stderr",
          "output_type": "stream",
          "text": [
            "               \r"
          ]
        },
        {
          "name": "stdout",
          "output_type": "stream",
          "text": [
            "2024-07-29 13:51:42,413 - ModelPreparer - INFO - Functional         : Adding new module for node: {module_cat_1} \n"
          ]
        },
        {
          "name": "stderr",
          "output_type": "stream",
          "text": [
            "               \r"
          ]
        },
        {
          "name": "stdout",
          "output_type": "stream",
          "text": [
            "2024-07-29 13:51:42,414 - ModelPreparer - INFO - Functional         : Adding new module for node: {module_mul_17} \n"
          ]
        },
        {
          "name": "stderr",
          "output_type": "stream",
          "text": [
            "               \r"
          ]
        },
        {
          "name": "stdout",
          "output_type": "stream",
          "text": [
            "2024-07-29 13:51:42,415 - ModelPreparer - INFO - Functional         : Adding new module for node: {module_batch_norm_16} \n"
          ]
        },
        {
          "name": "stderr",
          "output_type": "stream",
          "text": [
            "               \r"
          ]
        },
        {
          "name": "stdout",
          "output_type": "stream",
          "text": [
            "2024-07-29 13:51:42,416 - ModelPreparer - INFO - Functional         : Adding new module for node: {module_mul_18} \n"
          ]
        },
        {
          "name": "stderr",
          "output_type": "stream",
          "text": [
            "               \r"
          ]
        },
        {
          "name": "stdout",
          "output_type": "stream",
          "text": [
            "2024-07-29 13:51:42,417 - ModelPreparer - INFO - Functional         : Adding new module for node: {module_batch_norm_17} \n"
          ]
        },
        {
          "name": "stderr",
          "output_type": "stream",
          "text": [
            "               \r"
          ]
        },
        {
          "name": "stdout",
          "output_type": "stream",
          "text": [
            "2024-07-29 13:51:42,418 - ModelPreparer - INFO - Functional         : Adding new module for node: {module_mul_19} \n"
          ]
        },
        {
          "name": "stderr",
          "output_type": "stream",
          "text": [
            "               \r"
          ]
        },
        {
          "name": "stdout",
          "output_type": "stream",
          "text": [
            "2024-07-29 13:51:42,419 - ModelPreparer - INFO - Functional         : Adding new module for node: {module_batch_norm_18} \n"
          ]
        },
        {
          "name": "stderr",
          "output_type": "stream",
          "text": [
            "               \r"
          ]
        },
        {
          "name": "stdout",
          "output_type": "stream",
          "text": [
            "2024-07-29 13:51:42,420 - ModelPreparer - INFO - Functional         : Adding new module for node: {module_mul_20} \n"
          ]
        },
        {
          "name": "stderr",
          "output_type": "stream",
          "text": [
            "               \r"
          ]
        },
        {
          "name": "stdout",
          "output_type": "stream",
          "text": [
            "2024-07-29 13:51:42,422 - ModelPreparer - INFO - Functional         : Adding new module for node: {module_batch_norm_19} \n"
          ]
        },
        {
          "name": "stderr",
          "output_type": "stream",
          "text": [
            "               \r"
          ]
        },
        {
          "name": "stdout",
          "output_type": "stream",
          "text": [
            "2024-07-29 13:51:42,423 - ModelPreparer - INFO - Functional         : Adding new module for node: {module_mul_21} \n"
          ]
        },
        {
          "name": "stderr",
          "output_type": "stream",
          "text": [
            "               \r"
          ]
        },
        {
          "name": "stdout",
          "output_type": "stream",
          "text": [
            "2024-07-29 13:51:42,424 - ModelPreparer - INFO - Functional         : Adding new module for node: {module_batch_norm_20} \n"
          ]
        },
        {
          "name": "stderr",
          "output_type": "stream",
          "text": [
            "               \r"
          ]
        },
        {
          "name": "stdout",
          "output_type": "stream",
          "text": [
            "2024-07-29 13:51:42,425 - ModelPreparer - INFO - Functional         : Adding new module for node: {module_mul_22} \n"
          ]
        },
        {
          "name": "stderr",
          "output_type": "stream",
          "text": [
            "               \r"
          ]
        },
        {
          "name": "stdout",
          "output_type": "stream",
          "text": [
            "2024-07-29 13:51:42,426 - ModelPreparer - INFO - Functional         : Adding new module for node: {module_batch_norm_21} \n"
          ]
        },
        {
          "name": "stderr",
          "output_type": "stream",
          "text": [
            "               \r"
          ]
        },
        {
          "name": "stdout",
          "output_type": "stream",
          "text": [
            "2024-07-29 13:51:42,427 - ModelPreparer - INFO - Functional         : Adding new module for node: {module_mul_23} \n"
          ]
        },
        {
          "name": "stderr",
          "output_type": "stream",
          "text": [
            "               \r"
          ]
        },
        {
          "name": "stdout",
          "output_type": "stream",
          "text": [
            "2024-07-29 13:51:42,428 - ModelPreparer - INFO - Functional         : Adding new module for node: {module_batch_norm_22} \n"
          ]
        },
        {
          "name": "stderr",
          "output_type": "stream",
          "text": [
            "               \r"
          ]
        },
        {
          "name": "stdout",
          "output_type": "stream",
          "text": [
            "2024-07-29 13:51:42,429 - ModelPreparer - INFO - Functional         : Adding new module for node: {module_mul_24} \n"
          ]
        },
        {
          "name": "stderr",
          "output_type": "stream",
          "text": [
            "               \r"
          ]
        },
        {
          "name": "stdout",
          "output_type": "stream",
          "text": [
            "2024-07-29 13:51:42,430 - ModelPreparer - INFO - Functional         : Adding new module for node: {module_add_2} \n"
          ]
        },
        {
          "name": "stderr",
          "output_type": "stream",
          "text": [
            "               \r"
          ]
        },
        {
          "name": "stdout",
          "output_type": "stream",
          "text": [
            "2024-07-29 13:51:42,431 - ModelPreparer - INFO - Functional         : Adding new module for node: {module_cat_2} \n"
          ]
        },
        {
          "name": "stderr",
          "output_type": "stream",
          "text": [
            "               \r"
          ]
        },
        {
          "name": "stdout",
          "output_type": "stream",
          "text": [
            "2024-07-29 13:51:42,432 - ModelPreparer - INFO - Functional         : Adding new module for node: {module_mul_25} \n"
          ]
        },
        {
          "name": "stderr",
          "output_type": "stream",
          "text": [
            "               \r"
          ]
        },
        {
          "name": "stdout",
          "output_type": "stream",
          "text": [
            "2024-07-29 13:51:42,433 - ModelPreparer - INFO - Functional         : Adding new module for node: {module_batch_norm_23} \n"
          ]
        },
        {
          "name": "stderr",
          "output_type": "stream",
          "text": [
            "               \r"
          ]
        },
        {
          "name": "stdout",
          "output_type": "stream",
          "text": [
            "2024-07-29 13:51:42,434 - ModelPreparer - INFO - Functional         : Adding new module for node: {module_mul_26} \n"
          ]
        },
        {
          "name": "stderr",
          "output_type": "stream",
          "text": [
            "               \r"
          ]
        },
        {
          "name": "stdout",
          "output_type": "stream",
          "text": [
            "2024-07-29 13:51:42,435 - ModelPreparer - INFO - Functional         : Adding new module for node: {module_batch_norm_24} \n"
          ]
        },
        {
          "name": "stderr",
          "output_type": "stream",
          "text": [
            "               \r"
          ]
        },
        {
          "name": "stdout",
          "output_type": "stream",
          "text": [
            "2024-07-29 13:51:42,436 - ModelPreparer - INFO - Functional         : Adding new module for node: {module_mul_27} \n"
          ]
        },
        {
          "name": "stderr",
          "output_type": "stream",
          "text": [
            "               \r"
          ]
        },
        {
          "name": "stdout",
          "output_type": "stream",
          "text": [
            "2024-07-29 13:51:42,437 - ModelPreparer - INFO - Functional         : Adding new module for node: {module_batch_norm_25} \n"
          ]
        },
        {
          "name": "stderr",
          "output_type": "stream",
          "text": [
            "               \r"
          ]
        },
        {
          "name": "stdout",
          "output_type": "stream",
          "text": [
            "2024-07-29 13:51:42,439 - ModelPreparer - INFO - Functional         : Adding new module for node: {module_mul_28} \n"
          ]
        },
        {
          "name": "stderr",
          "output_type": "stream",
          "text": [
            "               \r"
          ]
        },
        {
          "name": "stdout",
          "output_type": "stream",
          "text": [
            "2024-07-29 13:51:42,440 - ModelPreparer - INFO - Functional         : Adding new module for node: {module_cat_3} \n"
          ]
        },
        {
          "name": "stderr",
          "output_type": "stream",
          "text": [
            "               \r"
          ]
        },
        {
          "name": "stdout",
          "output_type": "stream",
          "text": [
            "2024-07-29 13:51:42,441 - ModelPreparer - INFO - Functional         : Adding new module for node: {module_batch_norm_26} \n"
          ]
        },
        {
          "name": "stderr",
          "output_type": "stream",
          "text": [
            "               \r"
          ]
        },
        {
          "name": "stdout",
          "output_type": "stream",
          "text": [
            "2024-07-29 13:51:42,442 - ModelPreparer - INFO - Functional         : Adding new module for node: {module_mul_29} \n"
          ]
        },
        {
          "name": "stderr",
          "output_type": "stream",
          "text": [
            "               \r"
          ]
        },
        {
          "name": "stdout",
          "output_type": "stream",
          "text": [
            "2024-07-29 13:51:42,443 - ModelPreparer - INFO - Functional         : Adding new module for node: {module_batch_norm_27} \n"
          ]
        },
        {
          "name": "stderr",
          "output_type": "stream",
          "text": [
            "               \r"
          ]
        },
        {
          "name": "stdout",
          "output_type": "stream",
          "text": [
            "2024-07-29 13:51:42,444 - ModelPreparer - INFO - Functional         : Adding new module for node: {module_mul_30} \n"
          ]
        },
        {
          "name": "stderr",
          "output_type": "stream",
          "text": [
            "               \r"
          ]
        },
        {
          "name": "stdout",
          "output_type": "stream",
          "text": [
            "2024-07-29 13:51:42,445 - ModelPreparer - INFO - Functional         : Adding new module for node: {module_batch_norm_28} \n"
          ]
        },
        {
          "name": "stderr",
          "output_type": "stream",
          "text": [
            "               \r"
          ]
        },
        {
          "name": "stdout",
          "output_type": "stream",
          "text": [
            "2024-07-29 13:51:42,446 - ModelPreparer - INFO - Functional         : Adding new module for node: {module_mul_31} \n"
          ]
        },
        {
          "name": "stderr",
          "output_type": "stream",
          "text": [
            "               \r"
          ]
        },
        {
          "name": "stdout",
          "output_type": "stream",
          "text": [
            "2024-07-29 13:51:42,447 - ModelPreparer - INFO - Functional         : Adding new module for node: {module_batch_norm_29} \n"
          ]
        },
        {
          "name": "stderr",
          "output_type": "stream",
          "text": [
            "               \r"
          ]
        },
        {
          "name": "stdout",
          "output_type": "stream",
          "text": [
            "2024-07-29 13:51:42,448 - ModelPreparer - INFO - Functional         : Adding new module for node: {module_mul_32} \n"
          ]
        },
        {
          "name": "stderr",
          "output_type": "stream",
          "text": [
            "               \r"
          ]
        },
        {
          "name": "stdout",
          "output_type": "stream",
          "text": [
            "2024-07-29 13:51:42,449 - ModelPreparer - INFO - Functional         : Adding new module for node: {module_batch_norm_30} \n"
          ]
        },
        {
          "name": "stderr",
          "output_type": "stream",
          "text": [
            "               \r"
          ]
        },
        {
          "name": "stdout",
          "output_type": "stream",
          "text": [
            "2024-07-29 13:51:42,451 - ModelPreparer - INFO - Functional         : Adding new module for node: {module_mul_33} \n"
          ]
        },
        {
          "name": "stderr",
          "output_type": "stream",
          "text": [
            "               \r"
          ]
        },
        {
          "name": "stdout",
          "output_type": "stream",
          "text": [
            "2024-07-29 13:51:42,452 - ModelPreparer - INFO - Functional         : Adding new module for node: {module_batch_norm_31} \n"
          ]
        },
        {
          "name": "stderr",
          "output_type": "stream",
          "text": [
            "               \r"
          ]
        },
        {
          "name": "stdout",
          "output_type": "stream",
          "text": [
            "2024-07-29 13:51:42,453 - ModelPreparer - INFO - Functional         : Adding new module for node: {module_mul_34} \n"
          ]
        },
        {
          "name": "stderr",
          "output_type": "stream",
          "text": [
            "               \r"
          ]
        },
        {
          "name": "stdout",
          "output_type": "stream",
          "text": [
            "2024-07-29 13:51:42,454 - ModelPreparer - INFO - Functional         : Adding new module for node: {module_cat_4} \n"
          ]
        },
        {
          "name": "stderr",
          "output_type": "stream",
          "text": [
            "               \r"
          ]
        },
        {
          "name": "stdout",
          "output_type": "stream",
          "text": [
            "2024-07-29 13:51:42,455 - ModelPreparer - INFO - Functional         : Adding new module for node: {module_mul_35} \n"
          ]
        },
        {
          "name": "stderr",
          "output_type": "stream",
          "text": [
            "               \r"
          ]
        },
        {
          "name": "stdout",
          "output_type": "stream",
          "text": [
            "2024-07-29 13:51:42,456 - ModelPreparer - INFO - Functional         : Adding new module for node: {module_batch_norm_32} \n"
          ]
        },
        {
          "name": "stderr",
          "output_type": "stream",
          "text": [
            "               \r"
          ]
        },
        {
          "name": "stdout",
          "output_type": "stream",
          "text": [
            "2024-07-29 13:51:42,457 - ModelPreparer - INFO - Functional         : Adding new module for node: {module_mul_36} \n"
          ]
        },
        {
          "name": "stderr",
          "output_type": "stream",
          "text": [
            "               \r"
          ]
        },
        {
          "name": "stdout",
          "output_type": "stream",
          "text": [
            "2024-07-29 13:51:42,458 - ModelPreparer - INFO - Functional         : Adding new module for node: {module_batch_norm_33} \n"
          ]
        },
        {
          "name": "stderr",
          "output_type": "stream",
          "text": [
            "               \r"
          ]
        },
        {
          "name": "stdout",
          "output_type": "stream",
          "text": [
            "2024-07-29 13:51:42,459 - ModelPreparer - INFO - Functional         : Adding new module for node: {module_mul_37} \n"
          ]
        },
        {
          "name": "stderr",
          "output_type": "stream",
          "text": [
            "               \r"
          ]
        },
        {
          "name": "stdout",
          "output_type": "stream",
          "text": [
            "2024-07-29 13:51:42,460 - ModelPreparer - INFO - Functional         : Adding new module for node: {module_cat_5} \n"
          ]
        },
        {
          "name": "stderr",
          "output_type": "stream",
          "text": [
            "               \r"
          ]
        },
        {
          "name": "stdout",
          "output_type": "stream",
          "text": [
            "2024-07-29 13:51:42,461 - ModelPreparer - INFO - Functional         : Adding new module for node: {module_batch_norm_34} \n"
          ]
        },
        {
          "name": "stderr",
          "output_type": "stream",
          "text": [
            "               \r"
          ]
        },
        {
          "name": "stdout",
          "output_type": "stream",
          "text": [
            "2024-07-29 13:51:42,463 - ModelPreparer - INFO - Functional         : Adding new module for node: {module_mul_38} \n"
          ]
        },
        {
          "name": "stderr",
          "output_type": "stream",
          "text": [
            "               \r"
          ]
        },
        {
          "name": "stdout",
          "output_type": "stream",
          "text": [
            "2024-07-29 13:51:42,464 - ModelPreparer - INFO - Functional         : Adding new module for node: {module_batch_norm_35} \n"
          ]
        },
        {
          "name": "stderr",
          "output_type": "stream",
          "text": [
            "               \r"
          ]
        },
        {
          "name": "stdout",
          "output_type": "stream",
          "text": [
            "2024-07-29 13:51:42,465 - ModelPreparer - INFO - Functional         : Adding new module for node: {module_mul_39} \n"
          ]
        },
        {
          "name": "stderr",
          "output_type": "stream",
          "text": [
            "               \r"
          ]
        },
        {
          "name": "stdout",
          "output_type": "stream",
          "text": [
            "2024-07-29 13:51:42,466 - ModelPreparer - INFO - Functional         : Adding new module for node: {module_batch_norm_36} \n"
          ]
        },
        {
          "name": "stderr",
          "output_type": "stream",
          "text": [
            "               \r"
          ]
        },
        {
          "name": "stdout",
          "output_type": "stream",
          "text": [
            "2024-07-29 13:51:42,467 - ModelPreparer - INFO - Functional         : Adding new module for node: {module_mul_40} \n"
          ]
        },
        {
          "name": "stderr",
          "output_type": "stream",
          "text": [
            "               \r"
          ]
        },
        {
          "name": "stdout",
          "output_type": "stream",
          "text": [
            "2024-07-29 13:51:42,468 - ModelPreparer - INFO - Functional         : Adding new module for node: {module_batch_norm_37} \n"
          ]
        },
        {
          "name": "stderr",
          "output_type": "stream",
          "text": [
            "               \r"
          ]
        },
        {
          "name": "stdout",
          "output_type": "stream",
          "text": [
            "2024-07-29 13:51:42,469 - ModelPreparer - INFO - Functional         : Adding new module for node: {module_mul_41} \n"
          ]
        },
        {
          "name": "stderr",
          "output_type": "stream",
          "text": [
            "               \r"
          ]
        },
        {
          "name": "stdout",
          "output_type": "stream",
          "text": [
            "2024-07-29 13:51:42,470 - ModelPreparer - INFO - Functional         : Adding new module for node: {module_batch_norm_38} \n"
          ]
        },
        {
          "name": "stderr",
          "output_type": "stream",
          "text": [
            "               \r"
          ]
        },
        {
          "name": "stdout",
          "output_type": "stream",
          "text": [
            "2024-07-29 13:51:42,471 - ModelPreparer - INFO - Functional         : Adding new module for node: {module_mul_42} \n"
          ]
        },
        {
          "name": "stderr",
          "output_type": "stream",
          "text": [
            "               \r"
          ]
        },
        {
          "name": "stdout",
          "output_type": "stream",
          "text": [
            "2024-07-29 13:51:42,472 - ModelPreparer - INFO - Functional         : Adding new module for node: {module_cat_6} \n"
          ]
        },
        {
          "name": "stderr",
          "output_type": "stream",
          "text": [
            "               \r"
          ]
        },
        {
          "name": "stdout",
          "output_type": "stream",
          "text": [
            "2024-07-29 13:51:42,473 - ModelPreparer - INFO - Functional         : Adding new module for node: {module_batch_norm_39} \n"
          ]
        },
        {
          "name": "stderr",
          "output_type": "stream",
          "text": [
            "               \r"
          ]
        },
        {
          "name": "stdout",
          "output_type": "stream",
          "text": [
            "2024-07-29 13:51:42,475 - ModelPreparer - INFO - Functional         : Adding new module for node: {module_mul_43} \n"
          ]
        },
        {
          "name": "stderr",
          "output_type": "stream",
          "text": [
            "               \r"
          ]
        },
        {
          "name": "stdout",
          "output_type": "stream",
          "text": [
            "2024-07-29 13:51:42,476 - ModelPreparer - INFO - Functional         : Adding new module for node: {module_batch_norm_40} \n"
          ]
        },
        {
          "name": "stderr",
          "output_type": "stream",
          "text": [
            "               \r"
          ]
        },
        {
          "name": "stdout",
          "output_type": "stream",
          "text": [
            "2024-07-29 13:51:42,477 - ModelPreparer - INFO - Functional         : Adding new module for node: {module_mul_44} \n"
          ]
        },
        {
          "name": "stderr",
          "output_type": "stream",
          "text": [
            "               \r"
          ]
        },
        {
          "name": "stdout",
          "output_type": "stream",
          "text": [
            "2024-07-29 13:51:42,478 - ModelPreparer - INFO - Functional         : Adding new module for node: {module_cat_7} \n"
          ]
        },
        {
          "name": "stderr",
          "output_type": "stream",
          "text": [
            "               \r"
          ]
        },
        {
          "name": "stdout",
          "output_type": "stream",
          "text": [
            "2024-07-29 13:51:42,479 - ModelPreparer - INFO - Functional         : Adding new module for node: {module_batch_norm_41} \n"
          ]
        },
        {
          "name": "stderr",
          "output_type": "stream",
          "text": [
            "               \r"
          ]
        },
        {
          "name": "stdout",
          "output_type": "stream",
          "text": [
            "2024-07-29 13:51:42,480 - ModelPreparer - INFO - Functional         : Adding new module for node: {module_mul_45} \n"
          ]
        },
        {
          "name": "stderr",
          "output_type": "stream",
          "text": [
            "               \r"
          ]
        },
        {
          "name": "stdout",
          "output_type": "stream",
          "text": [
            "2024-07-29 13:51:42,481 - ModelPreparer - INFO - Functional         : Adding new module for node: {module_batch_norm_42} \n"
          ]
        },
        {
          "name": "stderr",
          "output_type": "stream",
          "text": [
            "               \r"
          ]
        },
        {
          "name": "stdout",
          "output_type": "stream",
          "text": [
            "2024-07-29 13:51:42,482 - ModelPreparer - INFO - Functional         : Adding new module for node: {module_mul_46} \n"
          ]
        },
        {
          "name": "stderr",
          "output_type": "stream",
          "text": [
            "               \r"
          ]
        },
        {
          "name": "stdout",
          "output_type": "stream",
          "text": [
            "2024-07-29 13:51:42,483 - ModelPreparer - INFO - Functional         : Adding new module for node: {module_batch_norm_43} \n"
          ]
        },
        {
          "name": "stderr",
          "output_type": "stream",
          "text": [
            "               \r"
          ]
        },
        {
          "name": "stdout",
          "output_type": "stream",
          "text": [
            "2024-07-29 13:51:42,484 - ModelPreparer - INFO - Functional         : Adding new module for node: {module_mul_47} \n"
          ]
        },
        {
          "name": "stderr",
          "output_type": "stream",
          "text": [
            "               \r"
          ]
        },
        {
          "name": "stdout",
          "output_type": "stream",
          "text": [
            "2024-07-29 13:51:42,485 - ModelPreparer - INFO - Functional         : Adding new module for node: {module_batch_norm_44} \n"
          ]
        },
        {
          "name": "stderr",
          "output_type": "stream",
          "text": [
            "               \r"
          ]
        },
        {
          "name": "stdout",
          "output_type": "stream",
          "text": [
            "2024-07-29 13:51:42,486 - ModelPreparer - INFO - Functional         : Adding new module for node: {module_mul_48} \n"
          ]
        },
        {
          "name": "stderr",
          "output_type": "stream",
          "text": [
            "               \r"
          ]
        },
        {
          "name": "stdout",
          "output_type": "stream",
          "text": [
            "2024-07-29 13:51:42,487 - ModelPreparer - INFO - Functional         : Adding new module for node: {module_batch_norm_45} \n"
          ]
        },
        {
          "name": "stderr",
          "output_type": "stream",
          "text": [
            "               \r"
          ]
        },
        {
          "name": "stdout",
          "output_type": "stream",
          "text": [
            "2024-07-29 13:51:42,488 - ModelPreparer - INFO - Functional         : Adding new module for node: {module_mul_49} \n"
          ]
        },
        {
          "name": "stderr",
          "output_type": "stream",
          "text": [
            "               \r"
          ]
        },
        {
          "name": "stdout",
          "output_type": "stream",
          "text": [
            "2024-07-29 13:51:42,489 - ModelPreparer - INFO - Functional         : Adding new module for node: {module_cat_8} \n"
          ]
        },
        {
          "name": "stderr",
          "output_type": "stream",
          "text": [
            "               \r"
          ]
        },
        {
          "name": "stdout",
          "output_type": "stream",
          "text": [
            "2024-07-29 13:51:42,491 - ModelPreparer - INFO - Functional         : Adding new module for node: {module_batch_norm_46} \n"
          ]
        },
        {
          "name": "stderr",
          "output_type": "stream",
          "text": [
            "               \r"
          ]
        },
        {
          "name": "stdout",
          "output_type": "stream",
          "text": [
            "2024-07-29 13:51:42,492 - ModelPreparer - INFO - Functional         : Adding new module for node: {module_mul_50} \n"
          ]
        },
        {
          "name": "stderr",
          "output_type": "stream",
          "text": [
            "               \r"
          ]
        },
        {
          "name": "stdout",
          "output_type": "stream",
          "text": [
            "2024-07-29 13:51:42,493 - ModelPreparer - INFO - Functional         : Adding new module for node: {module_batch_norm_47} \n"
          ]
        },
        {
          "name": "stderr",
          "output_type": "stream",
          "text": [
            "               \r"
          ]
        },
        {
          "name": "stdout",
          "output_type": "stream",
          "text": [
            "2024-07-29 13:51:42,494 - ModelPreparer - INFO - Functional         : Adding new module for node: {module_mul_51} \n"
          ]
        },
        {
          "name": "stderr",
          "output_type": "stream",
          "text": [
            "               \r"
          ]
        },
        {
          "name": "stdout",
          "output_type": "stream",
          "text": [
            "2024-07-29 13:51:42,495 - ModelPreparer - INFO - Functional         : Adding new module for node: {module_cat_9} \n"
          ]
        },
        {
          "name": "stderr",
          "output_type": "stream",
          "text": [
            "               \r"
          ]
        },
        {
          "name": "stdout",
          "output_type": "stream",
          "text": [
            "2024-07-29 13:51:42,496 - ModelPreparer - INFO - Functional         : Adding new module for node: {module_batch_norm_48} \n"
          ]
        },
        {
          "name": "stderr",
          "output_type": "stream",
          "text": [
            "               \r"
          ]
        },
        {
          "name": "stdout",
          "output_type": "stream",
          "text": [
            "2024-07-29 13:51:42,497 - ModelPreparer - INFO - Functional         : Adding new module for node: {module_mul_52} \n"
          ]
        },
        {
          "name": "stderr",
          "output_type": "stream",
          "text": [
            "               \r"
          ]
        },
        {
          "name": "stdout",
          "output_type": "stream",
          "text": [
            "2024-07-29 13:51:42,498 - ModelPreparer - INFO - Functional         : Adding new module for node: {module_batch_norm_49} \n"
          ]
        },
        {
          "name": "stderr",
          "output_type": "stream",
          "text": [
            "               \r"
          ]
        },
        {
          "name": "stdout",
          "output_type": "stream",
          "text": [
            "2024-07-29 13:51:42,499 - ModelPreparer - INFO - Functional         : Adding new module for node: {module_mul_53} \n"
          ]
        },
        {
          "name": "stderr",
          "output_type": "stream",
          "text": [
            "               \r"
          ]
        },
        {
          "name": "stdout",
          "output_type": "stream",
          "text": [
            "2024-07-29 13:51:42,500 - ModelPreparer - INFO - Functional         : Adding new module for node: {module_batch_norm_50} \n"
          ]
        },
        {
          "name": "stderr",
          "output_type": "stream",
          "text": [
            "               \r"
          ]
        },
        {
          "name": "stdout",
          "output_type": "stream",
          "text": [
            "2024-07-29 13:51:42,502 - ModelPreparer - INFO - Functional         : Adding new module for node: {module_mul_54} \n"
          ]
        },
        {
          "name": "stderr",
          "output_type": "stream",
          "text": [
            "               \r"
          ]
        },
        {
          "name": "stdout",
          "output_type": "stream",
          "text": [
            "2024-07-29 13:51:42,503 - ModelPreparer - INFO - Functional         : Adding new module for node: {module_batch_norm_51} \n"
          ]
        },
        {
          "name": "stderr",
          "output_type": "stream",
          "text": [
            "               \r"
          ]
        },
        {
          "name": "stdout",
          "output_type": "stream",
          "text": [
            "2024-07-29 13:51:42,504 - ModelPreparer - INFO - Functional         : Adding new module for node: {module_mul_55} \n"
          ]
        },
        {
          "name": "stderr",
          "output_type": "stream",
          "text": [
            "               \r"
          ]
        },
        {
          "name": "stdout",
          "output_type": "stream",
          "text": [
            "2024-07-29 13:51:42,505 - ModelPreparer - INFO - Functional         : Adding new module for node: {module_batch_norm_52} \n"
          ]
        },
        {
          "name": "stderr",
          "output_type": "stream",
          "text": [
            "               \r"
          ]
        },
        {
          "name": "stdout",
          "output_type": "stream",
          "text": [
            "2024-07-29 13:51:42,506 - ModelPreparer - INFO - Functional         : Adding new module for node: {module_mul_56} \n"
          ]
        },
        {
          "name": "stderr",
          "output_type": "stream",
          "text": [
            "               \r"
          ]
        },
        {
          "name": "stdout",
          "output_type": "stream",
          "text": [
            "2024-07-29 13:51:42,507 - ModelPreparer - INFO - Functional         : Adding new module for node: {module_cat_10} \n"
          ]
        },
        {
          "name": "stderr",
          "output_type": "stream",
          "text": [
            "               \r"
          ]
        },
        {
          "name": "stdout",
          "output_type": "stream",
          "text": [
            "2024-07-29 13:51:42,508 - ModelPreparer - INFO - Functional         : Adding new module for node: {module_batch_norm_53} \n"
          ]
        },
        {
          "name": "stderr",
          "output_type": "stream",
          "text": [
            "               \r"
          ]
        },
        {
          "name": "stdout",
          "output_type": "stream",
          "text": [
            "2024-07-29 13:51:42,509 - ModelPreparer - INFO - Functional         : Adding new module for node: {module_mul_57} \n"
          ]
        },
        {
          "name": "stderr",
          "output_type": "stream",
          "text": [
            "               \r"
          ]
        },
        {
          "name": "stdout",
          "output_type": "stream",
          "text": [
            "2024-07-29 13:51:42,510 - ModelPreparer - INFO - Functional         : Adding new module for node: {module_batch_norm_54} \n"
          ]
        },
        {
          "name": "stderr",
          "output_type": "stream",
          "text": [
            "               \r"
          ]
        },
        {
          "name": "stdout",
          "output_type": "stream",
          "text": [
            "2024-07-29 13:51:42,511 - ModelPreparer - INFO - Functional         : Adding new module for node: {module_mul_58} \n"
          ]
        },
        {
          "name": "stderr",
          "output_type": "stream",
          "text": [
            "               \r"
          ]
        },
        {
          "name": "stdout",
          "output_type": "stream",
          "text": [
            "2024-07-29 13:51:42,513 - ModelPreparer - INFO - Functional         : Adding new module for node: {module_cat_11} \n"
          ]
        },
        {
          "name": "stderr",
          "output_type": "stream",
          "text": [
            "               \r"
          ]
        },
        {
          "name": "stdout",
          "output_type": "stream",
          "text": [
            "2024-07-29 13:51:42,514 - ModelPreparer - INFO - Functional         : Adding new module for node: {module_batch_norm_55} \n"
          ]
        },
        {
          "name": "stderr",
          "output_type": "stream",
          "text": [
            "               \r"
          ]
        },
        {
          "name": "stdout",
          "output_type": "stream",
          "text": [
            "2024-07-29 13:51:42,515 - ModelPreparer - INFO - Functional         : Adding new module for node: {module_mul_59} \n"
          ]
        },
        {
          "name": "stderr",
          "output_type": "stream",
          "text": [
            "               \r"
          ]
        },
        {
          "name": "stdout",
          "output_type": "stream",
          "text": [
            "2024-07-29 13:51:42,516 - ModelPreparer - INFO - Functional         : Adding new module for node: {module_batch_norm_56} \n"
          ]
        },
        {
          "name": "stderr",
          "output_type": "stream",
          "text": [
            "               \r"
          ]
        },
        {
          "name": "stdout",
          "output_type": "stream",
          "text": [
            "2024-07-29 13:51:42,517 - ModelPreparer - INFO - Functional         : Adding new module for node: {module_mul_60} \n"
          ]
        },
        {
          "name": "stderr",
          "output_type": "stream",
          "text": [
            "               \r"
          ]
        },
        {
          "name": "stdout",
          "output_type": "stream",
          "text": [
            "2024-07-29 13:51:42,518 - ModelPreparer - INFO - Functional         : Adding new module for node: {module_batch_norm_57} \n"
          ]
        },
        {
          "name": "stderr",
          "output_type": "stream",
          "text": [
            "               \r"
          ]
        },
        {
          "name": "stdout",
          "output_type": "stream",
          "text": [
            "2024-07-29 13:51:42,519 - ModelPreparer - INFO - Functional         : Adding new module for node: {module_mul_61} \n"
          ]
        },
        {
          "name": "stderr",
          "output_type": "stream",
          "text": [
            "               \r"
          ]
        },
        {
          "name": "stdout",
          "output_type": "stream",
          "text": [
            "2024-07-29 13:51:42,520 - ModelPreparer - INFO - Functional         : Adding new module for node: {module_batch_norm_58} \n"
          ]
        },
        {
          "name": "stderr",
          "output_type": "stream",
          "text": [
            "               \r"
          ]
        },
        {
          "name": "stdout",
          "output_type": "stream",
          "text": [
            "2024-07-29 13:51:42,521 - ModelPreparer - INFO - Functional         : Adding new module for node: {module_mul_62} \n"
          ]
        },
        {
          "name": "stderr",
          "output_type": "stream",
          "text": [
            "               \r"
          ]
        },
        {
          "name": "stdout",
          "output_type": "stream",
          "text": [
            "2024-07-29 13:51:42,523 - ModelPreparer - INFO - Functional         : Adding new module for node: {module_batch_norm_59} \n"
          ]
        },
        {
          "name": "stderr",
          "output_type": "stream",
          "text": [
            "               \r"
          ]
        },
        {
          "name": "stdout",
          "output_type": "stream",
          "text": [
            "2024-07-29 13:51:42,524 - ModelPreparer - INFO - Functional         : Adding new module for node: {module_mul_63} \n"
          ]
        },
        {
          "name": "stderr",
          "output_type": "stream",
          "text": [
            "               \r"
          ]
        },
        {
          "name": "stdout",
          "output_type": "stream",
          "text": [
            "2024-07-29 13:51:42,525 - ModelPreparer - INFO - Functional         : Adding new module for node: {module_cat_12} \n"
          ]
        },
        {
          "name": "stderr",
          "output_type": "stream",
          "text": [
            "               \r"
          ]
        },
        {
          "name": "stdout",
          "output_type": "stream",
          "text": [
            "2024-07-29 13:51:42,526 - ModelPreparer - INFO - Functional         : Adding new module for node: {module_batch_norm_60} \n"
          ]
        },
        {
          "name": "stderr",
          "output_type": "stream",
          "text": [
            "               \r"
          ]
        },
        {
          "name": "stdout",
          "output_type": "stream",
          "text": [
            "2024-07-29 13:51:42,527 - ModelPreparer - INFO - Functional         : Adding new module for node: {module_mul_64} \n"
          ]
        },
        {
          "name": "stderr",
          "output_type": "stream",
          "text": [
            "               \r"
          ]
        },
        {
          "name": "stdout",
          "output_type": "stream",
          "text": [
            "2024-07-29 13:51:42,528 - ModelPreparer - INFO - Functional         : Adding new module for node: {module_batch_norm_61} \n"
          ]
        },
        {
          "name": "stderr",
          "output_type": "stream",
          "text": [
            "               \r"
          ]
        },
        {
          "name": "stdout",
          "output_type": "stream",
          "text": [
            "2024-07-29 13:51:42,529 - ModelPreparer - INFO - Functional         : Adding new module for node: {module_mul_65} \n"
          ]
        },
        {
          "name": "stderr",
          "output_type": "stream",
          "text": [
            "               \r"
          ]
        },
        {
          "name": "stdout",
          "output_type": "stream",
          "text": [
            "2024-07-29 13:51:42,530 - ModelPreparer - INFO - Functional         : Adding new module for node: {module_batch_norm_62} \n"
          ]
        },
        {
          "name": "stderr",
          "output_type": "stream",
          "text": [
            "               \r"
          ]
        },
        {
          "name": "stdout",
          "output_type": "stream",
          "text": [
            "2024-07-29 13:51:42,531 - ModelPreparer - INFO - Functional         : Adding new module for node: {module_mul_66} \n"
          ]
        },
        {
          "name": "stderr",
          "output_type": "stream",
          "text": [
            "               \r"
          ]
        },
        {
          "name": "stdout",
          "output_type": "stream",
          "text": [
            "2024-07-29 13:51:42,532 - ModelPreparer - INFO - Functional         : Adding new module for node: {module_batch_norm_63} \n"
          ]
        },
        {
          "name": "stderr",
          "output_type": "stream",
          "text": [
            "               \r"
          ]
        },
        {
          "name": "stdout",
          "output_type": "stream",
          "text": [
            "2024-07-29 13:51:42,533 - ModelPreparer - INFO - Functional         : Adding new module for node: {module_mul_67} \n"
          ]
        },
        {
          "name": "stderr",
          "output_type": "stream",
          "text": [
            "               \r"
          ]
        },
        {
          "name": "stdout",
          "output_type": "stream",
          "text": [
            "2024-07-29 13:51:42,534 - ModelPreparer - INFO - Functional         : Adding new module for node: {module_batch_norm_64} \n"
          ]
        },
        {
          "name": "stderr",
          "output_type": "stream",
          "text": [
            "               \r"
          ]
        },
        {
          "name": "stdout",
          "output_type": "stream",
          "text": [
            "2024-07-29 13:51:42,535 - ModelPreparer - INFO - Functional         : Adding new module for node: {module_mul_68} \n"
          ]
        },
        {
          "name": "stderr",
          "output_type": "stream",
          "text": [
            "               \r"
          ]
        },
        {
          "name": "stdout",
          "output_type": "stream",
          "text": [
            "2024-07-29 13:51:42,536 - ModelPreparer - INFO - Functional         : Adding new module for node: {module_batch_norm_65} \n"
          ]
        },
        {
          "name": "stderr",
          "output_type": "stream",
          "text": [
            "               \r"
          ]
        },
        {
          "name": "stdout",
          "output_type": "stream",
          "text": [
            "2024-07-29 13:51:42,537 - ModelPreparer - INFO - Functional         : Adding new module for node: {module_mul_69} \n"
          ]
        },
        {
          "name": "stderr",
          "output_type": "stream",
          "text": [
            "               \r"
          ]
        },
        {
          "name": "stdout",
          "output_type": "stream",
          "text": [
            "2024-07-29 13:51:42,538 - ModelPreparer - INFO - Functional         : Adding new module for node: {module_batch_norm_66} \n"
          ]
        },
        {
          "name": "stderr",
          "output_type": "stream",
          "text": [
            "               \r"
          ]
        },
        {
          "name": "stdout",
          "output_type": "stream",
          "text": [
            "2024-07-29 13:51:42,539 - ModelPreparer - INFO - Functional         : Adding new module for node: {module_mul_70} \n"
          ]
        },
        {
          "name": "stderr",
          "output_type": "stream",
          "text": [
            "               \r"
          ]
        },
        {
          "name": "stdout",
          "output_type": "stream",
          "text": [
            "2024-07-29 13:51:42,540 - ModelPreparer - INFO - Functional         : Adding new module for node: {module_batch_norm_67} \n"
          ]
        },
        {
          "name": "stderr",
          "output_type": "stream",
          "text": [
            "               \r"
          ]
        },
        {
          "name": "stdout",
          "output_type": "stream",
          "text": [
            "2024-07-29 13:51:42,541 - ModelPreparer - INFO - Functional         : Adding new module for node: {module_mul_71} \n"
          ]
        },
        {
          "name": "stderr",
          "output_type": "stream",
          "text": [
            "               \r"
          ]
        },
        {
          "name": "stdout",
          "output_type": "stream",
          "text": [
            "2024-07-29 13:51:42,542 - ModelPreparer - INFO - Functional         : Adding new module for node: {module_mul_4.module_mul_72} \n"
          ]
        },
        {
          "name": "stderr",
          "output_type": "stream",
          "text": [
            "               \r"
          ]
        },
        {
          "name": "stdout",
          "output_type": "stream",
          "text": [
            "2024-07-29 13:51:42,543 - ModelPreparer - INFO - Functional         : Adding new module for node: {module_batch_norm_68} \n"
          ]
        },
        {
          "name": "stderr",
          "output_type": "stream",
          "text": [
            "               \r"
          ]
        },
        {
          "name": "stdout",
          "output_type": "stream",
          "text": [
            "2024-07-29 13:51:42,544 - ModelPreparer - INFO - Functional         : Adding new module for node: {module_mul_73} \n"
          ]
        },
        {
          "name": "stderr",
          "output_type": "stream",
          "text": [
            "               \r"
          ]
        },
        {
          "name": "stdout",
          "output_type": "stream",
          "text": [
            "2024-07-29 13:51:42,545 - ModelPreparer - INFO - Functional         : Adding new module for node: {module_batch_norm_69} \n"
          ]
        },
        {
          "name": "stderr",
          "output_type": "stream",
          "text": [
            "               \r"
          ]
        },
        {
          "name": "stdout",
          "output_type": "stream",
          "text": [
            "2024-07-29 13:51:42,546 - ModelPreparer - INFO - Functional         : Adding new module for node: {module_mul_74} \n"
          ]
        },
        {
          "name": "stderr",
          "output_type": "stream",
          "text": [
            "               \r"
          ]
        },
        {
          "name": "stdout",
          "output_type": "stream",
          "text": [
            "2024-07-29 13:51:42,547 - ModelPreparer - INFO - Functional         : Adding new module for node: {module_batch_norm_70} \n"
          ]
        },
        {
          "name": "stderr",
          "output_type": "stream",
          "text": [
            "               \r"
          ]
        },
        {
          "name": "stdout",
          "output_type": "stream",
          "text": [
            "2024-07-29 13:51:42,548 - ModelPreparer - INFO - Functional         : Adding new module for node: {module_mul_75} \n"
          ]
        },
        {
          "name": "stderr",
          "output_type": "stream",
          "text": [
            "               \r"
          ]
        },
        {
          "name": "stdout",
          "output_type": "stream",
          "text": [
            "2024-07-29 13:51:42,549 - ModelPreparer - INFO - Functional         : Adding new module for node: {module_batch_norm_71} \n"
          ]
        },
        {
          "name": "stderr",
          "output_type": "stream",
          "text": [
            "               \r"
          ]
        },
        {
          "name": "stdout",
          "output_type": "stream",
          "text": [
            "2024-07-29 13:51:42,549 - ModelPreparer - INFO - Functional         : Adding new module for node: {module_mul_76} \n"
          ]
        },
        {
          "name": "stderr",
          "output_type": "stream",
          "text": [
            "               \r"
          ]
        },
        {
          "name": "stdout",
          "output_type": "stream",
          "text": [
            "2024-07-29 13:51:42,550 - ModelPreparer - INFO - Functional         : Adding new module for node: {module_mul_5.module_mul_77} \n"
          ]
        },
        {
          "name": "stderr",
          "output_type": "stream",
          "text": [
            "               \r"
          ]
        },
        {
          "name": "stdout",
          "output_type": "stream",
          "text": [
            "2024-07-29 13:51:42,551 - ModelPreparer - INFO - Functional         : Adding new module for node: {module_batch_norm_72} \n"
          ]
        },
        {
          "name": "stderr",
          "output_type": "stream",
          "text": [
            "               \r"
          ]
        },
        {
          "name": "stdout",
          "output_type": "stream",
          "text": [
            "2024-07-29 13:51:42,552 - ModelPreparer - INFO - Functional         : Adding new module for node: {module_mul_78} \n"
          ]
        },
        {
          "name": "stderr",
          "output_type": "stream",
          "text": [
            "               \r"
          ]
        },
        {
          "name": "stdout",
          "output_type": "stream",
          "text": [
            "2024-07-29 13:51:42,553 - ModelPreparer - INFO - Functional         : Adding new module for node: {module_batch_norm_73} \n"
          ]
        },
        {
          "name": "stderr",
          "output_type": "stream",
          "text": [
            "               \r"
          ]
        },
        {
          "name": "stdout",
          "output_type": "stream",
          "text": [
            "2024-07-29 13:51:42,554 - ModelPreparer - INFO - Functional         : Adding new module for node: {module_mul_79} \n"
          ]
        },
        {
          "name": "stderr",
          "output_type": "stream",
          "text": [
            "               \r"
          ]
        },
        {
          "name": "stdout",
          "output_type": "stream",
          "text": [
            "2024-07-29 13:51:42,555 - ModelPreparer - INFO - Functional         : Adding new module for node: {module_batch_norm_74} \n"
          ]
        },
        {
          "name": "stderr",
          "output_type": "stream",
          "text": [
            "               \r"
          ]
        },
        {
          "name": "stdout",
          "output_type": "stream",
          "text": [
            "2024-07-29 13:51:42,556 - ModelPreparer - INFO - Functional         : Adding new module for node: {module_mul_80} \n"
          ]
        },
        {
          "name": "stderr",
          "output_type": "stream",
          "text": [
            "               \r"
          ]
        },
        {
          "name": "stdout",
          "output_type": "stream",
          "text": [
            "2024-07-29 13:51:42,557 - ModelPreparer - INFO - Functional         : Adding new module for node: {module_batch_norm_75} \n"
          ]
        },
        {
          "name": "stderr",
          "output_type": "stream",
          "text": [
            "               \r"
          ]
        },
        {
          "name": "stdout",
          "output_type": "stream",
          "text": [
            "2024-07-29 13:51:42,558 - ModelPreparer - INFO - Functional         : Adding new module for node: {module_mul_81} \n"
          ]
        },
        {
          "name": "stderr",
          "output_type": "stream",
          "text": [
            "               \r"
          ]
        },
        {
          "name": "stdout",
          "output_type": "stream",
          "text": [
            "2024-07-29 13:51:42,559 - ModelPreparer - INFO - Functional         : Adding new module for node: {module_mul_6.module_mul_82} \n"
          ]
        },
        {
          "name": "stderr",
          "output_type": "stream",
          "text": [
            "               \r"
          ]
        },
        {
          "name": "stdout",
          "output_type": "stream",
          "text": [
            "2024-07-29 13:51:42,578 - Utils - INFO - Running validator check <function validate_for_reused_modules at 0x7d3a5ee07880>\n"
          ]
        },
        {
          "name": "stderr",
          "output_type": "stream",
          "text": [
            "               \r"
          ]
        },
        {
          "name": "stdout",
          "output_type": "stream",
          "text": [
            "2024-07-29 13:51:42,668 - Utils - INFO - Running validator check <function validate_for_missing_modules at 0x7d3a5ee07910>\n"
          ]
        },
        {
          "name": "stderr",
          "output_type": "stream",
          "text": [
            "               \r"
          ]
        },
        {
          "name": "stdout",
          "output_type": "stream",
          "text": [
            "2024-07-29 13:51:44,815 - Utils - INFO - All validation checks passed.\n"
          ]
        },
        {
          "name": "stderr",
          "output_type": "stream",
          "text": [
            "               \r"
          ]
        },
        {
          "name": "stdout",
          "output_type": "stream",
          "text": [
            "2024-07-29 13:51:44,817 - AutoQuant - INFO - Model validation has succeeded. Proceeding to AutoQuant algorithm.\n"
          ]
        },
        {
          "name": "stderr",
          "output_type": "stream",
          "text": [
            "- Prepare Model\n",
            "/ Batchnorm Folding\n"
          ]
        },
        {
          "name": "stdout",
          "output_type": "stream",
          "text": [
            "Traceback (most recent call last):\n",
            "  File \"/home/shayaan/miniconda3/envs/aimet2/lib/python3.10/site-packages/aimet_torch/meta/connectedgraph.py\", line 1324, in _find_aten_nodes_in_forward_pass\n",
            "    nodes = [node for node in trace.graph.nodes() if \"aten::\" in node.kind() and\n",
            "  File \"/home/shayaan/miniconda3/envs/aimet2/lib/python3.10/site-packages/torch/jit/_script.py\", line 705, in graph\n",
            "    return self._c._get_method(\"forward\").graph\n",
            "RuntimeError: Method 'forward' is not defined.\n",
            "\n",
            "During handling of the above exception, another exception occurred:\n",
            "\n",
            "Traceback (most recent call last):\n",
            "  File \"/home/shayaan/miniconda3/envs/aimet2/lib/python3.10/site-packages/aimet_torch/auto_quant.py\", line 333, in run_inference\n",
            "    model, _ = sess.wrap(self._apply_batchnorm_folding)(model)\n",
            "  File \"/home/shayaan/miniconda3/envs/aimet2/lib/python3.10/site-packages/aimet_torch/auto_quant.py\", line 1048, in wrapper\n",
            "    ret = fn(*args, **kwargs)\n",
            "  File \"/home/shayaan/miniconda3/envs/aimet2/lib/python3.10/site-packages/aimet_common/cache.py\", line 186, in caching_helper\n",
            "    return fn(*args, **kwargs)\n",
            "  File \"/home/shayaan/miniconda3/envs/aimet2/lib/python3.10/site-packages/aimet_torch/auto_quant.py\", line 538, in _apply_batchnorm_folding\n",
            "    folded_pairs = fold_all_batch_norms(model, None, self.dummy_input)\n",
            "  File \"/home/shayaan/miniconda3/envs/aimet2/lib/python3.10/site-packages/aimet_torch/batch_norm_fold.py\", line 493, in fold_all_batch_norms_to_weight\n",
            "    connected_graph = ConnectedGraph(model, inp_tensor_list)\n",
            "  File \"/home/shayaan/miniconda3/envs/aimet2/lib/python3.10/site-packages/aimet_torch/meta/connectedgraph.py\", line 159, in __init__\n",
            "    self._construct_graph(model, model_input)\n",
            "  File \"/home/shayaan/miniconda3/envs/aimet2/lib/python3.10/site-packages/aimet_torch/meta/connectedgraph.py\", line 302, in _construct_graph\n",
            "    self._parse_top_level_trace(trace, model)\n",
            "  File \"/home/shayaan/miniconda3/envs/aimet2/lib/python3.10/site-packages/aimet_torch/meta/connectedgraph.py\", line 343, in _parse_top_level_trace\n",
            "    _ = self._parse_trace_graph(trace, model, output_map, top_level_inputs, module_to_jit_trace=module_to_jit_trace)\n",
            "  File \"/home/shayaan/miniconda3/envs/aimet2/lib/python3.10/site-packages/aimet_torch/meta/connectedgraph.py\", line 394, in _parse_trace_graph\n",
            "    self._parse_getattr_node(node, curr_inputs, outputs, node_name_to_module, node_name_to_subgraph_model,\n",
            "  File \"/home/shayaan/miniconda3/envs/aimet2/lib/python3.10/site-packages/aimet_torch/meta/connectedgraph.py\", line 517, in _parse_getattr_node\n",
            "    if self._is_recursive_parsing_needed(subgraph_model, module_to_jit_trace) or \\\n",
            "  File \"/home/shayaan/miniconda3/envs/aimet2/lib/python3.10/site-packages/aimet_torch/meta/connectedgraph.py\", line 1260, in _is_recursive_parsing_needed\n",
            "    is_custom_leaf_module(module, self.get_all_aten_nodes(module, module_to_jit_trace)) or \\\n",
            "  File \"/home/shayaan/miniconda3/envs/aimet2/lib/python3.10/site-packages/aimet_torch/meta/connectedgraph.py\", line 248, in get_all_aten_nodes\n",
            "    nodes = self._find_aten_nodes_in_forward_pass(trace)\n",
            "  File \"/home/shayaan/miniconda3/envs/aimet2/lib/python3.10/site-packages/aimet_torch/meta/connectedgraph.py\", line 1324, in _find_aten_nodes_in_forward_pass\n",
            "    nodes = [node for node in trace.graph.nodes() if \"aten::\" in node.kind() and\n",
            "KeyboardInterrupt\n",
            "\n"
          ]
        },
        {
          "ename": "KeyboardInterrupt",
          "evalue": "",
          "output_type": "error",
          "traceback": [
            "\u001b[0;31m---------------------------------------------------------------------------\u001b[0m",
            "\u001b[0;31mRuntimeError\u001b[0m                              Traceback (most recent call last)",
            "File \u001b[0;32m~/miniconda3/envs/aimet2/lib/python3.10/site-packages/aimet_torch/meta/connectedgraph.py:1324\u001b[0m, in \u001b[0;36mConnectedGraph._find_aten_nodes_in_forward_pass\u001b[0;34m(trace)\u001b[0m\n\u001b[1;32m   1323\u001b[0m \u001b[38;5;28;01mtry\u001b[39;00m:\n\u001b[0;32m-> 1324\u001b[0m     nodes \u001b[38;5;241m=\u001b[39m [node \u001b[38;5;28;01mfor\u001b[39;00m node \u001b[38;5;129;01min\u001b[39;00m \u001b[43mtrace\u001b[49m\u001b[38;5;241;43m.\u001b[39;49m\u001b[43mgraph\u001b[49m\u001b[38;5;241m.\u001b[39mnodes() \u001b[38;5;28;01mif\u001b[39;00m \u001b[38;5;124m\"\u001b[39m\u001b[38;5;124maten::\u001b[39m\u001b[38;5;124m\"\u001b[39m \u001b[38;5;129;01min\u001b[39;00m node\u001b[38;5;241m.\u001b[39mkind() \u001b[38;5;129;01mand\u001b[39;00m\n\u001b[1;32m   1325\u001b[0m              ConnectedGraph\u001b[38;5;241m.\u001b[39m_parse_op_type(node) \u001b[38;5;129;01mnot\u001b[39;00m \u001b[38;5;129;01min\u001b[39;00m ConnectedGraph\u001b[38;5;241m.\u001b[39mpassthrough_graph_nodes]\n\u001b[1;32m   1326\u001b[0m \u001b[38;5;28;01mexcept\u001b[39;00m \u001b[38;5;167;01mRuntimeError\u001b[39;00m:\n",
            "File \u001b[0;32m~/miniconda3/envs/aimet2/lib/python3.10/site-packages/torch/jit/_script.py:705\u001b[0m, in \u001b[0;36mRecursiveScriptModule.graph\u001b[0;34m(self)\u001b[0m\n\u001b[1;32m    701\u001b[0m \u001b[38;5;250m\u001b[39m\u001b[38;5;124mr\u001b[39m\u001b[38;5;124;03m\"\"\"Return a string representation of the internal graph for the ``forward`` method.\u001b[39;00m\n\u001b[1;32m    702\u001b[0m \n\u001b[1;32m    703\u001b[0m \u001b[38;5;124;03mSee :ref:`interpreting-graphs` for details.\u001b[39;00m\n\u001b[1;32m    704\u001b[0m \u001b[38;5;124;03m\"\"\"\u001b[39;00m\n\u001b[0;32m--> 705\u001b[0m \u001b[38;5;28;01mreturn\u001b[39;00m \u001b[38;5;28;43mself\u001b[39;49m\u001b[38;5;241;43m.\u001b[39;49m\u001b[43m_c\u001b[49m\u001b[38;5;241;43m.\u001b[39;49m\u001b[43m_get_method\u001b[49m\u001b[43m(\u001b[49m\u001b[38;5;124;43m\"\u001b[39;49m\u001b[38;5;124;43mforward\u001b[39;49m\u001b[38;5;124;43m\"\u001b[39;49m\u001b[43m)\u001b[49m\u001b[38;5;241m.\u001b[39mgraph\n",
            "\u001b[0;31mRuntimeError\u001b[0m: Method 'forward' is not defined.",
            "\nDuring handling of the above exception, another exception occurred:\n",
            "\u001b[0;31mKeyboardInterrupt\u001b[0m                         Traceback (most recent call last)",
            "Cell \u001b[0;32mIn[157], line 1\u001b[0m\n\u001b[0;32m----> 1\u001b[0m sim, initial_accuracy \u001b[38;5;241m=\u001b[39m \u001b[43mauto_quant\u001b[49m\u001b[38;5;241;43m.\u001b[39;49m\u001b[43mrun_inference\u001b[49m\u001b[43m(\u001b[49m\u001b[43m)\u001b[49m\n\u001b[1;32m      2\u001b[0m \u001b[38;5;28mprint\u001b[39m(\u001b[38;5;124mf\u001b[39m\u001b[38;5;124m\"\u001b[39m\u001b[38;5;124m- Quantized A ccuracy (before optimization): \u001b[39m\u001b[38;5;132;01m{\u001b[39;00minitial_accuracy\u001b[38;5;132;01m}\u001b[39;00m\u001b[38;5;124m\"\u001b[39m)\n",
            "File \u001b[0;32m~/miniconda3/envs/aimet2/lib/python3.10/site-packages/aimet_torch/auto_quant.py:333\u001b[0m, in \u001b[0;36mAutoQuantBase.run_inference\u001b[0;34m(self)\u001b[0m\n\u001b[1;32m    331\u001b[0m \u001b[38;5;66;03m# Batchnorm Folding\u001b[39;00m\n\u001b[1;32m    332\u001b[0m \u001b[38;5;28;01mwith\u001b[39;00m \u001b[38;5;28mself\u001b[39m\u001b[38;5;241m.\u001b[39meval_manager\u001b[38;5;241m.\u001b[39msession(\u001b[38;5;124m\"\u001b[39m\u001b[38;5;124mBatchnorm Folding\u001b[39m\u001b[38;5;124m\"\u001b[39m, ptq\u001b[38;5;241m=\u001b[39m\u001b[38;5;28;01mTrue\u001b[39;00m) \u001b[38;5;28;01mas\u001b[39;00m sess:\n\u001b[0;32m--> 333\u001b[0m     model, _ \u001b[38;5;241m=\u001b[39m \u001b[43msess\u001b[49m\u001b[38;5;241;43m.\u001b[39;49m\u001b[43mwrap\u001b[49m\u001b[43m(\u001b[49m\u001b[38;5;28;43mself\u001b[39;49m\u001b[38;5;241;43m.\u001b[39;49m\u001b[43m_apply_batchnorm_folding\u001b[49m\u001b[43m)\u001b[49m\u001b[43m(\u001b[49m\u001b[43mmodel\u001b[49m\u001b[43m)\u001b[49m\n\u001b[1;32m    334\u001b[0m     \u001b[38;5;28;01mif\u001b[39;00m sess\u001b[38;5;241m.\u001b[39mptq_result \u001b[38;5;129;01mis\u001b[39;00m \u001b[38;5;28;01mNone\u001b[39;00m:\n\u001b[1;32m    335\u001b[0m         sess\u001b[38;5;241m.\u001b[39mset_ptq_result(model\u001b[38;5;241m=\u001b[39mmodel,\n\u001b[1;32m    336\u001b[0m                             applied_techniques\u001b[38;5;241m=\u001b[39m[\u001b[38;5;124m\"\u001b[39m\u001b[38;5;124mbatchnorm_folding\u001b[39m\u001b[38;5;124m\"\u001b[39m],\n\u001b[1;32m    337\u001b[0m                             export_kwargs\u001b[38;5;241m=\u001b[39m\u001b[38;5;28mself\u001b[39m\u001b[38;5;241m.\u001b[39m_export_kwargs)\n",
            "File \u001b[0;32m~/miniconda3/envs/aimet2/lib/python3.10/site-packages/aimet_torch/auto_quant.py:1048\u001b[0m, in \u001b[0;36m_EvalSession.wrap.<locals>.wrapper\u001b[0;34m(*args, **kwargs)\u001b[0m\n\u001b[1;32m   1046\u001b[0m \u001b[38;5;28;01mif\u001b[39;00m \u001b[38;5;28mself\u001b[39m\u001b[38;5;241m.\u001b[39m_cached_result:\n\u001b[1;32m   1047\u001b[0m     \u001b[38;5;28;01mreturn\u001b[39;00m \u001b[38;5;28mself\u001b[39m\u001b[38;5;241m.\u001b[39m_cached_result\u001b[38;5;241m.\u001b[39mload()\n\u001b[0;32m-> 1048\u001b[0m ret \u001b[38;5;241m=\u001b[39m \u001b[43mfn\u001b[49m\u001b[43m(\u001b[49m\u001b[38;5;241;43m*\u001b[39;49m\u001b[43margs\u001b[49m\u001b[43m,\u001b[49m\u001b[43m \u001b[49m\u001b[38;5;241;43m*\u001b[39;49m\u001b[38;5;241;43m*\u001b[39;49m\u001b[43mkwargs\u001b[49m\u001b[43m)\u001b[49m\n\u001b[1;32m   1049\u001b[0m \u001b[38;5;28mself\u001b[39m\u001b[38;5;241m.\u001b[39m_cached_result \u001b[38;5;241m=\u001b[39m CachedResult(ret)\n\u001b[1;32m   1050\u001b[0m \u001b[38;5;28;01mreturn\u001b[39;00m ret\n",
            "File \u001b[0;32m~/miniconda3/envs/aimet2/lib/python3.10/site-packages/aimet_common/cache.py:186\u001b[0m, in \u001b[0;36mCache.mark.<locals>._wrap.<locals>.caching_helper\u001b[0;34m(*args, **kwargs)\u001b[0m\n\u001b[1;32m    182\u001b[0m \u001b[38;5;129m@functools\u001b[39m\u001b[38;5;241m.\u001b[39mwraps(fn)\n\u001b[1;32m    183\u001b[0m \u001b[38;5;28;01mdef\u001b[39;00m \u001b[38;5;21mcaching_helper\u001b[39m(\u001b[38;5;241m*\u001b[39margs, \u001b[38;5;241m*\u001b[39m\u001b[38;5;241m*\u001b[39mkwargs):\n\u001b[1;32m    184\u001b[0m     \u001b[38;5;66;03m# If caching is disabled, evalaute the result.\u001b[39;00m\n\u001b[1;32m    185\u001b[0m     \u001b[38;5;28;01mif\u001b[39;00m \u001b[38;5;28mself\u001b[39m\u001b[38;5;241m.\u001b[39m_cache_dir \u001b[38;5;129;01mis\u001b[39;00m \u001b[38;5;28;01mNone\u001b[39;00m:\n\u001b[0;32m--> 186\u001b[0m         \u001b[38;5;28;01mreturn\u001b[39;00m \u001b[43mfn\u001b[49m\u001b[43m(\u001b[49m\u001b[38;5;241;43m*\u001b[39;49m\u001b[43margs\u001b[49m\u001b[43m,\u001b[49m\u001b[43m \u001b[49m\u001b[38;5;241;43m*\u001b[39;49m\u001b[38;5;241;43m*\u001b[39;49m\u001b[43mkwargs\u001b[49m\u001b[43m)\u001b[49m\n\u001b[1;32m    188\u001b[0m     working_dir \u001b[38;5;241m=\u001b[39m \u001b[38;5;28mself\u001b[39m\u001b[38;5;241m.\u001b[39m_cache_dir\n\u001b[1;32m    189\u001b[0m     filename_prefix \u001b[38;5;241m=\u001b[39m cache_key\n",
            "File \u001b[0;32m~/miniconda3/envs/aimet2/lib/python3.10/site-packages/aimet_torch/auto_quant.py:538\u001b[0m, in \u001b[0;36mAutoQuantBase._apply_batchnorm_folding\u001b[0;34m(self, model)\u001b[0m\n\u001b[1;32m    529\u001b[0m \u001b[38;5;250m\u001b[39m\u001b[38;5;124;03m\"\"\"\u001b[39;00m\n\u001b[1;32m    530\u001b[0m \u001b[38;5;124;03mApply batchnorm folding.\u001b[39;00m\n\u001b[1;32m    531\u001b[0m \n\u001b[0;32m   (...)\u001b[0m\n\u001b[1;32m    535\u001b[0m \u001b[38;5;124;03m:return: Output model and folded pairs.\u001b[39;00m\n\u001b[1;32m    536\u001b[0m \u001b[38;5;124;03m\"\"\"\u001b[39;00m\n\u001b[1;32m    537\u001b[0m model \u001b[38;5;241m=\u001b[39m copy\u001b[38;5;241m.\u001b[39mdeepcopy(model)\n\u001b[0;32m--> 538\u001b[0m folded_pairs \u001b[38;5;241m=\u001b[39m \u001b[43mfold_all_batch_norms\u001b[49m\u001b[43m(\u001b[49m\u001b[43mmodel\u001b[49m\u001b[43m,\u001b[49m\u001b[43m \u001b[49m\u001b[38;5;28;43;01mNone\u001b[39;49;00m\u001b[43m,\u001b[49m\u001b[43m \u001b[49m\u001b[38;5;28;43mself\u001b[39;49m\u001b[38;5;241;43m.\u001b[39;49m\u001b[43mdummy_input\u001b[49m\u001b[43m)\u001b[49m\n\u001b[1;32m    539\u001b[0m \u001b[38;5;28;01mreturn\u001b[39;00m model, folded_pairs\n",
            "File \u001b[0;32m~/miniconda3/envs/aimet2/lib/python3.10/site-packages/aimet_torch/batch_norm_fold.py:493\u001b[0m, in \u001b[0;36mfold_all_batch_norms_to_weight\u001b[0;34m(model, input_shapes, dummy_input)\u001b[0m\n\u001b[1;32m    491\u001b[0m \u001b[38;5;28;01melse\u001b[39;00m:\n\u001b[1;32m    492\u001b[0m     inp_tensor_list \u001b[38;5;241m=\u001b[39m dummy_input\n\u001b[0;32m--> 493\u001b[0m connected_graph \u001b[38;5;241m=\u001b[39m \u001b[43mConnectedGraph\u001b[49m\u001b[43m(\u001b[49m\u001b[43mmodel\u001b[49m\u001b[43m,\u001b[49m\u001b[43m \u001b[49m\u001b[43minp_tensor_list\u001b[49m\u001b[43m)\u001b[49m\n\u001b[1;32m    495\u001b[0m conv_bn_pairs, bn_conv_pairs, bn_to_fold \u001b[38;5;241m=\u001b[39m _find_all_batch_norms_to_fold(connected_graph)\n\u001b[1;32m    497\u001b[0m _fold_given_batch_norms(model, conv_bn_pairs, bn_conv_pairs)\n",
            "File \u001b[0;32m~/miniconda3/envs/aimet2/lib/python3.10/site-packages/aimet_torch/meta/connectedgraph.py:159\u001b[0m, in \u001b[0;36mConnectedGraph.__init__\u001b[0;34m(self, model, model_input)\u001b[0m\n\u001b[1;32m    157\u001b[0m \u001b[38;5;28mself\u001b[39m\u001b[38;5;241m.\u001b[39m_generate_module_lookup_table(model)\n\u001b[1;32m    158\u001b[0m \u001b[38;5;28;01mwith\u001b[39;00m in_eval_mode(model), torch\u001b[38;5;241m.\u001b[39mno_grad():\n\u001b[0;32m--> 159\u001b[0m     \u001b[38;5;28;43mself\u001b[39;49m\u001b[38;5;241;43m.\u001b[39;49m\u001b[43m_construct_graph\u001b[49m\u001b[43m(\u001b[49m\u001b[43mmodel\u001b[49m\u001b[43m,\u001b[49m\u001b[43m \u001b[49m\u001b[43mmodel_input\u001b[49m\u001b[43m)\u001b[49m\n\u001b[1;32m    161\u001b[0m \u001b[38;5;66;03m# List of ops in the order they are traversed using the forward function\u001b[39;00m\n\u001b[1;32m    162\u001b[0m \u001b[38;5;28mself\u001b[39m\u001b[38;5;241m.\u001b[39mordered_ops \u001b[38;5;241m=\u001b[39m \u001b[38;5;28mself\u001b[39m\u001b[38;5;241m.\u001b[39m_get_ordered_ops()\n",
            "File \u001b[0;32m~/miniconda3/envs/aimet2/lib/python3.10/site-packages/aimet_torch/meta/connectedgraph.py:302\u001b[0m, in \u001b[0;36mConnectedGraph._construct_graph\u001b[0;34m(self, model, model_input)\u001b[0m\n\u001b[1;32m    300\u001b[0m module_tensor_shapes_map \u001b[38;5;241m=\u001b[39m ConnectedGraph\u001b[38;5;241m.\u001b[39m_generate_module_tensor_shapes_lookup_table(model, model_input)\n\u001b[1;32m    301\u001b[0m trace \u001b[38;5;241m=\u001b[39m torch\u001b[38;5;241m.\u001b[39mjit\u001b[38;5;241m.\u001b[39mtrace(model, model_input, \u001b[38;5;241m*\u001b[39m\u001b[38;5;241m*\u001b[39mjit_trace_args)\n\u001b[0;32m--> 302\u001b[0m \u001b[38;5;28;43mself\u001b[39;49m\u001b[38;5;241;43m.\u001b[39;49m\u001b[43m_parse_top_level_trace\u001b[49m\u001b[43m(\u001b[49m\u001b[43mtrace\u001b[49m\u001b[43m,\u001b[49m\u001b[43m \u001b[49m\u001b[43mmodel\u001b[49m\u001b[43m)\u001b[49m\n\u001b[1;32m    303\u001b[0m \u001b[38;5;28mself\u001b[39m\u001b[38;5;241m.\u001b[39m_optimize_connected_graph()\n\u001b[1;32m    304\u001b[0m \u001b[38;5;28mself\u001b[39m\u001b[38;5;241m.\u001b[39m_transform_ops_and_products_to_connected_graph_convention()\n",
            "File \u001b[0;32m~/miniconda3/envs/aimet2/lib/python3.10/site-packages/aimet_torch/meta/connectedgraph.py:343\u001b[0m, in \u001b[0;36mConnectedGraph._parse_top_level_trace\u001b[0;34m(self, trace, model)\u001b[0m\n\u001b[1;32m    340\u001b[0m     product\u001b[38;5;241m.\u001b[39mis_model_input \u001b[38;5;241m=\u001b[39m \u001b[38;5;28;01mTrue\u001b[39;00m\n\u001b[1;32m    341\u001b[0m     output_map[inp] \u001b[38;5;241m=\u001b[39m product\n\u001b[0;32m--> 343\u001b[0m _ \u001b[38;5;241m=\u001b[39m \u001b[38;5;28;43mself\u001b[39;49m\u001b[38;5;241;43m.\u001b[39;49m\u001b[43m_parse_trace_graph\u001b[49m\u001b[43m(\u001b[49m\u001b[43mtrace\u001b[49m\u001b[43m,\u001b[49m\u001b[43m \u001b[49m\u001b[43mmodel\u001b[49m\u001b[43m,\u001b[49m\u001b[43m \u001b[49m\u001b[43moutput_map\u001b[49m\u001b[43m,\u001b[49m\u001b[43m \u001b[49m\u001b[43mtop_level_inputs\u001b[49m\u001b[43m,\u001b[49m\u001b[43m \u001b[49m\u001b[43mmodule_to_jit_trace\u001b[49m\u001b[38;5;241;43m=\u001b[39;49m\u001b[43mmodule_to_jit_trace\u001b[49m\u001b[43m)\u001b[49m\n",
            "File \u001b[0;32m~/miniconda3/envs/aimet2/lib/python3.10/site-packages/aimet_torch/meta/connectedgraph.py:394\u001b[0m, in \u001b[0;36mConnectedGraph._parse_trace_graph\u001b[0;34m(self, trace, model, output_map, higher_level_inputs, module_to_jit_trace, elementwise_info)\u001b[0m\n\u001b[1;32m    392\u001b[0m \u001b[38;5;66;03m# retrieving a module reference\u001b[39;00m\n\u001b[1;32m    393\u001b[0m \u001b[38;5;28;01mif\u001b[39;00m \u001b[38;5;124m'\u001b[39m\u001b[38;5;124mGetAttr\u001b[39m\u001b[38;5;124m'\u001b[39m \u001b[38;5;129;01min\u001b[39;00m node\u001b[38;5;241m.\u001b[39mkind():\n\u001b[0;32m--> 394\u001b[0m     \u001b[38;5;28;43mself\u001b[39;49m\u001b[38;5;241;43m.\u001b[39;49m\u001b[43m_parse_getattr_node\u001b[49m\u001b[43m(\u001b[49m\u001b[43mnode\u001b[49m\u001b[43m,\u001b[49m\u001b[43m \u001b[49m\u001b[43mcurr_inputs\u001b[49m\u001b[43m,\u001b[49m\u001b[43m \u001b[49m\u001b[43moutputs\u001b[49m\u001b[43m,\u001b[49m\u001b[43m \u001b[49m\u001b[43mnode_name_to_module\u001b[49m\u001b[43m,\u001b[49m\u001b[43m \u001b[49m\u001b[43mnode_name_to_subgraph_model\u001b[49m\u001b[43m,\u001b[49m\n\u001b[1;32m    395\u001b[0m \u001b[43m                             \u001b[49m\u001b[43mmodule_to_jit_trace\u001b[49m\u001b[43m,\u001b[49m\u001b[43m \u001b[49m\u001b[43mmodel\u001b[49m\u001b[43m,\u001b[49m\u001b[43m \u001b[49m\u001b[43moutput_map\u001b[49m\u001b[43m,\u001b[49m\u001b[43m \u001b[49m\u001b[43mcurr_level_tensors\u001b[49m\u001b[43m)\u001b[49m\n\u001b[1;32m    397\u001b[0m \u001b[38;5;66;03m# invoking forward method\u001b[39;00m\n\u001b[1;32m    398\u001b[0m \u001b[38;5;28;01melif\u001b[39;00m \u001b[38;5;124m'\u001b[39m\u001b[38;5;124mCallMethod\u001b[39m\u001b[38;5;124m'\u001b[39m \u001b[38;5;129;01min\u001b[39;00m node\u001b[38;5;241m.\u001b[39mkind():\n\u001b[1;32m    399\u001b[0m     \u001b[38;5;66;03m# In the case of parsing the interior of an elementwise op, we never expect to see any CallMethod nodes\u001b[39;00m\n",
            "File \u001b[0;32m~/miniconda3/envs/aimet2/lib/python3.10/site-packages/aimet_torch/meta/connectedgraph.py:517\u001b[0m, in \u001b[0;36mConnectedGraph._parse_getattr_node\u001b[0;34m(self, node, inputs, outputs, node_name_to_module, node_name_to_subgraph_model, module_to_jit_trace, residing_module, output_map, curr_level_tensors)\u001b[0m\n\u001b[1;32m    504\u001b[0m     \u001b[38;5;28;01mraise\u001b[39;00m \u001b[38;5;167;01mValueError\u001b[39;00m(\u001b[38;5;124m\"\u001b[39m\u001b[38;5;124mduplicate model for \u001b[39m\u001b[38;5;132;01m{0}\u001b[39;00m\u001b[38;5;124m -> \u001b[39m\u001b[38;5;132;01m{1}\u001b[39;00m\u001b[38;5;124m and \u001b[39m\u001b[38;5;132;01m{2}\u001b[39;00m\u001b[38;5;124m\"\u001b[39m\u001b[38;5;241m.\u001b[39mformat(\n\u001b[1;32m    505\u001b[0m         getattr_node_info\u001b[38;5;241m.\u001b[39mnode_alias, node_name_to_module[getattr_node_info\u001b[38;5;241m.\u001b[39mnode_alias],\n\u001b[1;32m    506\u001b[0m         subgraph_model))\n\u001b[1;32m    508\u001b[0m \u001b[38;5;66;03m# Recursive parsing is not needed 1) if the module is leaf module and\u001b[39;00m\n\u001b[1;32m    509\u001b[0m \u001b[38;5;66;03m# module is from torch.nn (Conv2d, Linear etc.) 2) if the module is leaf module and\u001b[39;00m\n\u001b[1;32m    510\u001b[0m \u001b[38;5;66;03m# custom module whose forward method has only one functional operation (elementwise_ops.Add()).\u001b[39;00m\n\u001b[0;32m   (...)\u001b[0m\n\u001b[1;32m    515\u001b[0m \u001b[38;5;66;03m# it is necessary to parse the interior of the elementwise op's CallMethod to extract information about\u001b[39;00m\n\u001b[1;32m    516\u001b[0m \u001b[38;5;66;03m# constants being passed in, or the order in which operands are used.\u001b[39;00m\n\u001b[0;32m--> 517\u001b[0m \u001b[38;5;28;01mif\u001b[39;00m \u001b[38;5;28;43mself\u001b[39;49m\u001b[38;5;241;43m.\u001b[39;49m\u001b[43m_is_recursive_parsing_needed\u001b[49m\u001b[43m(\u001b[49m\u001b[43msubgraph_model\u001b[49m\u001b[43m,\u001b[49m\u001b[43m \u001b[49m\u001b[43mmodule_to_jit_trace\u001b[49m\u001b[43m)\u001b[49m \u001b[38;5;129;01mor\u001b[39;00m \\\n\u001b[1;32m    518\u001b[0m         \u001b[38;5;28mself\u001b[39m\u001b[38;5;241m.\u001b[39m_is_multi_input_op_to_parse(subgraph_model):\n\u001b[1;32m    519\u001b[0m     node_name_to_subgraph_model[getattr_node_info\u001b[38;5;241m.\u001b[39mnode_alias] \u001b[38;5;241m=\u001b[39m (subgraph_model, getattr_node_info)\n",
            "File \u001b[0;32m~/miniconda3/envs/aimet2/lib/python3.10/site-packages/aimet_torch/meta/connectedgraph.py:1260\u001b[0m, in \u001b[0;36mConnectedGraph._is_recursive_parsing_needed\u001b[0;34m(self, module, module_to_jit_trace)\u001b[0m\n\u001b[1;32m   1248\u001b[0m \u001b[38;5;250m\u001b[39m\u001b[38;5;124;03m\"\"\"\u001b[39;00m\n\u001b[1;32m   1249\u001b[0m \u001b[38;5;124;03mUtility to decide whether recursive parsing is needed for given module and it's jit trace.\u001b[39;00m\n\u001b[1;32m   1250\u001b[0m \u001b[38;5;124;03mRecursive parsing is not needed\u001b[39;00m\n\u001b[0;32m   (...)\u001b[0m\n\u001b[1;32m   1256\u001b[0m \u001b[38;5;124;03m:return: Boolean whether recursive parsing needed or not. If needed returns True, False otherwise.\u001b[39;00m\n\u001b[1;32m   1257\u001b[0m \u001b[38;5;124;03m\"\"\"\u001b[39;00m\n\u001b[1;32m   1258\u001b[0m recursive_parsing_needed \u001b[38;5;241m=\u001b[39m \u001b[38;5;28;01mTrue\u001b[39;00m\n\u001b[1;32m   1259\u001b[0m \u001b[38;5;28;01mif\u001b[39;00m is_torch_nn_leaf_module(module) \u001b[38;5;129;01mor\u001b[39;00m \\\n\u001b[0;32m-> 1260\u001b[0m         is_custom_leaf_module(module, \u001b[38;5;28;43mself\u001b[39;49m\u001b[38;5;241;43m.\u001b[39;49m\u001b[43mget_all_aten_nodes\u001b[49m\u001b[43m(\u001b[49m\u001b[43mmodule\u001b[49m\u001b[43m,\u001b[49m\u001b[43m \u001b[49m\u001b[43mmodule_to_jit_trace\u001b[49m\u001b[43m)\u001b[49m) \u001b[38;5;129;01mor\u001b[39;00m \\\n\u001b[1;32m   1261\u001b[0m         \u001b[38;5;28misinstance\u001b[39m(module, \u001b[38;5;28mtuple\u001b[39m(aimet_torch\u001b[38;5;241m.\u001b[39mutils\u001b[38;5;241m.\u001b[39mmodules_to_treat_as_leaf)):\n\u001b[1;32m   1262\u001b[0m     recursive_parsing_needed \u001b[38;5;241m=\u001b[39m \u001b[38;5;28;01mFalse\u001b[39;00m\n\u001b[1;32m   1264\u001b[0m \u001b[38;5;28;01mreturn\u001b[39;00m recursive_parsing_needed\n",
            "File \u001b[0;32m~/miniconda3/envs/aimet2/lib/python3.10/site-packages/aimet_torch/meta/connectedgraph.py:248\u001b[0m, in \u001b[0;36mConnectedGraph.get_all_aten_nodes\u001b[0;34m(self, module, module_to_jit_trace)\u001b[0m\n\u001b[1;32m    245\u001b[0m \u001b[38;5;28;01mexcept\u001b[39;00m:\n\u001b[1;32m    246\u001b[0m     \u001b[38;5;28;01mraise\u001b[39;00m \u001b[38;5;167;01mKeyError\u001b[39;00m(\u001b[38;5;124mf\u001b[39m\u001b[38;5;124m\"\u001b[39m\u001b[38;5;124mCouldn\u001b[39m\u001b[38;5;124m'\u001b[39m\u001b[38;5;124mt find corresponding JIT trace for module : \u001b[39m\u001b[38;5;132;01m{\u001b[39;00mmodule\u001b[38;5;132;01m}\u001b[39;00m\u001b[38;5;124m\"\u001b[39m)  \u001b[38;5;66;03m# pylint: disable=raise-missing-from\u001b[39;00m\n\u001b[0;32m--> 248\u001b[0m nodes \u001b[38;5;241m=\u001b[39m \u001b[38;5;28;43mself\u001b[39;49m\u001b[38;5;241;43m.\u001b[39;49m\u001b[43m_find_aten_nodes_in_forward_pass\u001b[49m\u001b[43m(\u001b[49m\u001b[43mtrace\u001b[49m\u001b[43m)\u001b[49m\n\u001b[1;32m    249\u001b[0m \u001b[38;5;28;01mreturn\u001b[39;00m nodes\n",
            "File \u001b[0;32m~/miniconda3/envs/aimet2/lib/python3.10/site-packages/aimet_torch/meta/connectedgraph.py:1324\u001b[0m, in \u001b[0;36mConnectedGraph._find_aten_nodes_in_forward_pass\u001b[0;34m(trace)\u001b[0m\n\u001b[1;32m   1322\u001b[0m nodes \u001b[38;5;241m=\u001b[39m []\n\u001b[1;32m   1323\u001b[0m \u001b[38;5;28;01mtry\u001b[39;00m:\n\u001b[0;32m-> 1324\u001b[0m     nodes \u001b[38;5;241m=\u001b[39m [node \u001b[38;5;28;01mfor\u001b[39;00m node \u001b[38;5;129;01min\u001b[39;00m \u001b[43mtrace\u001b[49m\u001b[38;5;241;43m.\u001b[39;49m\u001b[43mgraph\u001b[49m\u001b[38;5;241m.\u001b[39mnodes() \u001b[38;5;28;01mif\u001b[39;00m \u001b[38;5;124m\"\u001b[39m\u001b[38;5;124maten::\u001b[39m\u001b[38;5;124m\"\u001b[39m \u001b[38;5;129;01min\u001b[39;00m node\u001b[38;5;241m.\u001b[39mkind() \u001b[38;5;129;01mand\u001b[39;00m\n\u001b[1;32m   1325\u001b[0m              ConnectedGraph\u001b[38;5;241m.\u001b[39m_parse_op_type(node) \u001b[38;5;129;01mnot\u001b[39;00m \u001b[38;5;129;01min\u001b[39;00m ConnectedGraph\u001b[38;5;241m.\u001b[39mpassthrough_graph_nodes]\n\u001b[1;32m   1326\u001b[0m \u001b[38;5;28;01mexcept\u001b[39;00m \u001b[38;5;167;01mRuntimeError\u001b[39;00m:\n\u001b[1;32m   1327\u001b[0m     \u001b[38;5;28;01mpass\u001b[39;00m\n",
            "\u001b[0;31mKeyboardInterrupt\u001b[0m: "
          ]
        }
      ],
      "source": [
        "sim, initial_accuracy = auto_quant.run_inference()\n",
        "print(f\"- Quantized A ccuracy (before optimization): {initial_accuracy}\")"
      ]
    },
    {
      "cell_type": "markdown",
      "metadata": {
        "id": "fw7QB3A7Wb9F"
      },
      "source": [
        "### Set AdaRound Parameters (optional)\n",
        "AutoQuant uses a set of predefined default parameters for AdaRound.\n",
        "These values were determined empirically and work well with the common models.\n",
        "However, if necessary, you can also use your custom parameters for Adaround.\n",
        "In this notebook, we will use very small AdaRound parameters for faster execution."
      ]
    },
    {
      "cell_type": "code",
      "execution_count": 11,
      "metadata": {
        "id": "7Ei_tpUIWb9F",
        "pycharm": {
          "name": "#%%\n"
        }
      },
      "outputs": [
        {
          "data": {
            "text/plain": [
              "0.2"
            ]
          },
          "execution_count": 11,
          "metadata": {},
          "output_type": "execute_result"
        }
      ],
      "source": [
        "from aimet_torch.adaround.adaround_weight import AdaroundParameters\n",
        "\n",
        "adaround_data_loader = DataLoader(UnlabeledDatasetWrapper(calibrationDataset))\n",
        "adaround_params = AdaroundParameters(adaround_data_loader, num_batches=len(adaround_data_loader), default_num_iterations=2000)\n",
        "# auto_quant.set_adaround_params(adaround_params)\n",
        "adaround_params.warm_start"
      ]
    },
    {
      "cell_type": "markdown",
      "metadata": {
        "id": "G-a5n9AMWb9F"
      },
      "source": [
        "### Run AutoQuant Optimization\n",
        "This step runs AutoQuant optimization, which returns the best possible quantized model, corresponding evaluation score and the path to the encoding file.\n",
        "The **allowed_accuracy_drop** parameter indicates the tolerable amount of accuracy drop. AutoQuant applies a series of quantization features until the target accuracy (FP32 accuracy - allowed accuracy drop) is satisfied. When the target accuracy is reached, AutoQuant will return immediately without applying furhter PTQ techniques. Please refer AutoQuant User Guide and API documentation for complete details."
      ]
    },
    {
      "cell_type": "code",
      "execution_count": 12,
      "metadata": {
        "colab": {
          "base_uri": "https://localhost:8080/",
          "height": 1000
        },
        "id": "7ete8ao5Wb9F",
        "outputId": "81b21793-3f19-4ef6-8ea6-76ad08006368",
        "scrolled": false
      },
      "outputs": [
        {
          "name": "stdout",
          "output_type": "stream",
          "text": [
            "2024-07-29 10:18:56,679 - AutoQuant - INFO - Starting AutoQuant\n"
          ]
        },
        {
          "name": "stderr",
          "output_type": "stream",
          "text": [
            "  0%|          | 0/10 [00:00<?, ?it/s]"
          ]
        },
        {
          "name": "stdout",
          "output_type": "stream",
          "text": [
            "07/29 10:18:56 - mmengine - \u001b[4m\u001b[97mINFO\u001b[0m - Evaluating bbox...\n",
            "Loading and preparing results...\n",
            "DONE (t=0.00s)\n",
            "creating index...\n",
            "index created!\n",
            "Running per image evaluation...\n",
            "Evaluate annotation type *bbox*\n",
            "DONE (t=3.28s).\n",
            "Accumulating evaluation results...\n"
          ]
        },
        {
          "name": "stderr",
          "output_type": "stream",
          "text": [
            " 10%|█         | 1/10 [00:04<00:36,  4.08s/it]"
          ]
        },
        {
          "name": "stdout",
          "output_type": "stream",
          "text": [
            "DONE (t=0.53s).\n",
            " Average Precision  (AP) @[ IoU=0.50:0.95 | area=   all | maxDets=100 ] = 0.000\n",
            " Average Precision  (AP) @[ IoU=0.50      | area=   all | maxDets=100 ] = 0.000\n",
            " Average Precision  (AP) @[ IoU=0.75      | area=   all | maxDets=100 ] = 0.000\n",
            " Average Precision  (AP) @[ IoU=0.50:0.95 | area= small | maxDets=100 ] = 0.000\n",
            " Average Precision  (AP) @[ IoU=0.50:0.95 | area=medium | maxDets=100 ] = 0.000\n",
            " Average Precision  (AP) @[ IoU=0.50:0.95 | area= large | maxDets=100 ] = 0.000\n",
            " Average Recall     (AR) @[ IoU=0.50:0.95 | area=   all | maxDets=  1 ] = 0.000\n",
            " Average Recall     (AR) @[ IoU=0.50:0.95 | area=   all | maxDets= 10 ] = 0.000\n",
            " Average Recall     (AR) @[ IoU=0.50:0.95 | area=   all | maxDets=100 ] = 0.000\n",
            " Average Recall     (AR) @[ IoU=0.50:0.95 | area= small | maxDets=100 ] = 0.000\n",
            " Average Recall     (AR) @[ IoU=0.50:0.95 | area=medium | maxDets=100 ] = 0.000\n",
            " Average Recall     (AR) @[ IoU=0.50:0.95 | area= large | maxDets=100 ] = 0.000\n",
            "07/29 10:19:00 - mmengine - \u001b[4m\u001b[97mINFO\u001b[0m - Evaluating bbox...\n",
            "Loading and preparing results...\n",
            "DONE (t=0.00s)\n",
            "creating index...\n",
            "index created!\n",
            "Running per image evaluation...\n",
            "Evaluate annotation type *bbox*\n",
            "DONE (t=3.11s).\n",
            "Accumulating evaluation results...\n"
          ]
        },
        {
          "name": "stderr",
          "output_type": "stream",
          "text": [
            " 20%|██        | 2/10 [00:07<00:31,  3.96s/it]"
          ]
        },
        {
          "name": "stdout",
          "output_type": "stream",
          "text": [
            "DONE (t=0.53s).\n",
            " Average Precision  (AP) @[ IoU=0.50:0.95 | area=   all | maxDets=100 ] = 0.000\n",
            " Average Precision  (AP) @[ IoU=0.50      | area=   all | maxDets=100 ] = 0.000\n",
            " Average Precision  (AP) @[ IoU=0.75      | area=   all | maxDets=100 ] = 0.000\n",
            " Average Precision  (AP) @[ IoU=0.50:0.95 | area= small | maxDets=100 ] = 0.000\n",
            " Average Precision  (AP) @[ IoU=0.50:0.95 | area=medium | maxDets=100 ] = 0.000\n",
            " Average Precision  (AP) @[ IoU=0.50:0.95 | area= large | maxDets=100 ] = 0.000\n",
            " Average Recall     (AR) @[ IoU=0.50:0.95 | area=   all | maxDets=  1 ] = 0.000\n",
            " Average Recall     (AR) @[ IoU=0.50:0.95 | area=   all | maxDets= 10 ] = 0.000\n",
            " Average Recall     (AR) @[ IoU=0.50:0.95 | area=   all | maxDets=100 ] = 0.000\n",
            " Average Recall     (AR) @[ IoU=0.50:0.95 | area= small | maxDets=100 ] = 0.000\n",
            " Average Recall     (AR) @[ IoU=0.50:0.95 | area=medium | maxDets=100 ] = 0.000\n",
            " Average Recall     (AR) @[ IoU=0.50:0.95 | area= large | maxDets=100 ] = 0.000\n",
            "07/29 10:19:04 - mmengine - \u001b[4m\u001b[97mINFO\u001b[0m - Evaluating bbox...\n",
            "Loading and preparing results...\n",
            "DONE (t=0.00s)\n",
            "creating index...\n",
            "index created!\n",
            "Running per image evaluation...\n",
            "Evaluate annotation type *bbox*\n",
            "DONE (t=3.09s).\n",
            "Accumulating evaluation results...\n"
          ]
        },
        {
          "name": "stderr",
          "output_type": "stream",
          "text": [
            " 30%|███       | 3/10 [00:11<00:27,  3.92s/it]"
          ]
        },
        {
          "name": "stdout",
          "output_type": "stream",
          "text": [
            "DONE (t=0.54s).\n",
            " Average Precision  (AP) @[ IoU=0.50:0.95 | area=   all | maxDets=100 ] = 0.000\n",
            " Average Precision  (AP) @[ IoU=0.50      | area=   all | maxDets=100 ] = 0.000\n",
            " Average Precision  (AP) @[ IoU=0.75      | area=   all | maxDets=100 ] = 0.000\n",
            " Average Precision  (AP) @[ IoU=0.50:0.95 | area= small | maxDets=100 ] = 0.000\n",
            " Average Precision  (AP) @[ IoU=0.50:0.95 | area=medium | maxDets=100 ] = 0.000\n",
            " Average Precision  (AP) @[ IoU=0.50:0.95 | area= large | maxDets=100 ] = 0.000\n",
            " Average Recall     (AR) @[ IoU=0.50:0.95 | area=   all | maxDets=  1 ] = 0.000\n",
            " Average Recall     (AR) @[ IoU=0.50:0.95 | area=   all | maxDets= 10 ] = 0.000\n",
            " Average Recall     (AR) @[ IoU=0.50:0.95 | area=   all | maxDets=100 ] = 0.000\n",
            " Average Recall     (AR) @[ IoU=0.50:0.95 | area= small | maxDets=100 ] = 0.000\n",
            " Average Recall     (AR) @[ IoU=0.50:0.95 | area=medium | maxDets=100 ] = 0.000\n",
            " Average Recall     (AR) @[ IoU=0.50:0.95 | area= large | maxDets=100 ] = 0.000\n",
            "07/29 10:19:08 - mmengine - \u001b[4m\u001b[97mINFO\u001b[0m - Evaluating bbox...\n",
            "Loading and preparing results...\n",
            "DONE (t=0.00s)\n",
            "creating index...\n",
            "index created!\n",
            "Running per image evaluation...\n",
            "Evaluate annotation type *bbox*\n",
            "DONE (t=3.14s).\n",
            "Accumulating evaluation results...\n"
          ]
        },
        {
          "name": "stderr",
          "output_type": "stream",
          "text": [
            " 40%|████      | 4/10 [00:15<00:23,  3.91s/it]"
          ]
        },
        {
          "name": "stdout",
          "output_type": "stream",
          "text": [
            "DONE (t=0.53s).\n",
            " Average Precision  (AP) @[ IoU=0.50:0.95 | area=   all | maxDets=100 ] = 0.000\n",
            " Average Precision  (AP) @[ IoU=0.50      | area=   all | maxDets=100 ] = 0.000\n",
            " Average Precision  (AP) @[ IoU=0.75      | area=   all | maxDets=100 ] = 0.000\n",
            " Average Precision  (AP) @[ IoU=0.50:0.95 | area= small | maxDets=100 ] = 0.000\n",
            " Average Precision  (AP) @[ IoU=0.50:0.95 | area=medium | maxDets=100 ] = 0.000\n",
            " Average Precision  (AP) @[ IoU=0.50:0.95 | area= large | maxDets=100 ] = 0.000\n",
            " Average Recall     (AR) @[ IoU=0.50:0.95 | area=   all | maxDets=  1 ] = 0.000\n",
            " Average Recall     (AR) @[ IoU=0.50:0.95 | area=   all | maxDets= 10 ] = 0.000\n",
            " Average Recall     (AR) @[ IoU=0.50:0.95 | area=   all | maxDets=100 ] = 0.000\n",
            " Average Recall     (AR) @[ IoU=0.50:0.95 | area= small | maxDets=100 ] = 0.000\n",
            " Average Recall     (AR) @[ IoU=0.50:0.95 | area=medium | maxDets=100 ] = 0.000\n",
            " Average Recall     (AR) @[ IoU=0.50:0.95 | area= large | maxDets=100 ] = 0.000\n",
            "07/29 10:19:12 - mmengine - \u001b[4m\u001b[97mINFO\u001b[0m - Evaluating bbox...\n",
            "Loading and preparing results...\n",
            "DONE (t=0.00s)\n",
            "creating index...\n",
            "index created!\n",
            "Running per image evaluation...\n",
            "Evaluate annotation type *bbox*\n",
            "DONE (t=2.78s).\n",
            "Accumulating evaluation results...\n"
          ]
        },
        {
          "name": "stderr",
          "output_type": "stream",
          "text": [
            " 50%|█████     | 5/10 [00:19<00:18,  3.78s/it]"
          ]
        },
        {
          "name": "stdout",
          "output_type": "stream",
          "text": [
            "DONE (t=0.53s).\n",
            " Average Precision  (AP) @[ IoU=0.50:0.95 | area=   all | maxDets=100 ] = 0.000\n",
            " Average Precision  (AP) @[ IoU=0.50      | area=   all | maxDets=100 ] = 0.000\n",
            " Average Precision  (AP) @[ IoU=0.75      | area=   all | maxDets=100 ] = 0.000\n",
            " Average Precision  (AP) @[ IoU=0.50:0.95 | area= small | maxDets=100 ] = 0.000\n",
            " Average Precision  (AP) @[ IoU=0.50:0.95 | area=medium | maxDets=100 ] = 0.000\n",
            " Average Precision  (AP) @[ IoU=0.50:0.95 | area= large | maxDets=100 ] = 0.000\n",
            " Average Recall     (AR) @[ IoU=0.50:0.95 | area=   all | maxDets=  1 ] = 0.000\n",
            " Average Recall     (AR) @[ IoU=0.50:0.95 | area=   all | maxDets= 10 ] = 0.000\n",
            " Average Recall     (AR) @[ IoU=0.50:0.95 | area=   all | maxDets=100 ] = 0.000\n",
            " Average Recall     (AR) @[ IoU=0.50:0.95 | area= small | maxDets=100 ] = 0.000\n",
            " Average Recall     (AR) @[ IoU=0.50:0.95 | area=medium | maxDets=100 ] = 0.000\n",
            " Average Recall     (AR) @[ IoU=0.50:0.95 | area= large | maxDets=100 ] = 0.000\n",
            "07/29 10:19:16 - mmengine - \u001b[4m\u001b[97mINFO\u001b[0m - Evaluating bbox...\n",
            "Loading and preparing results...\n",
            "DONE (t=0.00s)\n",
            "creating index...\n",
            "index created!\n",
            "Running per image evaluation...\n",
            "Evaluate annotation type *bbox*\n",
            "DONE (t=3.43s).\n",
            "Accumulating evaluation results...\n"
          ]
        },
        {
          "name": "stderr",
          "output_type": "stream",
          "text": [
            " 60%|██████    | 6/10 [00:23<00:15,  3.92s/it]"
          ]
        },
        {
          "name": "stdout",
          "output_type": "stream",
          "text": [
            "DONE (t=0.53s).\n",
            " Average Precision  (AP) @[ IoU=0.50:0.95 | area=   all | maxDets=100 ] = 0.000\n",
            " Average Precision  (AP) @[ IoU=0.50      | area=   all | maxDets=100 ] = 0.000\n",
            " Average Precision  (AP) @[ IoU=0.75      | area=   all | maxDets=100 ] = 0.000\n",
            " Average Precision  (AP) @[ IoU=0.50:0.95 | area= small | maxDets=100 ] = 0.000\n",
            " Average Precision  (AP) @[ IoU=0.50:0.95 | area=medium | maxDets=100 ] = 0.000\n",
            " Average Precision  (AP) @[ IoU=0.50:0.95 | area= large | maxDets=100 ] = 0.000\n",
            " Average Recall     (AR) @[ IoU=0.50:0.95 | area=   all | maxDets=  1 ] = 0.000\n",
            " Average Recall     (AR) @[ IoU=0.50:0.95 | area=   all | maxDets= 10 ] = 0.000\n",
            " Average Recall     (AR) @[ IoU=0.50:0.95 | area=   all | maxDets=100 ] = 0.000\n",
            " Average Recall     (AR) @[ IoU=0.50:0.95 | area= small | maxDets=100 ] = 0.000\n",
            " Average Recall     (AR) @[ IoU=0.50:0.95 | area=medium | maxDets=100 ] = 0.000\n",
            " Average Recall     (AR) @[ IoU=0.50:0.95 | area= large | maxDets=100 ] = 0.000\n",
            "07/29 10:19:20 - mmengine - \u001b[4m\u001b[97mINFO\u001b[0m - Evaluating bbox...\n",
            "Loading and preparing results...\n",
            "DONE (t=0.00s)\n",
            "creating index...\n",
            "index created!\n",
            "Running per image evaluation...\n",
            "Evaluate annotation type *bbox*\n",
            "DONE (t=3.13s).\n",
            "Accumulating evaluation results...\n"
          ]
        },
        {
          "name": "stderr",
          "output_type": "stream",
          "text": [
            " 70%|███████   | 7/10 [00:27<00:11,  3.92s/it]"
          ]
        },
        {
          "name": "stdout",
          "output_type": "stream",
          "text": [
            "DONE (t=0.54s).\n",
            " Average Precision  (AP) @[ IoU=0.50:0.95 | area=   all | maxDets=100 ] = 0.000\n",
            " Average Precision  (AP) @[ IoU=0.50      | area=   all | maxDets=100 ] = 0.000\n",
            " Average Precision  (AP) @[ IoU=0.75      | area=   all | maxDets=100 ] = 0.000\n",
            " Average Precision  (AP) @[ IoU=0.50:0.95 | area= small | maxDets=100 ] = 0.000\n",
            " Average Precision  (AP) @[ IoU=0.50:0.95 | area=medium | maxDets=100 ] = 0.000\n",
            " Average Precision  (AP) @[ IoU=0.50:0.95 | area= large | maxDets=100 ] = 0.000\n",
            " Average Recall     (AR) @[ IoU=0.50:0.95 | area=   all | maxDets=  1 ] = 0.000\n",
            " Average Recall     (AR) @[ IoU=0.50:0.95 | area=   all | maxDets= 10 ] = 0.000\n",
            " Average Recall     (AR) @[ IoU=0.50:0.95 | area=   all | maxDets=100 ] = 0.000\n",
            " Average Recall     (AR) @[ IoU=0.50:0.95 | area= small | maxDets=100 ] = 0.000\n",
            " Average Recall     (AR) @[ IoU=0.50:0.95 | area=medium | maxDets=100 ] = 0.000\n",
            " Average Recall     (AR) @[ IoU=0.50:0.95 | area= large | maxDets=100 ] = 0.000\n",
            "07/29 10:19:24 - mmengine - \u001b[4m\u001b[97mINFO\u001b[0m - Evaluating bbox...\n",
            "Loading and preparing results...\n",
            "DONE (t=0.00s)\n",
            "creating index...\n",
            "index created!\n",
            "Running per image evaluation...\n",
            "Evaluate annotation type *bbox*\n",
            "DONE (t=3.13s).\n",
            "Accumulating evaluation results...\n"
          ]
        },
        {
          "name": "stderr",
          "output_type": "stream",
          "text": [
            " 80%|████████  | 8/10 [00:31<00:07,  3.92s/it]"
          ]
        },
        {
          "name": "stdout",
          "output_type": "stream",
          "text": [
            "DONE (t=0.54s).\n",
            " Average Precision  (AP) @[ IoU=0.50:0.95 | area=   all | maxDets=100 ] = 0.000\n",
            " Average Precision  (AP) @[ IoU=0.50      | area=   all | maxDets=100 ] = 0.000\n",
            " Average Precision  (AP) @[ IoU=0.75      | area=   all | maxDets=100 ] = 0.000\n",
            " Average Precision  (AP) @[ IoU=0.50:0.95 | area= small | maxDets=100 ] = 0.000\n",
            " Average Precision  (AP) @[ IoU=0.50:0.95 | area=medium | maxDets=100 ] = 0.000\n",
            " Average Precision  (AP) @[ IoU=0.50:0.95 | area= large | maxDets=100 ] = 0.000\n",
            " Average Recall     (AR) @[ IoU=0.50:0.95 | area=   all | maxDets=  1 ] = 0.000\n",
            " Average Recall     (AR) @[ IoU=0.50:0.95 | area=   all | maxDets= 10 ] = 0.000\n",
            " Average Recall     (AR) @[ IoU=0.50:0.95 | area=   all | maxDets=100 ] = 0.000\n",
            " Average Recall     (AR) @[ IoU=0.50:0.95 | area= small | maxDets=100 ] = 0.000\n",
            " Average Recall     (AR) @[ IoU=0.50:0.95 | area=medium | maxDets=100 ] = 0.000\n",
            " Average Recall     (AR) @[ IoU=0.50:0.95 | area= large | maxDets=100 ] = 0.000\n",
            "07/29 10:19:28 - mmengine - \u001b[4m\u001b[97mINFO\u001b[0m - Evaluating bbox...\n",
            "Loading and preparing results...\n",
            "DONE (t=0.00s)\n",
            "creating index...\n",
            "index created!\n",
            "Running per image evaluation...\n",
            "Evaluate annotation type *bbox*\n",
            "DONE (t=3.38s).\n",
            "Accumulating evaluation results...\n"
          ]
        },
        {
          "name": "stderr",
          "output_type": "stream",
          "text": [
            " 90%|█████████ | 9/10 [00:35<00:03,  4.00s/it]"
          ]
        },
        {
          "name": "stdout",
          "output_type": "stream",
          "text": [
            "DONE (t=0.54s).\n",
            " Average Precision  (AP) @[ IoU=0.50:0.95 | area=   all | maxDets=100 ] = 0.000\n",
            " Average Precision  (AP) @[ IoU=0.50      | area=   all | maxDets=100 ] = 0.000\n",
            " Average Precision  (AP) @[ IoU=0.75      | area=   all | maxDets=100 ] = 0.000\n",
            " Average Precision  (AP) @[ IoU=0.50:0.95 | area= small | maxDets=100 ] = 0.000\n",
            " Average Precision  (AP) @[ IoU=0.50:0.95 | area=medium | maxDets=100 ] = 0.000\n",
            " Average Precision  (AP) @[ IoU=0.50:0.95 | area= large | maxDets=100 ] = 0.000\n",
            " Average Recall     (AR) @[ IoU=0.50:0.95 | area=   all | maxDets=  1 ] = 0.000\n",
            " Average Recall     (AR) @[ IoU=0.50:0.95 | area=   all | maxDets= 10 ] = 0.000\n",
            " Average Recall     (AR) @[ IoU=0.50:0.95 | area=   all | maxDets=100 ] = 0.000\n",
            " Average Recall     (AR) @[ IoU=0.50:0.95 | area= small | maxDets=100 ] = 0.000\n",
            " Average Recall     (AR) @[ IoU=0.50:0.95 | area=medium | maxDets=100 ] = 0.000\n",
            " Average Recall     (AR) @[ IoU=0.50:0.95 | area= large | maxDets=100 ] = 0.000\n",
            "07/29 10:19:32 - mmengine - \u001b[4m\u001b[97mINFO\u001b[0m - Evaluating bbox...\n",
            "Loading and preparing results...\n",
            "DONE (t=0.00s)\n",
            "creating index...\n",
            "index created!\n",
            "Running per image evaluation...\n",
            "Evaluate annotation type *bbox*\n",
            "DONE (t=2.81s).\n",
            "Accumulating evaluation results...\n"
          ]
        },
        {
          "name": "stderr",
          "output_type": "stream",
          "text": [
            "100%|██████████| 10/10 [00:39<00:00,  3.91s/it]"
          ]
        },
        {
          "name": "stdout",
          "output_type": "stream",
          "text": [
            "DONE (t=0.54s).\n",
            " Average Precision  (AP) @[ IoU=0.50:0.95 | area=   all | maxDets=100 ] = 0.000\n",
            " Average Precision  (AP) @[ IoU=0.50      | area=   all | maxDets=100 ] = 0.000\n",
            " Average Precision  (AP) @[ IoU=0.75      | area=   all | maxDets=100 ] = 0.000\n",
            " Average Precision  (AP) @[ IoU=0.50:0.95 | area= small | maxDets=100 ] = 0.000\n",
            " Average Precision  (AP) @[ IoU=0.50:0.95 | area=medium | maxDets=100 ] = 0.000\n",
            " Average Precision  (AP) @[ IoU=0.50:0.95 | area= large | maxDets=100 ] = 0.000\n",
            " Average Recall     (AR) @[ IoU=0.50:0.95 | area=   all | maxDets=  1 ] = 0.000\n",
            " Average Recall     (AR) @[ IoU=0.50:0.95 | area=   all | maxDets= 10 ] = 0.000\n",
            " Average Recall     (AR) @[ IoU=0.50:0.95 | area=   all | maxDets=100 ] = 0.000\n",
            " Average Recall     (AR) @[ IoU=0.50:0.95 | area= small | maxDets=100 ] = 0.000\n",
            " Average Recall     (AR) @[ IoU=0.50:0.95 | area=medium | maxDets=100 ] = 0.000\n",
            " Average Recall     (AR) @[ IoU=0.50:0.95 | area= large | maxDets=100 ] = 0.000\n",
            "2024-07-29 10:19:35,758 - AutoQuant - INFO - Target eval score: -0.010000\n",
            "2024-07-29 10:19:35,759 - AutoQuant - INFO - FP32 eval score (W32A32): 0.000000\n"
          ]
        },
        {
          "name": "stderr",
          "output_type": "stream",
          "text": [
            "\n",
            "- Prepare Model\n",
            "                       \r"
          ]
        },
        {
          "name": "stdout",
          "output_type": "stream",
          "text": [
            "2024-07-29 10:19:39,049 - Quant - INFO - No config file provided, defaulting to config file at /home/shayaan/miniconda3/envs/aimet2/lib/python3.10/site-packages/aimet_common/quantsim_config/default_config.json\n"
          ]
        },
        {
          "name": "stderr",
          "output_type": "stream",
          "text": [
            "                       \r"
          ]
        },
        {
          "name": "stdout",
          "output_type": "stream",
          "text": [
            "2024-07-29 10:19:39,065 - Quant - INFO - Unsupported op type Squeeze\n"
          ]
        },
        {
          "name": "stderr",
          "output_type": "stream",
          "text": [
            "                       \r"
          ]
        },
        {
          "name": "stdout",
          "output_type": "stream",
          "text": [
            "2024-07-29 10:19:39,067 - Quant - INFO - Unsupported op type Mean\n"
          ]
        },
        {
          "name": "stderr",
          "output_type": "stream",
          "text": [
            "                       \r"
          ]
        },
        {
          "name": "stdout",
          "output_type": "stream",
          "text": [
            "2024-07-29 10:19:39,074 - Quant - INFO - Selecting DefaultOpInstanceConfigGenerator to compute the specialized config. hw_version:default\n"
          ]
        },
        {
          "name": "stderr",
          "output_type": "stream",
          "text": [
            "100%|██████████| 10/10 [00:07<00:00,  1.39it/s]\n",
            "/ QuantScheme Selection"
          ]
        },
        {
          "name": "stdout",
          "output_type": "stream",
          "text": [
            "07/29 10:19:48 - mmengine - \u001b[4m\u001b[97mINFO\u001b[0m - Evaluating bbox...\n"
          ]
        },
        {
          "name": "stderr",
          "output_type": "stream",
          "text": [
            "- QuantScheme Selection"
          ]
        },
        {
          "name": "stdout",
          "output_type": "stream",
          "text": [
            "Loading and preparing results...\n",
            "DONE (t=0.00s)\n",
            "creating index...\n",
            "index created!\n",
            "Running per image evaluation...\n",
            "Evaluate annotation type *bbox*\n"
          ]
        },
        {
          "name": "stderr",
          "output_type": "stream",
          "text": [
            "- QuantScheme Selection"
          ]
        },
        {
          "name": "stdout",
          "output_type": "stream",
          "text": [
            "DONE (t=3.43s).\n",
            "Accumulating evaluation results...\n"
          ]
        },
        {
          "name": "stderr",
          "output_type": "stream",
          "text": [
            "\\ QuantScheme Selection"
          ]
        },
        {
          "name": "stdout",
          "output_type": "stream",
          "text": [
            "DONE (t=0.53s).\n",
            " Average Precision  (AP) @[ IoU=0.50:0.95 | area=   all | maxDets=100 ] = 0.000\n",
            " Average Precision  (AP) @[ IoU=0.50      | area=   all | maxDets=100 ] = 0.000\n",
            " Average Precision  (AP) @[ IoU=0.75      | area=   all | maxDets=100 ] = 0.000\n",
            " Average Precision  (AP) @[ IoU=0.50:0.95 | area= small | maxDets=100 ] = 0.000\n",
            " Average Precision  (AP) @[ IoU=0.50:0.95 | area=medium | maxDets=100 ] = 0.000\n",
            " Average Precision  (AP) @[ IoU=0.50:0.95 | area= large | maxDets=100 ] = 0.000\n",
            " Average Recall     (AR) @[ IoU=0.50:0.95 | area=   all | maxDets=  1 ] = 0.000\n",
            " Average Recall     (AR) @[ IoU=0.50:0.95 | area=   all | maxDets= 10 ] = 0.000\n",
            " Average Recall     (AR) @[ IoU=0.50:0.95 | area=   all | maxDets=100 ] = 0.000\n",
            " Average Recall     (AR) @[ IoU=0.50:0.95 | area= small | maxDets=100 ] = 0.000\n",
            " Average Recall     (AR) @[ IoU=0.50:0.95 | area=medium | maxDets=100 ] = 0.000\n",
            " Average Recall     (AR) @[ IoU=0.50:0.95 | area= large | maxDets=100 ] = 0.000\n"
          ]
        },
        {
          "name": "stderr",
          "output_type": "stream",
          "text": [
            "\\ QuantScheme Selection"
          ]
        },
        {
          "name": "stdout",
          "output_type": "stream",
          "text": [
            "07/29 10:19:54 - mmengine - \u001b[4m\u001b[97mINFO\u001b[0m - Evaluating bbox...\n",
            "Loading and preparing results...\n",
            "DONE (t=0.00s)\n",
            "creating index...\n",
            "index created!\n",
            "Running per image evaluation...\n",
            "Evaluate annotation type *bbox*\n"
          ]
        },
        {
          "name": "stderr",
          "output_type": "stream",
          "text": [
            "\\ QuantScheme Selection"
          ]
        },
        {
          "name": "stdout",
          "output_type": "stream",
          "text": [
            "DONE (t=2.77s).\n",
            "Accumulating evaluation results...\n"
          ]
        },
        {
          "name": "stderr",
          "output_type": "stream",
          "text": [
            "| QuantScheme Selection"
          ]
        },
        {
          "name": "stdout",
          "output_type": "stream",
          "text": [
            "DONE (t=0.53s).\n",
            " Average Precision  (AP) @[ IoU=0.50:0.95 | area=   all | maxDets=100 ] = 0.000\n",
            " Average Precision  (AP) @[ IoU=0.50      | area=   all | maxDets=100 ] = 0.000\n",
            " Average Precision  (AP) @[ IoU=0.75      | area=   all | maxDets=100 ] = 0.000\n",
            " Average Precision  (AP) @[ IoU=0.50:0.95 | area= small | maxDets=100 ] = 0.000\n",
            " Average Precision  (AP) @[ IoU=0.50:0.95 | area=medium | maxDets=100 ] = 0.000\n",
            " Average Precision  (AP) @[ IoU=0.50:0.95 | area= large | maxDets=100 ] = 0.000\n",
            " Average Recall     (AR) @[ IoU=0.50:0.95 | area=   all | maxDets=  1 ] = 0.000\n",
            " Average Recall     (AR) @[ IoU=0.50:0.95 | area=   all | maxDets= 10 ] = 0.000\n",
            " Average Recall     (AR) @[ IoU=0.50:0.95 | area=   all | maxDets=100 ] = 0.000\n",
            " Average Recall     (AR) @[ IoU=0.50:0.95 | area= small | maxDets=100 ] = 0.000\n",
            " Average Recall     (AR) @[ IoU=0.50:0.95 | area=medium | maxDets=100 ] = 0.000\n",
            " Average Recall     (AR) @[ IoU=0.50:0.95 | area= large | maxDets=100 ] = 0.000\n"
          ]
        },
        {
          "name": "stderr",
          "output_type": "stream",
          "text": [
            "\\ QuantScheme Selection"
          ]
        },
        {
          "name": "stdout",
          "output_type": "stream",
          "text": [
            "07/29 10:19:59 - mmengine - \u001b[4m\u001b[97mINFO\u001b[0m - Evaluating bbox...\n"
          ]
        },
        {
          "name": "stderr",
          "output_type": "stream",
          "text": [
            "| QuantScheme Selection"
          ]
        },
        {
          "name": "stdout",
          "output_type": "stream",
          "text": [
            "Loading and preparing results...\n",
            "DONE (t=0.00s)\n",
            "creating index...\n",
            "index created!\n",
            "Running per image evaluation...\n",
            "Evaluate annotation type *bbox*\n"
          ]
        },
        {
          "name": "stderr",
          "output_type": "stream",
          "text": [
            "\\ QuantScheme Selection"
          ]
        },
        {
          "name": "stdout",
          "output_type": "stream",
          "text": [
            "DONE (t=3.34s).\n",
            "Accumulating evaluation results...\n"
          ]
        },
        {
          "name": "stderr",
          "output_type": "stream",
          "text": [
            "| QuantScheme Selection"
          ]
        },
        {
          "name": "stdout",
          "output_type": "stream",
          "text": [
            "DONE (t=0.52s).\n",
            " Average Precision  (AP) @[ IoU=0.50:0.95 | area=   all | maxDets=100 ] = 0.000\n",
            " Average Precision  (AP) @[ IoU=0.50      | area=   all | maxDets=100 ] = 0.000\n",
            " Average Precision  (AP) @[ IoU=0.75      | area=   all | maxDets=100 ] = 0.000\n",
            " Average Precision  (AP) @[ IoU=0.50:0.95 | area= small | maxDets=100 ] = 0.000\n",
            " Average Precision  (AP) @[ IoU=0.50:0.95 | area=medium | maxDets=100 ] = 0.000\n",
            " Average Precision  (AP) @[ IoU=0.50:0.95 | area= large | maxDets=100 ] = 0.000\n",
            " Average Recall     (AR) @[ IoU=0.50:0.95 | area=   all | maxDets=  1 ] = 0.000\n",
            " Average Recall     (AR) @[ IoU=0.50:0.95 | area=   all | maxDets= 10 ] = 0.000\n",
            " Average Recall     (AR) @[ IoU=0.50:0.95 | area=   all | maxDets=100 ] = 0.000\n",
            " Average Recall     (AR) @[ IoU=0.50:0.95 | area= small | maxDets=100 ] = 0.000\n",
            " Average Recall     (AR) @[ IoU=0.50:0.95 | area=medium | maxDets=100 ] = 0.000\n",
            " Average Recall     (AR) @[ IoU=0.50:0.95 | area= large | maxDets=100 ] = 0.000\n"
          ]
        },
        {
          "name": "stderr",
          "output_type": "stream",
          "text": [
            "| QuantScheme Selection"
          ]
        },
        {
          "name": "stdout",
          "output_type": "stream",
          "text": [
            "07/29 10:20:05 - mmengine - \u001b[4m\u001b[97mINFO\u001b[0m - Evaluating bbox...\n",
            "Loading and preparing results...\n",
            "DONE (t=0.00s)\n",
            "creating index...\n",
            "index created!\n",
            "Running per image evaluation...\n",
            "Evaluate annotation type *bbox*\n"
          ]
        },
        {
          "name": "stderr",
          "output_type": "stream",
          "text": [
            "| QuantScheme Selection"
          ]
        },
        {
          "name": "stdout",
          "output_type": "stream",
          "text": [
            "DONE (t=3.14s).\n",
            "Accumulating evaluation results...\n"
          ]
        },
        {
          "name": "stderr",
          "output_type": "stream",
          "text": [
            "/ QuantScheme Selection"
          ]
        },
        {
          "name": "stdout",
          "output_type": "stream",
          "text": [
            "DONE (t=0.52s).\n",
            " Average Precision  (AP) @[ IoU=0.50:0.95 | area=   all | maxDets=100 ] = 0.000\n",
            " Average Precision  (AP) @[ IoU=0.50      | area=   all | maxDets=100 ] = 0.000\n",
            " Average Precision  (AP) @[ IoU=0.75      | area=   all | maxDets=100 ] = 0.000\n",
            " Average Precision  (AP) @[ IoU=0.50:0.95 | area= small | maxDets=100 ] = 0.000\n",
            " Average Precision  (AP) @[ IoU=0.50:0.95 | area=medium | maxDets=100 ] = 0.000\n",
            " Average Precision  (AP) @[ IoU=0.50:0.95 | area= large | maxDets=100 ] = 0.000\n",
            " Average Recall     (AR) @[ IoU=0.50:0.95 | area=   all | maxDets=  1 ] = 0.000\n",
            " Average Recall     (AR) @[ IoU=0.50:0.95 | area=   all | maxDets= 10 ] = 0.000\n",
            " Average Recall     (AR) @[ IoU=0.50:0.95 | area=   all | maxDets=100 ] = 0.000\n",
            " Average Recall     (AR) @[ IoU=0.50:0.95 | area= small | maxDets=100 ] = 0.000\n",
            " Average Recall     (AR) @[ IoU=0.50:0.95 | area=medium | maxDets=100 ] = 0.000\n",
            " Average Recall     (AR) @[ IoU=0.50:0.95 | area= large | maxDets=100 ] = 0.000\n"
          ]
        },
        {
          "name": "stderr",
          "output_type": "stream",
          "text": [
            "| QuantScheme Selection"
          ]
        },
        {
          "name": "stdout",
          "output_type": "stream",
          "text": [
            "07/29 10:20:11 - mmengine - \u001b[4m\u001b[97mINFO\u001b[0m - Evaluating bbox...\n"
          ]
        },
        {
          "name": "stderr",
          "output_type": "stream",
          "text": [
            "/ QuantScheme Selection"
          ]
        },
        {
          "name": "stdout",
          "output_type": "stream",
          "text": [
            "Loading and preparing results...\n",
            "DONE (t=0.00s)\n",
            "creating index...\n",
            "index created!\n",
            "Running per image evaluation...\n",
            "Evaluate annotation type *bbox*\n"
          ]
        },
        {
          "name": "stderr",
          "output_type": "stream",
          "text": [
            "/ QuantScheme Selection"
          ]
        },
        {
          "name": "stdout",
          "output_type": "stream",
          "text": [
            "DONE (t=3.15s).\n",
            "Accumulating evaluation results...\n"
          ]
        },
        {
          "name": "stderr",
          "output_type": "stream",
          "text": [
            "- QuantScheme Selection"
          ]
        },
        {
          "name": "stdout",
          "output_type": "stream",
          "text": [
            "DONE (t=0.52s).\n",
            " Average Precision  (AP) @[ IoU=0.50:0.95 | area=   all | maxDets=100 ] = 0.000\n",
            " Average Precision  (AP) @[ IoU=0.50      | area=   all | maxDets=100 ] = 0.000\n",
            " Average Precision  (AP) @[ IoU=0.75      | area=   all | maxDets=100 ] = 0.000\n",
            " Average Precision  (AP) @[ IoU=0.50:0.95 | area= small | maxDets=100 ] = 0.000\n",
            " Average Precision  (AP) @[ IoU=0.50:0.95 | area=medium | maxDets=100 ] = 0.000\n",
            " Average Precision  (AP) @[ IoU=0.50:0.95 | area= large | maxDets=100 ] = 0.000\n",
            " Average Recall     (AR) @[ IoU=0.50:0.95 | area=   all | maxDets=  1 ] = 0.000\n",
            " Average Recall     (AR) @[ IoU=0.50:0.95 | area=   all | maxDets= 10 ] = 0.000\n",
            " Average Recall     (AR) @[ IoU=0.50:0.95 | area=   all | maxDets=100 ] = 0.000\n",
            " Average Recall     (AR) @[ IoU=0.50:0.95 | area= small | maxDets=100 ] = 0.000\n",
            " Average Recall     (AR) @[ IoU=0.50:0.95 | area=medium | maxDets=100 ] = 0.000\n",
            " Average Recall     (AR) @[ IoU=0.50:0.95 | area= large | maxDets=100 ] = 0.000\n"
          ]
        },
        {
          "name": "stderr",
          "output_type": "stream",
          "text": [
            "/ QuantScheme Selection"
          ]
        },
        {
          "name": "stdout",
          "output_type": "stream",
          "text": [
            "07/29 10:20:17 - mmengine - \u001b[4m\u001b[97mINFO\u001b[0m - Evaluating bbox...\n"
          ]
        },
        {
          "name": "stderr",
          "output_type": "stream",
          "text": [
            "- QuantScheme Selection"
          ]
        },
        {
          "name": "stdout",
          "output_type": "stream",
          "text": [
            "Loading and preparing results...\n",
            "DONE (t=0.00s)\n",
            "creating index...\n",
            "index created!\n",
            "Running per image evaluation...\n",
            "Evaluate annotation type *bbox*\n"
          ]
        },
        {
          "name": "stderr",
          "output_type": "stream",
          "text": [
            "/ QuantScheme Selection"
          ]
        },
        {
          "name": "stdout",
          "output_type": "stream",
          "text": [
            "DONE (t=3.18s).\n",
            "Accumulating evaluation results...\n"
          ]
        },
        {
          "name": "stderr",
          "output_type": "stream",
          "text": [
            "- QuantScheme Selection"
          ]
        },
        {
          "name": "stdout",
          "output_type": "stream",
          "text": [
            "DONE (t=0.52s).\n",
            " Average Precision  (AP) @[ IoU=0.50:0.95 | area=   all | maxDets=100 ] = 0.000\n",
            " Average Precision  (AP) @[ IoU=0.50      | area=   all | maxDets=100 ] = 0.000\n",
            " Average Precision  (AP) @[ IoU=0.75      | area=   all | maxDets=100 ] = 0.000\n",
            " Average Precision  (AP) @[ IoU=0.50:0.95 | area= small | maxDets=100 ] = 0.000\n",
            " Average Precision  (AP) @[ IoU=0.50:0.95 | area=medium | maxDets=100 ] = 0.000\n",
            " Average Precision  (AP) @[ IoU=0.50:0.95 | area= large | maxDets=100 ] = 0.000\n",
            " Average Recall     (AR) @[ IoU=0.50:0.95 | area=   all | maxDets=  1 ] = 0.000\n",
            " Average Recall     (AR) @[ IoU=0.50:0.95 | area=   all | maxDets= 10 ] = 0.000\n",
            " Average Recall     (AR) @[ IoU=0.50:0.95 | area=   all | maxDets=100 ] = 0.000\n",
            " Average Recall     (AR) @[ IoU=0.50:0.95 | area= small | maxDets=100 ] = 0.000\n",
            " Average Recall     (AR) @[ IoU=0.50:0.95 | area=medium | maxDets=100 ] = 0.000\n",
            " Average Recall     (AR) @[ IoU=0.50:0.95 | area= large | maxDets=100 ] = 0.000\n"
          ]
        },
        {
          "name": "stderr",
          "output_type": "stream",
          "text": [
            "- QuantScheme Selection"
          ]
        },
        {
          "name": "stdout",
          "output_type": "stream",
          "text": [
            "07/29 10:20:23 - mmengine - \u001b[4m\u001b[97mINFO\u001b[0m - Evaluating bbox...\n",
            "Loading and preparing results...\n",
            "DONE (t=0.00s)\n",
            "creating index...\n",
            "index created!\n",
            "Running per image evaluation...\n",
            "Evaluate annotation type *bbox*\n"
          ]
        },
        {
          "name": "stderr",
          "output_type": "stream",
          "text": [
            "- QuantScheme Selection"
          ]
        },
        {
          "name": "stdout",
          "output_type": "stream",
          "text": [
            "DONE (t=3.15s).\n",
            "Accumulating evaluation results...\n"
          ]
        },
        {
          "name": "stderr",
          "output_type": "stream",
          "text": [
            "\\ QuantScheme Selection"
          ]
        },
        {
          "name": "stdout",
          "output_type": "stream",
          "text": [
            "DONE (t=0.52s).\n",
            " Average Precision  (AP) @[ IoU=0.50:0.95 | area=   all | maxDets=100 ] = 0.000\n",
            " Average Precision  (AP) @[ IoU=0.50      | area=   all | maxDets=100 ] = 0.000\n",
            " Average Precision  (AP) @[ IoU=0.75      | area=   all | maxDets=100 ] = 0.000\n",
            " Average Precision  (AP) @[ IoU=0.50:0.95 | area= small | maxDets=100 ] = 0.000\n",
            " Average Precision  (AP) @[ IoU=0.50:0.95 | area=medium | maxDets=100 ] = 0.000\n",
            " Average Precision  (AP) @[ IoU=0.50:0.95 | area= large | maxDets=100 ] = 0.000\n",
            " Average Recall     (AR) @[ IoU=0.50:0.95 | area=   all | maxDets=  1 ] = 0.000\n",
            " Average Recall     (AR) @[ IoU=0.50:0.95 | area=   all | maxDets= 10 ] = 0.000\n",
            " Average Recall     (AR) @[ IoU=0.50:0.95 | area=   all | maxDets=100 ] = 0.000\n",
            " Average Recall     (AR) @[ IoU=0.50:0.95 | area= small | maxDets=100 ] = 0.000\n",
            " Average Recall     (AR) @[ IoU=0.50:0.95 | area=medium | maxDets=100 ] = 0.000\n",
            " Average Recall     (AR) @[ IoU=0.50:0.95 | area= large | maxDets=100 ] = 0.000\n"
          ]
        },
        {
          "name": "stderr",
          "output_type": "stream",
          "text": [
            "\\ QuantScheme Selection"
          ]
        },
        {
          "name": "stdout",
          "output_type": "stream",
          "text": [
            "07/29 10:20:28 - mmengine - \u001b[4m\u001b[97mINFO\u001b[0m - Evaluating bbox...\n",
            "Loading and preparing results...\n",
            "DONE (t=0.00s)\n",
            "creating index...\n",
            "index created!\n",
            "Running per image evaluation...\n",
            "Evaluate annotation type *bbox*\n"
          ]
        },
        {
          "name": "stderr",
          "output_type": "stream",
          "text": [
            "\\ QuantScheme Selection"
          ]
        },
        {
          "name": "stdout",
          "output_type": "stream",
          "text": [
            "DONE (t=3.18s).\n",
            "Accumulating evaluation results...\n"
          ]
        },
        {
          "name": "stderr",
          "output_type": "stream",
          "text": [
            "| QuantScheme Selection"
          ]
        },
        {
          "name": "stdout",
          "output_type": "stream",
          "text": [
            "DONE (t=0.52s).\n",
            " Average Precision  (AP) @[ IoU=0.50:0.95 | area=   all | maxDets=100 ] = 0.000\n",
            " Average Precision  (AP) @[ IoU=0.50      | area=   all | maxDets=100 ] = 0.000\n",
            " Average Precision  (AP) @[ IoU=0.75      | area=   all | maxDets=100 ] = 0.000\n",
            " Average Precision  (AP) @[ IoU=0.50:0.95 | area= small | maxDets=100 ] = 0.000\n",
            " Average Precision  (AP) @[ IoU=0.50:0.95 | area=medium | maxDets=100 ] = 0.000\n",
            " Average Precision  (AP) @[ IoU=0.50:0.95 | area= large | maxDets=100 ] = 0.000\n",
            " Average Recall     (AR) @[ IoU=0.50:0.95 | area=   all | maxDets=  1 ] = 0.000\n",
            " Average Recall     (AR) @[ IoU=0.50:0.95 | area=   all | maxDets= 10 ] = 0.000\n",
            " Average Recall     (AR) @[ IoU=0.50:0.95 | area=   all | maxDets=100 ] = 0.000\n",
            " Average Recall     (AR) @[ IoU=0.50:0.95 | area= small | maxDets=100 ] = 0.000\n",
            " Average Recall     (AR) @[ IoU=0.50:0.95 | area=medium | maxDets=100 ] = 0.000\n",
            " Average Recall     (AR) @[ IoU=0.50:0.95 | area= large | maxDets=100 ] = 0.000\n"
          ]
        },
        {
          "name": "stderr",
          "output_type": "stream",
          "text": [
            "| QuantScheme Selection"
          ]
        },
        {
          "name": "stdout",
          "output_type": "stream",
          "text": [
            "07/29 10:20:34 - mmengine - \u001b[4m\u001b[97mINFO\u001b[0m - Evaluating bbox...\n",
            "Loading and preparing results...\n",
            "DONE (t=0.00s)\n",
            "creating index...\n",
            "index created!\n",
            "Running per image evaluation...\n",
            "Evaluate annotation type *bbox*\n"
          ]
        },
        {
          "name": "stderr",
          "output_type": "stream",
          "text": [
            "| QuantScheme Selection"
          ]
        },
        {
          "name": "stdout",
          "output_type": "stream",
          "text": [
            "DONE (t=2.78s).\n",
            "Accumulating evaluation results...\n"
          ]
        },
        {
          "name": "stderr",
          "output_type": "stream",
          "text": [
            "/ QuantScheme Selection"
          ]
        },
        {
          "name": "stdout",
          "output_type": "stream",
          "text": [
            "DONE (t=0.52s).\n",
            " Average Precision  (AP) @[ IoU=0.50:0.95 | area=   all | maxDets=100 ] = 0.000\n",
            " Average Precision  (AP) @[ IoU=0.50      | area=   all | maxDets=100 ] = 0.000\n",
            " Average Precision  (AP) @[ IoU=0.75      | area=   all | maxDets=100 ] = 0.000\n",
            " Average Precision  (AP) @[ IoU=0.50:0.95 | area= small | maxDets=100 ] = 0.000\n",
            " Average Precision  (AP) @[ IoU=0.50:0.95 | area=medium | maxDets=100 ] = 0.000\n",
            " Average Precision  (AP) @[ IoU=0.50:0.95 | area= large | maxDets=100 ] = 0.000\n",
            " Average Recall     (AR) @[ IoU=0.50:0.95 | area=   all | maxDets=  1 ] = 0.000\n",
            " Average Recall     (AR) @[ IoU=0.50:0.95 | area=   all | maxDets= 10 ] = 0.000\n",
            " Average Recall     (AR) @[ IoU=0.50:0.95 | area=   all | maxDets=100 ] = 0.000\n",
            " Average Recall     (AR) @[ IoU=0.50:0.95 | area= small | maxDets=100 ] = 0.000\n",
            " Average Recall     (AR) @[ IoU=0.50:0.95 | area=medium | maxDets=100 ] = 0.000\n",
            " Average Recall     (AR) @[ IoU=0.50:0.95 | area= large | maxDets=100 ] = 0.000\n"
          ]
        },
        {
          "name": "stderr",
          "output_type": "stream",
          "text": [
            "/ QuantScheme Selection"
          ]
        },
        {
          "name": "stdout",
          "output_type": "stream",
          "text": [
            "07/29 10:20:39 - mmengine - \u001b[4m\u001b[97mINFO\u001b[0m - Evaluating bbox...\n",
            "Loading and preparing results...\n",
            "DONE (t=0.00s)\n",
            "creating index...\n",
            "index created!\n",
            "Running per image evaluation...\n",
            "Evaluate annotation type *bbox*\n"
          ]
        },
        {
          "name": "stderr",
          "output_type": "stream",
          "text": [
            "- QuantScheme Selection"
          ]
        },
        {
          "name": "stdout",
          "output_type": "stream",
          "text": [
            "DONE (t=3.35s).\n",
            "Accumulating evaluation results...\n"
          ]
        },
        {
          "name": "stderr",
          "output_type": "stream",
          "text": [
            "100%|██████████| 10/10 [00:57<00:00,  5.76s/it]\n",
            "                       \r"
          ]
        },
        {
          "name": "stdout",
          "output_type": "stream",
          "text": [
            "DONE (t=0.53s).\n",
            " Average Precision  (AP) @[ IoU=0.50:0.95 | area=   all | maxDets=100 ] = 0.000\n",
            " Average Precision  (AP) @[ IoU=0.50      | area=   all | maxDets=100 ] = 0.000\n",
            " Average Precision  (AP) @[ IoU=0.75      | area=   all | maxDets=100 ] = 0.000\n",
            " Average Precision  (AP) @[ IoU=0.50:0.95 | area= small | maxDets=100 ] = 0.000\n",
            " Average Precision  (AP) @[ IoU=0.50:0.95 | area=medium | maxDets=100 ] = 0.000\n",
            " Average Precision  (AP) @[ IoU=0.50:0.95 | area= large | maxDets=100 ] = 0.000\n",
            " Average Recall     (AR) @[ IoU=0.50:0.95 | area=   all | maxDets=  1 ] = 0.000\n",
            " Average Recall     (AR) @[ IoU=0.50:0.95 | area=   all | maxDets= 10 ] = 0.000\n",
            " Average Recall     (AR) @[ IoU=0.50:0.95 | area=   all | maxDets=100 ] = 0.000\n",
            " Average Recall     (AR) @[ IoU=0.50:0.95 | area= small | maxDets=100 ] = 0.000\n",
            " Average Recall     (AR) @[ IoU=0.50:0.95 | area=medium | maxDets=100 ] = 0.000\n",
            " Average Recall     (AR) @[ IoU=0.50:0.95 | area= large | maxDets=100 ] = 0.000\n",
            "2024-07-29 10:20:43,934 - AutoQuant - INFO - Evaluation finished: W@tf / A@tf (eval score: 0.000000)\n"
          ]
        },
        {
          "name": "stderr",
          "output_type": "stream",
          "text": [
            "                       \r"
          ]
        },
        {
          "name": "stdout",
          "output_type": "stream",
          "text": [
            "2024-07-29 10:20:46,719 - Quant - INFO - No config file provided, defaulting to config file at /home/shayaan/miniconda3/envs/aimet2/lib/python3.10/site-packages/aimet_common/quantsim_config/default_config.json\n"
          ]
        },
        {
          "name": "stderr",
          "output_type": "stream",
          "text": [
            "                       \r"
          ]
        },
        {
          "name": "stdout",
          "output_type": "stream",
          "text": [
            "2024-07-29 10:20:46,734 - Quant - INFO - Unsupported op type Squeeze\n"
          ]
        },
        {
          "name": "stderr",
          "output_type": "stream",
          "text": [
            "                       \r"
          ]
        },
        {
          "name": "stdout",
          "output_type": "stream",
          "text": [
            "2024-07-29 10:20:46,735 - Quant - INFO - Unsupported op type Mean\n"
          ]
        },
        {
          "name": "stderr",
          "output_type": "stream",
          "text": [
            "                       \r"
          ]
        },
        {
          "name": "stdout",
          "output_type": "stream",
          "text": [
            "2024-07-29 10:20:46,742 - Quant - INFO - Selecting DefaultOpInstanceConfigGenerator to compute the specialized config. hw_version:default\n"
          ]
        },
        {
          "name": "stderr",
          "output_type": "stream",
          "text": [
            "100%|██████████| 10/10 [00:07<00:00,  1.38it/s]\n",
            "\\ QuantScheme Selection"
          ]
        },
        {
          "name": "stdout",
          "output_type": "stream",
          "text": [
            "07/29 10:20:56 - mmengine - \u001b[4m\u001b[97mINFO\u001b[0m - Evaluating bbox...\n",
            "Loading and preparing results...\n",
            "DONE (t=0.00s)\n",
            "creating index...\n",
            "index created!\n",
            "Running per image evaluation...\n",
            "Evaluate annotation type *bbox*\n"
          ]
        },
        {
          "name": "stderr",
          "output_type": "stream",
          "text": [
            "\\ QuantScheme Selection"
          ]
        },
        {
          "name": "stdout",
          "output_type": "stream",
          "text": [
            "DONE (t=3.49s).\n",
            "Accumulating evaluation results...\n"
          ]
        },
        {
          "name": "stderr",
          "output_type": "stream",
          "text": [
            "| QuantScheme Selection"
          ]
        },
        {
          "name": "stdout",
          "output_type": "stream",
          "text": [
            "DONE (t=0.53s).\n",
            " Average Precision  (AP) @[ IoU=0.50:0.95 | area=   all | maxDets=100 ] = 0.000\n",
            " Average Precision  (AP) @[ IoU=0.50      | area=   all | maxDets=100 ] = 0.000\n",
            " Average Precision  (AP) @[ IoU=0.75      | area=   all | maxDets=100 ] = 0.000\n",
            " Average Precision  (AP) @[ IoU=0.50:0.95 | area= small | maxDets=100 ] = 0.000\n",
            " Average Precision  (AP) @[ IoU=0.50:0.95 | area=medium | maxDets=100 ] = 0.000\n",
            " Average Precision  (AP) @[ IoU=0.50:0.95 | area= large | maxDets=100 ] = 0.000\n",
            " Average Recall     (AR) @[ IoU=0.50:0.95 | area=   all | maxDets=  1 ] = 0.000\n",
            " Average Recall     (AR) @[ IoU=0.50:0.95 | area=   all | maxDets= 10 ] = 0.000\n",
            " Average Recall     (AR) @[ IoU=0.50:0.95 | area=   all | maxDets=100 ] = 0.000\n",
            " Average Recall     (AR) @[ IoU=0.50:0.95 | area= small | maxDets=100 ] = 0.000\n",
            " Average Recall     (AR) @[ IoU=0.50:0.95 | area=medium | maxDets=100 ] = 0.000\n",
            " Average Recall     (AR) @[ IoU=0.50:0.95 | area= large | maxDets=100 ] = 0.000\n"
          ]
        },
        {
          "name": "stderr",
          "output_type": "stream",
          "text": [
            "| QuantScheme Selection"
          ]
        },
        {
          "name": "stdout",
          "output_type": "stream",
          "text": [
            "07/29 10:21:02 - mmengine - \u001b[4m\u001b[97mINFO\u001b[0m - Evaluating bbox...\n",
            "Loading and preparing results...\n",
            "DONE (t=0.00s)\n",
            "creating index...\n",
            "index created!\n",
            "Running per image evaluation...\n",
            "Evaluate annotation type *bbox*\n"
          ]
        },
        {
          "name": "stderr",
          "output_type": "stream",
          "text": [
            "/ QuantScheme Selection"
          ]
        },
        {
          "name": "stdout",
          "output_type": "stream",
          "text": [
            "DONE (t=2.82s).\n",
            "Accumulating evaluation results...\n"
          ]
        },
        {
          "name": "stderr",
          "output_type": "stream",
          "text": [
            "- QuantScheme Selection"
          ]
        },
        {
          "name": "stdout",
          "output_type": "stream",
          "text": [
            "DONE (t=0.53s).\n",
            " Average Precision  (AP) @[ IoU=0.50:0.95 | area=   all | maxDets=100 ] = 0.000\n",
            " Average Precision  (AP) @[ IoU=0.50      | area=   all | maxDets=100 ] = 0.000\n",
            " Average Precision  (AP) @[ IoU=0.75      | area=   all | maxDets=100 ] = 0.000\n",
            " Average Precision  (AP) @[ IoU=0.50:0.95 | area= small | maxDets=100 ] = 0.000\n",
            " Average Precision  (AP) @[ IoU=0.50:0.95 | area=medium | maxDets=100 ] = 0.000\n",
            " Average Precision  (AP) @[ IoU=0.50:0.95 | area= large | maxDets=100 ] = 0.000\n",
            " Average Recall     (AR) @[ IoU=0.50:0.95 | area=   all | maxDets=  1 ] = 0.000\n",
            " Average Recall     (AR) @[ IoU=0.50:0.95 | area=   all | maxDets= 10 ] = 0.000\n",
            " Average Recall     (AR) @[ IoU=0.50:0.95 | area=   all | maxDets=100 ] = 0.000\n",
            " Average Recall     (AR) @[ IoU=0.50:0.95 | area= small | maxDets=100 ] = 0.000\n",
            " Average Recall     (AR) @[ IoU=0.50:0.95 | area=medium | maxDets=100 ] = 0.000\n",
            " Average Recall     (AR) @[ IoU=0.50:0.95 | area= large | maxDets=100 ] = 0.000\n"
          ]
        },
        {
          "name": "stderr",
          "output_type": "stream",
          "text": [
            "/ QuantScheme Selection"
          ]
        },
        {
          "name": "stdout",
          "output_type": "stream",
          "text": [
            "07/29 10:21:07 - mmengine - \u001b[4m\u001b[97mINFO\u001b[0m - Evaluating bbox...\n",
            "Loading and preparing results...\n",
            "DONE (t=0.00s)\n",
            "creating index...\n",
            "index created!\n",
            "Running per image evaluation...\n",
            "Evaluate annotation type *bbox*\n"
          ]
        },
        {
          "name": "stderr",
          "output_type": "stream",
          "text": [
            "/ QuantScheme Selection"
          ]
        },
        {
          "name": "stdout",
          "output_type": "stream",
          "text": [
            "DONE (t=3.39s).\n",
            "Accumulating evaluation results...\n"
          ]
        },
        {
          "name": "stderr",
          "output_type": "stream",
          "text": [
            "- QuantScheme Selection"
          ]
        },
        {
          "name": "stdout",
          "output_type": "stream",
          "text": [
            "DONE (t=0.52s).\n",
            " Average Precision  (AP) @[ IoU=0.50:0.95 | area=   all | maxDets=100 ] = 0.000\n",
            " Average Precision  (AP) @[ IoU=0.50      | area=   all | maxDets=100 ] = 0.000\n",
            " Average Precision  (AP) @[ IoU=0.75      | area=   all | maxDets=100 ] = 0.000\n",
            " Average Precision  (AP) @[ IoU=0.50:0.95 | area= small | maxDets=100 ] = 0.000\n",
            " Average Precision  (AP) @[ IoU=0.50:0.95 | area=medium | maxDets=100 ] = 0.000\n",
            " Average Precision  (AP) @[ IoU=0.50:0.95 | area= large | maxDets=100 ] = 0.000\n",
            " Average Recall     (AR) @[ IoU=0.50:0.95 | area=   all | maxDets=  1 ] = 0.000\n",
            " Average Recall     (AR) @[ IoU=0.50:0.95 | area=   all | maxDets= 10 ] = 0.000\n",
            " Average Recall     (AR) @[ IoU=0.50:0.95 | area=   all | maxDets=100 ] = 0.000\n",
            " Average Recall     (AR) @[ IoU=0.50:0.95 | area= small | maxDets=100 ] = 0.000\n",
            " Average Recall     (AR) @[ IoU=0.50:0.95 | area=medium | maxDets=100 ] = 0.000\n",
            " Average Recall     (AR) @[ IoU=0.50:0.95 | area= large | maxDets=100 ] = 0.000\n"
          ]
        },
        {
          "name": "stderr",
          "output_type": "stream",
          "text": [
            "- QuantScheme Selection"
          ]
        },
        {
          "name": "stdout",
          "output_type": "stream",
          "text": [
            "07/29 10:21:13 - mmengine - \u001b[4m\u001b[97mINFO\u001b[0m - Evaluating bbox...\n",
            "Loading and preparing results...\n",
            "DONE (t=0.00s)\n",
            "creating index...\n",
            "index created!\n",
            "Running per image evaluation...\n",
            "Evaluate annotation type *bbox*\n"
          ]
        },
        {
          "name": "stderr",
          "output_type": "stream",
          "text": [
            "\\ QuantScheme Selection"
          ]
        },
        {
          "name": "stdout",
          "output_type": "stream",
          "text": [
            "DONE (t=3.22s).\n",
            "Accumulating evaluation results...\n"
          ]
        },
        {
          "name": "stderr",
          "output_type": "stream",
          "text": [
            "| QuantScheme Selection"
          ]
        },
        {
          "name": "stdout",
          "output_type": "stream",
          "text": [
            "DONE (t=0.52s).\n",
            " Average Precision  (AP) @[ IoU=0.50:0.95 | area=   all | maxDets=100 ] = 0.000\n",
            " Average Precision  (AP) @[ IoU=0.50      | area=   all | maxDets=100 ] = 0.000\n",
            " Average Precision  (AP) @[ IoU=0.75      | area=   all | maxDets=100 ] = 0.000\n",
            " Average Precision  (AP) @[ IoU=0.50:0.95 | area= small | maxDets=100 ] = 0.000\n",
            " Average Precision  (AP) @[ IoU=0.50:0.95 | area=medium | maxDets=100 ] = 0.000\n",
            " Average Precision  (AP) @[ IoU=0.50:0.95 | area= large | maxDets=100 ] = 0.000\n",
            " Average Recall     (AR) @[ IoU=0.50:0.95 | area=   all | maxDets=  1 ] = 0.000\n",
            " Average Recall     (AR) @[ IoU=0.50:0.95 | area=   all | maxDets= 10 ] = 0.000\n",
            " Average Recall     (AR) @[ IoU=0.50:0.95 | area=   all | maxDets=100 ] = 0.000\n",
            " Average Recall     (AR) @[ IoU=0.50:0.95 | area= small | maxDets=100 ] = 0.000\n",
            " Average Recall     (AR) @[ IoU=0.50:0.95 | area=medium | maxDets=100 ] = 0.000\n",
            " Average Recall     (AR) @[ IoU=0.50:0.95 | area= large | maxDets=100 ] = 0.000\n"
          ]
        },
        {
          "name": "stderr",
          "output_type": "stream",
          "text": [
            "\\ QuantScheme Selection"
          ]
        },
        {
          "name": "stdout",
          "output_type": "stream",
          "text": [
            "07/29 10:21:19 - mmengine - \u001b[4m\u001b[97mINFO\u001b[0m - Evaluating bbox...\n"
          ]
        },
        {
          "name": "stderr",
          "output_type": "stream",
          "text": [
            "| QuantScheme Selection"
          ]
        },
        {
          "name": "stdout",
          "output_type": "stream",
          "text": [
            "Loading and preparing results...\n",
            "DONE (t=0.00s)\n",
            "creating index...\n",
            "index created!\n",
            "Running per image evaluation...\n",
            "Evaluate annotation type *bbox*\n"
          ]
        },
        {
          "name": "stderr",
          "output_type": "stream",
          "text": [
            "- QuantScheme Selection"
          ]
        },
        {
          "name": "stdout",
          "output_type": "stream",
          "text": [
            "DONE (t=3.23s).\n",
            "Accumulating evaluation results...\n"
          ]
        },
        {
          "name": "stderr",
          "output_type": "stream",
          "text": [
            "\\ QuantScheme Selection"
          ]
        },
        {
          "name": "stdout",
          "output_type": "stream",
          "text": [
            "DONE (t=0.53s).\n",
            " Average Precision  (AP) @[ IoU=0.50:0.95 | area=   all | maxDets=100 ] = 0.000\n",
            " Average Precision  (AP) @[ IoU=0.50      | area=   all | maxDets=100 ] = 0.000\n",
            " Average Precision  (AP) @[ IoU=0.75      | area=   all | maxDets=100 ] = 0.000\n",
            " Average Precision  (AP) @[ IoU=0.50:0.95 | area= small | maxDets=100 ] = 0.000\n",
            " Average Precision  (AP) @[ IoU=0.50:0.95 | area=medium | maxDets=100 ] = 0.000\n",
            " Average Precision  (AP) @[ IoU=0.50:0.95 | area= large | maxDets=100 ] = 0.000\n",
            " Average Recall     (AR) @[ IoU=0.50:0.95 | area=   all | maxDets=  1 ] = 0.000\n",
            " Average Recall     (AR) @[ IoU=0.50:0.95 | area=   all | maxDets= 10 ] = 0.000\n",
            " Average Recall     (AR) @[ IoU=0.50:0.95 | area=   all | maxDets=100 ] = 0.000\n",
            " Average Recall     (AR) @[ IoU=0.50:0.95 | area= small | maxDets=100 ] = 0.000\n",
            " Average Recall     (AR) @[ IoU=0.50:0.95 | area=medium | maxDets=100 ] = 0.000\n",
            " Average Recall     (AR) @[ IoU=0.50:0.95 | area= large | maxDets=100 ] = 0.000\n"
          ]
        },
        {
          "name": "stderr",
          "output_type": "stream",
          "text": [
            "\\ QuantScheme Selection"
          ]
        },
        {
          "name": "stdout",
          "output_type": "stream",
          "text": [
            "07/29 10:21:25 - mmengine - \u001b[4m\u001b[97mINFO\u001b[0m - Evaluating bbox...\n",
            "Loading and preparing results...\n",
            "DONE (t=0.00s)\n",
            "creating index...\n",
            "index created!\n",
            "Running per image evaluation...\n",
            "Evaluate annotation type *bbox*\n"
          ]
        },
        {
          "name": "stderr",
          "output_type": "stream",
          "text": [
            "\\ QuantScheme Selection"
          ]
        },
        {
          "name": "stdout",
          "output_type": "stream",
          "text": [
            "DONE (t=3.22s).\n",
            "Accumulating evaluation results...\n"
          ]
        },
        {
          "name": "stderr",
          "output_type": "stream",
          "text": [
            "| QuantScheme Selection"
          ]
        },
        {
          "name": "stdout",
          "output_type": "stream",
          "text": [
            "DONE (t=0.53s).\n",
            " Average Precision  (AP) @[ IoU=0.50:0.95 | area=   all | maxDets=100 ] = 0.000\n",
            " Average Precision  (AP) @[ IoU=0.50      | area=   all | maxDets=100 ] = 0.000\n",
            " Average Precision  (AP) @[ IoU=0.75      | area=   all | maxDets=100 ] = 0.000\n",
            " Average Precision  (AP) @[ IoU=0.50:0.95 | area= small | maxDets=100 ] = 0.000\n",
            " Average Precision  (AP) @[ IoU=0.50:0.95 | area=medium | maxDets=100 ] = 0.000\n",
            " Average Precision  (AP) @[ IoU=0.50:0.95 | area= large | maxDets=100 ] = 0.000\n",
            " Average Recall     (AR) @[ IoU=0.50:0.95 | area=   all | maxDets=  1 ] = 0.000\n",
            " Average Recall     (AR) @[ IoU=0.50:0.95 | area=   all | maxDets= 10 ] = 0.000\n",
            " Average Recall     (AR) @[ IoU=0.50:0.95 | area=   all | maxDets=100 ] = 0.000\n",
            " Average Recall     (AR) @[ IoU=0.50:0.95 | area= small | maxDets=100 ] = 0.000\n",
            " Average Recall     (AR) @[ IoU=0.50:0.95 | area=medium | maxDets=100 ] = 0.000\n",
            " Average Recall     (AR) @[ IoU=0.50:0.95 | area= large | maxDets=100 ] = 0.000\n"
          ]
        },
        {
          "name": "stderr",
          "output_type": "stream",
          "text": [
            "| QuantScheme Selection"
          ]
        },
        {
          "name": "stdout",
          "output_type": "stream",
          "text": [
            "07/29 10:21:31 - mmengine - \u001b[4m\u001b[97mINFO\u001b[0m - Evaluating bbox...\n",
            "Loading and preparing results...\n",
            "DONE (t=0.00s)\n",
            "creating index...\n",
            "index created!\n",
            "Running per image evaluation...\n",
            "Evaluate annotation type *bbox*\n"
          ]
        },
        {
          "name": "stderr",
          "output_type": "stream",
          "text": [
            "/ QuantScheme Selection"
          ]
        },
        {
          "name": "stdout",
          "output_type": "stream",
          "text": [
            "DONE (t=2.80s).\n",
            "Accumulating evaluation results...\n"
          ]
        },
        {
          "name": "stderr",
          "output_type": "stream",
          "text": [
            "- QuantScheme Selection"
          ]
        },
        {
          "name": "stdout",
          "output_type": "stream",
          "text": [
            "DONE (t=0.53s).\n",
            " Average Precision  (AP) @[ IoU=0.50:0.95 | area=   all | maxDets=100 ] = 0.000\n",
            " Average Precision  (AP) @[ IoU=0.50      | area=   all | maxDets=100 ] = 0.000\n",
            " Average Precision  (AP) @[ IoU=0.75      | area=   all | maxDets=100 ] = 0.000\n",
            " Average Precision  (AP) @[ IoU=0.50:0.95 | area= small | maxDets=100 ] = 0.000\n",
            " Average Precision  (AP) @[ IoU=0.50:0.95 | area=medium | maxDets=100 ] = 0.000\n",
            " Average Precision  (AP) @[ IoU=0.50:0.95 | area= large | maxDets=100 ] = 0.000\n",
            " Average Recall     (AR) @[ IoU=0.50:0.95 | area=   all | maxDets=  1 ] = 0.000\n",
            " Average Recall     (AR) @[ IoU=0.50:0.95 | area=   all | maxDets= 10 ] = 0.000\n",
            " Average Recall     (AR) @[ IoU=0.50:0.95 | area=   all | maxDets=100 ] = 0.000\n",
            " Average Recall     (AR) @[ IoU=0.50:0.95 | area= small | maxDets=100 ] = 0.000\n",
            " Average Recall     (AR) @[ IoU=0.50:0.95 | area=medium | maxDets=100 ] = 0.000\n",
            " Average Recall     (AR) @[ IoU=0.50:0.95 | area= large | maxDets=100 ] = 0.000\n"
          ]
        },
        {
          "name": "stderr",
          "output_type": "stream",
          "text": [
            "- QuantScheme Selection"
          ]
        },
        {
          "name": "stdout",
          "output_type": "stream",
          "text": [
            "07/29 10:21:36 - mmengine - \u001b[4m\u001b[97mINFO\u001b[0m - Evaluating bbox...\n",
            "Loading and preparing results...\n",
            "DONE (t=0.00s)\n",
            "creating index...\n",
            "index created!\n",
            "Running per image evaluation...\n",
            "Evaluate annotation type *bbox*\n"
          ]
        },
        {
          "name": "stderr",
          "output_type": "stream",
          "text": [
            "- QuantScheme Selection"
          ]
        },
        {
          "name": "stdout",
          "output_type": "stream",
          "text": [
            "DONE (t=3.37s).\n",
            "Accumulating evaluation results...\n"
          ]
        },
        {
          "name": "stderr",
          "output_type": "stream",
          "text": [
            "\\ QuantScheme Selection"
          ]
        },
        {
          "name": "stdout",
          "output_type": "stream",
          "text": [
            "DONE (t=0.53s).\n",
            " Average Precision  (AP) @[ IoU=0.50:0.95 | area=   all | maxDets=100 ] = 0.000\n",
            " Average Precision  (AP) @[ IoU=0.50      | area=   all | maxDets=100 ] = 0.000\n",
            " Average Precision  (AP) @[ IoU=0.75      | area=   all | maxDets=100 ] = 0.000\n",
            " Average Precision  (AP) @[ IoU=0.50:0.95 | area= small | maxDets=100 ] = 0.000\n",
            " Average Precision  (AP) @[ IoU=0.50:0.95 | area=medium | maxDets=100 ] = 0.000\n",
            " Average Precision  (AP) @[ IoU=0.50:0.95 | area= large | maxDets=100 ] = 0.000\n",
            " Average Recall     (AR) @[ IoU=0.50:0.95 | area=   all | maxDets=  1 ] = 0.000\n",
            " Average Recall     (AR) @[ IoU=0.50:0.95 | area=   all | maxDets= 10 ] = 0.000\n",
            " Average Recall     (AR) @[ IoU=0.50:0.95 | area=   all | maxDets=100 ] = 0.000\n",
            " Average Recall     (AR) @[ IoU=0.50:0.95 | area= small | maxDets=100 ] = 0.000\n",
            " Average Recall     (AR) @[ IoU=0.50:0.95 | area=medium | maxDets=100 ] = 0.000\n",
            " Average Recall     (AR) @[ IoU=0.50:0.95 | area= large | maxDets=100 ] = 0.000\n"
          ]
        },
        {
          "name": "stderr",
          "output_type": "stream",
          "text": [
            "\\ QuantScheme Selection"
          ]
        },
        {
          "name": "stdout",
          "output_type": "stream",
          "text": [
            "07/29 10:21:42 - mmengine - \u001b[4m\u001b[97mINFO\u001b[0m - Evaluating bbox...\n",
            "Loading and preparing results...\n",
            "DONE (t=0.00s)\n",
            "creating index...\n",
            "index created!\n",
            "Running per image evaluation...\n",
            "Evaluate annotation type *bbox*\n"
          ]
        },
        {
          "name": "stderr",
          "output_type": "stream",
          "text": [
            "\\ QuantScheme Selection"
          ]
        },
        {
          "name": "stdout",
          "output_type": "stream",
          "text": [
            "DONE (t=3.19s).\n",
            "Accumulating evaluation results...\n"
          ]
        },
        {
          "name": "stderr",
          "output_type": "stream",
          "text": [
            "| QuantScheme Selection"
          ]
        },
        {
          "name": "stdout",
          "output_type": "stream",
          "text": [
            "DONE (t=0.52s).\n",
            " Average Precision  (AP) @[ IoU=0.50:0.95 | area=   all | maxDets=100 ] = 0.000\n",
            " Average Precision  (AP) @[ IoU=0.50      | area=   all | maxDets=100 ] = 0.000\n",
            " Average Precision  (AP) @[ IoU=0.75      | area=   all | maxDets=100 ] = 0.000\n",
            " Average Precision  (AP) @[ IoU=0.50:0.95 | area= small | maxDets=100 ] = 0.000\n",
            " Average Precision  (AP) @[ IoU=0.50:0.95 | area=medium | maxDets=100 ] = 0.000\n",
            " Average Precision  (AP) @[ IoU=0.50:0.95 | area= large | maxDets=100 ] = 0.000\n",
            " Average Recall     (AR) @[ IoU=0.50:0.95 | area=   all | maxDets=  1 ] = 0.000\n",
            " Average Recall     (AR) @[ IoU=0.50:0.95 | area=   all | maxDets= 10 ] = 0.000\n",
            " Average Recall     (AR) @[ IoU=0.50:0.95 | area=   all | maxDets=100 ] = 0.000\n",
            " Average Recall     (AR) @[ IoU=0.50:0.95 | area= small | maxDets=100 ] = 0.000\n",
            " Average Recall     (AR) @[ IoU=0.50:0.95 | area=medium | maxDets=100 ] = 0.000\n",
            " Average Recall     (AR) @[ IoU=0.50:0.95 | area= large | maxDets=100 ] = 0.000\n"
          ]
        },
        {
          "name": "stderr",
          "output_type": "stream",
          "text": [
            "| QuantScheme Selection"
          ]
        },
        {
          "name": "stdout",
          "output_type": "stream",
          "text": [
            "07/29 10:21:48 - mmengine - \u001b[4m\u001b[97mINFO\u001b[0m - Evaluating bbox...\n",
            "Loading and preparing results...\n",
            "DONE (t=0.00s)\n",
            "creating index...\n",
            "index created!\n",
            "Running per image evaluation...\n",
            "Evaluate annotation type *bbox*\n"
          ]
        },
        {
          "name": "stderr",
          "output_type": "stream",
          "text": [
            "| QuantScheme Selection"
          ]
        },
        {
          "name": "stdout",
          "output_type": "stream",
          "text": [
            "DONE (t=3.23s).\n",
            "Accumulating evaluation results...\n"
          ]
        },
        {
          "name": "stderr",
          "output_type": "stream",
          "text": [
            "100%|██████████| 10/10 [00:58<00:00,  5.80s/it]\n",
            "                       \r"
          ]
        },
        {
          "name": "stdout",
          "output_type": "stream",
          "text": [
            "DONE (t=0.54s).\n",
            " Average Precision  (AP) @[ IoU=0.50:0.95 | area=   all | maxDets=100 ] = 0.000\n",
            " Average Precision  (AP) @[ IoU=0.50      | area=   all | maxDets=100 ] = 0.000\n",
            " Average Precision  (AP) @[ IoU=0.75      | area=   all | maxDets=100 ] = 0.000\n",
            " Average Precision  (AP) @[ IoU=0.50:0.95 | area= small | maxDets=100 ] = 0.000\n",
            " Average Precision  (AP) @[ IoU=0.50:0.95 | area=medium | maxDets=100 ] = 0.000\n",
            " Average Precision  (AP) @[ IoU=0.50:0.95 | area= large | maxDets=100 ] = 0.000\n",
            " Average Recall     (AR) @[ IoU=0.50:0.95 | area=   all | maxDets=  1 ] = 0.000\n",
            " Average Recall     (AR) @[ IoU=0.50:0.95 | area=   all | maxDets= 10 ] = 0.000\n",
            " Average Recall     (AR) @[ IoU=0.50:0.95 | area=   all | maxDets=100 ] = 0.000\n",
            " Average Recall     (AR) @[ IoU=0.50:0.95 | area= small | maxDets=100 ] = 0.000\n",
            " Average Recall     (AR) @[ IoU=0.50:0.95 | area=medium | maxDets=100 ] = 0.000\n",
            " Average Recall     (AR) @[ IoU=0.50:0.95 | area= large | maxDets=100 ] = 0.000\n",
            "2024-07-29 10:21:52,159 - AutoQuant - INFO - Evaluation finished: W@tf-enhanced / A@tf (eval score: 0.000000)\n"
          ]
        },
        {
          "name": "stderr",
          "output_type": "stream",
          "text": [
            "                       \r"
          ]
        },
        {
          "name": "stdout",
          "output_type": "stream",
          "text": [
            "2024-07-29 10:21:54,961 - Quant - INFO - No config file provided, defaulting to config file at /home/shayaan/miniconda3/envs/aimet2/lib/python3.10/site-packages/aimet_common/quantsim_config/default_config.json\n"
          ]
        },
        {
          "name": "stderr",
          "output_type": "stream",
          "text": [
            "                       \r"
          ]
        },
        {
          "name": "stdout",
          "output_type": "stream",
          "text": [
            "2024-07-29 10:21:54,978 - Quant - INFO - Unsupported op type Squeeze\n"
          ]
        },
        {
          "name": "stderr",
          "output_type": "stream",
          "text": [
            "                       \r"
          ]
        },
        {
          "name": "stdout",
          "output_type": "stream",
          "text": [
            "2024-07-29 10:21:54,980 - Quant - INFO - Unsupported op type Mean\n"
          ]
        },
        {
          "name": "stderr",
          "output_type": "stream",
          "text": [
            "                       \r"
          ]
        },
        {
          "name": "stdout",
          "output_type": "stream",
          "text": [
            "2024-07-29 10:21:54,988 - Quant - INFO - Selecting DefaultOpInstanceConfigGenerator to compute the specialized config. hw_version:default\n"
          ]
        },
        {
          "name": "stderr",
          "output_type": "stream",
          "text": [
            "100%|██████████| 10/10 [00:10<00:00,  1.01s/it]\n",
            "- QuantScheme Selection"
          ]
        },
        {
          "name": "stdout",
          "output_type": "stream",
          "text": [
            "07/29 10:22:09 - mmengine - \u001b[4m\u001b[97mINFO\u001b[0m - Evaluating bbox...\n",
            "Loading and preparing results...\n",
            "DONE (t=0.00s)\n",
            "creating index...\n",
            "index created!\n",
            "Running per image evaluation...\n",
            "Evaluate annotation type *bbox*\n"
          ]
        },
        {
          "name": "stderr",
          "output_type": "stream",
          "text": [
            "- QuantScheme Selection"
          ]
        },
        {
          "name": "stdout",
          "output_type": "stream",
          "text": [
            "DONE (t=3.22s).\n",
            "Accumulating evaluation results...\n"
          ]
        },
        {
          "name": "stderr",
          "output_type": "stream",
          "text": [
            "\\ QuantScheme Selection"
          ]
        },
        {
          "name": "stdout",
          "output_type": "stream",
          "text": [
            "DONE (t=0.52s).\n",
            " Average Precision  (AP) @[ IoU=0.50:0.95 | area=   all | maxDets=100 ] = 0.000\n",
            " Average Precision  (AP) @[ IoU=0.50      | area=   all | maxDets=100 ] = 0.000\n",
            " Average Precision  (AP) @[ IoU=0.75      | area=   all | maxDets=100 ] = 0.000\n",
            " Average Precision  (AP) @[ IoU=0.50:0.95 | area= small | maxDets=100 ] = 0.000\n",
            " Average Precision  (AP) @[ IoU=0.50:0.95 | area=medium | maxDets=100 ] = 0.000\n",
            " Average Precision  (AP) @[ IoU=0.50:0.95 | area= large | maxDets=100 ] = 0.000\n",
            " Average Recall     (AR) @[ IoU=0.50:0.95 | area=   all | maxDets=  1 ] = 0.000\n",
            " Average Recall     (AR) @[ IoU=0.50:0.95 | area=   all | maxDets= 10 ] = 0.000\n",
            " Average Recall     (AR) @[ IoU=0.50:0.95 | area=   all | maxDets=100 ] = 0.000\n",
            " Average Recall     (AR) @[ IoU=0.50:0.95 | area= small | maxDets=100 ] = 0.000\n",
            " Average Recall     (AR) @[ IoU=0.50:0.95 | area=medium | maxDets=100 ] = 0.000\n",
            " Average Recall     (AR) @[ IoU=0.50:0.95 | area= large | maxDets=100 ] = 0.000\n"
          ]
        },
        {
          "name": "stderr",
          "output_type": "stream",
          "text": [
            "\\ QuantScheme Selection"
          ]
        },
        {
          "name": "stdout",
          "output_type": "stream",
          "text": [
            "07/29 10:22:14 - mmengine - \u001b[4m\u001b[97mINFO\u001b[0m - Evaluating bbox...\n",
            "Loading and preparing results...\n",
            "DONE (t=0.00s)\n",
            "creating index...\n",
            "index created!\n",
            "Running per image evaluation...\n",
            "Evaluate annotation type *bbox*\n"
          ]
        },
        {
          "name": "stderr",
          "output_type": "stream",
          "text": [
            "| QuantScheme Selection"
          ]
        },
        {
          "name": "stdout",
          "output_type": "stream",
          "text": [
            "DONE (t=3.21s).\n",
            "Accumulating evaluation results...\n"
          ]
        },
        {
          "name": "stderr",
          "output_type": "stream",
          "text": [
            "/ QuantScheme Selection"
          ]
        },
        {
          "name": "stdout",
          "output_type": "stream",
          "text": [
            "DONE (t=0.52s).\n",
            " Average Precision  (AP) @[ IoU=0.50:0.95 | area=   all | maxDets=100 ] = 0.000\n",
            " Average Precision  (AP) @[ IoU=0.50      | area=   all | maxDets=100 ] = 0.000\n",
            " Average Precision  (AP) @[ IoU=0.75      | area=   all | maxDets=100 ] = 0.000\n",
            " Average Precision  (AP) @[ IoU=0.50:0.95 | area= small | maxDets=100 ] = 0.000\n",
            " Average Precision  (AP) @[ IoU=0.50:0.95 | area=medium | maxDets=100 ] = 0.000\n",
            " Average Precision  (AP) @[ IoU=0.50:0.95 | area= large | maxDets=100 ] = 0.000\n",
            " Average Recall     (AR) @[ IoU=0.50:0.95 | area=   all | maxDets=  1 ] = 0.000\n",
            " Average Recall     (AR) @[ IoU=0.50:0.95 | area=   all | maxDets= 10 ] = 0.000\n",
            " Average Recall     (AR) @[ IoU=0.50:0.95 | area=   all | maxDets=100 ] = 0.000\n",
            " Average Recall     (AR) @[ IoU=0.50:0.95 | area= small | maxDets=100 ] = 0.000\n",
            " Average Recall     (AR) @[ IoU=0.50:0.95 | area=medium | maxDets=100 ] = 0.000\n",
            " Average Recall     (AR) @[ IoU=0.50:0.95 | area= large | maxDets=100 ] = 0.000\n"
          ]
        },
        {
          "name": "stderr",
          "output_type": "stream",
          "text": [
            "/ QuantScheme Selection"
          ]
        },
        {
          "name": "stdout",
          "output_type": "stream",
          "text": [
            "07/29 10:22:20 - mmengine - \u001b[4m\u001b[97mINFO\u001b[0m - Evaluating bbox...\n",
            "Loading and preparing results...\n",
            "DONE (t=0.00s)\n",
            "creating index...\n",
            "index created!\n",
            "Running per image evaluation...\n",
            "Evaluate annotation type *bbox*\n"
          ]
        },
        {
          "name": "stderr",
          "output_type": "stream",
          "text": [
            "/ QuantScheme Selection"
          ]
        },
        {
          "name": "stdout",
          "output_type": "stream",
          "text": [
            "DONE (t=3.18s).\n",
            "Accumulating evaluation results...\n"
          ]
        },
        {
          "name": "stderr",
          "output_type": "stream",
          "text": [
            "- QuantScheme Selection"
          ]
        },
        {
          "name": "stdout",
          "output_type": "stream",
          "text": [
            "DONE (t=0.52s).\n",
            " Average Precision  (AP) @[ IoU=0.50:0.95 | area=   all | maxDets=100 ] = 0.000\n",
            " Average Precision  (AP) @[ IoU=0.50      | area=   all | maxDets=100 ] = 0.000\n",
            " Average Precision  (AP) @[ IoU=0.75      | area=   all | maxDets=100 ] = 0.000\n",
            " Average Precision  (AP) @[ IoU=0.50:0.95 | area= small | maxDets=100 ] = 0.000\n",
            " Average Precision  (AP) @[ IoU=0.50:0.95 | area=medium | maxDets=100 ] = 0.000\n",
            " Average Precision  (AP) @[ IoU=0.50:0.95 | area= large | maxDets=100 ] = 0.000\n",
            " Average Recall     (AR) @[ IoU=0.50:0.95 | area=   all | maxDets=  1 ] = 0.000\n",
            " Average Recall     (AR) @[ IoU=0.50:0.95 | area=   all | maxDets= 10 ] = 0.000\n",
            " Average Recall     (AR) @[ IoU=0.50:0.95 | area=   all | maxDets=100 ] = 0.000\n",
            " Average Recall     (AR) @[ IoU=0.50:0.95 | area= small | maxDets=100 ] = 0.000\n",
            " Average Recall     (AR) @[ IoU=0.50:0.95 | area=medium | maxDets=100 ] = 0.000\n",
            " Average Recall     (AR) @[ IoU=0.50:0.95 | area= large | maxDets=100 ] = 0.000\n"
          ]
        },
        {
          "name": "stderr",
          "output_type": "stream",
          "text": [
            "- QuantScheme Selection"
          ]
        },
        {
          "name": "stdout",
          "output_type": "stream",
          "text": [
            "07/29 10:22:26 - mmengine - \u001b[4m\u001b[97mINFO\u001b[0m - Evaluating bbox...\n",
            "Loading and preparing results...\n",
            "DONE (t=0.00s)\n",
            "creating index...\n",
            "index created!\n",
            "Running per image evaluation...\n",
            "Evaluate annotation type *bbox*\n"
          ]
        },
        {
          "name": "stderr",
          "output_type": "stream",
          "text": [
            "- QuantScheme Selection"
          ]
        },
        {
          "name": "stdout",
          "output_type": "stream",
          "text": [
            "DONE (t=2.79s).\n",
            "Accumulating evaluation results...\n"
          ]
        },
        {
          "name": "stderr",
          "output_type": "stream",
          "text": [
            "\\ QuantScheme Selection"
          ]
        },
        {
          "name": "stdout",
          "output_type": "stream",
          "text": [
            "DONE (t=0.52s).\n",
            " Average Precision  (AP) @[ IoU=0.50:0.95 | area=   all | maxDets=100 ] = 0.000\n",
            " Average Precision  (AP) @[ IoU=0.50      | area=   all | maxDets=100 ] = 0.000\n",
            " Average Precision  (AP) @[ IoU=0.75      | area=   all | maxDets=100 ] = 0.000\n",
            " Average Precision  (AP) @[ IoU=0.50:0.95 | area= small | maxDets=100 ] = 0.000\n",
            " Average Precision  (AP) @[ IoU=0.50:0.95 | area=medium | maxDets=100 ] = 0.000\n",
            " Average Precision  (AP) @[ IoU=0.50:0.95 | area= large | maxDets=100 ] = 0.000\n",
            " Average Recall     (AR) @[ IoU=0.50:0.95 | area=   all | maxDets=  1 ] = 0.000\n",
            " Average Recall     (AR) @[ IoU=0.50:0.95 | area=   all | maxDets= 10 ] = 0.000\n",
            " Average Recall     (AR) @[ IoU=0.50:0.95 | area=   all | maxDets=100 ] = 0.000\n",
            " Average Recall     (AR) @[ IoU=0.50:0.95 | area= small | maxDets=100 ] = 0.000\n",
            " Average Recall     (AR) @[ IoU=0.50:0.95 | area=medium | maxDets=100 ] = 0.000\n",
            " Average Recall     (AR) @[ IoU=0.50:0.95 | area= large | maxDets=100 ] = 0.000\n"
          ]
        },
        {
          "name": "stderr",
          "output_type": "stream",
          "text": [
            "\\ QuantScheme Selection"
          ]
        },
        {
          "name": "stdout",
          "output_type": "stream",
          "text": [
            "07/29 10:22:31 - mmengine - \u001b[4m\u001b[97mINFO\u001b[0m - Evaluating bbox...\n",
            "Loading and preparing results...\n",
            "DONE (t=0.00s)\n",
            "creating index...\n",
            "index created!\n",
            "Running per image evaluation...\n",
            "Evaluate annotation type *bbox*\n"
          ]
        },
        {
          "name": "stderr",
          "output_type": "stream",
          "text": [
            "| QuantScheme Selection"
          ]
        },
        {
          "name": "stdout",
          "output_type": "stream",
          "text": [
            "DONE (t=3.31s).\n",
            "Accumulating evaluation results...\n"
          ]
        },
        {
          "name": "stderr",
          "output_type": "stream",
          "text": [
            "/ QuantScheme Selection"
          ]
        },
        {
          "name": "stdout",
          "output_type": "stream",
          "text": [
            "DONE (t=0.52s).\n",
            " Average Precision  (AP) @[ IoU=0.50:0.95 | area=   all | maxDets=100 ] = 0.000\n",
            " Average Precision  (AP) @[ IoU=0.50      | area=   all | maxDets=100 ] = 0.000\n",
            " Average Precision  (AP) @[ IoU=0.75      | area=   all | maxDets=100 ] = 0.000\n",
            " Average Precision  (AP) @[ IoU=0.50:0.95 | area= small | maxDets=100 ] = 0.000\n",
            " Average Precision  (AP) @[ IoU=0.50:0.95 | area=medium | maxDets=100 ] = 0.000\n",
            " Average Precision  (AP) @[ IoU=0.50:0.95 | area= large | maxDets=100 ] = 0.000\n",
            " Average Recall     (AR) @[ IoU=0.50:0.95 | area=   all | maxDets=  1 ] = 0.000\n",
            " Average Recall     (AR) @[ IoU=0.50:0.95 | area=   all | maxDets= 10 ] = 0.000\n",
            " Average Recall     (AR) @[ IoU=0.50:0.95 | area=   all | maxDets=100 ] = 0.000\n",
            " Average Recall     (AR) @[ IoU=0.50:0.95 | area= small | maxDets=100 ] = 0.000\n",
            " Average Recall     (AR) @[ IoU=0.50:0.95 | area=medium | maxDets=100 ] = 0.000\n",
            " Average Recall     (AR) @[ IoU=0.50:0.95 | area= large | maxDets=100 ] = 0.000\n"
          ]
        },
        {
          "name": "stderr",
          "output_type": "stream",
          "text": [
            "/ QuantScheme Selection"
          ]
        },
        {
          "name": "stdout",
          "output_type": "stream",
          "text": [
            "07/29 10:22:37 - mmengine - \u001b[4m\u001b[97mINFO\u001b[0m - Evaluating bbox...\n",
            "Loading and preparing results...\n",
            "DONE (t=0.00s)\n",
            "creating index...\n",
            "index created!\n",
            "Running per image evaluation...\n",
            "Evaluate annotation type *bbox*\n"
          ]
        },
        {
          "name": "stderr",
          "output_type": "stream",
          "text": [
            "/ QuantScheme Selection"
          ]
        },
        {
          "name": "stdout",
          "output_type": "stream",
          "text": [
            "DONE (t=3.03s).\n",
            "Accumulating evaluation results...\n"
          ]
        },
        {
          "name": "stderr",
          "output_type": "stream",
          "text": [
            "- QuantScheme Selection"
          ]
        },
        {
          "name": "stdout",
          "output_type": "stream",
          "text": [
            "DONE (t=0.53s).\n",
            " Average Precision  (AP) @[ IoU=0.50:0.95 | area=   all | maxDets=100 ] = 0.000\n",
            " Average Precision  (AP) @[ IoU=0.50      | area=   all | maxDets=100 ] = 0.000\n",
            " Average Precision  (AP) @[ IoU=0.75      | area=   all | maxDets=100 ] = 0.000\n",
            " Average Precision  (AP) @[ IoU=0.50:0.95 | area= small | maxDets=100 ] = 0.000\n",
            " Average Precision  (AP) @[ IoU=0.50:0.95 | area=medium | maxDets=100 ] = 0.000\n",
            " Average Precision  (AP) @[ IoU=0.50:0.95 | area= large | maxDets=100 ] = 0.000\n",
            " Average Recall     (AR) @[ IoU=0.50:0.95 | area=   all | maxDets=  1 ] = 0.000\n",
            " Average Recall     (AR) @[ IoU=0.50:0.95 | area=   all | maxDets= 10 ] = 0.000\n",
            " Average Recall     (AR) @[ IoU=0.50:0.95 | area=   all | maxDets=100 ] = 0.000\n",
            " Average Recall     (AR) @[ IoU=0.50:0.95 | area= small | maxDets=100 ] = 0.000\n",
            " Average Recall     (AR) @[ IoU=0.50:0.95 | area=medium | maxDets=100 ] = 0.000\n",
            " Average Recall     (AR) @[ IoU=0.50:0.95 | area= large | maxDets=100 ] = 0.000\n"
          ]
        },
        {
          "name": "stderr",
          "output_type": "stream",
          "text": [
            "/ QuantScheme Selection"
          ]
        },
        {
          "name": "stdout",
          "output_type": "stream",
          "text": [
            "07/29 10:22:43 - mmengine - \u001b[4m\u001b[97mINFO\u001b[0m - Evaluating bbox...\n"
          ]
        },
        {
          "name": "stderr",
          "output_type": "stream",
          "text": [
            "- QuantScheme Selection"
          ]
        },
        {
          "name": "stdout",
          "output_type": "stream",
          "text": [
            "Loading and preparing results...\n",
            "DONE (t=0.00s)\n",
            "creating index...\n",
            "index created!\n",
            "Running per image evaluation...\n",
            "Evaluate annotation type *bbox*\n"
          ]
        },
        {
          "name": "stderr",
          "output_type": "stream",
          "text": [
            "\\ QuantScheme Selection"
          ]
        },
        {
          "name": "stdout",
          "output_type": "stream",
          "text": [
            "DONE (t=3.36s).\n",
            "Accumulating evaluation results...\n"
          ]
        },
        {
          "name": "stderr",
          "output_type": "stream",
          "text": [
            "| QuantScheme Selection"
          ]
        },
        {
          "name": "stdout",
          "output_type": "stream",
          "text": [
            "DONE (t=0.53s).\n",
            " Average Precision  (AP) @[ IoU=0.50:0.95 | area=   all | maxDets=100 ] = 0.000\n",
            " Average Precision  (AP) @[ IoU=0.50      | area=   all | maxDets=100 ] = 0.000\n",
            " Average Precision  (AP) @[ IoU=0.75      | area=   all | maxDets=100 ] = 0.000\n",
            " Average Precision  (AP) @[ IoU=0.50:0.95 | area= small | maxDets=100 ] = 0.000\n",
            " Average Precision  (AP) @[ IoU=0.50:0.95 | area=medium | maxDets=100 ] = 0.000\n",
            " Average Precision  (AP) @[ IoU=0.50:0.95 | area= large | maxDets=100 ] = 0.000\n",
            " Average Recall     (AR) @[ IoU=0.50:0.95 | area=   all | maxDets=  1 ] = 0.000\n",
            " Average Recall     (AR) @[ IoU=0.50:0.95 | area=   all | maxDets= 10 ] = 0.000\n",
            " Average Recall     (AR) @[ IoU=0.50:0.95 | area=   all | maxDets=100 ] = 0.000\n",
            " Average Recall     (AR) @[ IoU=0.50:0.95 | area= small | maxDets=100 ] = 0.000\n",
            " Average Recall     (AR) @[ IoU=0.50:0.95 | area=medium | maxDets=100 ] = 0.000\n",
            " Average Recall     (AR) @[ IoU=0.50:0.95 | area= large | maxDets=100 ] = 0.000\n"
          ]
        },
        {
          "name": "stderr",
          "output_type": "stream",
          "text": [
            "| QuantScheme Selection"
          ]
        },
        {
          "name": "stdout",
          "output_type": "stream",
          "text": [
            "07/29 10:22:49 - mmengine - \u001b[4m\u001b[97mINFO\u001b[0m - Evaluating bbox...\n",
            "Loading and preparing results...\n",
            "DONE (t=0.00s)\n",
            "creating index...\n",
            "index created!\n",
            "Running per image evaluation...\n",
            "Evaluate annotation type *bbox*\n"
          ]
        },
        {
          "name": "stderr",
          "output_type": "stream",
          "text": [
            "| QuantScheme Selection"
          ]
        },
        {
          "name": "stdout",
          "output_type": "stream",
          "text": [
            "DONE (t=3.11s).\n",
            "Accumulating evaluation results...\n"
          ]
        },
        {
          "name": "stderr",
          "output_type": "stream",
          "text": [
            "/ QuantScheme Selection"
          ]
        },
        {
          "name": "stdout",
          "output_type": "stream",
          "text": [
            "DONE (t=0.52s).\n",
            " Average Precision  (AP) @[ IoU=0.50:0.95 | area=   all | maxDets=100 ] = 0.000\n",
            " Average Precision  (AP) @[ IoU=0.50      | area=   all | maxDets=100 ] = 0.000\n",
            " Average Precision  (AP) @[ IoU=0.75      | area=   all | maxDets=100 ] = 0.000\n",
            " Average Precision  (AP) @[ IoU=0.50:0.95 | area= small | maxDets=100 ] = 0.000\n",
            " Average Precision  (AP) @[ IoU=0.50:0.95 | area=medium | maxDets=100 ] = 0.000\n",
            " Average Precision  (AP) @[ IoU=0.50:0.95 | area= large | maxDets=100 ] = 0.000\n",
            " Average Recall     (AR) @[ IoU=0.50:0.95 | area=   all | maxDets=  1 ] = 0.000\n",
            " Average Recall     (AR) @[ IoU=0.50:0.95 | area=   all | maxDets= 10 ] = 0.000\n",
            " Average Recall     (AR) @[ IoU=0.50:0.95 | area=   all | maxDets=100 ] = 0.000\n",
            " Average Recall     (AR) @[ IoU=0.50:0.95 | area= small | maxDets=100 ] = 0.000\n",
            " Average Recall     (AR) @[ IoU=0.50:0.95 | area=medium | maxDets=100 ] = 0.000\n",
            " Average Recall     (AR) @[ IoU=0.50:0.95 | area= large | maxDets=100 ] = 0.000\n"
          ]
        },
        {
          "name": "stderr",
          "output_type": "stream",
          "text": [
            "/ QuantScheme Selection"
          ]
        },
        {
          "name": "stdout",
          "output_type": "stream",
          "text": [
            "07/29 10:22:55 - mmengine - \u001b[4m\u001b[97mINFO\u001b[0m - Evaluating bbox...\n",
            "Loading and preparing results...\n",
            "DONE (t=0.00s)\n",
            "creating index...\n",
            "index created!\n",
            "Running per image evaluation...\n",
            "Evaluate annotation type *bbox*\n"
          ]
        },
        {
          "name": "stderr",
          "output_type": "stream",
          "text": [
            "/ QuantScheme Selection"
          ]
        },
        {
          "name": "stdout",
          "output_type": "stream",
          "text": [
            "DONE (t=3.12s).\n",
            "Accumulating evaluation results...\n"
          ]
        },
        {
          "name": "stderr",
          "output_type": "stream",
          "text": [
            "- QuantScheme Selection"
          ]
        },
        {
          "name": "stdout",
          "output_type": "stream",
          "text": [
            "DONE (t=0.53s).\n",
            " Average Precision  (AP) @[ IoU=0.50:0.95 | area=   all | maxDets=100 ] = 0.000\n",
            " Average Precision  (AP) @[ IoU=0.50      | area=   all | maxDets=100 ] = 0.000\n",
            " Average Precision  (AP) @[ IoU=0.75      | area=   all | maxDets=100 ] = 0.000\n",
            " Average Precision  (AP) @[ IoU=0.50:0.95 | area= small | maxDets=100 ] = 0.000\n",
            " Average Precision  (AP) @[ IoU=0.50:0.95 | area=medium | maxDets=100 ] = 0.000\n",
            " Average Precision  (AP) @[ IoU=0.50:0.95 | area= large | maxDets=100 ] = 0.000\n",
            " Average Recall     (AR) @[ IoU=0.50:0.95 | area=   all | maxDets=  1 ] = 0.000\n",
            " Average Recall     (AR) @[ IoU=0.50:0.95 | area=   all | maxDets= 10 ] = 0.000\n",
            " Average Recall     (AR) @[ IoU=0.50:0.95 | area=   all | maxDets=100 ] = 0.000\n",
            " Average Recall     (AR) @[ IoU=0.50:0.95 | area= small | maxDets=100 ] = 0.000\n",
            " Average Recall     (AR) @[ IoU=0.50:0.95 | area=medium | maxDets=100 ] = 0.000\n",
            " Average Recall     (AR) @[ IoU=0.50:0.95 | area= large | maxDets=100 ] = 0.000\n"
          ]
        },
        {
          "name": "stderr",
          "output_type": "stream",
          "text": [
            "- QuantScheme Selection"
          ]
        },
        {
          "name": "stdout",
          "output_type": "stream",
          "text": [
            "07/29 10:23:00 - mmengine - \u001b[4m\u001b[97mINFO\u001b[0m - Evaluating bbox...\n",
            "Loading and preparing results...\n",
            "DONE (t=0.00s)\n",
            "creating index...\n",
            "index created!\n",
            "Running per image evaluation...\n",
            "Evaluate annotation type *bbox*\n"
          ]
        },
        {
          "name": "stderr",
          "output_type": "stream",
          "text": [
            "- QuantScheme Selection"
          ]
        },
        {
          "name": "stdout",
          "output_type": "stream",
          "text": [
            "DONE (t=3.47s).\n",
            "Accumulating evaluation results...\n"
          ]
        },
        {
          "name": "stderr",
          "output_type": "stream",
          "text": [
            "100%|██████████| 10/10 [00:57<00:00,  5.76s/it]\n",
            "                       \r"
          ]
        },
        {
          "name": "stdout",
          "output_type": "stream",
          "text": [
            "DONE (t=0.53s).\n",
            " Average Precision  (AP) @[ IoU=0.50:0.95 | area=   all | maxDets=100 ] = 0.000\n",
            " Average Precision  (AP) @[ IoU=0.50      | area=   all | maxDets=100 ] = 0.000\n",
            " Average Precision  (AP) @[ IoU=0.75      | area=   all | maxDets=100 ] = 0.000\n",
            " Average Precision  (AP) @[ IoU=0.50:0.95 | area= small | maxDets=100 ] = 0.000\n",
            " Average Precision  (AP) @[ IoU=0.50:0.95 | area=medium | maxDets=100 ] = 0.000\n",
            " Average Precision  (AP) @[ IoU=0.50:0.95 | area= large | maxDets=100 ] = 0.000\n",
            " Average Recall     (AR) @[ IoU=0.50:0.95 | area=   all | maxDets=  1 ] = 0.000\n",
            " Average Recall     (AR) @[ IoU=0.50:0.95 | area=   all | maxDets= 10 ] = 0.000\n",
            " Average Recall     (AR) @[ IoU=0.50:0.95 | area=   all | maxDets=100 ] = 0.000\n",
            " Average Recall     (AR) @[ IoU=0.50:0.95 | area= small | maxDets=100 ] = 0.000\n",
            " Average Recall     (AR) @[ IoU=0.50:0.95 | area=medium | maxDets=100 ] = 0.000\n",
            " Average Recall     (AR) @[ IoU=0.50:0.95 | area= large | maxDets=100 ] = 0.000\n",
            "2024-07-29 10:23:04,816 - AutoQuant - INFO - Evaluation finished: W@tf-enhanced / A@tf-enhanced (eval score: 0.000000)\n"
          ]
        },
        {
          "name": "stderr",
          "output_type": "stream",
          "text": [
            "                       \r"
          ]
        },
        {
          "name": "stdout",
          "output_type": "stream",
          "text": [
            "2024-07-29 10:23:07,623 - Quant - INFO - No config file provided, defaulting to config file at /home/shayaan/miniconda3/envs/aimet2/lib/python3.10/site-packages/aimet_common/quantsim_config/default_config.json\n"
          ]
        },
        {
          "name": "stderr",
          "output_type": "stream",
          "text": [
            "                       \r"
          ]
        },
        {
          "name": "stdout",
          "output_type": "stream",
          "text": [
            "2024-07-29 10:23:07,640 - Quant - INFO - Unsupported op type Squeeze\n"
          ]
        },
        {
          "name": "stderr",
          "output_type": "stream",
          "text": [
            "                       \r"
          ]
        },
        {
          "name": "stdout",
          "output_type": "stream",
          "text": [
            "2024-07-29 10:23:07,641 - Quant - INFO - Unsupported op type Mean\n"
          ]
        },
        {
          "name": "stderr",
          "output_type": "stream",
          "text": [
            "                       \r"
          ]
        },
        {
          "name": "stdout",
          "output_type": "stream",
          "text": [
            "2024-07-29 10:23:07,648 - Quant - INFO - Selecting DefaultOpInstanceConfigGenerator to compute the specialized config. hw_version:default\n"
          ]
        },
        {
          "name": "stderr",
          "output_type": "stream",
          "text": [
            "100%|██████████| 10/10 [00:10<00:00,  1.01s/it]\n",
            "| QuantScheme Selection"
          ]
        },
        {
          "name": "stdout",
          "output_type": "stream",
          "text": [
            "07/29 10:23:19 - mmengine - \u001b[4m\u001b[97mINFO\u001b[0m - Evaluating bbox...\n"
          ]
        },
        {
          "name": "stderr",
          "output_type": "stream",
          "text": [
            "/ QuantScheme Selection"
          ]
        },
        {
          "name": "stdout",
          "output_type": "stream",
          "text": [
            "Loading and preparing results...\n",
            "DONE (t=0.00s)\n",
            "creating index...\n",
            "index created!\n",
            "Running per image evaluation...\n",
            "Evaluate annotation type *bbox*\n"
          ]
        },
        {
          "name": "stderr",
          "output_type": "stream",
          "text": [
            "/ QuantScheme Selection"
          ]
        },
        {
          "name": "stdout",
          "output_type": "stream",
          "text": [
            "DONE (t=3.17s).\n",
            "Accumulating evaluation results...\n"
          ]
        },
        {
          "name": "stderr",
          "output_type": "stream",
          "text": [
            "- QuantScheme Selection"
          ]
        },
        {
          "name": "stdout",
          "output_type": "stream",
          "text": [
            "DONE (t=0.53s).\n",
            " Average Precision  (AP) @[ IoU=0.50:0.95 | area=   all | maxDets=100 ] = 0.000\n",
            " Average Precision  (AP) @[ IoU=0.50      | area=   all | maxDets=100 ] = 0.000\n",
            " Average Precision  (AP) @[ IoU=0.75      | area=   all | maxDets=100 ] = 0.000\n",
            " Average Precision  (AP) @[ IoU=0.50:0.95 | area= small | maxDets=100 ] = 0.000\n",
            " Average Precision  (AP) @[ IoU=0.50:0.95 | area=medium | maxDets=100 ] = 0.000\n",
            " Average Precision  (AP) @[ IoU=0.50:0.95 | area= large | maxDets=100 ] = 0.000\n",
            " Average Recall     (AR) @[ IoU=0.50:0.95 | area=   all | maxDets=  1 ] = 0.000\n",
            " Average Recall     (AR) @[ IoU=0.50:0.95 | area=   all | maxDets= 10 ] = 0.000\n",
            " Average Recall     (AR) @[ IoU=0.50:0.95 | area=   all | maxDets=100 ] = 0.000\n",
            " Average Recall     (AR) @[ IoU=0.50:0.95 | area= small | maxDets=100 ] = 0.000\n",
            " Average Recall     (AR) @[ IoU=0.50:0.95 | area=medium | maxDets=100 ] = 0.000\n",
            " Average Recall     (AR) @[ IoU=0.50:0.95 | area= large | maxDets=100 ] = 0.000\n"
          ]
        },
        {
          "name": "stderr",
          "output_type": "stream",
          "text": [
            "- QuantScheme Selection"
          ]
        },
        {
          "name": "stdout",
          "output_type": "stream",
          "text": [
            "07/29 10:23:25 - mmengine - \u001b[4m\u001b[97mINFO\u001b[0m - Evaluating bbox...\n",
            "Loading and preparing results...\n",
            "DONE (t=0.00s)\n",
            "creating index...\n",
            "index created!\n",
            "Running per image evaluation...\n",
            "Evaluate annotation type *bbox*\n"
          ]
        },
        {
          "name": "stderr",
          "output_type": "stream",
          "text": [
            "\\ QuantScheme Selection"
          ]
        },
        {
          "name": "stdout",
          "output_type": "stream",
          "text": [
            "DONE (t=3.08s).\n",
            "Accumulating evaluation results...\n"
          ]
        },
        {
          "name": "stderr",
          "output_type": "stream",
          "text": [
            "| QuantScheme Selection"
          ]
        },
        {
          "name": "stdout",
          "output_type": "stream",
          "text": [
            "DONE (t=0.54s).\n",
            " Average Precision  (AP) @[ IoU=0.50:0.95 | area=   all | maxDets=100 ] = 0.000\n",
            " Average Precision  (AP) @[ IoU=0.50      | area=   all | maxDets=100 ] = 0.000\n",
            " Average Precision  (AP) @[ IoU=0.75      | area=   all | maxDets=100 ] = 0.000\n",
            " Average Precision  (AP) @[ IoU=0.50:0.95 | area= small | maxDets=100 ] = 0.000\n",
            " Average Precision  (AP) @[ IoU=0.50:0.95 | area=medium | maxDets=100 ] = 0.000\n",
            " Average Precision  (AP) @[ IoU=0.50:0.95 | area= large | maxDets=100 ] = 0.000\n",
            " Average Recall     (AR) @[ IoU=0.50:0.95 | area=   all | maxDets=  1 ] = 0.000\n",
            " Average Recall     (AR) @[ IoU=0.50:0.95 | area=   all | maxDets= 10 ] = 0.000\n",
            " Average Recall     (AR) @[ IoU=0.50:0.95 | area=   all | maxDets=100 ] = 0.000\n",
            " Average Recall     (AR) @[ IoU=0.50:0.95 | area= small | maxDets=100 ] = 0.000\n",
            " Average Recall     (AR) @[ IoU=0.50:0.95 | area=medium | maxDets=100 ] = 0.000\n",
            " Average Recall     (AR) @[ IoU=0.50:0.95 | area= large | maxDets=100 ] = 0.000\n"
          ]
        },
        {
          "name": "stderr",
          "output_type": "stream",
          "text": [
            "\\ QuantScheme Selection"
          ]
        },
        {
          "name": "stdout",
          "output_type": "stream",
          "text": [
            "07/29 10:23:31 - mmengine - \u001b[4m\u001b[97mINFO\u001b[0m - Evaluating bbox...\n"
          ]
        },
        {
          "name": "stderr",
          "output_type": "stream",
          "text": [
            "| QuantScheme Selection"
          ]
        },
        {
          "name": "stdout",
          "output_type": "stream",
          "text": [
            "Loading and preparing results...\n",
            "DONE (t=0.00s)\n",
            "creating index...\n",
            "index created!\n",
            "Running per image evaluation...\n",
            "Evaluate annotation type *bbox*\n"
          ]
        },
        {
          "name": "stderr",
          "output_type": "stream",
          "text": [
            "/ QuantScheme Selection"
          ]
        },
        {
          "name": "stdout",
          "output_type": "stream",
          "text": [
            "DONE (t=3.31s).\n",
            "Accumulating evaluation results...\n"
          ]
        },
        {
          "name": "stderr",
          "output_type": "stream",
          "text": [
            "- QuantScheme Selection"
          ]
        },
        {
          "name": "stdout",
          "output_type": "stream",
          "text": [
            "DONE (t=0.53s).\n",
            " Average Precision  (AP) @[ IoU=0.50:0.95 | area=   all | maxDets=100 ] = 0.000\n",
            " Average Precision  (AP) @[ IoU=0.50      | area=   all | maxDets=100 ] = 0.000\n",
            " Average Precision  (AP) @[ IoU=0.75      | area=   all | maxDets=100 ] = 0.000\n",
            " Average Precision  (AP) @[ IoU=0.50:0.95 | area= small | maxDets=100 ] = 0.000\n",
            " Average Precision  (AP) @[ IoU=0.50:0.95 | area=medium | maxDets=100 ] = 0.000\n",
            " Average Precision  (AP) @[ IoU=0.50:0.95 | area= large | maxDets=100 ] = 0.000\n",
            " Average Recall     (AR) @[ IoU=0.50:0.95 | area=   all | maxDets=  1 ] = 0.000\n",
            " Average Recall     (AR) @[ IoU=0.50:0.95 | area=   all | maxDets= 10 ] = 0.000\n",
            " Average Recall     (AR) @[ IoU=0.50:0.95 | area=   all | maxDets=100 ] = 0.000\n",
            " Average Recall     (AR) @[ IoU=0.50:0.95 | area= small | maxDets=100 ] = 0.000\n",
            " Average Recall     (AR) @[ IoU=0.50:0.95 | area=medium | maxDets=100 ] = 0.000\n",
            " Average Recall     (AR) @[ IoU=0.50:0.95 | area= large | maxDets=100 ] = 0.000\n"
          ]
        },
        {
          "name": "stderr",
          "output_type": "stream",
          "text": [
            "- QuantScheme Selection"
          ]
        },
        {
          "name": "stdout",
          "output_type": "stream",
          "text": [
            "07/29 10:23:37 - mmengine - \u001b[4m\u001b[97mINFO\u001b[0m - Evaluating bbox...\n",
            "Loading and preparing results...\n",
            "DONE (t=0.00s)\n",
            "creating index...\n",
            "index created!\n",
            "Running per image evaluation...\n",
            "Evaluate annotation type *bbox*\n"
          ]
        },
        {
          "name": "stderr",
          "output_type": "stream",
          "text": [
            "- QuantScheme Selection"
          ]
        },
        {
          "name": "stdout",
          "output_type": "stream",
          "text": [
            "DONE (t=3.05s).\n",
            "Accumulating evaluation results...\n"
          ]
        },
        {
          "name": "stderr",
          "output_type": "stream",
          "text": [
            "\\ QuantScheme Selection"
          ]
        },
        {
          "name": "stdout",
          "output_type": "stream",
          "text": [
            "DONE (t=0.53s).\n",
            " Average Precision  (AP) @[ IoU=0.50:0.95 | area=   all | maxDets=100 ] = 0.000\n",
            " Average Precision  (AP) @[ IoU=0.50      | area=   all | maxDets=100 ] = 0.000\n",
            " Average Precision  (AP) @[ IoU=0.75      | area=   all | maxDets=100 ] = 0.000\n",
            " Average Precision  (AP) @[ IoU=0.50:0.95 | area= small | maxDets=100 ] = 0.000\n",
            " Average Precision  (AP) @[ IoU=0.50:0.95 | area=medium | maxDets=100 ] = 0.000\n",
            " Average Precision  (AP) @[ IoU=0.50:0.95 | area= large | maxDets=100 ] = 0.000\n",
            " Average Recall     (AR) @[ IoU=0.50:0.95 | area=   all | maxDets=  1 ] = 0.000\n",
            " Average Recall     (AR) @[ IoU=0.50:0.95 | area=   all | maxDets= 10 ] = 0.000\n",
            " Average Recall     (AR) @[ IoU=0.50:0.95 | area=   all | maxDets=100 ] = 0.000\n",
            " Average Recall     (AR) @[ IoU=0.50:0.95 | area= small | maxDets=100 ] = 0.000\n",
            " Average Recall     (AR) @[ IoU=0.50:0.95 | area=medium | maxDets=100 ] = 0.000\n",
            " Average Recall     (AR) @[ IoU=0.50:0.95 | area= large | maxDets=100 ] = 0.000\n"
          ]
        },
        {
          "name": "stderr",
          "output_type": "stream",
          "text": [
            "\\ QuantScheme Selection"
          ]
        },
        {
          "name": "stdout",
          "output_type": "stream",
          "text": [
            "07/29 10:23:42 - mmengine - \u001b[4m\u001b[97mINFO\u001b[0m - Evaluating bbox...\n",
            "Loading and preparing results...\n",
            "DONE (t=0.00s)\n",
            "creating index...\n",
            "index created!\n",
            "Running per image evaluation...\n",
            "Evaluate annotation type *bbox*\n"
          ]
        },
        {
          "name": "stderr",
          "output_type": "stream",
          "text": [
            "| QuantScheme Selection"
          ]
        },
        {
          "name": "stdout",
          "output_type": "stream",
          "text": [
            "DONE (t=3.37s).\n",
            "Accumulating evaluation results...\n"
          ]
        },
        {
          "name": "stderr",
          "output_type": "stream",
          "text": [
            "/ QuantScheme Selection"
          ]
        },
        {
          "name": "stdout",
          "output_type": "stream",
          "text": [
            "DONE (t=0.53s).\n",
            " Average Precision  (AP) @[ IoU=0.50:0.95 | area=   all | maxDets=100 ] = 0.000\n",
            " Average Precision  (AP) @[ IoU=0.50      | area=   all | maxDets=100 ] = 0.000\n",
            " Average Precision  (AP) @[ IoU=0.75      | area=   all | maxDets=100 ] = 0.000\n",
            " Average Precision  (AP) @[ IoU=0.50:0.95 | area= small | maxDets=100 ] = 0.000\n",
            " Average Precision  (AP) @[ IoU=0.50:0.95 | area=medium | maxDets=100 ] = 0.000\n",
            " Average Precision  (AP) @[ IoU=0.50:0.95 | area= large | maxDets=100 ] = 0.000\n",
            " Average Recall     (AR) @[ IoU=0.50:0.95 | area=   all | maxDets=  1 ] = 0.000\n",
            " Average Recall     (AR) @[ IoU=0.50:0.95 | area=   all | maxDets= 10 ] = 0.000\n",
            " Average Recall     (AR) @[ IoU=0.50:0.95 | area=   all | maxDets=100 ] = 0.000\n",
            " Average Recall     (AR) @[ IoU=0.50:0.95 | area= small | maxDets=100 ] = 0.000\n",
            " Average Recall     (AR) @[ IoU=0.50:0.95 | area=medium | maxDets=100 ] = 0.000\n",
            " Average Recall     (AR) @[ IoU=0.50:0.95 | area= large | maxDets=100 ] = 0.000\n"
          ]
        },
        {
          "name": "stderr",
          "output_type": "stream",
          "text": [
            "/ QuantScheme Selection"
          ]
        },
        {
          "name": "stdout",
          "output_type": "stream",
          "text": [
            "07/29 10:23:48 - mmengine - \u001b[4m\u001b[97mINFO\u001b[0m - Evaluating bbox...\n",
            "Loading and preparing results...\n",
            "DONE (t=0.00s)\n",
            "creating index...\n",
            "index created!\n",
            "Running per image evaluation...\n",
            "Evaluate annotation type *bbox*\n"
          ]
        },
        {
          "name": "stderr",
          "output_type": "stream",
          "text": [
            "- QuantScheme Selection"
          ]
        },
        {
          "name": "stdout",
          "output_type": "stream",
          "text": [
            "DONE (t=3.17s).\n",
            "Accumulating evaluation results...\n"
          ]
        },
        {
          "name": "stderr",
          "output_type": "stream",
          "text": [
            "\\ QuantScheme Selection"
          ]
        },
        {
          "name": "stdout",
          "output_type": "stream",
          "text": [
            "DONE (t=0.53s).\n",
            " Average Precision  (AP) @[ IoU=0.50:0.95 | area=   all | maxDets=100 ] = 0.000\n",
            " Average Precision  (AP) @[ IoU=0.50      | area=   all | maxDets=100 ] = 0.000\n",
            " Average Precision  (AP) @[ IoU=0.75      | area=   all | maxDets=100 ] = 0.000\n",
            " Average Precision  (AP) @[ IoU=0.50:0.95 | area= small | maxDets=100 ] = 0.000\n",
            " Average Precision  (AP) @[ IoU=0.50:0.95 | area=medium | maxDets=100 ] = 0.000\n",
            " Average Precision  (AP) @[ IoU=0.50:0.95 | area= large | maxDets=100 ] = 0.000\n",
            " Average Recall     (AR) @[ IoU=0.50:0.95 | area=   all | maxDets=  1 ] = 0.000\n",
            " Average Recall     (AR) @[ IoU=0.50:0.95 | area=   all | maxDets= 10 ] = 0.000\n",
            " Average Recall     (AR) @[ IoU=0.50:0.95 | area=   all | maxDets=100 ] = 0.000\n",
            " Average Recall     (AR) @[ IoU=0.50:0.95 | area= small | maxDets=100 ] = 0.000\n",
            " Average Recall     (AR) @[ IoU=0.50:0.95 | area=medium | maxDets=100 ] = 0.000\n",
            " Average Recall     (AR) @[ IoU=0.50:0.95 | area= large | maxDets=100 ] = 0.000\n"
          ]
        },
        {
          "name": "stderr",
          "output_type": "stream",
          "text": [
            "\\ QuantScheme Selection"
          ]
        },
        {
          "name": "stdout",
          "output_type": "stream",
          "text": [
            "07/29 10:23:54 - mmengine - \u001b[4m\u001b[97mINFO\u001b[0m - Evaluating bbox...\n",
            "Loading and preparing results...\n",
            "DONE (t=0.00s)\n",
            "creating index...\n",
            "index created!\n",
            "Running per image evaluation...\n",
            "Evaluate annotation type *bbox*\n"
          ]
        },
        {
          "name": "stderr",
          "output_type": "stream",
          "text": [
            "| QuantScheme Selection"
          ]
        },
        {
          "name": "stdout",
          "output_type": "stream",
          "text": [
            "DONE (t=3.12s).\n",
            "Accumulating evaluation results...\n"
          ]
        },
        {
          "name": "stderr",
          "output_type": "stream",
          "text": [
            "/ QuantScheme Selection"
          ]
        },
        {
          "name": "stdout",
          "output_type": "stream",
          "text": [
            "DONE (t=0.54s).\n",
            " Average Precision  (AP) @[ IoU=0.50:0.95 | area=   all | maxDets=100 ] = 0.000\n",
            " Average Precision  (AP) @[ IoU=0.50      | area=   all | maxDets=100 ] = 0.000\n",
            " Average Precision  (AP) @[ IoU=0.75      | area=   all | maxDets=100 ] = 0.000\n",
            " Average Precision  (AP) @[ IoU=0.50:0.95 | area= small | maxDets=100 ] = 0.000\n",
            " Average Precision  (AP) @[ IoU=0.50:0.95 | area=medium | maxDets=100 ] = 0.000\n",
            " Average Precision  (AP) @[ IoU=0.50:0.95 | area= large | maxDets=100 ] = 0.000\n",
            " Average Recall     (AR) @[ IoU=0.50:0.95 | area=   all | maxDets=  1 ] = 0.000\n",
            " Average Recall     (AR) @[ IoU=0.50:0.95 | area=   all | maxDets= 10 ] = 0.000\n",
            " Average Recall     (AR) @[ IoU=0.50:0.95 | area=   all | maxDets=100 ] = 0.000\n",
            " Average Recall     (AR) @[ IoU=0.50:0.95 | area= small | maxDets=100 ] = 0.000\n",
            " Average Recall     (AR) @[ IoU=0.50:0.95 | area=medium | maxDets=100 ] = 0.000\n",
            " Average Recall     (AR) @[ IoU=0.50:0.95 | area= large | maxDets=100 ] = 0.000\n"
          ]
        },
        {
          "name": "stderr",
          "output_type": "stream",
          "text": [
            "| QuantScheme Selection"
          ]
        },
        {
          "name": "stdout",
          "output_type": "stream",
          "text": [
            "07/29 10:24:00 - mmengine - \u001b[4m\u001b[97mINFO\u001b[0m - Evaluating bbox...\n"
          ]
        },
        {
          "name": "stderr",
          "output_type": "stream",
          "text": [
            "/ QuantScheme Selection"
          ]
        },
        {
          "name": "stdout",
          "output_type": "stream",
          "text": [
            "Loading and preparing results...\n",
            "DONE (t=0.00s)\n",
            "creating index...\n",
            "index created!\n",
            "Running per image evaluation...\n",
            "Evaluate annotation type *bbox*\n"
          ]
        },
        {
          "name": "stderr",
          "output_type": "stream",
          "text": [
            "/ QuantScheme Selection"
          ]
        },
        {
          "name": "stdout",
          "output_type": "stream",
          "text": [
            "DONE (t=3.43s).\n",
            "Accumulating evaluation results...\n"
          ]
        },
        {
          "name": "stderr",
          "output_type": "stream",
          "text": [
            "- QuantScheme Selection"
          ]
        },
        {
          "name": "stdout",
          "output_type": "stream",
          "text": [
            "DONE (t=0.53s).\n",
            " Average Precision  (AP) @[ IoU=0.50:0.95 | area=   all | maxDets=100 ] = 0.000\n",
            " Average Precision  (AP) @[ IoU=0.50      | area=   all | maxDets=100 ] = 0.000\n",
            " Average Precision  (AP) @[ IoU=0.75      | area=   all | maxDets=100 ] = 0.000\n",
            " Average Precision  (AP) @[ IoU=0.50:0.95 | area= small | maxDets=100 ] = 0.000\n",
            " Average Precision  (AP) @[ IoU=0.50:0.95 | area=medium | maxDets=100 ] = 0.000\n",
            " Average Precision  (AP) @[ IoU=0.50:0.95 | area= large | maxDets=100 ] = 0.000\n",
            " Average Recall     (AR) @[ IoU=0.50:0.95 | area=   all | maxDets=  1 ] = 0.000\n",
            " Average Recall     (AR) @[ IoU=0.50:0.95 | area=   all | maxDets= 10 ] = 0.000\n",
            " Average Recall     (AR) @[ IoU=0.50:0.95 | area=   all | maxDets=100 ] = 0.000\n",
            " Average Recall     (AR) @[ IoU=0.50:0.95 | area= small | maxDets=100 ] = 0.000\n",
            " Average Recall     (AR) @[ IoU=0.50:0.95 | area=medium | maxDets=100 ] = 0.000\n",
            " Average Recall     (AR) @[ IoU=0.50:0.95 | area= large | maxDets=100 ] = 0.000\n"
          ]
        },
        {
          "name": "stderr",
          "output_type": "stream",
          "text": [
            "- QuantScheme Selection"
          ]
        },
        {
          "name": "stdout",
          "output_type": "stream",
          "text": [
            "07/29 10:24:06 - mmengine - \u001b[4m\u001b[97mINFO\u001b[0m - Evaluating bbox...\n",
            "Loading and preparing results...\n",
            "DONE (t=0.00s)\n",
            "creating index...\n",
            "index created!\n",
            "Running per image evaluation...\n",
            "Evaluate annotation type *bbox*\n"
          ]
        },
        {
          "name": "stderr",
          "output_type": "stream",
          "text": [
            "- QuantScheme Selection"
          ]
        },
        {
          "name": "stdout",
          "output_type": "stream",
          "text": [
            "DONE (t=3.36s).\n",
            "Accumulating evaluation results...\n"
          ]
        },
        {
          "name": "stderr",
          "output_type": "stream",
          "text": [
            "\\ QuantScheme Selection"
          ]
        },
        {
          "name": "stdout",
          "output_type": "stream",
          "text": [
            "DONE (t=0.53s).\n",
            " Average Precision  (AP) @[ IoU=0.50:0.95 | area=   all | maxDets=100 ] = 0.000\n",
            " Average Precision  (AP) @[ IoU=0.50      | area=   all | maxDets=100 ] = 0.000\n",
            " Average Precision  (AP) @[ IoU=0.75      | area=   all | maxDets=100 ] = 0.000\n",
            " Average Precision  (AP) @[ IoU=0.50:0.95 | area= small | maxDets=100 ] = 0.000\n",
            " Average Precision  (AP) @[ IoU=0.50:0.95 | area=medium | maxDets=100 ] = 0.000\n",
            " Average Precision  (AP) @[ IoU=0.50:0.95 | area= large | maxDets=100 ] = 0.000\n",
            " Average Recall     (AR) @[ IoU=0.50:0.95 | area=   all | maxDets=  1 ] = 0.000\n",
            " Average Recall     (AR) @[ IoU=0.50:0.95 | area=   all | maxDets= 10 ] = 0.000\n",
            " Average Recall     (AR) @[ IoU=0.50:0.95 | area=   all | maxDets=100 ] = 0.000\n",
            " Average Recall     (AR) @[ IoU=0.50:0.95 | area= small | maxDets=100 ] = 0.000\n",
            " Average Recall     (AR) @[ IoU=0.50:0.95 | area=medium | maxDets=100 ] = 0.000\n",
            " Average Recall     (AR) @[ IoU=0.50:0.95 | area= large | maxDets=100 ] = 0.000\n"
          ]
        },
        {
          "name": "stderr",
          "output_type": "stream",
          "text": [
            "\\ QuantScheme Selection"
          ]
        },
        {
          "name": "stdout",
          "output_type": "stream",
          "text": [
            "07/29 10:24:12 - mmengine - \u001b[4m\u001b[97mINFO\u001b[0m - Evaluating bbox...\n"
          ]
        },
        {
          "name": "stderr",
          "output_type": "stream",
          "text": [
            "| QuantScheme Selection"
          ]
        },
        {
          "name": "stdout",
          "output_type": "stream",
          "text": [
            "Loading and preparing results...\n",
            "DONE (t=0.00s)\n",
            "creating index...\n",
            "index created!\n",
            "Running per image evaluation...\n",
            "Evaluate annotation type *bbox*\n"
          ]
        },
        {
          "name": "stderr",
          "output_type": "stream",
          "text": [
            "\\ QuantScheme Selection"
          ]
        },
        {
          "name": "stdout",
          "output_type": "stream",
          "text": [
            "DONE (t=2.79s).\n",
            "Accumulating evaluation results...\n"
          ]
        },
        {
          "name": "stderr",
          "output_type": "stream",
          "text": [
            "100%|██████████| 10/10 [00:57<00:00,  5.78s/it]\n",
            "                       \r"
          ]
        },
        {
          "name": "stdout",
          "output_type": "stream",
          "text": [
            "DONE (t=0.53s).\n",
            " Average Precision  (AP) @[ IoU=0.50:0.95 | area=   all | maxDets=100 ] = 0.000\n",
            " Average Precision  (AP) @[ IoU=0.50      | area=   all | maxDets=100 ] = 0.000\n",
            " Average Precision  (AP) @[ IoU=0.75      | area=   all | maxDets=100 ] = 0.000\n",
            " Average Precision  (AP) @[ IoU=0.50:0.95 | area= small | maxDets=100 ] = 0.000\n",
            " Average Precision  (AP) @[ IoU=0.50:0.95 | area=medium | maxDets=100 ] = 0.000\n",
            " Average Precision  (AP) @[ IoU=0.50:0.95 | area= large | maxDets=100 ] = 0.000\n",
            " Average Recall     (AR) @[ IoU=0.50:0.95 | area=   all | maxDets=  1 ] = 0.000\n",
            " Average Recall     (AR) @[ IoU=0.50:0.95 | area=   all | maxDets= 10 ] = 0.000\n",
            " Average Recall     (AR) @[ IoU=0.50:0.95 | area=   all | maxDets=100 ] = 0.000\n",
            " Average Recall     (AR) @[ IoU=0.50:0.95 | area= small | maxDets=100 ] = 0.000\n",
            " Average Recall     (AR) @[ IoU=0.50:0.95 | area=medium | maxDets=100 ] = 0.000\n",
            " Average Recall     (AR) @[ IoU=0.50:0.95 | area= large | maxDets=100 ] = 0.000\n",
            "2024-07-29 10:24:15,697 - AutoQuant - INFO - Evaluation finished: W@tf-enhanced / A@99.9%ile (eval score: 0.000000)\n"
          ]
        },
        {
          "name": "stderr",
          "output_type": "stream",
          "text": [
            "                       \r"
          ]
        },
        {
          "name": "stdout",
          "output_type": "stream",
          "text": [
            "2024-07-29 10:24:18,486 - Quant - INFO - No config file provided, defaulting to config file at /home/shayaan/miniconda3/envs/aimet2/lib/python3.10/site-packages/aimet_common/quantsim_config/default_config.json\n"
          ]
        },
        {
          "name": "stderr",
          "output_type": "stream",
          "text": [
            "                       \r"
          ]
        },
        {
          "name": "stdout",
          "output_type": "stream",
          "text": [
            "2024-07-29 10:24:18,502 - Quant - INFO - Unsupported op type Squeeze\n"
          ]
        },
        {
          "name": "stderr",
          "output_type": "stream",
          "text": [
            "                       \r"
          ]
        },
        {
          "name": "stdout",
          "output_type": "stream",
          "text": [
            "2024-07-29 10:24:18,503 - Quant - INFO - Unsupported op type Mean\n"
          ]
        },
        {
          "name": "stderr",
          "output_type": "stream",
          "text": [
            "                       \r"
          ]
        },
        {
          "name": "stdout",
          "output_type": "stream",
          "text": [
            "2024-07-29 10:24:18,510 - Quant - INFO - Selecting DefaultOpInstanceConfigGenerator to compute the specialized config. hw_version:default\n"
          ]
        },
        {
          "name": "stderr",
          "output_type": "stream",
          "text": [
            "100%|██████████| 10/10 [00:10<00:00,  1.03s/it]\n",
            "- QuantScheme Selection"
          ]
        },
        {
          "name": "stdout",
          "output_type": "stream",
          "text": [
            "07/29 10:24:30 - mmengine - \u001b[4m\u001b[97mINFO\u001b[0m - Evaluating bbox...\n",
            "Loading and preparing results...\n",
            "DONE (t=0.00s)\n",
            "creating index...\n",
            "index created!\n",
            "Running per image evaluation...\n",
            "Evaluate annotation type *bbox*\n"
          ]
        },
        {
          "name": "stderr",
          "output_type": "stream",
          "text": [
            "\\ QuantScheme Selection"
          ]
        },
        {
          "name": "stdout",
          "output_type": "stream",
          "text": [
            "DONE (t=3.08s).\n",
            "Accumulating evaluation results...\n"
          ]
        },
        {
          "name": "stderr",
          "output_type": "stream",
          "text": [
            "| QuantScheme Selection"
          ]
        },
        {
          "name": "stdout",
          "output_type": "stream",
          "text": [
            "DONE (t=0.53s).\n",
            " Average Precision  (AP) @[ IoU=0.50:0.95 | area=   all | maxDets=100 ] = 0.000\n",
            " Average Precision  (AP) @[ IoU=0.50      | area=   all | maxDets=100 ] = 0.000\n",
            " Average Precision  (AP) @[ IoU=0.75      | area=   all | maxDets=100 ] = 0.000\n",
            " Average Precision  (AP) @[ IoU=0.50:0.95 | area= small | maxDets=100 ] = 0.000\n",
            " Average Precision  (AP) @[ IoU=0.50:0.95 | area=medium | maxDets=100 ] = 0.000\n",
            " Average Precision  (AP) @[ IoU=0.50:0.95 | area= large | maxDets=100 ] = 0.000\n",
            " Average Recall     (AR) @[ IoU=0.50:0.95 | area=   all | maxDets=  1 ] = 0.000\n",
            " Average Recall     (AR) @[ IoU=0.50:0.95 | area=   all | maxDets= 10 ] = 0.000\n",
            " Average Recall     (AR) @[ IoU=0.50:0.95 | area=   all | maxDets=100 ] = 0.000\n",
            " Average Recall     (AR) @[ IoU=0.50:0.95 | area= small | maxDets=100 ] = 0.000\n",
            " Average Recall     (AR) @[ IoU=0.50:0.95 | area=medium | maxDets=100 ] = 0.000\n",
            " Average Recall     (AR) @[ IoU=0.50:0.95 | area= large | maxDets=100 ] = 0.000\n"
          ]
        },
        {
          "name": "stderr",
          "output_type": "stream",
          "text": [
            "| QuantScheme Selection"
          ]
        },
        {
          "name": "stdout",
          "output_type": "stream",
          "text": [
            "07/29 10:24:36 - mmengine - \u001b[4m\u001b[97mINFO\u001b[0m - Evaluating bbox...\n",
            "Loading and preparing results...\n",
            "DONE (t=0.00s)\n",
            "creating index...\n",
            "index created!\n",
            "Running per image evaluation...\n",
            "Evaluate annotation type *bbox*\n"
          ]
        },
        {
          "name": "stderr",
          "output_type": "stream",
          "text": [
            "/ QuantScheme Selection"
          ]
        },
        {
          "name": "stdout",
          "output_type": "stream",
          "text": [
            "DONE (t=3.50s).\n",
            "Accumulating evaluation results...\n"
          ]
        },
        {
          "name": "stderr",
          "output_type": "stream",
          "text": [
            "- QuantScheme Selection"
          ]
        },
        {
          "name": "stdout",
          "output_type": "stream",
          "text": [
            "DONE (t=0.53s).\n",
            " Average Precision  (AP) @[ IoU=0.50:0.95 | area=   all | maxDets=100 ] = 0.000\n",
            " Average Precision  (AP) @[ IoU=0.50      | area=   all | maxDets=100 ] = 0.000\n",
            " Average Precision  (AP) @[ IoU=0.75      | area=   all | maxDets=100 ] = 0.000\n",
            " Average Precision  (AP) @[ IoU=0.50:0.95 | area= small | maxDets=100 ] = 0.000\n",
            " Average Precision  (AP) @[ IoU=0.50:0.95 | area=medium | maxDets=100 ] = 0.000\n",
            " Average Precision  (AP) @[ IoU=0.50:0.95 | area= large | maxDets=100 ] = 0.000\n",
            " Average Recall     (AR) @[ IoU=0.50:0.95 | area=   all | maxDets=  1 ] = 0.000\n",
            " Average Recall     (AR) @[ IoU=0.50:0.95 | area=   all | maxDets= 10 ] = 0.000\n",
            " Average Recall     (AR) @[ IoU=0.50:0.95 | area=   all | maxDets=100 ] = 0.000\n",
            " Average Recall     (AR) @[ IoU=0.50:0.95 | area= small | maxDets=100 ] = 0.000\n",
            " Average Recall     (AR) @[ IoU=0.50:0.95 | area=medium | maxDets=100 ] = 0.000\n",
            " Average Recall     (AR) @[ IoU=0.50:0.95 | area= large | maxDets=100 ] = 0.000\n"
          ]
        },
        {
          "name": "stderr",
          "output_type": "stream",
          "text": [
            "- QuantScheme Selection"
          ]
        },
        {
          "name": "stdout",
          "output_type": "stream",
          "text": [
            "07/29 10:24:42 - mmengine - \u001b[4m\u001b[97mINFO\u001b[0m - Evaluating bbox...\n",
            "Loading and preparing results...\n",
            "DONE (t=0.00s)\n",
            "creating index...\n",
            "index created!\n",
            "Running per image evaluation...\n",
            "Evaluate annotation type *bbox*\n"
          ]
        },
        {
          "name": "stderr",
          "output_type": "stream",
          "text": [
            "- QuantScheme Selection"
          ]
        },
        {
          "name": "stdout",
          "output_type": "stream",
          "text": [
            "DONE (t=2.82s).\n",
            "Accumulating evaluation results...\n"
          ]
        },
        {
          "name": "stderr",
          "output_type": "stream",
          "text": [
            "\\ QuantScheme Selection"
          ]
        },
        {
          "name": "stdout",
          "output_type": "stream",
          "text": [
            "DONE (t=0.53s).\n",
            " Average Precision  (AP) @[ IoU=0.50:0.95 | area=   all | maxDets=100 ] = 0.000\n",
            " Average Precision  (AP) @[ IoU=0.50      | area=   all | maxDets=100 ] = 0.000\n",
            " Average Precision  (AP) @[ IoU=0.75      | area=   all | maxDets=100 ] = 0.000\n",
            " Average Precision  (AP) @[ IoU=0.50:0.95 | area= small | maxDets=100 ] = 0.000\n",
            " Average Precision  (AP) @[ IoU=0.50:0.95 | area=medium | maxDets=100 ] = 0.000\n",
            " Average Precision  (AP) @[ IoU=0.50:0.95 | area= large | maxDets=100 ] = 0.000\n",
            " Average Recall     (AR) @[ IoU=0.50:0.95 | area=   all | maxDets=  1 ] = 0.000\n",
            " Average Recall     (AR) @[ IoU=0.50:0.95 | area=   all | maxDets= 10 ] = 0.000\n",
            " Average Recall     (AR) @[ IoU=0.50:0.95 | area=   all | maxDets=100 ] = 0.000\n",
            " Average Recall     (AR) @[ IoU=0.50:0.95 | area= small | maxDets=100 ] = 0.000\n",
            " Average Recall     (AR) @[ IoU=0.50:0.95 | area=medium | maxDets=100 ] = 0.000\n",
            " Average Recall     (AR) @[ IoU=0.50:0.95 | area= large | maxDets=100 ] = 0.000\n"
          ]
        },
        {
          "name": "stderr",
          "output_type": "stream",
          "text": [
            "\\ QuantScheme Selection"
          ]
        },
        {
          "name": "stdout",
          "output_type": "stream",
          "text": [
            "07/29 10:24:48 - mmengine - \u001b[4m\u001b[97mINFO\u001b[0m - Evaluating bbox...\n",
            "Loading and preparing results...\n",
            "DONE (t=0.00s)\n",
            "creating index...\n",
            "index created!\n",
            "Running per image evaluation...\n",
            "Evaluate annotation type *bbox*\n"
          ]
        },
        {
          "name": "stderr",
          "output_type": "stream",
          "text": [
            "\\ QuantScheme Selection"
          ]
        },
        {
          "name": "stdout",
          "output_type": "stream",
          "text": [
            "DONE (t=3.43s).\n",
            "Accumulating evaluation results...\n"
          ]
        },
        {
          "name": "stderr",
          "output_type": "stream",
          "text": [
            "| QuantScheme Selection"
          ]
        },
        {
          "name": "stdout",
          "output_type": "stream",
          "text": [
            "DONE (t=0.52s).\n",
            " Average Precision  (AP) @[ IoU=0.50:0.95 | area=   all | maxDets=100 ] = 0.000\n",
            " Average Precision  (AP) @[ IoU=0.50      | area=   all | maxDets=100 ] = 0.000\n",
            " Average Precision  (AP) @[ IoU=0.75      | area=   all | maxDets=100 ] = 0.000\n",
            " Average Precision  (AP) @[ IoU=0.50:0.95 | area= small | maxDets=100 ] = 0.000\n",
            " Average Precision  (AP) @[ IoU=0.50:0.95 | area=medium | maxDets=100 ] = 0.000\n",
            " Average Precision  (AP) @[ IoU=0.50:0.95 | area= large | maxDets=100 ] = 0.000\n",
            " Average Recall     (AR) @[ IoU=0.50:0.95 | area=   all | maxDets=  1 ] = 0.000\n",
            " Average Recall     (AR) @[ IoU=0.50:0.95 | area=   all | maxDets= 10 ] = 0.000\n",
            " Average Recall     (AR) @[ IoU=0.50:0.95 | area=   all | maxDets=100 ] = 0.000\n",
            " Average Recall     (AR) @[ IoU=0.50:0.95 | area= small | maxDets=100 ] = 0.000\n",
            " Average Recall     (AR) @[ IoU=0.50:0.95 | area=medium | maxDets=100 ] = 0.000\n",
            " Average Recall     (AR) @[ IoU=0.50:0.95 | area= large | maxDets=100 ] = 0.000\n"
          ]
        },
        {
          "name": "stderr",
          "output_type": "stream",
          "text": [
            "\\ QuantScheme Selection"
          ]
        },
        {
          "name": "stdout",
          "output_type": "stream",
          "text": [
            "07/29 10:24:54 - mmengine - \u001b[4m\u001b[97mINFO\u001b[0m - Evaluating bbox...\n"
          ]
        },
        {
          "name": "stderr",
          "output_type": "stream",
          "text": [
            "| QuantScheme Selection"
          ]
        },
        {
          "name": "stdout",
          "output_type": "stream",
          "text": [
            "Loading and preparing results...\n",
            "DONE (t=0.00s)\n",
            "creating index...\n",
            "index created!\n",
            "Running per image evaluation...\n",
            "Evaluate annotation type *bbox*\n"
          ]
        },
        {
          "name": "stderr",
          "output_type": "stream",
          "text": [
            "\\ QuantScheme Selection"
          ]
        },
        {
          "name": "stdout",
          "output_type": "stream",
          "text": [
            "DONE (t=3.19s).\n",
            "Accumulating evaluation results...\n"
          ]
        },
        {
          "name": "stderr",
          "output_type": "stream",
          "text": [
            "| QuantScheme Selection"
          ]
        },
        {
          "name": "stdout",
          "output_type": "stream",
          "text": [
            "DONE (t=0.53s).\n",
            " Average Precision  (AP) @[ IoU=0.50:0.95 | area=   all | maxDets=100 ] = 0.000\n",
            " Average Precision  (AP) @[ IoU=0.50      | area=   all | maxDets=100 ] = 0.000\n",
            " Average Precision  (AP) @[ IoU=0.75      | area=   all | maxDets=100 ] = 0.000\n",
            " Average Precision  (AP) @[ IoU=0.50:0.95 | area= small | maxDets=100 ] = 0.000\n",
            " Average Precision  (AP) @[ IoU=0.50:0.95 | area=medium | maxDets=100 ] = 0.000\n",
            " Average Precision  (AP) @[ IoU=0.50:0.95 | area= large | maxDets=100 ] = 0.000\n",
            " Average Recall     (AR) @[ IoU=0.50:0.95 | area=   all | maxDets=  1 ] = 0.000\n",
            " Average Recall     (AR) @[ IoU=0.50:0.95 | area=   all | maxDets= 10 ] = 0.000\n",
            " Average Recall     (AR) @[ IoU=0.50:0.95 | area=   all | maxDets=100 ] = 0.000\n",
            " Average Recall     (AR) @[ IoU=0.50:0.95 | area= small | maxDets=100 ] = 0.000\n",
            " Average Recall     (AR) @[ IoU=0.50:0.95 | area=medium | maxDets=100 ] = 0.000\n",
            " Average Recall     (AR) @[ IoU=0.50:0.95 | area= large | maxDets=100 ] = 0.000\n"
          ]
        },
        {
          "name": "stderr",
          "output_type": "stream",
          "text": [
            "| QuantScheme Selection"
          ]
        },
        {
          "name": "stdout",
          "output_type": "stream",
          "text": [
            "07/29 10:25:00 - mmengine - \u001b[4m\u001b[97mINFO\u001b[0m - Evaluating bbox...\n",
            "Loading and preparing results...\n",
            "DONE (t=0.00s)\n",
            "creating index...\n",
            "index created!\n",
            "Running per image evaluation...\n",
            "Evaluate annotation type *bbox*\n"
          ]
        },
        {
          "name": "stderr",
          "output_type": "stream",
          "text": [
            "/ QuantScheme Selection"
          ]
        },
        {
          "name": "stdout",
          "output_type": "stream",
          "text": [
            "DONE (t=3.31s).\n",
            "Accumulating evaluation results...\n"
          ]
        },
        {
          "name": "stderr",
          "output_type": "stream",
          "text": [
            "- QuantScheme Selection"
          ]
        },
        {
          "name": "stdout",
          "output_type": "stream",
          "text": [
            "DONE (t=0.53s).\n",
            " Average Precision  (AP) @[ IoU=0.50:0.95 | area=   all | maxDets=100 ] = 0.000\n",
            " Average Precision  (AP) @[ IoU=0.50      | area=   all | maxDets=100 ] = 0.000\n",
            " Average Precision  (AP) @[ IoU=0.75      | area=   all | maxDets=100 ] = 0.000\n",
            " Average Precision  (AP) @[ IoU=0.50:0.95 | area= small | maxDets=100 ] = 0.000\n",
            " Average Precision  (AP) @[ IoU=0.50:0.95 | area=medium | maxDets=100 ] = 0.000\n",
            " Average Precision  (AP) @[ IoU=0.50:0.95 | area= large | maxDets=100 ] = 0.000\n",
            " Average Recall     (AR) @[ IoU=0.50:0.95 | area=   all | maxDets=  1 ] = 0.000\n",
            " Average Recall     (AR) @[ IoU=0.50:0.95 | area=   all | maxDets= 10 ] = 0.000\n",
            " Average Recall     (AR) @[ IoU=0.50:0.95 | area=   all | maxDets=100 ] = 0.000\n",
            " Average Recall     (AR) @[ IoU=0.50:0.95 | area= small | maxDets=100 ] = 0.000\n",
            " Average Recall     (AR) @[ IoU=0.50:0.95 | area=medium | maxDets=100 ] = 0.000\n",
            " Average Recall     (AR) @[ IoU=0.50:0.95 | area= large | maxDets=100 ] = 0.000\n"
          ]
        },
        {
          "name": "stderr",
          "output_type": "stream",
          "text": [
            "- QuantScheme Selection"
          ]
        },
        {
          "name": "stdout",
          "output_type": "stream",
          "text": [
            "07/29 10:25:06 - mmengine - \u001b[4m\u001b[97mINFO\u001b[0m - Evaluating bbox...\n",
            "Loading and preparing results...\n",
            "DONE (t=0.00s)\n",
            "creating index...\n",
            "index created!\n",
            "Running per image evaluation...\n",
            "Evaluate annotation type *bbox*\n"
          ]
        },
        {
          "name": "stderr",
          "output_type": "stream",
          "text": [
            "- QuantScheme Selection"
          ]
        },
        {
          "name": "stdout",
          "output_type": "stream",
          "text": [
            "DONE (t=2.96s).\n",
            "Accumulating evaluation results...\n"
          ]
        },
        {
          "name": "stderr",
          "output_type": "stream",
          "text": [
            "\\ QuantScheme Selection"
          ]
        },
        {
          "name": "stdout",
          "output_type": "stream",
          "text": [
            "DONE (t=0.53s).\n",
            " Average Precision  (AP) @[ IoU=0.50:0.95 | area=   all | maxDets=100 ] = 0.000\n",
            " Average Precision  (AP) @[ IoU=0.50      | area=   all | maxDets=100 ] = 0.000\n",
            " Average Precision  (AP) @[ IoU=0.75      | area=   all | maxDets=100 ] = 0.000\n",
            " Average Precision  (AP) @[ IoU=0.50:0.95 | area= small | maxDets=100 ] = 0.000\n",
            " Average Precision  (AP) @[ IoU=0.50:0.95 | area=medium | maxDets=100 ] = 0.000\n",
            " Average Precision  (AP) @[ IoU=0.50:0.95 | area= large | maxDets=100 ] = 0.000\n",
            " Average Recall     (AR) @[ IoU=0.50:0.95 | area=   all | maxDets=  1 ] = 0.000\n",
            " Average Recall     (AR) @[ IoU=0.50:0.95 | area=   all | maxDets= 10 ] = 0.000\n",
            " Average Recall     (AR) @[ IoU=0.50:0.95 | area=   all | maxDets=100 ] = 0.000\n",
            " Average Recall     (AR) @[ IoU=0.50:0.95 | area= small | maxDets=100 ] = 0.000\n",
            " Average Recall     (AR) @[ IoU=0.50:0.95 | area=medium | maxDets=100 ] = 0.000\n",
            " Average Recall     (AR) @[ IoU=0.50:0.95 | area= large | maxDets=100 ] = 0.000\n"
          ]
        },
        {
          "name": "stderr",
          "output_type": "stream",
          "text": [
            "\\ QuantScheme Selection"
          ]
        },
        {
          "name": "stdout",
          "output_type": "stream",
          "text": [
            "07/29 10:25:11 - mmengine - \u001b[4m\u001b[97mINFO\u001b[0m - Evaluating bbox...\n",
            "Loading and preparing results...\n",
            "DONE (t=0.00s)\n",
            "creating index...\n",
            "index created!\n",
            "Running per image evaluation...\n",
            "Evaluate annotation type *bbox*\n"
          ]
        },
        {
          "name": "stderr",
          "output_type": "stream",
          "text": [
            "| QuantScheme Selection"
          ]
        },
        {
          "name": "stdout",
          "output_type": "stream",
          "text": [
            "DONE (t=3.39s).\n",
            "Accumulating evaluation results...\n"
          ]
        },
        {
          "name": "stderr",
          "output_type": "stream",
          "text": [
            "/ QuantScheme Selection"
          ]
        },
        {
          "name": "stdout",
          "output_type": "stream",
          "text": [
            "DONE (t=0.53s).\n",
            " Average Precision  (AP) @[ IoU=0.50:0.95 | area=   all | maxDets=100 ] = 0.000\n",
            " Average Precision  (AP) @[ IoU=0.50      | area=   all | maxDets=100 ] = 0.000\n",
            " Average Precision  (AP) @[ IoU=0.75      | area=   all | maxDets=100 ] = 0.000\n",
            " Average Precision  (AP) @[ IoU=0.50:0.95 | area= small | maxDets=100 ] = 0.000\n",
            " Average Precision  (AP) @[ IoU=0.50:0.95 | area=medium | maxDets=100 ] = 0.000\n",
            " Average Precision  (AP) @[ IoU=0.50:0.95 | area= large | maxDets=100 ] = 0.000\n",
            " Average Recall     (AR) @[ IoU=0.50:0.95 | area=   all | maxDets=  1 ] = 0.000\n",
            " Average Recall     (AR) @[ IoU=0.50:0.95 | area=   all | maxDets= 10 ] = 0.000\n",
            " Average Recall     (AR) @[ IoU=0.50:0.95 | area=   all | maxDets=100 ] = 0.000\n",
            " Average Recall     (AR) @[ IoU=0.50:0.95 | area= small | maxDets=100 ] = 0.000\n",
            " Average Recall     (AR) @[ IoU=0.50:0.95 | area=medium | maxDets=100 ] = 0.000\n",
            " Average Recall     (AR) @[ IoU=0.50:0.95 | area= large | maxDets=100 ] = 0.000\n"
          ]
        },
        {
          "name": "stderr",
          "output_type": "stream",
          "text": [
            "/ QuantScheme Selection"
          ]
        },
        {
          "name": "stdout",
          "output_type": "stream",
          "text": [
            "07/29 10:25:17 - mmengine - \u001b[4m\u001b[97mINFO\u001b[0m - Evaluating bbox...\n",
            "Loading and preparing results...\n",
            "DONE (t=0.00s)\n",
            "creating index...\n",
            "index created!\n",
            "Running per image evaluation...\n",
            "Evaluate annotation type *bbox*\n"
          ]
        },
        {
          "name": "stderr",
          "output_type": "stream",
          "text": [
            "- QuantScheme Selection"
          ]
        },
        {
          "name": "stdout",
          "output_type": "stream",
          "text": [
            "DONE (t=3.26s).\n",
            "Accumulating evaluation results...\n"
          ]
        },
        {
          "name": "stderr",
          "output_type": "stream",
          "text": [
            "\\ QuantScheme Selection"
          ]
        },
        {
          "name": "stdout",
          "output_type": "stream",
          "text": [
            "DONE (t=0.54s).\n",
            " Average Precision  (AP) @[ IoU=0.50:0.95 | area=   all | maxDets=100 ] = 0.000\n",
            " Average Precision  (AP) @[ IoU=0.50      | area=   all | maxDets=100 ] = 0.000\n",
            " Average Precision  (AP) @[ IoU=0.75      | area=   all | maxDets=100 ] = 0.000\n",
            " Average Precision  (AP) @[ IoU=0.50:0.95 | area= small | maxDets=100 ] = 0.000\n",
            " Average Precision  (AP) @[ IoU=0.50:0.95 | area=medium | maxDets=100 ] = 0.000\n",
            " Average Precision  (AP) @[ IoU=0.50:0.95 | area= large | maxDets=100 ] = 0.000\n",
            " Average Recall     (AR) @[ IoU=0.50:0.95 | area=   all | maxDets=  1 ] = 0.000\n",
            " Average Recall     (AR) @[ IoU=0.50:0.95 | area=   all | maxDets= 10 ] = 0.000\n",
            " Average Recall     (AR) @[ IoU=0.50:0.95 | area=   all | maxDets=100 ] = 0.000\n",
            " Average Recall     (AR) @[ IoU=0.50:0.95 | area= small | maxDets=100 ] = 0.000\n",
            " Average Recall     (AR) @[ IoU=0.50:0.95 | area=medium | maxDets=100 ] = 0.000\n",
            " Average Recall     (AR) @[ IoU=0.50:0.95 | area= large | maxDets=100 ] = 0.000\n"
          ]
        },
        {
          "name": "stderr",
          "output_type": "stream",
          "text": [
            "/ QuantScheme Selection"
          ]
        },
        {
          "name": "stdout",
          "output_type": "stream",
          "text": [
            "07/29 10:25:25 - mmengine - \u001b[4m\u001b[97mINFO\u001b[0m - Evaluating bbox...\n",
            "Loading and preparing results...\n",
            "DONE (t=0.00s)\n",
            "creating index...\n",
            "index created!\n",
            "Running per image evaluation...\n",
            "Evaluate annotation type *bbox*\n"
          ]
        },
        {
          "name": "stderr",
          "output_type": "stream",
          "text": [
            "/ QuantScheme Selection"
          ]
        },
        {
          "name": "stdout",
          "output_type": "stream",
          "text": [
            "DONE (t=3.95s).\n",
            "Accumulating evaluation results...\n"
          ]
        },
        {
          "name": "stderr",
          "output_type": "stream",
          "text": [
            "100%|██████████| 10/10 [01:00<00:00,  6.07s/it]\n",
            "                       \r"
          ]
        },
        {
          "name": "stdout",
          "output_type": "stream",
          "text": [
            "DONE (t=0.60s).\n",
            " Average Precision  (AP) @[ IoU=0.50:0.95 | area=   all | maxDets=100 ] = 0.000\n",
            " Average Precision  (AP) @[ IoU=0.50      | area=   all | maxDets=100 ] = 0.000\n",
            " Average Precision  (AP) @[ IoU=0.75      | area=   all | maxDets=100 ] = 0.000\n",
            " Average Precision  (AP) @[ IoU=0.50:0.95 | area= small | maxDets=100 ] = 0.000\n",
            " Average Precision  (AP) @[ IoU=0.50:0.95 | area=medium | maxDets=100 ] = 0.000\n",
            " Average Precision  (AP) @[ IoU=0.50:0.95 | area= large | maxDets=100 ] = 0.000\n",
            " Average Recall     (AR) @[ IoU=0.50:0.95 | area=   all | maxDets=  1 ] = 0.000\n",
            " Average Recall     (AR) @[ IoU=0.50:0.95 | area=   all | maxDets= 10 ] = 0.000\n",
            " Average Recall     (AR) @[ IoU=0.50:0.95 | area=   all | maxDets=100 ] = 0.000\n",
            " Average Recall     (AR) @[ IoU=0.50:0.95 | area= small | maxDets=100 ] = 0.000\n",
            " Average Recall     (AR) @[ IoU=0.50:0.95 | area=medium | maxDets=100 ] = 0.000\n",
            " Average Recall     (AR) @[ IoU=0.50:0.95 | area= large | maxDets=100 ] = 0.000\n",
            "2024-07-29 10:25:29,675 - AutoQuant - INFO - Evaluation finished: W@tf-enhanced / A@99.99%ile (eval score: 0.000000)\n"
          ]
        },
        {
          "name": "stderr",
          "output_type": "stream",
          "text": [
            "- QuantScheme Selection\n",
            "                \r"
          ]
        },
        {
          "name": "stdout",
          "output_type": "stream",
          "text": [
            "2024-07-29 10:25:32,566 - Quant - INFO - No config file provided, defaulting to config file at /home/shayaan/miniconda3/envs/aimet2/lib/python3.10/site-packages/aimet_common/quantsim_config/default_config.json\n"
          ]
        },
        {
          "name": "stderr",
          "output_type": "stream",
          "text": [
            "                \r"
          ]
        },
        {
          "name": "stdout",
          "output_type": "stream",
          "text": [
            "2024-07-29 10:25:32,583 - Quant - INFO - Unsupported op type Squeeze\n"
          ]
        },
        {
          "name": "stderr",
          "output_type": "stream",
          "text": [
            "                \r"
          ]
        },
        {
          "name": "stdout",
          "output_type": "stream",
          "text": [
            "2024-07-29 10:25:32,584 - Quant - INFO - Unsupported op type Mean\n"
          ]
        },
        {
          "name": "stderr",
          "output_type": "stream",
          "text": [
            "                \r"
          ]
        },
        {
          "name": "stdout",
          "output_type": "stream",
          "text": [
            "2024-07-29 10:25:32,592 - Quant - INFO - Selecting DefaultOpInstanceConfigGenerator to compute the specialized config. hw_version:default\n"
          ]
        },
        {
          "name": "stderr",
          "output_type": "stream",
          "text": [
            "100%|██████████| 10/10 [00:07<00:00,  1.34it/s]\n",
            "\\ W32 Evaluation"
          ]
        },
        {
          "name": "stdout",
          "output_type": "stream",
          "text": [
            "07/29 10:25:42 - mmengine - \u001b[4m\u001b[97mINFO\u001b[0m - Evaluating bbox...\n",
            "Loading and preparing results...\n",
            "DONE (t=0.00s)\n",
            "creating index...\n",
            "index created!\n",
            "Running per image evaluation...\n",
            "Evaluate annotation type *bbox*\n"
          ]
        },
        {
          "name": "stderr",
          "output_type": "stream",
          "text": [
            "| W32 Evaluation"
          ]
        },
        {
          "name": "stdout",
          "output_type": "stream",
          "text": [
            "DONE (t=3.94s).\n",
            "Accumulating evaluation results...\n"
          ]
        },
        {
          "name": "stderr",
          "output_type": "stream",
          "text": [
            "/ W32 Evaluation"
          ]
        },
        {
          "name": "stdout",
          "output_type": "stream",
          "text": [
            "DONE (t=0.55s).\n",
            " Average Precision  (AP) @[ IoU=0.50:0.95 | area=   all | maxDets=100 ] = 0.000\n",
            " Average Precision  (AP) @[ IoU=0.50      | area=   all | maxDets=100 ] = 0.000\n",
            " Average Precision  (AP) @[ IoU=0.75      | area=   all | maxDets=100 ] = 0.000\n",
            " Average Precision  (AP) @[ IoU=0.50:0.95 | area= small | maxDets=100 ] = 0.000\n",
            " Average Precision  (AP) @[ IoU=0.50:0.95 | area=medium | maxDets=100 ] = 0.000\n",
            " Average Precision  (AP) @[ IoU=0.50:0.95 | area= large | maxDets=100 ] = 0.000\n",
            " Average Recall     (AR) @[ IoU=0.50:0.95 | area=   all | maxDets=  1 ] = 0.000\n",
            " Average Recall     (AR) @[ IoU=0.50:0.95 | area=   all | maxDets= 10 ] = 0.000\n",
            " Average Recall     (AR) @[ IoU=0.50:0.95 | area=   all | maxDets=100 ] = 0.000\n",
            " Average Recall     (AR) @[ IoU=0.50:0.95 | area= small | maxDets=100 ] = 0.000\n",
            " Average Recall     (AR) @[ IoU=0.50:0.95 | area=medium | maxDets=100 ] = 0.000\n",
            " Average Recall     (AR) @[ IoU=0.50:0.95 | area= large | maxDets=100 ] = 0.000\n"
          ]
        },
        {
          "name": "stderr",
          "output_type": "stream",
          "text": [
            "- W32 Evaluation"
          ]
        },
        {
          "name": "stdout",
          "output_type": "stream",
          "text": [
            "07/29 10:25:50 - mmengine - \u001b[4m\u001b[97mINFO\u001b[0m - Evaluating bbox...\n"
          ]
        },
        {
          "name": "stderr",
          "output_type": "stream",
          "text": [
            "\\ W32 Evaluation"
          ]
        },
        {
          "name": "stdout",
          "output_type": "stream",
          "text": [
            "Loading and preparing results...\n",
            "DONE (t=0.00s)\n",
            "creating index...\n",
            "index created!\n",
            "Running per image evaluation...\n",
            "Evaluate annotation type *bbox*\n"
          ]
        },
        {
          "name": "stderr",
          "output_type": "stream",
          "text": [
            "\\ W32 Evaluation"
          ]
        },
        {
          "name": "stdout",
          "output_type": "stream",
          "text": [
            "DONE (t=3.96s).\n",
            "Accumulating evaluation results...\n"
          ]
        },
        {
          "name": "stderr",
          "output_type": "stream",
          "text": [
            "| W32 Evaluation"
          ]
        },
        {
          "name": "stdout",
          "output_type": "stream",
          "text": [
            "DONE (t=0.59s).\n",
            " Average Precision  (AP) @[ IoU=0.50:0.95 | area=   all | maxDets=100 ] = 0.000\n",
            " Average Precision  (AP) @[ IoU=0.50      | area=   all | maxDets=100 ] = 0.000\n",
            " Average Precision  (AP) @[ IoU=0.75      | area=   all | maxDets=100 ] = 0.000\n",
            " Average Precision  (AP) @[ IoU=0.50:0.95 | area= small | maxDets=100 ] = 0.000\n",
            " Average Precision  (AP) @[ IoU=0.50:0.95 | area=medium | maxDets=100 ] = 0.000\n",
            " Average Precision  (AP) @[ IoU=0.50:0.95 | area= large | maxDets=100 ] = 0.000\n",
            " Average Recall     (AR) @[ IoU=0.50:0.95 | area=   all | maxDets=  1 ] = 0.000\n",
            " Average Recall     (AR) @[ IoU=0.50:0.95 | area=   all | maxDets= 10 ] = 0.000\n",
            " Average Recall     (AR) @[ IoU=0.50:0.95 | area=   all | maxDets=100 ] = 0.000\n",
            " Average Recall     (AR) @[ IoU=0.50:0.95 | area= small | maxDets=100 ] = 0.000\n",
            " Average Recall     (AR) @[ IoU=0.50:0.95 | area=medium | maxDets=100 ] = 0.000\n",
            " Average Recall     (AR) @[ IoU=0.50:0.95 | area= large | maxDets=100 ] = 0.000\n"
          ]
        },
        {
          "name": "stderr",
          "output_type": "stream",
          "text": [
            "/ W32 Evaluation"
          ]
        },
        {
          "name": "stdout",
          "output_type": "stream",
          "text": [
            "07/29 10:25:57 - mmengine - \u001b[4m\u001b[97mINFO\u001b[0m - Evaluating bbox...\n"
          ]
        },
        {
          "name": "stderr",
          "output_type": "stream",
          "text": [
            "- W32 Evaluation"
          ]
        },
        {
          "name": "stdout",
          "output_type": "stream",
          "text": [
            "Loading and preparing results...\n",
            "DONE (t=0.00s)\n",
            "creating index...\n",
            "index created!\n",
            "Running per image evaluation...\n",
            "Evaluate annotation type *bbox*\n"
          ]
        },
        {
          "name": "stderr",
          "output_type": "stream",
          "text": [
            "- W32 Evaluation"
          ]
        },
        {
          "name": "stdout",
          "output_type": "stream",
          "text": [
            "DONE (t=3.42s).\n",
            "Accumulating evaluation results...\n"
          ]
        },
        {
          "name": "stderr",
          "output_type": "stream",
          "text": [
            "\\ W32 Evaluation"
          ]
        },
        {
          "name": "stdout",
          "output_type": "stream",
          "text": [
            "DONE (t=0.68s).\n",
            " Average Precision  (AP) @[ IoU=0.50:0.95 | area=   all | maxDets=100 ] = 0.000\n",
            " Average Precision  (AP) @[ IoU=0.50      | area=   all | maxDets=100 ] = 0.000\n",
            " Average Precision  (AP) @[ IoU=0.75      | area=   all | maxDets=100 ] = 0.000\n",
            " Average Precision  (AP) @[ IoU=0.50:0.95 | area= small | maxDets=100 ] = 0.000\n",
            " Average Precision  (AP) @[ IoU=0.50:0.95 | area=medium | maxDets=100 ] = 0.000\n",
            " Average Precision  (AP) @[ IoU=0.50:0.95 | area= large | maxDets=100 ] = 0.000\n",
            " Average Recall     (AR) @[ IoU=0.50:0.95 | area=   all | maxDets=  1 ] = 0.000\n",
            " Average Recall     (AR) @[ IoU=0.50:0.95 | area=   all | maxDets= 10 ] = 0.000\n",
            " Average Recall     (AR) @[ IoU=0.50:0.95 | area=   all | maxDets=100 ] = 0.000\n",
            " Average Recall     (AR) @[ IoU=0.50:0.95 | area= small | maxDets=100 ] = 0.000\n",
            " Average Recall     (AR) @[ IoU=0.50:0.95 | area=medium | maxDets=100 ] = 0.000\n",
            " Average Recall     (AR) @[ IoU=0.50:0.95 | area= large | maxDets=100 ] = 0.000\n"
          ]
        },
        {
          "name": "stderr",
          "output_type": "stream",
          "text": [
            "| W32 Evaluation"
          ]
        },
        {
          "name": "stdout",
          "output_type": "stream",
          "text": [
            "07/29 10:26:03 - mmengine - \u001b[4m\u001b[97mINFO\u001b[0m - Evaluating bbox...\n",
            "Loading and preparing results...\n",
            "DONE (t=0.00s)\n",
            "creating index...\n",
            "index created!\n",
            "Running per image evaluation...\n",
            "Evaluate annotation type *bbox*\n"
          ]
        },
        {
          "name": "stderr",
          "output_type": "stream",
          "text": [
            "/ W32 Evaluation"
          ]
        },
        {
          "name": "stdout",
          "output_type": "stream",
          "text": [
            "DONE (t=4.16s).\n",
            "Accumulating evaluation results...\n"
          ]
        },
        {
          "name": "stderr",
          "output_type": "stream",
          "text": [
            "- W32 Evaluation"
          ]
        },
        {
          "name": "stdout",
          "output_type": "stream",
          "text": [
            "DONE (t=0.59s).\n",
            " Average Precision  (AP) @[ IoU=0.50:0.95 | area=   all | maxDets=100 ] = 0.000\n",
            " Average Precision  (AP) @[ IoU=0.50      | area=   all | maxDets=100 ] = 0.000\n",
            " Average Precision  (AP) @[ IoU=0.75      | area=   all | maxDets=100 ] = 0.000\n",
            " Average Precision  (AP) @[ IoU=0.50:0.95 | area= small | maxDets=100 ] = 0.000\n",
            " Average Precision  (AP) @[ IoU=0.50:0.95 | area=medium | maxDets=100 ] = 0.000\n",
            " Average Precision  (AP) @[ IoU=0.50:0.95 | area= large | maxDets=100 ] = 0.000\n",
            " Average Recall     (AR) @[ IoU=0.50:0.95 | area=   all | maxDets=  1 ] = 0.000\n",
            " Average Recall     (AR) @[ IoU=0.50:0.95 | area=   all | maxDets= 10 ] = 0.000\n",
            " Average Recall     (AR) @[ IoU=0.50:0.95 | area=   all | maxDets=100 ] = 0.000\n",
            " Average Recall     (AR) @[ IoU=0.50:0.95 | area= small | maxDets=100 ] = 0.000\n",
            " Average Recall     (AR) @[ IoU=0.50:0.95 | area=medium | maxDets=100 ] = 0.000\n",
            " Average Recall     (AR) @[ IoU=0.50:0.95 | area= large | maxDets=100 ] = 0.000\n"
          ]
        },
        {
          "name": "stderr",
          "output_type": "stream",
          "text": [
            "\\ W32 Evaluation"
          ]
        },
        {
          "name": "stdout",
          "output_type": "stream",
          "text": [
            "07/29 10:26:11 - mmengine - \u001b[4m\u001b[97mINFO\u001b[0m - Evaluating bbox...\n"
          ]
        },
        {
          "name": "stderr",
          "output_type": "stream",
          "text": [
            "| W32 Evaluation"
          ]
        },
        {
          "name": "stdout",
          "output_type": "stream",
          "text": [
            "Loading and preparing results...\n",
            "DONE (t=0.00s)\n",
            "creating index...\n",
            "index created!\n",
            "Running per image evaluation...\n",
            "Evaluate annotation type *bbox*\n"
          ]
        },
        {
          "name": "stderr",
          "output_type": "stream",
          "text": [
            "| W32 Evaluation"
          ]
        },
        {
          "name": "stdout",
          "output_type": "stream",
          "text": [
            "DONE (t=3.98s).\n",
            "Accumulating evaluation results...\n"
          ]
        },
        {
          "name": "stderr",
          "output_type": "stream",
          "text": [
            "/ W32 Evaluation"
          ]
        },
        {
          "name": "stdout",
          "output_type": "stream",
          "text": [
            "DONE (t=0.66s).\n",
            " Average Precision  (AP) @[ IoU=0.50:0.95 | area=   all | maxDets=100 ] = 0.000\n",
            " Average Precision  (AP) @[ IoU=0.50      | area=   all | maxDets=100 ] = 0.000\n",
            " Average Precision  (AP) @[ IoU=0.75      | area=   all | maxDets=100 ] = 0.000\n",
            " Average Precision  (AP) @[ IoU=0.50:0.95 | area= small | maxDets=100 ] = 0.000\n",
            " Average Precision  (AP) @[ IoU=0.50:0.95 | area=medium | maxDets=100 ] = 0.000\n",
            " Average Precision  (AP) @[ IoU=0.50:0.95 | area= large | maxDets=100 ] = 0.000\n",
            " Average Recall     (AR) @[ IoU=0.50:0.95 | area=   all | maxDets=  1 ] = 0.000\n",
            " Average Recall     (AR) @[ IoU=0.50:0.95 | area=   all | maxDets= 10 ] = 0.000\n",
            " Average Recall     (AR) @[ IoU=0.50:0.95 | area=   all | maxDets=100 ] = 0.000\n",
            " Average Recall     (AR) @[ IoU=0.50:0.95 | area= small | maxDets=100 ] = 0.000\n",
            " Average Recall     (AR) @[ IoU=0.50:0.95 | area=medium | maxDets=100 ] = 0.000\n",
            " Average Recall     (AR) @[ IoU=0.50:0.95 | area= large | maxDets=100 ] = 0.000\n"
          ]
        },
        {
          "name": "stderr",
          "output_type": "stream",
          "text": [
            "- W32 Evaluation"
          ]
        },
        {
          "name": "stdout",
          "output_type": "stream",
          "text": [
            "07/29 10:26:18 - mmengine - \u001b[4m\u001b[97mINFO\u001b[0m - Evaluating bbox...\n",
            "Loading and preparing results...\n",
            "DONE (t=0.00s)\n",
            "creating index...\n",
            "index created!\n",
            "Running per image evaluation...\n",
            "Evaluate annotation type *bbox*\n"
          ]
        },
        {
          "name": "stderr",
          "output_type": "stream",
          "text": [
            "\\ W32 Evaluation"
          ]
        },
        {
          "name": "stdout",
          "output_type": "stream",
          "text": [
            "DONE (t=3.61s).\n",
            "Accumulating evaluation results...\n"
          ]
        },
        {
          "name": "stderr",
          "output_type": "stream",
          "text": [
            "| W32 Evaluation"
          ]
        },
        {
          "name": "stdout",
          "output_type": "stream",
          "text": [
            "DONE (t=0.60s).\n",
            " Average Precision  (AP) @[ IoU=0.50:0.95 | area=   all | maxDets=100 ] = 0.000\n",
            " Average Precision  (AP) @[ IoU=0.50      | area=   all | maxDets=100 ] = 0.000\n",
            " Average Precision  (AP) @[ IoU=0.75      | area=   all | maxDets=100 ] = 0.000\n",
            " Average Precision  (AP) @[ IoU=0.50:0.95 | area= small | maxDets=100 ] = 0.000\n",
            " Average Precision  (AP) @[ IoU=0.50:0.95 | area=medium | maxDets=100 ] = 0.000\n",
            " Average Precision  (AP) @[ IoU=0.50:0.95 | area= large | maxDets=100 ] = 0.000\n",
            " Average Recall     (AR) @[ IoU=0.50:0.95 | area=   all | maxDets=  1 ] = 0.000\n",
            " Average Recall     (AR) @[ IoU=0.50:0.95 | area=   all | maxDets= 10 ] = 0.000\n",
            " Average Recall     (AR) @[ IoU=0.50:0.95 | area=   all | maxDets=100 ] = 0.000\n",
            " Average Recall     (AR) @[ IoU=0.50:0.95 | area= small | maxDets=100 ] = 0.000\n",
            " Average Recall     (AR) @[ IoU=0.50:0.95 | area=medium | maxDets=100 ] = 0.000\n",
            " Average Recall     (AR) @[ IoU=0.50:0.95 | area= large | maxDets=100 ] = 0.000\n"
          ]
        },
        {
          "name": "stderr",
          "output_type": "stream",
          "text": [
            "/ W32 Evaluation"
          ]
        },
        {
          "name": "stdout",
          "output_type": "stream",
          "text": [
            "07/29 10:26:25 - mmengine - \u001b[4m\u001b[97mINFO\u001b[0m - Evaluating bbox...\n",
            "Loading and preparing results...\n",
            "DONE (t=0.00s)\n",
            "creating index...\n",
            "index created!\n",
            "Running per image evaluation...\n",
            "Evaluate annotation type *bbox*\n"
          ]
        },
        {
          "name": "stderr",
          "output_type": "stream",
          "text": [
            "/ W32 Evaluation"
          ]
        },
        {
          "name": "stdout",
          "output_type": "stream",
          "text": [
            "DONE (t=3.85s).\n",
            "Accumulating evaluation results...\n"
          ]
        },
        {
          "name": "stderr",
          "output_type": "stream",
          "text": [
            "- W32 Evaluation"
          ]
        },
        {
          "name": "stdout",
          "output_type": "stream",
          "text": [
            "DONE (t=0.59s).\n",
            " Average Precision  (AP) @[ IoU=0.50:0.95 | area=   all | maxDets=100 ] = 0.000\n",
            " Average Precision  (AP) @[ IoU=0.50      | area=   all | maxDets=100 ] = 0.000\n",
            " Average Precision  (AP) @[ IoU=0.75      | area=   all | maxDets=100 ] = 0.000\n",
            " Average Precision  (AP) @[ IoU=0.50:0.95 | area= small | maxDets=100 ] = 0.000\n",
            " Average Precision  (AP) @[ IoU=0.50:0.95 | area=medium | maxDets=100 ] = 0.000\n",
            " Average Precision  (AP) @[ IoU=0.50:0.95 | area= large | maxDets=100 ] = 0.000\n",
            " Average Recall     (AR) @[ IoU=0.50:0.95 | area=   all | maxDets=  1 ] = 0.000\n",
            " Average Recall     (AR) @[ IoU=0.50:0.95 | area=   all | maxDets= 10 ] = 0.000\n",
            " Average Recall     (AR) @[ IoU=0.50:0.95 | area=   all | maxDets=100 ] = 0.000\n",
            " Average Recall     (AR) @[ IoU=0.50:0.95 | area= small | maxDets=100 ] = 0.000\n",
            " Average Recall     (AR) @[ IoU=0.50:0.95 | area=medium | maxDets=100 ] = 0.000\n",
            " Average Recall     (AR) @[ IoU=0.50:0.95 | area= large | maxDets=100 ] = 0.000\n"
          ]
        },
        {
          "name": "stderr",
          "output_type": "stream",
          "text": [
            "\\ W32 Evaluation"
          ]
        },
        {
          "name": "stdout",
          "output_type": "stream",
          "text": [
            "07/29 10:26:32 - mmengine - \u001b[4m\u001b[97mINFO\u001b[0m - Evaluating bbox...\n",
            "Loading and preparing results...\n",
            "DONE (t=0.00s)\n",
            "creating index...\n",
            "index created!\n",
            "Running per image evaluation...\n",
            "Evaluate annotation type *bbox*\n"
          ]
        },
        {
          "name": "stderr",
          "output_type": "stream",
          "text": [
            "\\ W32 Evaluation"
          ]
        },
        {
          "name": "stdout",
          "output_type": "stream",
          "text": [
            "DONE (t=3.59s).\n",
            "Accumulating evaluation results...\n"
          ]
        },
        {
          "name": "stderr",
          "output_type": "stream",
          "text": [
            "| W32 Evaluation"
          ]
        },
        {
          "name": "stdout",
          "output_type": "stream",
          "text": [
            "DONE (t=0.56s).\n",
            " Average Precision  (AP) @[ IoU=0.50:0.95 | area=   all | maxDets=100 ] = 0.000\n",
            " Average Precision  (AP) @[ IoU=0.50      | area=   all | maxDets=100 ] = 0.000\n",
            " Average Precision  (AP) @[ IoU=0.75      | area=   all | maxDets=100 ] = 0.000\n",
            " Average Precision  (AP) @[ IoU=0.50:0.95 | area= small | maxDets=100 ] = 0.000\n",
            " Average Precision  (AP) @[ IoU=0.50:0.95 | area=medium | maxDets=100 ] = 0.000\n",
            " Average Precision  (AP) @[ IoU=0.50:0.95 | area= large | maxDets=100 ] = 0.000\n",
            " Average Recall     (AR) @[ IoU=0.50:0.95 | area=   all | maxDets=  1 ] = 0.000\n",
            " Average Recall     (AR) @[ IoU=0.50:0.95 | area=   all | maxDets= 10 ] = 0.000\n",
            " Average Recall     (AR) @[ IoU=0.50:0.95 | area=   all | maxDets=100 ] = 0.000\n",
            " Average Recall     (AR) @[ IoU=0.50:0.95 | area= small | maxDets=100 ] = 0.000\n",
            " Average Recall     (AR) @[ IoU=0.50:0.95 | area=medium | maxDets=100 ] = 0.000\n",
            " Average Recall     (AR) @[ IoU=0.50:0.95 | area= large | maxDets=100 ] = 0.000\n"
          ]
        },
        {
          "name": "stderr",
          "output_type": "stream",
          "text": [
            "| W32 Evaluation"
          ]
        },
        {
          "name": "stdout",
          "output_type": "stream",
          "text": [
            "07/29 10:26:38 - mmengine - \u001b[4m\u001b[97mINFO\u001b[0m - Evaluating bbox...\n",
            "Loading and preparing results...\n",
            "DONE (t=0.00s)\n",
            "creating index...\n",
            "index created!\n",
            "Running per image evaluation...\n",
            "Evaluate annotation type *bbox*\n"
          ]
        },
        {
          "name": "stderr",
          "output_type": "stream",
          "text": [
            "/ W32 Evaluation"
          ]
        },
        {
          "name": "stdout",
          "output_type": "stream",
          "text": [
            "DONE (t=3.70s).\n",
            "Accumulating evaluation results...\n"
          ]
        },
        {
          "name": "stderr",
          "output_type": "stream",
          "text": [
            "- W32 Evaluation"
          ]
        },
        {
          "name": "stdout",
          "output_type": "stream",
          "text": [
            "DONE (t=0.54s).\n",
            " Average Precision  (AP) @[ IoU=0.50:0.95 | area=   all | maxDets=100 ] = 0.000\n",
            " Average Precision  (AP) @[ IoU=0.50      | area=   all | maxDets=100 ] = 0.000\n",
            " Average Precision  (AP) @[ IoU=0.75      | area=   all | maxDets=100 ] = 0.000\n",
            " Average Precision  (AP) @[ IoU=0.50:0.95 | area= small | maxDets=100 ] = 0.000\n",
            " Average Precision  (AP) @[ IoU=0.50:0.95 | area=medium | maxDets=100 ] = 0.000\n",
            " Average Precision  (AP) @[ IoU=0.50:0.95 | area= large | maxDets=100 ] = 0.000\n",
            " Average Recall     (AR) @[ IoU=0.50:0.95 | area=   all | maxDets=  1 ] = 0.000\n",
            " Average Recall     (AR) @[ IoU=0.50:0.95 | area=   all | maxDets= 10 ] = 0.000\n",
            " Average Recall     (AR) @[ IoU=0.50:0.95 | area=   all | maxDets=100 ] = 0.000\n",
            " Average Recall     (AR) @[ IoU=0.50:0.95 | area= small | maxDets=100 ] = 0.000\n",
            " Average Recall     (AR) @[ IoU=0.50:0.95 | area=medium | maxDets=100 ] = 0.000\n",
            " Average Recall     (AR) @[ IoU=0.50:0.95 | area= large | maxDets=100 ] = 0.000\n"
          ]
        },
        {
          "name": "stderr",
          "output_type": "stream",
          "text": [
            "- W32 Evaluation"
          ]
        },
        {
          "name": "stdout",
          "output_type": "stream",
          "text": [
            "07/29 10:26:45 - mmengine - \u001b[4m\u001b[97mINFO\u001b[0m - Evaluating bbox...\n",
            "Loading and preparing results...\n",
            "DONE (t=0.00s)\n",
            "creating index...\n",
            "index created!\n",
            "Running per image evaluation...\n",
            "Evaluate annotation type *bbox*\n"
          ]
        },
        {
          "name": "stderr",
          "output_type": "stream",
          "text": [
            "- W32 Evaluation"
          ]
        },
        {
          "name": "stdout",
          "output_type": "stream",
          "text": [
            "DONE (t=2.92s).\n",
            "Accumulating evaluation results...\n"
          ]
        },
        {
          "name": "stderr",
          "output_type": "stream",
          "text": [
            "100%|██████████| 10/10 [01:08<00:00,  6.86s/it]\n",
            "                \r"
          ]
        },
        {
          "name": "stdout",
          "output_type": "stream",
          "text": [
            "DONE (t=0.55s).\n",
            " Average Precision  (AP) @[ IoU=0.50:0.95 | area=   all | maxDets=100 ] = 0.000\n",
            " Average Precision  (AP) @[ IoU=0.50      | area=   all | maxDets=100 ] = 0.000\n",
            " Average Precision  (AP) @[ IoU=0.75      | area=   all | maxDets=100 ] = 0.000\n",
            " Average Precision  (AP) @[ IoU=0.50:0.95 | area= small | maxDets=100 ] = 0.000\n",
            " Average Precision  (AP) @[ IoU=0.50:0.95 | area=medium | maxDets=100 ] = 0.000\n",
            " Average Precision  (AP) @[ IoU=0.50:0.95 | area= large | maxDets=100 ] = 0.000\n",
            " Average Recall     (AR) @[ IoU=0.50:0.95 | area=   all | maxDets=  1 ] = 0.000\n",
            " Average Recall     (AR) @[ IoU=0.50:0.95 | area=   all | maxDets= 10 ] = 0.000\n",
            " Average Recall     (AR) @[ IoU=0.50:0.95 | area=   all | maxDets=100 ] = 0.000\n",
            " Average Recall     (AR) @[ IoU=0.50:0.95 | area= small | maxDets=100 ] = 0.000\n",
            " Average Recall     (AR) @[ IoU=0.50:0.95 | area=medium | maxDets=100 ] = 0.000\n",
            " Average Recall     (AR) @[ IoU=0.50:0.95 | area= large | maxDets=100 ] = 0.000\n",
            "2024-07-29 10:26:48,714 - AutoQuant - INFO - Evaluation finished: W32A8 (eval score: 0.000000)\n"
          ]
        },
        {
          "name": "stderr",
          "output_type": "stream",
          "text": [
            "\\ W32 Evaluation\n",
            "                   \r"
          ]
        },
        {
          "name": "stdout",
          "output_type": "stream",
          "text": [
            "2024-07-29 10:26:49,357 - AutoQuant - INFO - Session finished: Batchnorm Folding. (eval score: 0.000000)\n"
          ]
        },
        {
          "name": "stderr",
          "output_type": "stream",
          "text": [
            "- Batchnorm Folding\n"
          ]
        },
        {
          "name": "stdout",
          "output_type": "stream",
          "text": [
            "2024-07-29 10:26:50,066 - AutoQuant - INFO - Best eval score: 0.000000\n",
            "- Quantized Accuracy (after optimization):  0.0\n"
          ]
        }
      ],
      "source": [
        "model, optimized_accuracy, encoding_path = auto_quant.optimize(allowed_accuracy_drop=0.01)\n",
        "print(f\"- Quantized Accuracy (after optimization):  {optimized_accuracy}\")"
      ]
    },
    {
      "cell_type": "code",
      "execution_count": 13,
      "metadata": {
        "id": "3Btg0rNwCrp5"
      },
      "outputs": [
        {
          "name": "stdout",
          "output_type": "stream",
          "text": [
            "2024-07-29 10:26:52,602 - Quant - INFO - No config file provided, defaulting to config file at /home/shayaan/miniconda3/envs/aimet2/lib/python3.10/site-packages/aimet_common/quantsim_config/default_config.json\n",
            "2024-07-29 10:26:52,618 - Quant - INFO - Unsupported op type Squeeze\n",
            "2024-07-29 10:26:52,618 - Quant - INFO - Unsupported op type Mean\n",
            "2024-07-29 10:26:52,625 - Quant - INFO - Selecting DefaultOpInstanceConfigGenerator to compute the specialized config. hw_version:default\n"
          ]
        }
      ],
      "source": [
        "auto_quant.dummy_input.shape\n",
        "\n",
        "from aimet_torch.quantsim import QuantizationSimModel\n",
        "\n",
        "model = QuantizationSimModel(model, auto_quant.dummy_input)"
      ]
    },
    {
      "cell_type": "markdown",
      "metadata": {
        "id": "5k-p5H0WWb9F",
        "pycharm": {
          "name": "#%% md\n"
        }
      },
      "source": [
        "---\n",
        "## Summary\n",
        "\n",
        "Hope this notebook was useful for you to understand how to use AIMET AutoQuant feature.\n",
        "\n",
        "Few additional resources\n",
        "- Refer to the AIMET API docs to know more details of the APIs and parameters\n",
        "- Refer to the other example notebooks to understand how to use AIMET CLE and AdaRound features in a standalone fashion."
      ]
    }
  ],
  "metadata": {
    "colab": {
      "provenance": []
    },
    "kernelspec": {
      "display_name": "Python 3",
      "name": "python3"
    },
    "language_info": {
      "codemirror_mode": {
        "name": "ipython",
        "version": 3
      },
      "file_extension": ".py",
      "mimetype": "text/x-python",
      "name": "python",
      "nbconvert_exporter": "python",
      "pygments_lexer": "ipython3",
      "version": "3.10.14"
    }
  },
  "nbformat": 4,
  "nbformat_minor": 0
}
